{
 "cells": [
  {
   "cell_type": "code",
   "execution_count": 447,
   "metadata": {
    "collapsed": true
   },
   "outputs": [],
   "source": [
    "import pandas as pd\n",
    "import numpy as np\n"
   ]
  },
  {
   "cell_type": "code",
   "execution_count": 448,
   "metadata": {},
   "outputs": [],
   "source": [
    "df = pd.read_csv(r\"C:/Users/Katta's/PycharmProjects/data/usecase5/train.csv\")"
   ]
  },
  {
   "cell_type": "code",
   "execution_count": 449,
   "metadata": {},
   "outputs": [
    {
     "data": {
      "text/plain": [
       "(614, 13)"
      ]
     },
     "execution_count": 449,
     "metadata": {},
     "output_type": "execute_result"
    }
   ],
   "source": [
    "df.shape"
   ]
  },
  {
   "cell_type": "code",
   "execution_count": 450,
   "metadata": {},
   "outputs": [
    {
     "data": {
      "text/plain": [
       "Loan_ID               0\nGender               13\nMarried               3\nDependents           15\nEducation             0\nSelf_Employed        32\nApplicantIncome       0\nCoapplicantIncome     0\nLoanAmount           22\nLoan_Amount_Term     14\nCredit_History       50\nProperty_Area         0\nLoan_Status           0\ndtype: int64"
      ]
     },
     "execution_count": 450,
     "metadata": {},
     "output_type": "execute_result"
    }
   ],
   "source": [
    "df.isnull().sum()"
   ]
  },
  {
   "cell_type": "code",
   "execution_count": 451,
   "metadata": {},
   "outputs": [
    {
     "data": {
      "text/plain": [
       "149"
      ]
     },
     "execution_count": 451,
     "metadata": {},
     "output_type": "execute_result"
    }
   ],
   "source": [
    "df.isnull().sum().sum()"
   ]
  },
  {
   "cell_type": "code",
   "execution_count": 452,
   "metadata": {},
   "outputs": [
    {
     "data": {
      "text/plain": [
       "Index(['Loan_ID', 'Gender', 'Married', 'Dependents', 'Education',\n       'Self_Employed', 'ApplicantIncome', 'CoapplicantIncome', 'LoanAmount',\n       'Loan_Amount_Term', 'Credit_History', 'Property_Area', 'Loan_Status'],\n      dtype='object')"
      ]
     },
     "execution_count": 452,
     "metadata": {},
     "output_type": "execute_result"
    }
   ],
   "source": [
    "df.columns"
   ]
  },
  {
   "cell_type": "code",
   "execution_count": 453,
   "metadata": {},
   "outputs": [
    {
     "data": {
      "text/plain": [
       "0        Male\n1        Male\n2        Male\n3        Male\n4        Male\n5        Male\n6        Male\n7        Male\n8        Male\n9        Male\n10       Male\n11       Male\n12       Male\n13       Male\n14       Male\n15       Male\n16       Male\n17     Female\n18       Male\n19       Male\n20       Male\n21       Male\n22       Male\n23        NaN\n24       Male\n25       Male\n26       Male\n27       Male\n28       Male\n29     Female\n        ...  \n584      Male\n585      Male\n586      Male\n587    Female\n588       NaN\n589      Male\n590      Male\n591      Male\n592       NaN\n593      Male\n594      Male\n595      Male\n596      Male\n597      Male\n598      Male\n599      Male\n600    Female\n601      Male\n602      Male\n603      Male\n604    Female\n605      Male\n606      Male\n607      Male\n608      Male\n609    Female\n610      Male\n611      Male\n612      Male\n613    Female\nName: Gender, Length: 614, dtype: object"
      ]
     },
     "execution_count": 453,
     "metadata": {},
     "output_type": "execute_result"
    }
   ],
   "source": [
    "df['Gender']"
   ]
  },
  {
   "cell_type": "code",
   "execution_count": 454,
   "metadata": {},
   "outputs": [
    {
     "data": {
      "text/plain": [
       "0      False\n1      False\n2      False\n3      False\n4      False\n5      False\n6      False\n7      False\n8      False\n9      False\n10     False\n11     False\n12     False\n13     False\n14     False\n15     False\n16     False\n17     False\n18     False\n19     False\n20     False\n21     False\n22     False\n23      True\n24     False\n25     False\n26     False\n27     False\n28     False\n29     False\n       ...  \n584    False\n585    False\n586    False\n587    False\n588     True\n589    False\n590    False\n591    False\n592     True\n593    False\n594    False\n595    False\n596    False\n597    False\n598    False\n599    False\n600    False\n601    False\n602    False\n603    False\n604    False\n605    False\n606    False\n607    False\n608    False\n609    False\n610    False\n611    False\n612    False\n613    False\nName: Gender, Length: 614, dtype: bool"
      ]
     },
     "execution_count": 454,
     "metadata": {},
     "output_type": "execute_result"
    }
   ],
   "source": [
    "df['Gender'].isnull()"
   ]
  },
  {
   "cell_type": "code",
   "execution_count": 455,
   "metadata": {},
   "outputs": [],
   "source": [
    "# defining missing values\n",
    "missing_values = [\"n/a\", \"na\", \"--\", \"NaN\"]"
   ]
  },
  {
   "cell_type": "code",
   "execution_count": 456,
   "metadata": {},
   "outputs": [],
   "source": [
    "df = pd.read_csv(r\"C:/Users/Katta's/PycharmProjects/data/usecase5/train.csv\", na_values=missing_values)"
   ]
  },
  {
   "cell_type": "code",
   "execution_count": 457,
   "metadata": {},
   "outputs": [
    {
     "data": {
      "text/plain": [
       "149"
      ]
     },
     "execution_count": 457,
     "metadata": {},
     "output_type": "execute_result"
    }
   ],
   "source": [
    "df.isna().values.sum().sum()"
   ]
  },
  {
   "cell_type": "code",
   "execution_count": 458,
   "metadata": {},
   "outputs": [
    {
     "data": {
      "text/plain": [
       "Loan_ID               0\nGender               13\nMarried               3\nDependents           15\nEducation             0\nSelf_Employed        32\nApplicantIncome       0\nCoapplicantIncome     0\nLoanAmount           22\nLoan_Amount_Term     14\nCredit_History       50\nProperty_Area         0\nLoan_Status           0\ndtype: int64"
      ]
     },
     "execution_count": 458,
     "metadata": {},
     "output_type": "execute_result"
    }
   ],
   "source": [
    "df.isnull().sum()"
   ]
  },
  {
   "cell_type": "code",
   "execution_count": 459,
   "metadata": {},
   "outputs": [
    {
     "name": "stdout",
     "output_type": "stream",
     "text": [
      "614\n"
     ]
    }
   ],
   "source": [
    "cnt = 0 \n",
    "for row in df['Gender']:\n",
    "    try: \n",
    "        int(row)\n",
    "        df.loc[cnt, 'Gender'] = np.nan\n",
    "    except ValueError:\n",
    "        pass\n",
    "    cnt = cnt+1\n",
    "print(cnt)\n",
    "    "
   ]
  },
  {
   "cell_type": "code",
   "execution_count": 460,
   "metadata": {},
   "outputs": [
    {
     "name": "stdout",
     "output_type": "stream",
     "text": [
      "614\n"
     ]
    }
   ],
   "source": [
    "cnt = 0 \n",
    "for row in df['Married']:\n",
    "    try: \n",
    "        int(row)\n",
    "        df.loc[cnt, 'Married'] = np.nan\n",
    "    except ValueError:\n",
    "        pass\n",
    "    cnt = cnt+1\n",
    "print(cnt)\n",
    "    "
   ]
  },
  {
   "cell_type": "code",
   "execution_count": 461,
   "metadata": {},
   "outputs": [
    {
     "data": {
      "text/plain": [
       "Index(['Loan_ID', 'Gender', 'Married', 'Dependents', 'Education',\n       'Self_Employed', 'ApplicantIncome', 'CoapplicantIncome', 'LoanAmount',\n       'Loan_Amount_Term', 'Credit_History', 'Property_Area', 'Loan_Status'],\n      dtype='object')"
      ]
     },
     "execution_count": 461,
     "metadata": {},
     "output_type": "execute_result"
    }
   ],
   "source": [
    "df.columns"
   ]
  },
  {
   "cell_type": "code",
   "execution_count": 462,
   "metadata": {},
   "outputs": [
    {
     "data": {
      "text/plain": [
       "Loan_ID               0\nGender               13\nMarried               3\nDependents           15\nEducation             0\nSelf_Employed        32\nApplicantIncome       0\nCoapplicantIncome     0\nLoanAmount           22\nLoan_Amount_Term     14\nCredit_History       50\nProperty_Area         0\nLoan_Status           0\ndtype: int64"
      ]
     },
     "execution_count": 462,
     "metadata": {},
     "output_type": "execute_result"
    }
   ],
   "source": [
    "df.isnull().sum()"
   ]
  },
  {
   "cell_type": "code",
   "execution_count": 463,
   "metadata": {},
   "outputs": [],
   "source": [
    "#Replacing gender with male\n",
    "df['Gender'].fillna('Male', inplace=True)"
   ]
  },
  {
   "cell_type": "code",
   "execution_count": 464,
   "metadata": {},
   "outputs": [
    {
     "data": {
      "text/plain": [
       "Loan_ID               0\nGender                0\nMarried               3\nDependents           15\nEducation             0\nSelf_Employed        32\nApplicantIncome       0\nCoapplicantIncome     0\nLoanAmount           22\nLoan_Amount_Term     14\nCredit_History       50\nProperty_Area         0\nLoan_Status           0\ndtype: int64"
      ]
     },
     "execution_count": 464,
     "metadata": {},
     "output_type": "execute_result"
    }
   ],
   "source": [
    "df.isnull().sum()"
   ]
  },
  {
   "cell_type": "code",
   "execution_count": 465,
   "metadata": {},
   "outputs": [
    {
     "name": "stdout",
     "output_type": "stream",
     "text": [
      "Married count:  398\nUnmarried count: 216\nReplace with Yes as there were more married!\n"
     ]
    }
   ],
   "source": [
    "mar = 0\n",
    "for row in df['Married']:\n",
    "    if(row==\"Yes\"):\n",
    "        mar = mar+1\n",
    "print('Married count: ', mar)\n",
    "print('Unmarried count:' , df.shape[0]-mar)\n",
    "print('Replace with Yes as there were more married!')"
   ]
  },
  {
   "cell_type": "code",
   "execution_count": 466,
   "metadata": {},
   "outputs": [],
   "source": [
    "df['Married'].fillna('Yes', inplace=True)"
   ]
  },
  {
   "cell_type": "code",
   "execution_count": 467,
   "metadata": {},
   "outputs": [
    {
     "name": "stdout",
     "output_type": "stream",
     "text": [
      "Dependents -- 0 :  345\nDependents -- 1 :  102\nDependents -- 2 :  101\nDependents -- 3 :  0\nNumber of 3+ dependents == total rows -(null values + dep0+dep1+dep2+dep3)\nNull values :  15\nDependents -- 3+ :  51\n"
     ]
    }
   ],
   "source": [
    "dep_0 = 0\n",
    "dep_1= 0;\n",
    "dep_2 =0;\n",
    "dep_3 = 0;\n",
    "for row in df['Dependents']:\n",
    "    try:\n",
    "        row = int(row)\n",
    "        if(row==0):\n",
    "            dep_0 = dep_0+1\n",
    "        if(row==1):\n",
    "            dep_1 = dep_1+1;\n",
    "        if(row==2):\n",
    "            dep_2 = dep_2+1;\n",
    "        if(row==3):\n",
    "            dep_3 = dep_3+1;\n",
    "    except :\n",
    "         pass\n",
    "print(\"Dependents -- 0 : \", dep_0)\n",
    "print(\"Dependents -- 1 : \", dep_1)\n",
    "print(\"Dependents -- 2 : \", dep_2)\n",
    "print(\"Dependents -- 3 : \", dep_3)\n",
    "print(\"Number of 3+ dependents == total rows -(null values + dep0+dep1+dep2+dep3)\")\n",
    "print(\"Null values : \", df['Dependents'].isnull().sum())\n",
    "print(\"Dependents -- 3+ : \",(df.shape[0]-(df['Dependents'].isnull().sum()+dep_0 + dep_1 + dep_2 + dep_3)))"
   ]
  },
  {
   "cell_type": "code",
   "execution_count": 468,
   "metadata": {},
   "outputs": [],
   "source": [
    "df['Dependents'].fillna(0, inplace=True)"
   ]
  },
  {
   "cell_type": "code",
   "execution_count": 469,
   "metadata": {},
   "outputs": [
    {
     "data": {
      "text/plain": [
       "Loan_ID               0\nGender                0\nMarried               0\nDependents            0\nEducation             0\nSelf_Employed        32\nApplicantIncome       0\nCoapplicantIncome     0\nLoanAmount           22\nLoan_Amount_Term     14\nCredit_History       50\nProperty_Area         0\nLoan_Status           0\ndtype: int64"
      ]
     },
     "execution_count": 469,
     "metadata": {},
     "output_type": "execute_result"
    }
   ],
   "source": [
    "df.isnull().sum()"
   ]
  },
  {
   "cell_type": "code",
   "execution_count": 470,
   "metadata": {},
   "outputs": [
    {
     "name": "stdout",
     "output_type": "stream",
     "text": [
      "Self Employed :  82\n32\nNot self employed:  500\n"
     ]
    }
   ],
   "source": [
    "# Data Cleaning - Self Employed\n",
    "self = 0\n",
    "for row in df['Self_Employed']:\n",
    "    if(row==\"Yes\"):\n",
    "        self = self+1\n",
    "print('Self Employed : ', self)\n",
    "print(df['Self_Employed'].isnull().sum())\n",
    "print('Not self employed: ', df.shape[0]- (self+df['Self_Employed'].isnull().sum()))"
   ]
  },
  {
   "cell_type": "code",
   "execution_count": 471,
   "metadata": {},
   "outputs": [
    {
     "name": "stdout",
     "output_type": "stream",
     "text": [
      "Fill nulls with  No as there were less self employed!\n"
     ]
    }
   ],
   "source": [
    "print(\"Fill nulls with  No as there were less self employed!\")"
   ]
  },
  {
   "cell_type": "code",
   "execution_count": 472,
   "metadata": {},
   "outputs": [],
   "source": [
    "df['Self_Employed'].fillna('No', inplace=True)"
   ]
  },
  {
   "cell_type": "code",
   "execution_count": 473,
   "metadata": {
    "collapsed": true
   },
   "outputs": [
    {
     "data": {
      "text/plain": [
       "Loan_ID               0\nGender                0\nMarried               0\nDependents            0\nEducation             0\nSelf_Employed         0\nApplicantIncome       0\nCoapplicantIncome     0\nLoanAmount           22\nLoan_Amount_Term     14\nCredit_History       50\nProperty_Area         0\nLoan_Status           0\ndtype: int64"
      ]
     },
     "execution_count": 473,
     "metadata": {},
     "output_type": "execute_result"
    }
   ],
   "source": [
    "df.isnull().sum()"
   ]
  },
  {
   "cell_type": "code",
   "execution_count": 474,
   "metadata": {},
   "outputs": [],
   "source": [
    "# Data Cleaning - Loan Amount \n",
    "df['LoanAmount'].fillna(df['LoanAmount'].median(), inplace=True)"
   ]
  },
  {
   "cell_type": "code",
   "execution_count": 475,
   "metadata": {},
   "outputs": [
    {
     "data": {
      "text/plain": [
       "Loan_ID               0\nGender                0\nMarried               0\nDependents            0\nEducation             0\nSelf_Employed         0\nApplicantIncome       0\nCoapplicantIncome     0\nLoanAmount            0\nLoan_Amount_Term     14\nCredit_History       50\nProperty_Area         0\nLoan_Status           0\ndtype: int64"
      ]
     },
     "execution_count": 475,
     "metadata": {},
     "output_type": "execute_result"
    }
   ],
   "source": [
    "df.isnull().sum()"
   ]
  },
  {
   "cell_type": "code",
   "execution_count": 476,
   "metadata": {},
   "outputs": [
    {
     "data": {
      "text/plain": [
       "array([360., 120., 240.,  nan, 180.,  60., 300., 480.,  36.,  84.,  12.])"
      ]
     },
     "execution_count": 476,
     "metadata": {},
     "output_type": "execute_result"
    }
   ],
   "source": [
    "df['Loan_Amount_Term'].unique()"
   ]
  },
  {
   "cell_type": "code",
   "execution_count": 477,
   "metadata": {},
   "outputs": [
    {
     "data": {
      "text/plain": [
       "dtype('float64')"
      ]
     },
     "execution_count": 477,
     "metadata": {},
     "output_type": "execute_result"
    }
   ],
   "source": [
    "df['Loan_Amount_Term'].dtypes"
   ]
  },
  {
   "cell_type": "code",
   "execution_count": 478,
   "metadata": {},
   "outputs": [
    {
     "data": {
      "text/plain": [
       "360.0    512\n180.0     44\n480.0     15\n300.0     13\n84.0       4\n240.0      4\n120.0      3\n36.0       2\n60.0       2\n12.0       1\nName: Loan_Amount_Term, dtype: int64"
      ]
     },
     "execution_count": 478,
     "metadata": {},
     "output_type": "execute_result"
    }
   ],
   "source": [
    "df['Loan_Amount_Term'].value_counts()"
   ]
  },
  {
   "cell_type": "code",
   "execution_count": 479,
   "metadata": {},
   "outputs": [
    {
     "name": "stdout",
     "output_type": "stream",
     "text": [
      "Fill nulls with 360\n"
     ]
    }
   ],
   "source": [
    "print(\"Fill nulls with 360\")\n"
   ]
  },
  {
   "cell_type": "code",
   "execution_count": 480,
   "metadata": {},
   "outputs": [],
   "source": [
    "df['Loan_Amount_Term'].fillna(360.0, inplace=True)"
   ]
  },
  {
   "cell_type": "code",
   "execution_count": 481,
   "metadata": {},
   "outputs": [
    {
     "data": {
      "text/plain": [
       "360.0    526\n180.0     44\n480.0     15\n300.0     13\n84.0       4\n240.0      4\n120.0      3\n36.0       2\n60.0       2\n12.0       1\nName: Loan_Amount_Term, dtype: int64"
      ]
     },
     "execution_count": 481,
     "metadata": {},
     "output_type": "execute_result"
    }
   ],
   "source": [
    "df['Loan_Amount_Term'].value_counts()"
   ]
  },
  {
   "cell_type": "code",
   "execution_count": 482,
   "metadata": {},
   "outputs": [
    {
     "data": {
      "text/plain": [
       "Loan_ID               0\nGender                0\nMarried               0\nDependents            0\nEducation             0\nSelf_Employed         0\nApplicantIncome       0\nCoapplicantIncome     0\nLoanAmount            0\nLoan_Amount_Term      0\nCredit_History       50\nProperty_Area         0\nLoan_Status           0\ndtype: int64"
      ]
     },
     "execution_count": 482,
     "metadata": {},
     "output_type": "execute_result"
    }
   ],
   "source": [
    "df.isnull().sum()"
   ]
  },
  {
   "cell_type": "code",
   "execution_count": 483,
   "metadata": {},
   "outputs": [
    {
     "data": {
      "text/plain": [
       "1.0    475\n0.0     89\nName: Credit_History, dtype: int64"
      ]
     },
     "execution_count": 483,
     "metadata": {},
     "output_type": "execute_result"
    }
   ],
   "source": [
    "df['Credit_History'].value_counts()"
   ]
  },
  {
   "cell_type": "code",
   "execution_count": 484,
   "metadata": {},
   "outputs": [],
   "source": [
    "df['Credit_History'].fillna(1.0, inplace=True)"
   ]
  },
  {
   "cell_type": "code",
   "execution_count": 485,
   "metadata": {},
   "outputs": [
    {
     "data": {
      "text/plain": [
       "1.0    525\n0.0     89\nName: Credit_History, dtype: int64"
      ]
     },
     "execution_count": 485,
     "metadata": {},
     "output_type": "execute_result"
    }
   ],
   "source": [
    "df['Credit_History'].value_counts()"
   ]
  },
  {
   "cell_type": "code",
   "execution_count": 486,
   "metadata": {
    "collapsed": false
   },
   "outputs": [
    {
     "data": {
      "text/plain": [
       "Loan_ID              0\nGender               0\nMarried              0\nDependents           0\nEducation            0\nSelf_Employed        0\nApplicantIncome      0\nCoapplicantIncome    0\nLoanAmount           0\nLoan_Amount_Term     0\nCredit_History       0\nProperty_Area        0\nLoan_Status          0\ndtype: int64"
      ]
     },
     "execution_count": 486,
     "metadata": {},
     "output_type": "execute_result"
    }
   ],
   "source": [
    "df.isnull().sum()\n"
   ]
  },
  {
   "cell_type": "code",
   "execution_count": 487,
   "metadata": {
    "collapsed": false
   },
   "outputs": [],
   "source": [
    "df = df.drop('Loan_ID', axis = 1)"
   ]
  },
  {
   "cell_type": "code",
   "execution_count": 488,
   "metadata": {
    "collapsed": false
   },
   "outputs": [
    {
     "name": "stdout",
     "output_type": "stream",
     "text": [
      "Index(['Gender', 'Married', 'Dependents', 'Education', 'Self_Employed',\n       'Property_Area', 'Loan_Status'],\n      dtype='object')\n"
     ]
    }
   ],
   "source": [
    "columns= df.select_dtypes(include=['object']).copy().columns\n",
    "print(columns)"
   ]
  },
  {
   "cell_type": "code",
   "execution_count": 489,
   "metadata": {
    "collapsed": false
   },
   "outputs": [],
   "source": [
    "from sklearn.preprocessing import LabelEncoder\n",
    "le=LabelEncoder()\n",
    "le.fit(df['Gender'])\n",
    "df['Gender']=le.transform(df['Gender'])\n",
    "\n",
    "le.fit(df['Married'])\n",
    "df['Married']=le.transform(df['Married'])\n",
    "\n",
    "le.fit(df['Education'])\n",
    "df['Education']=le.transform(df['Education'])\n",
    "\n",
    "le.fit(df['Self_Employed'])\n",
    "df['Self_Employed']=le.transform(df['Self_Employed'])\n",
    "\n",
    "le.fit(df['Property_Area'])\n",
    "df['Property_Area']=le.transform(df['Property_Area'])\n",
    "\n",
    "le.fit(df['Loan_Status'])\n",
    "df['Loan_Status']=le.transform(df['Loan_Status'])\n",
    "\n",
    "df['Dependents'] = le.fit_transform(df['Dependents'].astype(str))\n",
    "\n"
   ]
  },
  {
   "cell_type": "code",
   "execution_count": 490,
   "metadata": {
    "collapsed": false
   },
   "outputs": [
    {
     "data": {
      "text/plain": [
       "<bound method NDFrame.head of      Gender  Married  Dependents  Education  Self_Employed  ApplicantIncome  \\\n0         1        0           0          0              0             5849   \n1         1        1           1          0              0             4583   \n2         1        1           0          0              1             3000   \n3         1        1           0          1              0             2583   \n4         1        0           0          0              0             6000   \n5         1        1           2          0              1             5417   \n6         1        1           0          1              0             2333   \n7         1        1           3          0              0             3036   \n8         1        1           2          0              0             4006   \n9         1        1           1          0              0            12841   \n10        1        1           2          0              0             3200   \n11        1        1           2          0              0             2500   \n12        1        1           2          0              0             3073   \n13        1        0           0          0              0             1853   \n14        1        1           2          0              0             1299   \n15        1        0           0          0              0             4950   \n16        1        0           1          1              0             3596   \n17        0        0           0          0              0             3510   \n18        1        1           0          1              0             4887   \n19        1        1           0          0              0             2600   \n20        1        1           0          1              0             7660   \n21        1        1           1          0              0             5955   \n22        1        1           0          1              0             2600   \n23        1        1           2          1              0             3365   \n24        1        1           1          0              0             3717   \n25        1        1           0          0              1             9560   \n26        1        1           0          0              0             2799   \n27        1        1           2          1              0             4226   \n28        1        0           0          1              0             1442   \n29        0        0           2          0              0             3750   \n..      ...      ...         ...        ...            ...              ...   \n584       1        1           1          0              0             2787   \n585       1        1           1          0              0             4283   \n586       1        1           0          0              0             2297   \n587       0        0           0          1              0             2165   \n588       1        0           0          0              0             4750   \n589       1        1           2          0              1             2726   \n590       1        1           0          0              0             3000   \n591       1        1           2          0              1             6000   \n592       1        0           3          0              1             9357   \n593       1        1           0          0              0             3859   \n594       1        1           0          0              1            16120   \n595       1        0           0          1              0             3833   \n596       1        1           2          1              1             6383   \n597       1        0           0          0              0             2987   \n598       1        1           0          0              1             9963   \n599       1        1           2          0              0             5780   \n600       0        0           3          0              0              416   \n601       1        1           0          1              0             2894   \n602       1        1           3          0              0             5703   \n603       1        0           0          0              0             3676   \n604       0        1           1          0              0            12000   \n605       1        1           0          1              0             2400   \n606       1        1           1          0              0             3400   \n607       1        1           2          1              0             3987   \n608       1        1           0          0              0             3232   \n609       0        0           0          0              0             2900   \n610       1        1           3          0              0             4106   \n611       1        1           1          0              0             8072   \n612       1        1           2          0              0             7583   \n613       0        0           0          0              1             4583   \n\n     CoapplicantIncome  LoanAmount  Loan_Amount_Term  Credit_History  \\\n0                  0.0       128.0             360.0             1.0   \n1               1508.0       128.0             360.0             1.0   \n2                  0.0        66.0             360.0             1.0   \n3               2358.0       120.0             360.0             1.0   \n4                  0.0       141.0             360.0             1.0   \n5               4196.0       267.0             360.0             1.0   \n6               1516.0        95.0             360.0             1.0   \n7               2504.0       158.0             360.0             0.0   \n8               1526.0       168.0             360.0             1.0   \n9              10968.0       349.0             360.0             1.0   \n10               700.0        70.0             360.0             1.0   \n11              1840.0       109.0             360.0             1.0   \n12              8106.0       200.0             360.0             1.0   \n13              2840.0       114.0             360.0             1.0   \n14              1086.0        17.0             120.0             1.0   \n15                 0.0       125.0             360.0             1.0   \n16                 0.0       100.0             240.0             1.0   \n17                 0.0        76.0             360.0             0.0   \n18                 0.0       133.0             360.0             1.0   \n19              3500.0       115.0             360.0             1.0   \n20                 0.0       104.0             360.0             0.0   \n21              5625.0       315.0             360.0             1.0   \n22              1911.0       116.0             360.0             0.0   \n23              1917.0       112.0             360.0             0.0   \n24              2925.0       151.0             360.0             1.0   \n25                 0.0       191.0             360.0             1.0   \n26              2253.0       122.0             360.0             1.0   \n27              1040.0       110.0             360.0             1.0   \n28                 0.0        35.0             360.0             1.0   \n29              2083.0       120.0             360.0             1.0   \n..                 ...         ...               ...             ...   \n584             1917.0       146.0             360.0             0.0   \n585             3000.0       172.0              84.0             1.0   \n586             1522.0       104.0             360.0             1.0   \n587                0.0        70.0             360.0             1.0   \n588                0.0        94.0             360.0             1.0   \n589                0.0       106.0             360.0             0.0   \n590             3416.0        56.0             180.0             1.0   \n591                0.0       205.0             240.0             1.0   \n592                0.0       292.0             360.0             1.0   \n593             3300.0       142.0             180.0             1.0   \n594                0.0       260.0             360.0             1.0   \n595                0.0       110.0             360.0             1.0   \n596             1000.0       187.0             360.0             1.0   \n597                0.0        88.0             360.0             0.0   \n598                0.0       180.0             360.0             1.0   \n599                0.0       192.0             360.0             1.0   \n600            41667.0       350.0             180.0             1.0   \n601             2792.0       155.0             360.0             1.0   \n602                0.0       128.0             360.0             1.0   \n603             4301.0       172.0             360.0             1.0   \n604                0.0       496.0             360.0             1.0   \n605             3800.0       128.0             180.0             1.0   \n606             2500.0       173.0             360.0             1.0   \n607             1411.0       157.0             360.0             1.0   \n608             1950.0       108.0             360.0             1.0   \n609                0.0        71.0             360.0             1.0   \n610                0.0        40.0             180.0             1.0   \n611              240.0       253.0             360.0             1.0   \n612                0.0       187.0             360.0             1.0   \n613                0.0       133.0             360.0             0.0   \n\n     Property_Area  Loan_Status  \n0                2            1  \n1                0            0  \n2                2            1  \n3                2            1  \n4                2            1  \n5                2            1  \n6                2            1  \n7                1            0  \n8                2            1  \n9                1            0  \n10               2            1  \n11               2            1  \n12               2            1  \n13               0            0  \n14               2            1  \n15               2            1  \n16               2            1  \n17               2            0  \n18               0            0  \n19               2            1  \n20               2            0  \n21               2            1  \n22               1            0  \n23               0            0  \n24               1            0  \n25               1            1  \n26               1            1  \n27               2            1  \n28               2            0  \n29               1            1  \n..             ...          ...  \n584              0            0  \n585              0            0  \n586              2            1  \n587              1            1  \n588              1            1  \n589              1            0  \n590              1            1  \n591              1            0  \n592              1            1  \n593              0            1  \n594              2            1  \n595              0            1  \n596              0            0  \n597              1            0  \n598              0            1  \n599              2            1  \n600              2            0  \n601              0            1  \n602              2            1  \n603              0            1  \n604              1            1  \n605              2            0  \n606              1            1  \n607              0            1  \n608              0            1  \n609              0            1  \n610              0            1  \n611              2            1  \n612              2            1  \n613              1            0  \n\n[614 rows x 12 columns]>"
      ]
     },
     "execution_count": 490,
     "metadata": {},
     "output_type": "execute_result"
    }
   ],
   "source": [
    "df.head"
   ]
  },
  {
   "cell_type": "code",
   "execution_count": 491,
   "metadata": {
    "collapsed": false
   },
   "outputs": [],
   "source": [
    "\n"
   ]
  },
  {
   "cell_type": "code",
   "execution_count": 491,
   "metadata": {
    "collapsed": false
   },
   "outputs": [],
   "source": [
    "# Dependents has 3+ -- Which is a string \n",
    "# Replace with 3+ with some int(4) or label encode that\n"
   ]
  },
  {
   "cell_type": "code",
   "execution_count": 492,
   "metadata": {},
   "outputs": [],
   "source": [
    "# Split tarin test data\n",
    "from sklearn.model_selection import train_test_split\n",
    "train, test = train_test_split(df, test_size=0.3, random_state=0)"
   ]
  },
  {
   "cell_type": "code",
   "execution_count": 493,
   "metadata": {},
   "outputs": [],
   "source": [
    "x_train = train.drop('Loan_Status', axis=1)\n",
    "y_train = train['Loan_Status']"
   ]
  },
  {
   "cell_type": "code",
   "execution_count": 494,
   "metadata": {},
   "outputs": [],
   "source": [
    "x_test = test.drop('Loan_Status', axis=1)\n",
    "y_test = test['Loan_Status']\n"
   ]
  },
  {
   "cell_type": "code",
   "execution_count": 495,
   "metadata": {},
   "outputs": [
    {
     "name": "stdout",
     "output_type": "stream",
     "text": [
      "Index(['Gender', 'Married', 'Dependents', 'Education', 'Self_Employed',\n       'ApplicantIncome', 'CoapplicantIncome', 'LoanAmount',\n       'Loan_Amount_Term', 'Credit_History', 'Property_Area'],\n      dtype='object')\n"
     ]
    }
   ],
   "source": [
    "print(x_train.columns)\n"
   ]
  },
  {
   "cell_type": "code",
   "execution_count": 496,
   "metadata": {},
   "outputs": [
    {
     "name": "stdout",
     "output_type": "stream",
     "text": [
      "(429, 11)\n(429,)\n"
     ]
    }
   ],
   "source": [
    "print(x_train.shape)\n",
    "print(y_train.shape)"
   ]
  },
  {
   "cell_type": "code",
   "execution_count": 497,
   "metadata": {},
   "outputs": [
    {
     "name": "stdout",
     "output_type": "stream",
     "text": [
      "(185, 11)\n(185,)\n"
     ]
    }
   ],
   "source": [
    "print(x_test.shape)\n",
    "print(y_test.shape)"
   ]
  },
  {
   "cell_type": "code",
   "execution_count": 498,
   "metadata": {},
   "outputs": [],
   "source": [
    "x_train_dum = pd.get_dummies(x_train)\n",
    "x_test_dum = pd.get_dummies(x_test)"
   ]
  },
  {
   "cell_type": "code",
   "execution_count": 499,
   "metadata": {},
   "outputs": [],
   "source": [
    "from sklearn.ensemble import BaggingClassifier\n",
    "from sklearn import tree\n",
    "model = BaggingClassifier(tree.DecisionTreeClassifier(random_state=1))"
   ]
  },
  {
   "cell_type": "code",
   "execution_count": 500,
   "metadata": {},
   "outputs": [
    {
     "data": {
      "text/plain": [
       "BaggingClassifier(base_estimator=DecisionTreeClassifier(class_weight=None, criterion='gini', max_depth=None,\n            max_features=None, max_leaf_nodes=None,\n            min_impurity_decrease=0.0, min_impurity_split=None,\n            min_samples_leaf=1, min_samples_split=2,\n            min_weight_fraction_leaf=0.0, presort=False, random_state=1,\n            splitter='best'),\n         bootstrap=True, bootstrap_features=False, max_features=1.0,\n         max_samples=1.0, n_estimators=10, n_jobs=None, oob_score=False,\n         random_state=None, verbose=0, warm_start=False)"
      ]
     },
     "execution_count": 500,
     "metadata": {},
     "output_type": "execute_result"
    }
   ],
   "source": [
    "model.fit(x_train, y_train)"
   ]
  },
  {
   "cell_type": "code",
   "execution_count": 504,
   "metadata": {},
   "outputs": [
    {
     "data": {
      "text/plain": [
       "0.7351351351351352"
      ]
     },
     "execution_count": 504,
     "metadata": {},
     "output_type": "execute_result"
    }
   ],
   "source": [
    "model.score(x_test,y_test)"
   ]
  },
  {
   "cell_type": "code",
   "execution_count": 514,
   "metadata": {},
   "outputs": [
    {
     "name": "stderr",
     "output_type": "stream",
     "text": [
      "c:\\users\\katta's\\venv\\lib\\site-packages\\sklearn\\ensemble\\forest.py:246: FutureWarning: The default value of n_estimators will change from 10 in version 0.20 to 100 in 0.22.\n  \"10 in version 0.20 to 100 in 0.22.\", FutureWarning)\n"
     ]
    },
    {
     "data": {
      "text/plain": [
       "0.7675675675675676"
      ]
     },
     "execution_count": 514,
     "metadata": {},
     "output_type": "execute_result"
    }
   ],
   "source": [
    "# Random forest - Bagging\n",
    "from sklearn.ensemble import RandomForestClassifier\n",
    "model= RandomForestClassifier(random_state=1)\n",
    "model.fit(x_train, y_train)\n",
    "model.score(x_test,y_test)"
   ]
  },
  {
   "cell_type": "code",
   "execution_count": 515,
   "metadata": {},
   "outputs": [
    {
     "name": "stdout",
     "output_type": "stream",
     "text": [
      "ApplicantIncome 0.24218610392216436\nCoapplicantIncome 0.10370128726439376\nCredit_History 0.2302956914989148\nDependents 0.03673751897489143\nEducation 0.022025573315943042\nGender 0.018625015742440854\nLoanAmount 0.21341219326019706\nLoan_Amount_Term 0.03301178904060203\nMarried 0.024294972404535965\nProperty_Area 0.051319901419401626\nSelf_Employed 0.024389953156514984\n"
     ]
    }
   ],
   "source": [
    "for i, j in sorted(zip(x_train.columns, model.feature_importances_)):\n",
    "    print(i, j)"
   ]
  },
  {
   "cell_type": "code",
   "execution_count": 516,
   "metadata": {},
   "outputs": [
    {
     "name": "stdout",
     "output_type": "stream",
     "text": [
      "0.8162162162162162\n"
     ]
    }
   ],
   "source": [
    "#Ada boost - Boosting\n",
    "from sklearn.ensemble import AdaBoostClassifier\n",
    "model = AdaBoostClassifier(random_state=1)\n",
    "model.fit(x_train, y_train)\n",
    "score_ada= model.score(x_test,y_test)\n",
    "print(score_ada)"
   ]
  },
  {
   "cell_type": "code",
   "execution_count": 517,
   "metadata": {},
   "outputs": [
    {
     "name": "stdout",
     "output_type": "stream",
     "text": [
      "0.8162162162162162\n"
     ]
    }
   ],
   "source": [
    "# GradientBoosting - Boosting\n",
    "from sklearn.ensemble import GradientBoostingClassifier\n",
    "model= GradientBoostingClassifier(learning_rate=0.01,random_state=1)\n",
    "model.fit(x_train, y_train)\n",
    "score_GBM = model.score(x_test,y_test)\n",
    "print(score_GBM)"
   ]
  },
  {
   "cell_type": "code",
   "execution_count": 518,
   "metadata": {},
   "outputs": [
    {
     "data": {
      "text/plain": [
       "0.8216216216216217"
      ]
     },
     "execution_count": 518,
     "metadata": {},
     "output_type": "execute_result"
    }
   ],
   "source": [
    "#xgboost-- Boosting\n",
    "import xgboost as xgb\n",
    "model=xgb.XGBClassifier(random_state=1,learning_rate=0.01)\n",
    "model.fit(x_train, y_train)\n",
    "model.score(x_test,y_test)"
   ]
  },
  {
   "cell_type": "code",
   "execution_count": 519,
   "metadata": {},
   "outputs": [],
   "source": []
  },
  {
   "cell_type": "code",
   "execution_count": null,
   "metadata": {},
   "outputs": [],
   "source": []
  }
 ],
 "metadata": {
  "kernelspec": {
   "display_name": "Python 2",
   "language": "python",
   "name": "python2"
  },
  "language_info": {
   "codemirror_mode": {
    "name": "ipython",
    "version": 2
   },
   "file_extension": ".py",
   "mimetype": "text/x-python",
   "name": "python",
   "nbconvert_exporter": "python",
   "pygments_lexer": "ipython2",
   "version": "2.7.6"
  }
 },
 "nbformat": 4,
 "nbformat_minor": 0
}
