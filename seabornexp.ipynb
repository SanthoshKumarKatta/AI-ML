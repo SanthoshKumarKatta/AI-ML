{
 "cells": [
  {
   "cell_type": "code",
   "execution_count": 4,
   "metadata": {
    "collapsed": true
   },
   "outputs": [
    {
     "name": "stdout",
     "output_type": "stream",
     "text": [
      "1.13.0-rc1\n Initial data \n      MPG  Cylinders  Displacement  Horsepower  Weight  Acceleration  \\\n393  27.0          4         140.0        86.0  2790.0          15.6   \n394  44.0          4          97.0        52.0  2130.0          24.6   \n395  32.0          4         135.0        84.0  2295.0          11.6   \n396  28.0          4         120.0        79.0  2625.0          18.6   \n397  31.0          4         119.0        82.0  2720.0          19.4   \n\n     Model Year  Origin  \n393          82       1  \n394          82       2  \n395          82       1  \n396          82       1  \n397          82       1  \n0      1\n1      1\n2      1\n3      1\n4      1\n5      1\n6      1\n7      1\n8      1\n9      1\n10     1\n11     1\n12     1\n13     1\n14     3\n15     1\n16     1\n17     1\n18     3\n19     2\n20     2\n21     2\n22     2\n23     2\n24     1\n25     1\n26     1\n27     1\n28     1\n29     3\n      ..\n367    1\n368    1\n369    1\n370    1\n371    1\n372    1\n373    1\n375    2\n376    3\n377    3\n378    1\n379    1\n380    3\n381    3\n382    3\n383    3\n384    3\n385    3\n386    1\n387    1\n388    1\n389    1\n390    3\n391    1\n392    1\n393    1\n394    2\n395    1\n396    1\n397    1\nName: Origin, Length: 392, dtype: int64\nAfter Origin changes \n      MPG  Cylinders  Displacement  Horsepower  Weight  Acceleration  \\\n393  27.0          4         140.0        86.0  2790.0          15.6   \n394  44.0          4          97.0        52.0  2130.0          24.6   \n395  32.0          4         135.0        84.0  2295.0          11.6   \n396  28.0          4         120.0        79.0  2625.0          18.6   \n397  31.0          4         119.0        82.0  2720.0          19.4   \n\n     Model Year  USA  Europe  Japan  \n393          82  1.0     0.0    0.0  \n394          82  0.0     1.0    0.0  \n395          82  1.0     0.0    0.0  \n396          82  1.0     0.0    0.0  \n397          82  1.0     0.0    0.0  \n"
     ]
    }
   ],
   "source": [
    "# Use seaborn for pairplot\n",
    "from __future__ import absolute_import, division, print_function\n",
    "import matplotlib.pyplot as plt\n",
    "import pandas as pd\n",
    "import seaborn as sns\n",
    "\n",
    "import tensorflow as tf\n",
    "from tensorflow import keras\n",
    "\n",
    "print(tf.__version__)\n",
    "\n",
    "dataset_path = keras.utils.get_file(\"auto-mpg.data\", \"https://archive.ics.uci.edu/ml/machine-learning-databases/auto-mpg/auto-mpg.data\")\n",
    "#dataset_path\n",
    "\n",
    "column_names = ['MPG', 'Cylinders', 'Displacement', 'Horsepower', 'Weight',\n",
    "'Acceleration', 'Model Year', 'Origin']\n",
    "raw_dataset = pd.read_csv(dataset_path, names=column_names,\n",
    "na_values = \"?\", comment='\\t',\n",
    "sep=\" \", skipinitialspace=True)\n",
    "\n",
    "dataset = raw_dataset.copy()\n",
    "print(\" Initial data \")\n",
    "print(dataset.tail())\n",
    "\n",
    "# data cleanup process\n",
    "dataset.isna().sum()\n",
    "dataset = dataset.dropna()\n",
    "\n",
    "# data changes\n",
    "origin = dataset.pop('Origin')\n",
    "print(origin)\n",
    "dataset['USA'] = (origin == 1)*1.0\n",
    "dataset['Europe'] = (origin == 2)*1.0\n",
    "dataset['Japan'] = (origin == 3)*1.0\n",
    "print(\"After Origin changes \")\n",
    "print(dataset.tail())\n",
    "\n",
    "train_dataset = dataset.sample(frac=0.8, random_state=0)\n",
    "\n",
    "test_dataset = dataset.drop(train_dataset.index)"
   ]
  },
  {
   "cell_type": "code",
   "execution_count": 5,
   "metadata": {},
   "outputs": [
    {
     "name": "stdout",
     "output_type": "stream",
     "text": [
      "      MPG  Cylinders  Displacement  Horsepower  Weight  Acceleration  \\\n146  28.0          4          90.0        75.0  2125.0          14.5   \n282  22.3          4         140.0        88.0  2890.0          17.3   \n69   12.0          8         350.0       160.0  4456.0          13.5   \n378  38.0          4         105.0        63.0  2125.0          14.7   \n331  33.8          4          97.0        67.0  2145.0          18.0   \n257  19.4          6         232.0        90.0  3210.0          17.2   \n310  38.1          4          89.0        60.0  1968.0          18.8   \n328  30.0          4         146.0        67.0  3250.0          21.8   \n125  20.0          6         198.0        95.0  3102.0          16.5   \n108  20.0          4          97.0        88.0  2279.0          19.0   \n55   27.0          4          97.0        60.0  1834.0          19.0   \n212  16.5          8         350.0       180.0  4380.0          12.1   \n234  24.5          4         151.0        88.0  2740.0          16.0   \n103  11.0          8         400.0       150.0  4997.0          14.0   \n289  16.9          8         350.0       155.0  4360.0          14.9   \n355  33.7          4         107.0        75.0  2210.0          14.4   \n276  21.6          4         121.0       115.0  2795.0          15.7   \n75   14.0          8         318.0       150.0  4077.0          14.0   \n114  26.0          4          98.0        90.0  2265.0          15.5   \n305  28.4          4         151.0        90.0  2670.0          16.0   \n166  13.0          8         302.0       129.0  3169.0          12.0   \n134  16.0          6         258.0       110.0  3632.0          18.0   \n60   20.0          4         140.0        90.0  2408.0          19.5   \n386  25.0          6         181.0       110.0  2945.0          16.4   \n309  41.5          4          98.0        76.0  2144.0          14.7   \n38   14.0          8         350.0       165.0  4209.0          12.0   \n340  25.8          4         156.0        92.0  2620.0          14.4   \n255  25.1          4         140.0        88.0  2720.0          15.4   \n169  20.0          6         232.0       100.0  2914.0          16.0   \n66   17.0          8         304.0       150.0  3672.0          11.5   \n..    ...        ...           ...         ...     ...           ...   \n326  43.4          4          90.0        48.0  2335.0          23.7   \n124  11.0          8         350.0       180.0  3664.0          11.0   \n224  15.0          8         302.0       130.0  4295.0          14.9   \n63   14.0          8         400.0       175.0  4385.0          12.0   \n298  23.0          8         350.0       125.0  3900.0          17.4   \n132  25.0          4         140.0        75.0  2542.0          17.0   \n189  15.5          8         304.0       120.0  3962.0          13.9   \n23   26.0          4         121.0       113.0  2234.0          12.5   \n44   13.0          8         400.0       175.0  5140.0          12.0   \n0    18.0          8         307.0       130.0  3504.0          12.0   \n203  29.5          4          97.0        71.0  1825.0          12.2   \n335  35.0          4         122.0        88.0  2500.0          15.1   \n99   18.0          6         232.0       100.0  2945.0          16.0   \n385  38.0          4          91.0        67.0  1995.0          16.2   \n180  25.0          4         121.0       115.0  2671.0          13.5   \n258  20.6          6         231.0       105.0  3380.0          15.8   \n95   12.0          8         455.0       225.0  4951.0          11.0   \n366  17.6          6         225.0        85.0  3465.0          16.6   \n96   13.0          8         360.0       175.0  3821.0          11.0   \n347  37.0          4          85.0        65.0  1975.0          19.4   \n171  24.0          4         134.0        96.0  2702.0          13.5   \n70   13.0          8         400.0       190.0  4422.0          12.5   \n307  26.8          6         173.0       115.0  2700.0          12.9   \n49   23.0          4         122.0        86.0  2220.0          14.0   \n209  19.0          4         120.0        88.0  3270.0          21.9   \n281  19.8          6         200.0        85.0  2990.0          18.2   \n229  16.0          8         400.0       180.0  4220.0          11.1   \n150  26.0          4         108.0        93.0  2391.0          15.5   \n145  32.0          4          83.0        61.0  2003.0          19.0   \n182  28.0          4         107.0        86.0  2464.0          15.5   \n\n     Model Year  USA  Europe  Japan  \n146          74  1.0     0.0    0.0  \n282          79  1.0     0.0    0.0  \n69           72  1.0     0.0    0.0  \n378          82  1.0     0.0    0.0  \n331          80  0.0     0.0    1.0  \n257          78  1.0     0.0    0.0  \n310          80  0.0     0.0    1.0  \n328          80  0.0     1.0    0.0  \n125          74  1.0     0.0    0.0  \n108          73  0.0     0.0    1.0  \n55           71  0.0     1.0    0.0  \n212          76  1.0     0.0    0.0  \n234          77  1.0     0.0    0.0  \n103          73  1.0     0.0    0.0  \n289          79  1.0     0.0    0.0  \n355          81  0.0     0.0    1.0  \n276          78  0.0     1.0    0.0  \n75           72  1.0     0.0    0.0  \n114          73  0.0     1.0    0.0  \n305          79  1.0     0.0    0.0  \n166          75  1.0     0.0    0.0  \n134          74  1.0     0.0    0.0  \n60           72  1.0     0.0    0.0  \n386          82  1.0     0.0    0.0  \n309          80  0.0     1.0    0.0  \n38           71  1.0     0.0    0.0  \n340          81  1.0     0.0    0.0  \n255          78  1.0     0.0    0.0  \n169          75  1.0     0.0    0.0  \n66           72  1.0     0.0    0.0  \n..          ...  ...     ...    ...  \n326          80  0.0     1.0    0.0  \n124          73  1.0     0.0    0.0  \n224          77  1.0     0.0    0.0  \n63           72  1.0     0.0    0.0  \n298          79  1.0     0.0    0.0  \n132          74  1.0     0.0    0.0  \n189          76  1.0     0.0    0.0  \n23           70  0.0     1.0    0.0  \n44           71  1.0     0.0    0.0  \n0            70  1.0     0.0    0.0  \n203          76  0.0     1.0    0.0  \n335          80  0.0     1.0    0.0  \n99           73  1.0     0.0    0.0  \n385          82  0.0     0.0    1.0  \n180          75  0.0     1.0    0.0  \n258          78  1.0     0.0    0.0  \n95           73  1.0     0.0    0.0  \n366          81  1.0     0.0    0.0  \n96           73  1.0     0.0    0.0  \n347          81  0.0     0.0    1.0  \n171          75  0.0     0.0    1.0  \n70           72  1.0     0.0    0.0  \n307          79  1.0     0.0    0.0  \n49           71  1.0     0.0    0.0  \n209          76  0.0     1.0    0.0  \n281          79  1.0     0.0    0.0  \n229          77  1.0     0.0    0.0  \n150          74  0.0     0.0    1.0  \n145          74  0.0     0.0    1.0  \n182          76  0.0     1.0    0.0  \n\n[314 rows x 10 columns]\n"
     ]
    },
    {
     "data": {
      "text/plain": [
       "<seaborn.axisgrid.PairGrid at 0x21579f0f2e8>"
      ]
     },
     "execution_count": 5,
     "metadata": {},
     "output_type": "execute_result"
    }
   ],
   "source": [
    "print(train_dataset)\n",
    "sns.pairplot(train_dataset[[\"MPG\", \"Cylinders\", \"Displacement\", \"Weight\"]], diag_kind=\"kde\")"
   ]
  },
  {
   "cell_type": "code",
   "execution_count": 5,
   "metadata": {},
   "outputs": [
    {
     "name": "stderr",
     "output_type": "stream",
     "text": [
      "Using TensorFlow backend.\n"
     ]
    },
    {
     "name": "stdout",
     "output_type": "stream",
     "text": [
      "WARNING:tensorflow:From c:\\users\\katta's\\venv\\lib\\site-packages\\tensorflow\\python\\framework\\op_def_library.py:263: colocate_with (from tensorflow.python.framework.ops) is deprecated and will be removed in a future version.\nInstructions for updating:\nColocations handled automatically by placer.\n"
     ]
    },
    {
     "name": "stdout",
     "output_type": "stream",
     "text": [
      "WARNING:tensorflow:From c:\\users\\katta's\\venv\\lib\\site-packages\\tensorflow\\python\\ops\\math_ops.py:3066: to_int32 (from tensorflow.python.ops.math_ops) is deprecated and will be removed in a future version.\nInstructions for updating:\nUse tf.cast instead.\n"
     ]
    },
    {
     "name": "stdout",
     "output_type": "stream",
     "text": [
      "dict_keys(['val_loss', 'val_acc', 'loss', 'acc'])\n"
     ]
    },
    {
     "ename": "TypeError",
     "evalue": "'data' must be pandas DataFrame object, not: <class 'numpy.ndarray'>",
     "traceback": [
      "\u001b[1;31m---------------------------------------------------------------------------\u001b[0m",
      "\u001b[1;31mTypeError\u001b[0m                                 Traceback (most recent call last)",
      "\u001b[1;32m<ipython-input-5-16acef75e4d4>\u001b[0m in \u001b[0;36m<module>\u001b[1;34m\u001b[0m\n\u001b[0;32m     44\u001b[0m \u001b[1;33m\u001b[0m\u001b[0m\n\u001b[0;32m     45\u001b[0m \u001b[1;33m\u001b[0m\u001b[0m\n\u001b[1;32m---> 46\u001b[1;33m \u001b[0msns\u001b[0m\u001b[1;33m.\u001b[0m\u001b[0mpairplot\u001b[0m\u001b[1;33m(\u001b[0m\u001b[0mx\u001b[0m\u001b[1;33m,\u001b[0m \u001b[0mdiag_kind\u001b[0m\u001b[1;33m=\u001b[0m\u001b[1;34m\"kde\"\u001b[0m\u001b[1;33m)\u001b[0m\u001b[1;33m\u001b[0m\u001b[1;33m\u001b[0m\u001b[0m\n\u001b[0m",
      "\u001b[1;32mc:\\users\\katta's\\venv\\lib\\site-packages\\seaborn\\axisgrid.py\u001b[0m in \u001b[0;36mpairplot\u001b[1;34m(data, hue, hue_order, palette, vars, x_vars, y_vars, kind, diag_kind, markers, height, aspect, dropna, plot_kws, diag_kws, grid_kws, size)\u001b[0m\n\u001b[0;32m   2068\u001b[0m         raise TypeError(\n\u001b[0;32m   2069\u001b[0m             \"'data' must be pandas DataFrame object, not: {typefound}\".format(\n\u001b[1;32m-> 2070\u001b[1;33m                 typefound=type(data)))\n\u001b[0m\u001b[0;32m   2071\u001b[0m \u001b[1;33m\u001b[0m\u001b[0m\n\u001b[0;32m   2072\u001b[0m     \u001b[1;32mif\u001b[0m \u001b[0mplot_kws\u001b[0m \u001b[1;32mis\u001b[0m \u001b[1;32mNone\u001b[0m\u001b[1;33m:\u001b[0m\u001b[1;33m\u001b[0m\u001b[1;33m\u001b[0m\u001b[0m\n",
      "\u001b[1;31mTypeError\u001b[0m: 'data' must be pandas DataFrame object, not: <class 'numpy.ndarray'>"
     ],
     "output_type": "error"
    }
   ],
   "source": [
    "from keras.layers import  Dense\n",
    "from keras.models import Sequential\n",
    "from matplotlib import pyplot as plt\n",
    "import numpy as np\n",
    "import cbor as cb\n",
    "import seaborn as sns\n",
    "\n",
    "# fix random seed for reproducibility\n",
    "seed = 7\n",
    "np.random.seed(seed)\n",
    "dataset = np.loadtxt(\"C:/Santhosh/AIML/data/pima-indians-diabetes.csv\", delimiter=\",\")\n",
    "\n",
    "# split into input (X) and output (Y) variables\n",
    "x = dataset[:,0:8]\n",
    "y = dataset[:,8]\n",
    "\n",
    "model = Sequential()\n",
    "model.add(Dense(10, kernel_initializer='uniform', input_dim=8, name='input', activation='relu'))\n",
    "model.add(Dense(200, kernel_initializer='uniform', activation='relu'))\n",
    "model.add(Dense(1, kernel_initializer='uniform', activation='sigmoid'))\n",
    "\n",
    "model.compile(loss='binary_crossentropy', optimizer='adam', metrics=['accuracy'])\n",
    "\n",
    "hist = model.fit(x,y, validation_split=0.33, epochs=150,batch_size=10, verbose=0)\n",
    "\n",
    "print(hist.history.keys())\n",
    "# \n",
    "#Plot - Accuracy\n",
    "plt.plot(hist.history['acc'])\n",
    "plt.plot(hist.history['val_acc'])\n",
    "plt.xlabel('epoch')\n",
    "plt.ylabel('accuracy')\n",
    "plt.title('Accuracy - Test vs Train')\n",
    "plt.legend(['train','val'])\n",
    "plt.show()\n",
    "#plot - Loss\n",
    "plt.plot(hist.history['loss'])\n",
    "plt.plot(hist.history['val_loss'])\n",
    "plt.xlabel('epoch')\n",
    "plt.ylabel('loss')\n",
    "plt.title('Loss - Train vs Test')\n",
    "plt.legend(['Train', 'Test'])\n",
    "plt.show()\n",
    "\n",
    "\n",
    "sns.pairplot(x, diag_kind=\"kde\")"
   ]
  },
  {
   "cell_type": "code",
   "execution_count": null,
   "metadata": {},
   "outputs": [],
   "source": []
  }
 ],
 "metadata": {
  "kernelspec": {
   "display_name": "Python 2",
   "language": "python",
   "name": "python2"
  },
  "language_info": {
   "codemirror_mode": {
    "name": "ipython",
    "version": 2
   },
   "file_extension": ".py",
   "mimetype": "text/x-python",
   "name": "python",
   "nbconvert_exporter": "python",
   "pygments_lexer": "ipython2",
   "version": "2.7.6"
  }
 },
 "nbformat": 4,
 "nbformat_minor": 0
}
