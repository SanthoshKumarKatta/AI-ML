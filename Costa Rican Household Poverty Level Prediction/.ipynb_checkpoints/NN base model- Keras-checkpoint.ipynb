{
 "cells": [
  {
   "cell_type": "code",
   "execution_count": 1,
   "metadata": {},
   "outputs": [],
   "source": [
    "import pandas as pd\n",
    "from matplotlib import pyplot as plt\n",
    "%matplotlib inline\n",
    "import random\n",
    "random.seed(10)\n",
    "import data_pre as data_pre"
   ]
  },
  {
   "cell_type": "code",
   "execution_count": 2,
   "metadata": {},
   "outputs": [],
   "source": [
    "pd.set_option('display.max_columns', None)\n",
    "pd.set_option('display.max_rows', None)"
   ]
  },
  {
   "cell_type": "code",
   "execution_count": 3,
   "metadata": {},
   "outputs": [],
   "source": [
    "data = pd.read_csv(\"C:/Santhosh/AIML/Github/Machine-Learning/Costa Rican Household Poverty Level Prediction/data/train.csv\")"
   ]
  },
  {
   "cell_type": "code",
   "execution_count": 4,
   "metadata": {},
   "outputs": [],
   "source": [
    "del_cols = ['idhogar', 'Id','dependency','tamhog','r4t3', 'tamviv', 'r4h1', 'hogar_total','r4h2', 'r4h3', 'r4m1', 'r4m2','r4m3', 'hogar_nin', 'hogar_adul', 'hogar_mayor', 'SQBescolari','SQBage','SQBhogar_total','SQBedjefe','SQBhogar_nin','SQBovercrowding','SQBdependency','SQBmeaned','agesq']"
   ]
  },
  {
   "cell_type": "code",
   "execution_count": 5,
   "metadata": {},
   "outputs": [],
   "source": [
    "data_pre.drop_columns(data,del_cols)\n",
    "data_pre.replce_na(data)\n",
    "data_pre.get_cat_cols(data)\n",
    "data_pre.encode_data(data)\n",
    "train, test = data_pre.train_test_split(data)"
   ]
  },
  {
   "cell_type": "code",
   "execution_count": 6,
   "metadata": {},
   "outputs": [],
   "source": [
    "X_train = train.drop(['Target'], axis =1)\n",
    "Y_train = train['Target']\n",
    "X_test = test.drop(['Target'], axis =1)\n",
    "Y_test = test['Target']"
   ]
  },
  {
   "cell_type": "code",
   "execution_count": 10,
   "metadata": {},
   "outputs": [
    {
     "name": "stderr",
     "output_type": "stream",
     "text": [
      "Using TensorFlow backend.\n"
     ]
    }
   ],
   "source": [
    "from keras.utils.np_utils import to_categorical\n",
    "Y_train = to_categorical(Y_train)\n",
    "Y_test = to_categorical(Y_test)"
   ]
  },
  {
   "cell_type": "code",
   "execution_count": 7,
   "metadata": {},
   "outputs": [
    {
     "name": "stderr",
     "output_type": "stream",
     "text": [
      "c:\\users\\katta\\appdata\\local\\programs\\python\\python36\\lib\\site-packages\\tensorflow\\python\\framework\\dtypes.py:516: FutureWarning: Passing (type, 1) or '1type' as a synonym of type is deprecated; in a future version of numpy, it will be understood as (type, (1,)) / '(1,)type'.\n",
      "  _np_qint8 = np.dtype([(\"qint8\", np.int8, 1)])\n",
      "c:\\users\\katta\\appdata\\local\\programs\\python\\python36\\lib\\site-packages\\tensorflow\\python\\framework\\dtypes.py:517: FutureWarning: Passing (type, 1) or '1type' as a synonym of type is deprecated; in a future version of numpy, it will be understood as (type, (1,)) / '(1,)type'.\n",
      "  _np_quint8 = np.dtype([(\"quint8\", np.uint8, 1)])\n",
      "c:\\users\\katta\\appdata\\local\\programs\\python\\python36\\lib\\site-packages\\tensorflow\\python\\framework\\dtypes.py:518: FutureWarning: Passing (type, 1) or '1type' as a synonym of type is deprecated; in a future version of numpy, it will be understood as (type, (1,)) / '(1,)type'.\n",
      "  _np_qint16 = np.dtype([(\"qint16\", np.int16, 1)])\n",
      "c:\\users\\katta\\appdata\\local\\programs\\python\\python36\\lib\\site-packages\\tensorflow\\python\\framework\\dtypes.py:519: FutureWarning: Passing (type, 1) or '1type' as a synonym of type is deprecated; in a future version of numpy, it will be understood as (type, (1,)) / '(1,)type'.\n",
      "  _np_quint16 = np.dtype([(\"quint16\", np.uint16, 1)])\n",
      "c:\\users\\katta\\appdata\\local\\programs\\python\\python36\\lib\\site-packages\\tensorflow\\python\\framework\\dtypes.py:520: FutureWarning: Passing (type, 1) or '1type' as a synonym of type is deprecated; in a future version of numpy, it will be understood as (type, (1,)) / '(1,)type'.\n",
      "  _np_qint32 = np.dtype([(\"qint32\", np.int32, 1)])\n",
      "c:\\users\\katta\\appdata\\local\\programs\\python\\python36\\lib\\site-packages\\tensorflow\\python\\framework\\dtypes.py:525: FutureWarning: Passing (type, 1) or '1type' as a synonym of type is deprecated; in a future version of numpy, it will be understood as (type, (1,)) / '(1,)type'.\n",
      "  np_resource = np.dtype([(\"resource\", np.ubyte, 1)])\n",
      "c:\\users\\katta\\appdata\\local\\programs\\python\\python36\\lib\\site-packages\\tensorboard\\compat\\tensorflow_stub\\dtypes.py:541: FutureWarning: Passing (type, 1) or '1type' as a synonym of type is deprecated; in a future version of numpy, it will be understood as (type, (1,)) / '(1,)type'.\n",
      "  _np_qint8 = np.dtype([(\"qint8\", np.int8, 1)])\n",
      "c:\\users\\katta\\appdata\\local\\programs\\python\\python36\\lib\\site-packages\\tensorboard\\compat\\tensorflow_stub\\dtypes.py:542: FutureWarning: Passing (type, 1) or '1type' as a synonym of type is deprecated; in a future version of numpy, it will be understood as (type, (1,)) / '(1,)type'.\n",
      "  _np_quint8 = np.dtype([(\"quint8\", np.uint8, 1)])\n",
      "c:\\users\\katta\\appdata\\local\\programs\\python\\python36\\lib\\site-packages\\tensorboard\\compat\\tensorflow_stub\\dtypes.py:543: FutureWarning: Passing (type, 1) or '1type' as a synonym of type is deprecated; in a future version of numpy, it will be understood as (type, (1,)) / '(1,)type'.\n",
      "  _np_qint16 = np.dtype([(\"qint16\", np.int16, 1)])\n",
      "c:\\users\\katta\\appdata\\local\\programs\\python\\python36\\lib\\site-packages\\tensorboard\\compat\\tensorflow_stub\\dtypes.py:544: FutureWarning: Passing (type, 1) or '1type' as a synonym of type is deprecated; in a future version of numpy, it will be understood as (type, (1,)) / '(1,)type'.\n",
      "  _np_quint16 = np.dtype([(\"quint16\", np.uint16, 1)])\n",
      "c:\\users\\katta\\appdata\\local\\programs\\python\\python36\\lib\\site-packages\\tensorboard\\compat\\tensorflow_stub\\dtypes.py:545: FutureWarning: Passing (type, 1) or '1type' as a synonym of type is deprecated; in a future version of numpy, it will be understood as (type, (1,)) / '(1,)type'.\n",
      "  _np_qint32 = np.dtype([(\"qint32\", np.int32, 1)])\n",
      "c:\\users\\katta\\appdata\\local\\programs\\python\\python36\\lib\\site-packages\\tensorboard\\compat\\tensorflow_stub\\dtypes.py:550: FutureWarning: Passing (type, 1) or '1type' as a synonym of type is deprecated; in a future version of numpy, it will be understood as (type, (1,)) / '(1,)type'.\n",
      "  np_resource = np.dtype([(\"resource\", np.ubyte, 1)])\n"
     ]
    }
   ],
   "source": [
    "from tensorflow import keras\n",
    "from tensorflow.keras import layers\n",
    "# from tensorflow.keras.metrics import f1\n",
    "model = keras.Sequential()"
   ]
  },
  {
   "cell_type": "code",
   "execution_count": 8,
   "metadata": {},
   "outputs": [
    {
     "name": "stdout",
     "output_type": "stream",
     "text": [
      "WARNING:tensorflow:From c:\\users\\katta\\appdata\\local\\programs\\python\\python36\\lib\\site-packages\\tensorflow\\python\\ops\\init_ops.py:1251: calling VarianceScaling.__init__ (from tensorflow.python.ops.init_ops) with dtype is deprecated and will be removed in a future version.\n",
      "Instructions for updating:\n",
      "Call initializer instance with the dtype argument instead of passing it to the constructor\n"
     ]
    }
   ],
   "source": [
    "model.add(layers.Dense(117, input_shape=(117,)))\n",
    "model.add(layers.Activation('relu'))\n",
    "model.add(layers.Dense(100))\n",
    "model.add(layers.Activation('relu'))\n",
    "model.add(layers.Dropout(0.3))\n",
    "model.add(layers.Dense(15))\n",
    "model.add(layers.Activation('relu'))\n",
    "model.add(layers.Dense(5))\n",
    "model.add(layers.Activation('softmax')) "
   ]
  },
  {
   "cell_type": "code",
   "execution_count": 9,
   "metadata": {},
   "outputs": [],
   "source": [
    "model.compile(loss='categorical_crossentropy', optimizer='adam', metrics=['accuracy'])"
   ]
  },
  {
   "cell_type": "code",
   "execution_count": 11,
   "metadata": {},
   "outputs": [
    {
     "name": "stdout",
     "output_type": "stream",
     "text": [
      "Train on 7646 samples, validate on 1911 samples\n",
      "Epoch 1/100\n",
      "7646/7646 - 1s - loss: 68.6355 - acc: 0.5862 - val_loss: 1.1001 - val_acc: 0.6473\n",
      "Epoch 2/100\n",
      "7646/7646 - 0s - loss: 4.2092 - acc: 0.6402 - val_loss: 1.0252 - val_acc: 0.6510\n",
      "Epoch 3/100\n",
      "7646/7646 - 0s - loss: 2.5681 - acc: 0.6504 - val_loss: 1.0012 - val_acc: 0.6473\n",
      "Epoch 4/100\n",
      "7646/7646 - 0s - loss: 1.4584 - acc: 0.6572 - val_loss: 0.9555 - val_acc: 0.6504\n",
      "Epoch 5/100\n",
      "7646/7646 - 0s - loss: 2.3859 - acc: 0.6549 - val_loss: 0.9308 - val_acc: 0.6531\n",
      "Epoch 6/100\n",
      "7646/7646 - 1s - loss: 1.1321 - acc: 0.6660 - val_loss: 0.9193 - val_acc: 0.6578\n",
      "Epoch 7/100\n",
      "7646/7646 - 1s - loss: 1.0426 - acc: 0.6705 - val_loss: 0.9062 - val_acc: 0.6578\n",
      "Epoch 8/100\n",
      "7646/7646 - 1s - loss: 1.1348 - acc: 0.6734 - val_loss: 0.8890 - val_acc: 0.6656\n",
      "Epoch 9/100\n",
      "7646/7646 - 1s - loss: 1.3745 - acc: 0.6801 - val_loss: 0.8839 - val_acc: 0.6672\n",
      "Epoch 10/100\n",
      "7646/7646 - 1s - loss: 1.0838 - acc: 0.6847 - val_loss: 0.8734 - val_acc: 0.6667\n",
      "Epoch 11/100\n",
      "7646/7646 - 1s - loss: 0.9045 - acc: 0.6906 - val_loss: 0.8546 - val_acc: 0.6813\n",
      "Epoch 12/100\n",
      "7646/7646 - 1s - loss: 0.8567 - acc: 0.6940 - val_loss: 0.8439 - val_acc: 0.6860\n",
      "Epoch 13/100\n",
      "7646/7646 - 1s - loss: 0.8506 - acc: 0.7032 - val_loss: 0.8493 - val_acc: 0.6803\n",
      "Epoch 14/100\n",
      "7646/7646 - 1s - loss: 0.8951 - acc: 0.7082 - val_loss: 0.8314 - val_acc: 0.6902\n",
      "Epoch 15/100\n",
      "7646/7646 - 0s - loss: 1.2144 - acc: 0.7136 - val_loss: 0.8373 - val_acc: 0.6918\n",
      "Epoch 16/100\n",
      "7646/7646 - 1s - loss: 0.7804 - acc: 0.7179 - val_loss: 0.8259 - val_acc: 0.6970\n",
      "Epoch 17/100\n",
      "7646/7646 - 1s - loss: 0.8057 - acc: 0.7244 - val_loss: 0.8166 - val_acc: 0.7043\n",
      "Epoch 18/100\n",
      "7646/7646 - 1s - loss: 0.8232 - acc: 0.7324 - val_loss: 0.8045 - val_acc: 0.7038\n",
      "Epoch 19/100\n",
      "7646/7646 - 1s - loss: 0.7420 - acc: 0.7382 - val_loss: 0.8095 - val_acc: 0.6996\n",
      "Epoch 20/100\n",
      "7646/7646 - 1s - loss: 0.7392 - acc: 0.7437 - val_loss: 0.8002 - val_acc: 0.7059\n",
      "Epoch 21/100\n",
      "7646/7646 - 1s - loss: 0.7512 - acc: 0.7469 - val_loss: 0.7886 - val_acc: 0.7091\n",
      "Epoch 22/100\n",
      "7646/7646 - 1s - loss: 0.7142 - acc: 0.7587 - val_loss: 0.7980 - val_acc: 0.7106\n",
      "Epoch 23/100\n",
      "7646/7646 - 0s - loss: 1.0811 - acc: 0.7594 - val_loss: 0.7826 - val_acc: 0.7190\n",
      "Epoch 24/100\n",
      "7646/7646 - 1s - loss: 0.7075 - acc: 0.7633 - val_loss: 0.7784 - val_acc: 0.7138\n",
      "Epoch 25/100\n",
      "7646/7646 - 1s - loss: 0.6672 - acc: 0.7715 - val_loss: 0.7726 - val_acc: 0.7216\n",
      "Epoch 26/100\n",
      "7646/7646 - 1s - loss: 0.6748 - acc: 0.7744 - val_loss: 0.7846 - val_acc: 0.7258\n",
      "Epoch 27/100\n",
      "7646/7646 - 1s - loss: 0.6245 - acc: 0.7736 - val_loss: 0.7655 - val_acc: 0.7237\n",
      "Epoch 28/100\n",
      "7646/7646 - 0s - loss: 0.9115 - acc: 0.7850 - val_loss: 0.7692 - val_acc: 0.7289\n",
      "Epoch 29/100\n",
      "7646/7646 - 0s - loss: 0.6000 - acc: 0.7851 - val_loss: 0.7772 - val_acc: 0.7248\n",
      "Epoch 30/100\n",
      "7646/7646 - 1s - loss: 0.5932 - acc: 0.7911 - val_loss: 0.7518 - val_acc: 0.7321\n",
      "Epoch 31/100\n",
      "7646/7646 - 0s - loss: 0.5872 - acc: 0.7971 - val_loss: 0.7495 - val_acc: 0.7394\n",
      "Epoch 32/100\n",
      "7646/7646 - 0s - loss: 0.5658 - acc: 0.7990 - val_loss: 0.7920 - val_acc: 0.7206\n",
      "Epoch 33/100\n",
      "7646/7646 - 0s - loss: 0.6099 - acc: 0.8080 - val_loss: 0.7456 - val_acc: 0.7373\n",
      "Epoch 34/100\n",
      "7646/7646 - 0s - loss: 0.6418 - acc: 0.8084 - val_loss: 0.7324 - val_acc: 0.7363\n",
      "Epoch 35/100\n",
      "7646/7646 - 0s - loss: 0.6543 - acc: 0.8089 - val_loss: 0.7464 - val_acc: 0.7462\n",
      "Epoch 36/100\n",
      "7646/7646 - 1s - loss: 0.8358 - acc: 0.8178 - val_loss: 0.7443 - val_acc: 0.7504\n",
      "Epoch 37/100\n",
      "7646/7646 - 1s - loss: 0.5229 - acc: 0.8186 - val_loss: 0.7735 - val_acc: 0.7410\n",
      "Epoch 38/100\n",
      "7646/7646 - 1s - loss: 0.6127 - acc: 0.8229 - val_loss: 0.7478 - val_acc: 0.7478\n",
      "Epoch 39/100\n",
      "7646/7646 - 1s - loss: 0.5354 - acc: 0.8308 - val_loss: 0.7515 - val_acc: 0.7415\n",
      "Epoch 40/100\n",
      "7646/7646 - 0s - loss: 0.5116 - acc: 0.8247 - val_loss: 0.7333 - val_acc: 0.7525\n",
      "Epoch 41/100\n",
      "7646/7646 - 0s - loss: 0.5032 - acc: 0.8313 - val_loss: 0.7294 - val_acc: 0.7493\n",
      "Epoch 42/100\n",
      "7646/7646 - 0s - loss: 0.4896 - acc: 0.8306 - val_loss: 0.7378 - val_acc: 0.7478\n",
      "Epoch 43/100\n",
      "7646/7646 - 0s - loss: 0.4715 - acc: 0.8377 - val_loss: 0.7526 - val_acc: 0.7462\n",
      "Epoch 44/100\n",
      "7646/7646 - 0s - loss: 0.4780 - acc: 0.8347 - val_loss: 0.7650 - val_acc: 0.7504\n",
      "Epoch 45/100\n",
      "7646/7646 - 0s - loss: 0.4575 - acc: 0.8437 - val_loss: 0.7619 - val_acc: 0.7598\n",
      "Epoch 46/100\n",
      "7646/7646 - 1s - loss: 0.4549 - acc: 0.8451 - val_loss: 0.7481 - val_acc: 0.7635\n",
      "Epoch 47/100\n",
      "7646/7646 - 1s - loss: 0.4505 - acc: 0.8454 - val_loss: 0.7367 - val_acc: 0.7514\n",
      "Epoch 48/100\n",
      "7646/7646 - 1s - loss: 0.4453 - acc: 0.8472 - val_loss: 0.7664 - val_acc: 0.7603\n",
      "Epoch 49/100\n",
      "7646/7646 - 1s - loss: 0.5348 - acc: 0.8510 - val_loss: 0.7459 - val_acc: 0.7619\n",
      "Epoch 50/100\n",
      "7646/7646 - 1s - loss: 0.4353 - acc: 0.8536 - val_loss: 0.7549 - val_acc: 0.7650\n",
      "Epoch 51/100\n",
      "7646/7646 - 1s - loss: 0.4491 - acc: 0.8553 - val_loss: 0.7653 - val_acc: 0.7656\n",
      "Epoch 52/100\n",
      "7646/7646 - 1s - loss: 0.4409 - acc: 0.8557 - val_loss: 0.8030 - val_acc: 0.7577\n",
      "Epoch 53/100\n",
      "7646/7646 - 1s - loss: 0.4848 - acc: 0.8598 - val_loss: 0.7697 - val_acc: 0.7713\n",
      "Epoch 54/100\n",
      "7646/7646 - 1s - loss: 0.4245 - acc: 0.8576 - val_loss: 0.7454 - val_acc: 0.7650\n",
      "Epoch 55/100\n",
      "7646/7646 - 1s - loss: 0.4017 - acc: 0.8646 - val_loss: 0.7840 - val_acc: 0.7713\n",
      "Epoch 56/100\n",
      "7646/7646 - 0s - loss: 0.4060 - acc: 0.8650 - val_loss: 0.7499 - val_acc: 0.7713\n",
      "Epoch 57/100\n",
      "7646/7646 - 1s - loss: 0.4095 - acc: 0.8614 - val_loss: 0.7853 - val_acc: 0.7582\n",
      "Epoch 58/100\n",
      "7646/7646 - 0s - loss: 0.4071 - acc: 0.8623 - val_loss: 0.7934 - val_acc: 0.7703\n",
      "Epoch 59/100\n",
      "7646/7646 - 0s - loss: 0.3958 - acc: 0.8696 - val_loss: 0.7925 - val_acc: 0.7661\n",
      "Epoch 60/100\n",
      "7646/7646 - 0s - loss: 0.4777 - acc: 0.8652 - val_loss: 0.7823 - val_acc: 0.7724\n",
      "Epoch 61/100\n",
      "7646/7646 - 0s - loss: 0.4231 - acc: 0.8710 - val_loss: 0.8095 - val_acc: 0.7729\n",
      "Epoch 62/100\n",
      "7646/7646 - 1s - loss: 0.3920 - acc: 0.8705 - val_loss: 0.7586 - val_acc: 0.7734\n",
      "Epoch 63/100\n",
      "7646/7646 - 1s - loss: 0.3851 - acc: 0.8712 - val_loss: 0.7805 - val_acc: 0.7671\n",
      "Epoch 64/100\n",
      "7646/7646 - 1s - loss: 0.3846 - acc: 0.8730 - val_loss: 0.7807 - val_acc: 0.7750\n",
      "Epoch 65/100\n",
      "7646/7646 - 1s - loss: 0.3700 - acc: 0.8777 - val_loss: 0.7980 - val_acc: 0.7823\n",
      "Epoch 66/100\n",
      "7646/7646 - 0s - loss: 0.4380 - acc: 0.8752 - val_loss: 0.8116 - val_acc: 0.7807\n",
      "Epoch 67/100\n",
      "7646/7646 - 0s - loss: 0.3710 - acc: 0.8788 - val_loss: 0.8052 - val_acc: 0.7739\n",
      "Epoch 68/100\n",
      "7646/7646 - 0s - loss: 0.6142 - acc: 0.8798 - val_loss: 0.8587 - val_acc: 0.7755\n",
      "Epoch 69/100\n",
      "7646/7646 - 1s - loss: 0.3710 - acc: 0.8772 - val_loss: 0.8397 - val_acc: 0.7734\n",
      "Epoch 70/100\n",
      "7646/7646 - 1s - loss: 0.3625 - acc: 0.8805 - val_loss: 0.8284 - val_acc: 0.7797\n",
      "Epoch 71/100\n",
      "7646/7646 - 1s - loss: 0.3610 - acc: 0.8819 - val_loss: 0.8133 - val_acc: 0.7786\n",
      "Epoch 72/100\n",
      "7646/7646 - 1s - loss: 0.3585 - acc: 0.8824 - val_loss: 0.8346 - val_acc: 0.7786\n",
      "Epoch 73/100\n",
      "7646/7646 - 0s - loss: 0.3611 - acc: 0.8815 - val_loss: 0.7986 - val_acc: 0.7839\n",
      "Epoch 74/100\n",
      "7646/7646 - 0s - loss: 0.4225 - acc: 0.8815 - val_loss: 0.7818 - val_acc: 0.7766\n",
      "Epoch 75/100\n",
      "7646/7646 - 0s - loss: 0.3601 - acc: 0.8852 - val_loss: 0.8124 - val_acc: 0.7818\n",
      "Epoch 76/100\n",
      "7646/7646 - 0s - loss: 0.3526 - acc: 0.8840 - val_loss: 0.8150 - val_acc: 0.7875\n",
      "Epoch 77/100\n",
      "7646/7646 - 0s - loss: 0.3467 - acc: 0.8846 - val_loss: 0.8671 - val_acc: 0.7640\n",
      "Epoch 78/100\n",
      "7646/7646 - 1s - loss: 0.3506 - acc: 0.8845 - val_loss: 0.8258 - val_acc: 0.7729\n",
      "Epoch 79/100\n",
      "7646/7646 - 0s - loss: 0.3404 - acc: 0.8871 - val_loss: 0.8332 - val_acc: 0.7729\n",
      "Epoch 80/100\n",
      "7646/7646 - 0s - loss: 0.3721 - acc: 0.8865 - val_loss: 0.8729 - val_acc: 0.7739\n",
      "Epoch 81/100\n",
      "7646/7646 - 0s - loss: 0.3400 - acc: 0.8900 - val_loss: 0.7941 - val_acc: 0.7860\n",
      "Epoch 82/100\n",
      "7646/7646 - 1s - loss: 0.3461 - acc: 0.8890 - val_loss: 0.9025 - val_acc: 0.7786\n",
      "Epoch 83/100\n",
      "7646/7646 - 1s - loss: 0.3391 - acc: 0.8888 - val_loss: 0.8363 - val_acc: 0.7802\n",
      "Epoch 84/100\n",
      "7646/7646 - 1s - loss: 0.3548 - acc: 0.8826 - val_loss: 0.8324 - val_acc: 0.7928\n",
      "Epoch 85/100\n",
      "7646/7646 - 1s - loss: 1.7841 - acc: 0.8918 - val_loss: 0.8354 - val_acc: 0.7849\n",
      "Epoch 86/100\n",
      "7646/7646 - 1s - loss: 0.3983 - acc: 0.8878 - val_loss: 0.8831 - val_acc: 0.7786\n",
      "Epoch 87/100\n",
      "7646/7646 - 1s - loss: 0.3385 - acc: 0.8890 - val_loss: 0.8485 - val_acc: 0.7813\n"
     ]
    },
    {
     "name": "stdout",
     "output_type": "stream",
     "text": [
      "Epoch 88/100\n",
      "7646/7646 - 0s - loss: 0.3287 - acc: 0.8943 - val_loss: 0.8992 - val_acc: 0.7902\n",
      "Epoch 89/100\n",
      "7646/7646 - 0s - loss: 0.3296 - acc: 0.8943 - val_loss: 0.8365 - val_acc: 0.7881\n",
      "Epoch 90/100\n",
      "7646/7646 - 1s - loss: 0.3354 - acc: 0.8892 - val_loss: 0.8498 - val_acc: 0.7975\n",
      "Epoch 91/100\n",
      "7646/7646 - 1s - loss: 0.3253 - acc: 0.8925 - val_loss: 0.8832 - val_acc: 0.7917\n",
      "Epoch 92/100\n",
      "7646/7646 - 1s - loss: 0.3766 - acc: 0.8900 - val_loss: 0.8230 - val_acc: 0.7912\n",
      "Epoch 93/100\n",
      "7646/7646 - 1s - loss: 0.5317 - acc: 0.8897 - val_loss: 0.8502 - val_acc: 0.7870\n",
      "Epoch 94/100\n",
      "7646/7646 - 1s - loss: 0.9749 - acc: 0.8926 - val_loss: 0.8998 - val_acc: 0.7760\n",
      "Epoch 95/100\n",
      "7646/7646 - 1s - loss: 0.3246 - acc: 0.8931 - val_loss: 0.9139 - val_acc: 0.7771\n",
      "Epoch 96/100\n",
      "7646/7646 - 1s - loss: 0.3566 - acc: 0.8903 - val_loss: 0.8514 - val_acc: 0.7891\n",
      "Epoch 97/100\n",
      "7646/7646 - 0s - loss: 0.5921 - acc: 0.8956 - val_loss: 0.8214 - val_acc: 0.7959\n",
      "Epoch 98/100\n",
      "7646/7646 - 0s - loss: 0.3634 - acc: 0.8973 - val_loss: 0.9372 - val_acc: 0.7818\n",
      "Epoch 99/100\n",
      "7646/7646 - 0s - loss: 1.0230 - acc: 0.8948 - val_loss: 0.8834 - val_acc: 0.7938\n",
      "Epoch 100/100\n",
      "7646/7646 - 0s - loss: 0.3179 - acc: 0.8975 - val_loss: 0.8510 - val_acc: 0.8006\n"
     ]
    }
   ],
   "source": [
    "history = model.fit(X_train, Y_train, epochs=100,\n",
    "           verbose=2,\n",
    "           validation_data=(X_test, Y_test))"
   ]
  },
  {
   "cell_type": "code",
   "execution_count": 16,
   "metadata": {},
   "outputs": [
    {
     "data": {
      "text/html": [
       "<div>\n",
       "<style scoped>\n",
       "    .dataframe tbody tr th:only-of-type {\n",
       "        vertical-align: middle;\n",
       "    }\n",
       "\n",
       "    .dataframe tbody tr th {\n",
       "        vertical-align: top;\n",
       "    }\n",
       "\n",
       "    .dataframe thead th {\n",
       "        text-align: right;\n",
       "    }\n",
       "</style>\n",
       "<table border=\"1\" class=\"dataframe\">\n",
       "  <thead>\n",
       "    <tr style=\"text-align: right;\">\n",
       "      <th></th>\n",
       "      <th>loss</th>\n",
       "      <th>acc</th>\n",
       "      <th>val_loss</th>\n",
       "      <th>val_acc</th>\n",
       "    </tr>\n",
       "  </thead>\n",
       "  <tbody>\n",
       "    <tr>\n",
       "      <td>95</td>\n",
       "      <td>0.356606</td>\n",
       "      <td>0.890269</td>\n",
       "      <td>0.851400</td>\n",
       "      <td>0.789116</td>\n",
       "    </tr>\n",
       "    <tr>\n",
       "      <td>96</td>\n",
       "      <td>0.592128</td>\n",
       "      <td>0.895632</td>\n",
       "      <td>0.821404</td>\n",
       "      <td>0.795918</td>\n",
       "    </tr>\n",
       "    <tr>\n",
       "      <td>97</td>\n",
       "      <td>0.363442</td>\n",
       "      <td>0.897332</td>\n",
       "      <td>0.937238</td>\n",
       "      <td>0.781790</td>\n",
       "    </tr>\n",
       "    <tr>\n",
       "      <td>98</td>\n",
       "      <td>1.022952</td>\n",
       "      <td>0.894847</td>\n",
       "      <td>0.883383</td>\n",
       "      <td>0.793825</td>\n",
       "    </tr>\n",
       "    <tr>\n",
       "      <td>99</td>\n",
       "      <td>0.317943</td>\n",
       "      <td>0.897463</td>\n",
       "      <td>0.851015</td>\n",
       "      <td>0.800628</td>\n",
       "    </tr>\n",
       "  </tbody>\n",
       "</table>\n",
       "</div>"
      ],
      "text/plain": [
       "        loss       acc  val_loss   val_acc\n",
       "95  0.356606  0.890269  0.851400  0.789116\n",
       "96  0.592128  0.895632  0.821404  0.795918\n",
       "97  0.363442  0.897332  0.937238  0.781790\n",
       "98  1.022952  0.894847  0.883383  0.793825\n",
       "99  0.317943  0.897463  0.851015  0.800628"
      ]
     },
     "execution_count": 16,
     "metadata": {},
     "output_type": "execute_result"
    }
   ],
   "source": [
    "hist = pd.DataFrame(history.history)\n",
    "hist.tail()"
   ]
  },
  {
   "cell_type": "code",
   "execution_count": 15,
   "metadata": {},
   "outputs": [
    {
     "data": {
      "image/png": "[encoded data removed]",
      "text/plain": [
       "<Figure size 432x288 with 1 Axes>"
      ]
     },
     "metadata": {
      "needs_background": "light"
     },
     "output_type": "display_data"
    },
    {
     "data": {
      "image/png": "[encoded data removed]",
      "text/plain": [
       "<Figure size 432x288 with 1 Axes>"
      ]
     },
     "metadata": {
      "needs_background": "light"
     },
     "output_type": "display_data"
    }
   ],
   "source": [
    " def plot_history(history): \n",
    "        hist = pd.DataFrame(history.history)\n",
    "        hist['epoch'] = history.epoch\n",
    "        plt.figure()\n",
    "        plt.xlabel('Epoch')\n",
    "        plt.ylabel('loss')\n",
    "        plt.plot(hist['epoch'], hist['loss'], label='Train loss')\n",
    "        plt.plot(hist['epoch'], hist['val_loss'], label = 'Val loss')\n",
    "        plt.legend()\n",
    "\n",
    "        plt.figure()\n",
    "        plt.xlabel('Epoch')\n",
    "        plt.ylabel('acc')\n",
    "        plt.plot(hist['epoch'], hist['acc'],label='Train Acc')\n",
    "        plt.plot(hist['epoch'], hist['val_acc'],label = 'Test acc')\n",
    "        plt.legend()\n",
    "        plt.show()\n",
    "\n",
    "\n",
    "plot_history(history)"
   ]
  },
  {
   "cell_type": "code",
   "execution_count": 14,
   "metadata": {},
   "outputs": [
    {
     "name": "stdout",
     "output_type": "stream",
     "text": [
      "1911/1911 [==============================] - 0s 31us/sample - loss: 0.8510 - acc: 0.8006\n"
     ]
    }
   ],
   "source": [
    "score = model.evaluate(X_test, Y_test, batch_size=128)"
   ]
  },
  {
   "cell_type": "code",
   "execution_count": null,
   "metadata": {},
   "outputs": [],
   "source": []
  }
 ],
 "metadata": {
  "kernelspec": {
   "display_name": "Python 3",
   "language": "python",
   "name": "python3"
  },
  "language_info": {
   "codemirror_mode": {
    "name": "ipython",
    "version": 3
   },
   "file_extension": ".py",
   "mimetype": "text/x-python",
   "name": "python",
   "nbconvert_exporter": "python",
   "pygments_lexer": "ipython3",
   "version": "3.6.8"
  }
 },
 "nbformat": 4,
 "nbformat_minor": 2
}
