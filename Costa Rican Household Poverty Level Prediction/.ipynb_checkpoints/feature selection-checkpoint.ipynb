{
 "cells": [
  {
   "cell_type": "code",
   "execution_count": 1,
   "metadata": {},
   "outputs": [],
   "source": [
    "# from sklearn.feature_selection import SelectKBest, f_classif\n",
    "# feature_cols = data.columns.drop('Target')\n",
    "# # Keep 5 features\n",
    "# selector = SelectKBest(f_classif, k=5)\n",
    "# selector.fit(data[feature_cols], data[\"Target\"])\n",
    "\n",
    "# # Get the raw p-values for each feature, and transform from p-values into scores\n",
    "# scores = -np.log10(selector.pvalues_)\n",
    "\n",
    "# # Plot the scores.  See how \"Pclass\", \"Sex\", \"Title\", and \"Fare\" are the best?\n",
    "# plt.bar(range(len(feature_cols)), scores)\n",
    "# plt.xticks(range(len(feature_cols)), feature_cols, rotation='vertical')\n",
    "# plt.show()"
   ]
  },
  {
   "cell_type": "code",
   "execution_count": 2,
   "metadata": {},
   "outputs": [],
   "source": [
    "# from sklearn.feature_selection import chi2\n",
    "# bestfeatures = SelectKBest(score_func=chi2, k=10)\n",
    "\n",
    "# fit = bestfeatures.fit(data[feature_cols],data['Target'])\n",
    "# dfscores = pd.DataFrame(fit.scores_)\n",
    "# dfscores.shape\n",
    "# dfcolumns = pd.DataFrame(feature_cols)\n",
    "# dfcolumns.shape\n",
    "# # #concat two dataframes for better visualization \n",
    "# featureScores = pd.concat([dfcolumns,dfscores],axis=1)\n",
    "# featureScores.shape\n",
    "# featureScores.head()\n",
    "# featureScores.columns = ['columns','Score']\n"
   ]
  },
  {
   "cell_type": "code",
   "execution_count": 3,
   "metadata": {},
   "outputs": [],
   "source": [
    "# data_selected = data[featureScores.nlargest(70,'Score')['columns']]"
   ]
  },
  {
   "cell_type": "code",
   "execution_count": 4,
   "metadata": {},
   "outputs": [],
   "source": [
    "# data_selected['Target'] = data['Target']"
   ]
  },
  {
   "cell_type": "code",
   "execution_count": null,
   "metadata": {},
   "outputs": [],
   "source": []
  }
 ],
 "metadata": {
  "kernelspec": {
   "display_name": "Python 3",
   "language": "python",
   "name": "python3"
  },
  "language_info": {
   "codemirror_mode": {
    "name": "ipython",
    "version": 3
   },
   "file_extension": ".py",
   "mimetype": "text/x-python",
   "name": "python",
   "nbconvert_exporter": "python",
   "pygments_lexer": "ipython3",
   "version": "3.6.8"
  }
 },
 "nbformat": 4,
 "nbformat_minor": 2
}
