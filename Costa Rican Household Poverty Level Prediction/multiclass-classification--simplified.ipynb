{
 "cells": [
  {
   "cell_type": "code",
   "execution_count": 221,
   "metadata": {},
   "outputs": [],
   "source": [
    "import pandas as pd\n",
    "from matplotlib import pyplot as plt\n",
    "%matplotlib inline\n",
    "import random\n",
    "random.seed(10)"
   ]
  },
  {
   "cell_type": "code",
   "execution_count": 222,
   "metadata": {},
   "outputs": [],
   "source": [
    "pd.set_option('display.max_columns', None)\n",
    "pd.set_option('display.max_rows', None)"
   ]
  },
  {
   "cell_type": "code",
   "execution_count": 223,
   "metadata": {},
   "outputs": [],
   "source": [
    "data = pd.read_csv(\"C:/Santhosh/AIML/Github/Machine-Learning/Costa Rican Household Poverty Level Prediction/data/train.csv\")"
   ]
  },
  {
   "cell_type": "code",
   "execution_count": 224,
   "metadata": {},
   "outputs": [],
   "source": [
    "columns_del_list = ['idhogar', 'Id','dependency','tamhog','r4t3', 'tamviv', 'r4h1', 'hogar_total','r4h2', 'r4h3', 'r4m1', 'r4m2','r4m3', 'hogar_nin', 'hogar_adul', 'hogar_mayor', 'SQBescolari','SQBage','SQBhogar_total','SQBedjefe','SQBhogar_nin','SQBovercrowding','SQBdependency','SQBmeaned','agesq']"
   ]
  },
  {
   "cell_type": "code",
   "execution_count": 225,
   "metadata": {},
   "outputs": [],
   "source": [
    "def drop_columns(data):\n",
    "    data.drop(columns_del_list, axis=1, inplace=True)\n",
    "#  Dealing with null or na\n",
    "def replce_na(data):\n",
    "    data['v2a1'].fillna(0, inplace=True)\n",
    "    data['v18q1'].fillna(0, inplace=True)\n",
    "    data['rez_esc'].fillna(0, inplace=True)\n",
    "    data['meaneduc'].fillna(data['meaneduc'].median(), inplace=True)\n",
    "def get_cat_cols(data):\n",
    "    cols = data.columns\n",
    "    num_cols = data._get_numeric_data().columns\n",
    "    cat_columns = list(set(cols) - set(num_cols))\n",
    "    return cat_columns\n",
    "def encode_data(data):\n",
    "    data['edjefe'] = data['edjefe'].replace(['yes'], 1)\n",
    "    data['edjefe'] = data['edjefe'].replace(['no'], 0)\n",
    "    data['edjefa'] = data['edjefa'].replace(['yes'], 1)\n",
    "    data['edjefa'] = data['edjefa'].replace(['no'], 0)"
   ]
  },
  {
   "cell_type": "code",
   "execution_count": 226,
   "metadata": {},
   "outputs": [],
   "source": [
    "drop_columns(data)\n",
    "replce_na(data)\n",
    "get_cat_cols(data)\n",
    "encode_data(data)"
   ]
  },
  {
   "cell_type": "code",
   "execution_count": 227,
   "metadata": {},
   "outputs": [
    {
     "name": "stdout",
     "output_type": "stream",
     "text": [
      "Target 1 -  755\n",
      "Target 2 -  1597\n",
      "Target 3 -  1209\n",
      "Target 4 -  5996\n"
     ]
    }
   ],
   "source": [
    "# More biased towards value '4'\n",
    "print(\"Target 1 - \", data[data.Target==1].shape[0])\n",
    "print(\"Target 2 - \", data[data.Target==2].shape[0])\n",
    "print(\"Target 3 - \", data[data.Target==3].shape[0])\n",
    "print(\"Target 4 - \", data[data.Target==4].shape[0])"
   ]
  },
  {
   "cell_type": "code",
   "execution_count": 228,
   "metadata": {},
   "outputs": [],
   "source": [
    "targ_1 = data[data.Target==1].sample(frac=0.8)\n",
    "targ_2 = data[data.Target==2].sample(frac=0.8)\n",
    "targ_3 = data[data.Target==3].sample(frac=0.8)\n",
    "targ_4 = data[data.Target==4].sample(frac=0.8)\n",
    "train = pd.DataFrame\n",
    "train  = pd.concat([targ_1, targ_2, targ_3, targ_4])\n",
    "train = train.sample(frac=1) # Shuffle data\n",
    "test = data.loc[~data.index.isin(train.index)]"
   ]
  },
  {
   "cell_type": "code",
   "execution_count": 229,
   "metadata": {},
   "outputs": [],
   "source": [
    "X_train = train.drop(['Target'], axis =1)\n",
    "Y_train = train['Target']\n",
    "X_test = test.drop(['Target'], axis =1)\n",
    "Y_test = test['Target']"
   ]
  },
  {
   "cell_type": "code",
   "execution_count": 230,
   "metadata": {},
   "outputs": [
    {
     "data": {
      "text/plain": [
       "KNeighborsClassifier(algorithm='auto', leaf_size=30, metric='minkowski',\n",
       "                     metric_params=None, n_jobs=None, n_neighbors=70, p=2,\n",
       "                     weights='uniform')"
      ]
     },
     "execution_count": 230,
     "metadata": {},
     "output_type": "execute_result"
    }
   ],
   "source": [
    "from sklearn.neighbors import KNeighborsClassifier\n",
    "knn = KNeighborsClassifier(70)\n",
    "knn.fit(X_train, Y_train)"
   ]
  },
  {
   "cell_type": "code",
   "execution_count": 231,
   "metadata": {},
   "outputs": [
    {
     "name": "stdout",
     "output_type": "stream",
     "text": [
      "Train score for K-70 : 65.17133141511901\n",
      "Train score for K-70 : 64.93982208267923\n"
     ]
    }
   ],
   "source": [
    "print('Train score for K-70 :', knn.score(X_train, Y_train)*100)\n",
    "print('Train score for K-70 :',knn.score(X_test, Y_test)*100)"
   ]
  },
  {
   "cell_type": "code",
   "execution_count": 232,
   "metadata": {},
   "outputs": [],
   "source": [
    "import pickle\n",
    "knnPickle = open('knnpickle_file', 'wb')\n",
    "pickle.dump(knn, knnPickle)"
   ]
  },
  {
   "cell_type": "code",
   "execution_count": 233,
   "metadata": {},
   "outputs": [],
   "source": [
    "submission_x = pd.read_csv('C:/Santhosh/AIML/Github/Machine-Learning/Costa Rican Household Poverty Level Prediction/data/test.csv')"
   ]
  },
  {
   "cell_type": "code",
   "execution_count": 234,
   "metadata": {},
   "outputs": [],
   "source": [
    "drop_columns(submission_x)\n",
    "replce_na(submission_x)\n",
    "get_cat_cols(submission_x)\n",
    "encode_data(submission_x)"
   ]
  },
  {
   "cell_type": "code",
   "execution_count": 235,
   "metadata": {},
   "outputs": [],
   "source": [
    "loaded_model = pickle.load(open('knnpickle_file', 'rb'))\n",
    "result = loaded_model.predict(submission_x)"
   ]
  },
  {
   "cell_type": "code",
   "execution_count": 236,
   "metadata": {},
   "outputs": [],
   "source": [
    "sample_sub = pd.read_csv('C:\\Santhosh\\AIML\\Github\\Machine-Learning\\Costa Rican Household Poverty Level Prediction\\data\\sample_submission.csv')"
   ]
  },
  {
   "cell_type": "code",
   "execution_count": 237,
   "metadata": {},
   "outputs": [],
   "source": [
    "sample_sub.Target = result"
   ]
  },
  {
   "cell_type": "code",
   "execution_count": 238,
   "metadata": {},
   "outputs": [],
   "source": [
    "sub = pd.DataFrame(columns=['Id','Target'])\n",
    "sub.Id = sample_sub.Id\n",
    "sub.Target = result\n",
    "sub.to_csv('submission.csv', encoding='utf-8', index=False)"
   ]
  },
  {
   "cell_type": "code",
   "execution_count": null,
   "metadata": {},
   "outputs": [],
   "source": []
  }
 ],
 "metadata": {
  "kernelspec": {
   "display_name": "Python 3",
   "language": "python",
   "name": "python3"
  },
  "language_info": {
   "codemirror_mode": {
    "name": "ipython",
    "version": 3
   },
   "file_extension": ".py",
   "mimetype": "text/x-python",
   "name": "python",
   "nbconvert_exporter": "python",
   "pygments_lexer": "ipython3",
   "version": "3.6.8"
  }
 },
 "nbformat": 4,
 "nbformat_minor": 2
}
