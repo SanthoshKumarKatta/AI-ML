{
 "cells": [
  {
   "cell_type": "code",
   "execution_count": 136,
   "metadata": {},
   "outputs": [],
   "source": [
    "import pandas as pd\n",
    "from matplotlib import pyplot as plt\n",
    "%matplotlib inline\n",
    "import random\n",
    "random.seed(10)\n",
    "import data_pre as data_pre"
   ]
  },
  {
   "cell_type": "code",
   "execution_count": 137,
   "metadata": {},
   "outputs": [],
   "source": [
    "pd.set_option('display.max_columns', None)\n",
    "pd.set_option('display.max_rows', None)"
   ]
  },
  {
   "cell_type": "code",
   "execution_count": 138,
   "metadata": {},
   "outputs": [],
   "source": [
    "data = pd.read_csv(\"C:/Santhosh/AIML/Github/Machine-Learning/Costa Rican Household Poverty Level Prediction/data/train.csv\")"
   ]
  },
  {
   "cell_type": "code",
   "execution_count": 139,
   "metadata": {},
   "outputs": [],
   "source": [
    "del_cols = ['idhogar', 'Id','dependency','tamhog','r4t3', 'tamviv', 'r4h1', 'hogar_total','r4h2', 'r4h3', 'r4m1', 'r4m2','r4m3', 'hogar_nin', 'hogar_adul', 'hogar_mayor', 'SQBescolari','SQBage','SQBhogar_total','SQBedjefe','SQBhogar_nin','SQBovercrowding','SQBdependency','SQBmeaned','agesq']"
   ]
  },
  {
   "cell_type": "code",
   "execution_count": 140,
   "metadata": {},
   "outputs": [],
   "source": [
    "data_pre.drop_columns(data,del_cols)\n",
    "data_pre.replce_na(data)\n",
    "data_pre.get_cat_cols(data)\n",
    "data_pre.encode_data(data)\n",
    "train, test = data_pre.train_test_split(data)"
   ]
  },
  {
   "cell_type": "code",
   "execution_count": 141,
   "metadata": {},
   "outputs": [],
   "source": [
    "X_train = train.drop(['Target'], axis =1)\n",
    "Y_train = train['Target']\n",
    "X_test = test.drop(['Target'], axis =1)\n",
    "Y_test = test['Target']"
   ]
  },
  {
   "cell_type": "code",
   "execution_count": 142,
   "metadata": {},
   "outputs": [],
   "source": [
    "from keras.utils.np_utils import to_categorical\n",
    "Y_train = to_categorical(Y_train)\n",
    "Y_test = to_categorical(Y_test)"
   ]
  },
  {
   "cell_type": "code",
   "execution_count": 143,
   "metadata": {},
   "outputs": [],
   "source": [
    "from tensorflow import keras\n",
    "from tensorflow.keras import layers\n",
    "# from tensorflow.keras.metrics import f1\n",
    "model = keras.Sequential()"
   ]
  },
  {
   "cell_type": "code",
   "execution_count": 144,
   "metadata": {},
   "outputs": [],
   "source": [
    "model.add(layers.Dense(117, input_shape=(117,)))\n",
    "model.add(layers.Activation('relu'))\n",
    "model.add(layers.Dense(100))\n",
    "model.add(layers.Activation('relu'))\n",
    "model.add(layers.Dropout(0.3))\n",
    "model.add(layers.Dense(15))\n",
    "model.add(layers.Activation('relu'))\n",
    "model.add(layers.Dense(5))\n",
    "model.add(layers.Activation('softmax')) "
   ]
  },
  {
   "cell_type": "code",
   "execution_count": 145,
   "metadata": {},
   "outputs": [],
   "source": [
    "model.compile(loss='categorical_crossentropy', optimizer='adam', metrics=['accuracy'])"
   ]
  },
  {
   "cell_type": "code",
   "execution_count": 146,
   "metadata": {},
   "outputs": [
    {
     "name": "stdout",
     "output_type": "stream",
     "text": [
      "Train on 7646 samples, validate on 1911 samples\n",
      "Epoch 1/100\n",
      "7646/7646 - 1s - loss: 152.7649 - acc: 0.5909 - val_loss: 1.1346 - val_acc: 0.6374\n",
      "Epoch 2/100\n",
      "7646/7646 - 1s - loss: 9.5641 - acc: 0.6341 - val_loss: 1.0624 - val_acc: 0.6504\n",
      "Epoch 3/100\n",
      "7646/7646 - 1s - loss: 2.4902 - acc: 0.6465 - val_loss: 1.0335 - val_acc: 0.6473\n",
      "Epoch 4/100\n",
      "7646/7646 - 1s - loss: 2.2543 - acc: 0.6465 - val_loss: 0.9982 - val_acc: 0.6520\n",
      "Epoch 5/100\n",
      "7646/7646 - 0s - loss: 1.5521 - acc: 0.6579 - val_loss: 0.9738 - val_acc: 0.6494\n",
      "Epoch 6/100\n",
      "7646/7646 - 0s - loss: 1.5613 - acc: 0.6613 - val_loss: 0.9597 - val_acc: 0.6588\n",
      "Epoch 7/100\n",
      "7646/7646 - 0s - loss: 1.4226 - acc: 0.6562 - val_loss: 0.9368 - val_acc: 0.6567\n",
      "Epoch 8/100\n",
      "7646/7646 - 0s - loss: 1.0170 - acc: 0.6588 - val_loss: 0.9294 - val_acc: 0.6672\n",
      "Epoch 9/100\n",
      "7646/7646 - 0s - loss: 1.3408 - acc: 0.6653 - val_loss: 0.9156 - val_acc: 0.6635\n",
      "Epoch 10/100\n",
      "7646/7646 - 0s - loss: 1.0141 - acc: 0.6721 - val_loss: 0.9210 - val_acc: 0.6620\n",
      "Epoch 11/100\n",
      "7646/7646 - 0s - loss: 0.9490 - acc: 0.6725 - val_loss: 0.9016 - val_acc: 0.6641\n",
      "Epoch 12/100\n",
      "7646/7646 - 0s - loss: 0.8897 - acc: 0.6818 - val_loss: 0.8945 - val_acc: 0.6714\n",
      "Epoch 13/100\n",
      "7646/7646 - 0s - loss: 1.1153 - acc: 0.6851 - val_loss: 0.8894 - val_acc: 0.6714\n",
      "Epoch 14/100\n",
      "7646/7646 - 0s - loss: 0.9185 - acc: 0.6940 - val_loss: 0.8783 - val_acc: 0.6766\n",
      "Epoch 15/100\n",
      "7646/7646 - 0s - loss: 0.9795 - acc: 0.6957 - val_loss: 0.8733 - val_acc: 0.6850\n",
      "Epoch 16/100\n",
      "7646/7646 - 0s - loss: 0.8203 - acc: 0.7029 - val_loss: 0.8833 - val_acc: 0.6735\n",
      "Epoch 17/100\n",
      "7646/7646 - 0s - loss: 0.9732 - acc: 0.7029 - val_loss: 0.8532 - val_acc: 0.6892\n",
      "Epoch 18/100\n",
      "7646/7646 - 0s - loss: 0.9218 - acc: 0.7123 - val_loss: 0.8598 - val_acc: 0.6881\n",
      "Epoch 19/100\n",
      "7646/7646 - 0s - loss: 0.7952 - acc: 0.7145 - val_loss: 0.8501 - val_acc: 0.6934\n",
      "Epoch 20/100\n",
      "7646/7646 - 0s - loss: 0.9393 - acc: 0.7188 - val_loss: 0.8510 - val_acc: 0.6954\n",
      "Epoch 21/100\n",
      "7646/7646 - 0s - loss: 0.8326 - acc: 0.7276 - val_loss: 0.8461 - val_acc: 0.6881\n",
      "Epoch 22/100\n",
      "7646/7646 - 0s - loss: 0.7482 - acc: 0.7335 - val_loss: 0.8157 - val_acc: 0.7080\n",
      "Epoch 23/100\n",
      "7646/7646 - 0s - loss: 1.1123 - acc: 0.7362 - val_loss: 0.8098 - val_acc: 0.7164\n",
      "Epoch 24/100\n",
      "7646/7646 - 0s - loss: 0.7425 - acc: 0.7410 - val_loss: 0.8110 - val_acc: 0.7101\n",
      "Epoch 25/100\n",
      "7646/7646 - 0s - loss: 0.7209 - acc: 0.7465 - val_loss: 0.8519 - val_acc: 0.6923\n",
      "Epoch 26/100\n",
      "7646/7646 - 0s - loss: 0.7025 - acc: 0.7539 - val_loss: 0.7904 - val_acc: 0.7227\n",
      "Epoch 27/100\n",
      "7646/7646 - 1s - loss: 0.7393 - acc: 0.7567 - val_loss: 0.7823 - val_acc: 0.7227\n",
      "Epoch 28/100\n",
      "7646/7646 - 0s - loss: 0.7430 - acc: 0.7642 - val_loss: 0.7922 - val_acc: 0.7190\n",
      "Epoch 29/100\n",
      "7646/7646 - 0s - loss: 0.7052 - acc: 0.7731 - val_loss: 0.7881 - val_acc: 0.7310\n",
      "Epoch 30/100\n",
      "7646/7646 - 0s - loss: 0.6485 - acc: 0.7781 - val_loss: 0.7769 - val_acc: 0.7326\n",
      "Epoch 31/100\n",
      "7646/7646 - 0s - loss: 0.6271 - acc: 0.7846 - val_loss: 0.7677 - val_acc: 0.7363\n",
      "Epoch 32/100\n",
      "7646/7646 - 1s - loss: 0.6222 - acc: 0.7846 - val_loss: 0.7521 - val_acc: 0.7399\n",
      "Epoch 33/100\n",
      "7646/7646 - 1s - loss: 0.7536 - acc: 0.7892 - val_loss: 0.7867 - val_acc: 0.7279\n",
      "Epoch 34/100\n",
      "7646/7646 - 1s - loss: 0.8212 - acc: 0.7897 - val_loss: 0.7501 - val_acc: 0.7457\n",
      "Epoch 35/100\n",
      "7646/7646 - 1s - loss: 0.6163 - acc: 0.7928 - val_loss: 0.7551 - val_acc: 0.7399\n",
      "Epoch 36/100\n",
      "7646/7646 - 0s - loss: 0.5838 - acc: 0.8002 - val_loss: 0.7369 - val_acc: 0.7410\n",
      "Epoch 37/100\n",
      "7646/7646 - 0s - loss: 0.5722 - acc: 0.8041 - val_loss: 0.7313 - val_acc: 0.7473\n",
      "Epoch 38/100\n",
      "7646/7646 - 1s - loss: 0.5650 - acc: 0.8063 - val_loss: 0.7356 - val_acc: 0.7488\n",
      "Epoch 39/100\n",
      "7646/7646 - 0s - loss: 0.5516 - acc: 0.8111 - val_loss: 0.7562 - val_acc: 0.7415\n",
      "Epoch 40/100\n",
      "7646/7646 - 0s - loss: 0.5463 - acc: 0.8130 - val_loss: 0.7748 - val_acc: 0.7405\n",
      "Epoch 41/100\n",
      "7646/7646 - 0s - loss: 0.5684 - acc: 0.8168 - val_loss: 0.7331 - val_acc: 0.7520\n",
      "Epoch 42/100\n",
      "7646/7646 - 0s - loss: 0.5274 - acc: 0.8221 - val_loss: 0.7389 - val_acc: 0.7535\n",
      "Epoch 43/100\n",
      "7646/7646 - 0s - loss: 0.5201 - acc: 0.8221 - val_loss: 0.7363 - val_acc: 0.7577\n",
      "Epoch 44/100\n",
      "7646/7646 - 0s - loss: 0.5103 - acc: 0.8289 - val_loss: 0.7249 - val_acc: 0.7645\n",
      "Epoch 45/100\n",
      "7646/7646 - 0s - loss: 0.5086 - acc: 0.8283 - val_loss: 0.7636 - val_acc: 0.7525\n",
      "Epoch 46/100\n",
      "7646/7646 - 1s - loss: 1.1235 - acc: 0.8287 - val_loss: 0.7551 - val_acc: 0.7525\n",
      "Epoch 47/100\n",
      "7646/7646 - 0s - loss: 0.4935 - acc: 0.8335 - val_loss: 0.7412 - val_acc: 0.7598\n",
      "Epoch 48/100\n",
      "7646/7646 - 1s - loss: 0.4829 - acc: 0.8370 - val_loss: 0.7074 - val_acc: 0.7703\n",
      "Epoch 49/100\n",
      "7646/7646 - 1s - loss: 0.4783 - acc: 0.8402 - val_loss: 0.7582 - val_acc: 0.7614\n",
      "Epoch 50/100\n",
      "7646/7646 - 1s - loss: 0.4807 - acc: 0.8389 - val_loss: 0.7115 - val_acc: 0.7614\n",
      "Epoch 51/100\n",
      "7646/7646 - 1s - loss: 0.4617 - acc: 0.8457 - val_loss: 0.7245 - val_acc: 0.7630\n",
      "Epoch 52/100\n",
      "7646/7646 - 0s - loss: 0.4599 - acc: 0.8488 - val_loss: 0.7767 - val_acc: 0.7598\n",
      "Epoch 53/100\n",
      "7646/7646 - 0s - loss: 0.4619 - acc: 0.8436 - val_loss: 0.7289 - val_acc: 0.7656\n",
      "Epoch 54/100\n",
      "7646/7646 - 0s - loss: 0.4509 - acc: 0.8492 - val_loss: 0.7922 - val_acc: 0.7598\n",
      "Epoch 55/100\n",
      "7646/7646 - 0s - loss: 0.4529 - acc: 0.8457 - val_loss: 0.7613 - val_acc: 0.7661\n",
      "Epoch 56/100\n",
      "7646/7646 - 0s - loss: 0.4435 - acc: 0.8517 - val_loss: 0.7098 - val_acc: 0.7713\n",
      "Epoch 57/100\n",
      "7646/7646 - 0s - loss: 0.4374 - acc: 0.8530 - val_loss: 0.7337 - val_acc: 0.7729\n",
      "Epoch 58/100\n",
      "7646/7646 - 1s - loss: 0.4335 - acc: 0.8574 - val_loss: 0.7554 - val_acc: 0.7792\n",
      "Epoch 59/100\n",
      "7646/7646 - 1s - loss: 0.4284 - acc: 0.8569 - val_loss: 0.7758 - val_acc: 0.7755\n",
      "Epoch 60/100\n",
      "7646/7646 - 0s - loss: 0.4395 - acc: 0.8519 - val_loss: 0.8090 - val_acc: 0.7645\n",
      "Epoch 61/100\n",
      "7646/7646 - 0s - loss: 0.4127 - acc: 0.8628 - val_loss: 0.7515 - val_acc: 0.7792\n",
      "Epoch 62/100\n",
      "7646/7646 - 0s - loss: 0.4116 - acc: 0.8614 - val_loss: 0.7869 - val_acc: 0.7797\n",
      "Epoch 63/100\n",
      "7646/7646 - 0s - loss: 0.4113 - acc: 0.8614 - val_loss: 0.7820 - val_acc: 0.7671\n",
      "Epoch 64/100\n",
      "7646/7646 - 0s - loss: 0.4227 - acc: 0.8573 - val_loss: 0.8210 - val_acc: 0.7692\n",
      "Epoch 65/100\n",
      "7646/7646 - 0s - loss: 0.4108 - acc: 0.8627 - val_loss: 0.7583 - val_acc: 0.7849\n",
      "Epoch 66/100\n",
      "7646/7646 - 0s - loss: 0.4033 - acc: 0.8657 - val_loss: 0.7764 - val_acc: 0.7807\n",
      "Epoch 67/100\n",
      "7646/7646 - 0s - loss: 0.3964 - acc: 0.8667 - val_loss: 0.8238 - val_acc: 0.7771\n",
      "Epoch 68/100\n",
      "7646/7646 - 0s - loss: 0.3958 - acc: 0.8674 - val_loss: 0.8192 - val_acc: 0.7860\n",
      "Epoch 69/100\n",
      "7646/7646 - 1s - loss: 0.3913 - acc: 0.8679 - val_loss: 0.7736 - val_acc: 0.7828\n",
      "Epoch 70/100\n",
      "7646/7646 - 0s - loss: 0.3951 - acc: 0.8670 - val_loss: 0.7715 - val_acc: 0.7849\n",
      "Epoch 71/100\n",
      "7646/7646 - 0s - loss: 0.4756 - acc: 0.8735 - val_loss: 0.7914 - val_acc: 0.7823\n",
      "Epoch 72/100\n",
      "7646/7646 - 1s - loss: 0.3897 - acc: 0.8752 - val_loss: 0.7796 - val_acc: 0.7865\n",
      "Epoch 73/100\n",
      "7646/7646 - 0s - loss: 0.3928 - acc: 0.8665 - val_loss: 0.7906 - val_acc: 0.7881\n",
      "Epoch 74/100\n",
      "7646/7646 - 1s - loss: 0.3870 - acc: 0.8718 - val_loss: 0.7805 - val_acc: 0.7891\n",
      "Epoch 75/100\n",
      "7646/7646 - 1s - loss: 0.3775 - acc: 0.8735 - val_loss: 0.8305 - val_acc: 0.7781\n",
      "Epoch 76/100\n",
      "7646/7646 - 0s - loss: 0.3769 - acc: 0.8755 - val_loss: 0.8460 - val_acc: 0.7875\n",
      "Epoch 77/100\n",
      "7646/7646 - 0s - loss: 0.3779 - acc: 0.8748 - val_loss: 0.7999 - val_acc: 0.7902\n",
      "Epoch 78/100\n",
      "7646/7646 - 0s - loss: 0.9624 - acc: 0.8752 - val_loss: 0.9431 - val_acc: 0.7661\n",
      "Epoch 79/100\n",
      "7646/7646 - 0s - loss: 0.3899 - acc: 0.8687 - val_loss: 0.8033 - val_acc: 0.7917\n",
      "Epoch 80/100\n",
      "7646/7646 - 0s - loss: 0.3968 - acc: 0.8761 - val_loss: 0.8350 - val_acc: 0.7807\n",
      "Epoch 81/100\n",
      "7646/7646 - 0s - loss: 0.3703 - acc: 0.8785 - val_loss: 0.8216 - val_acc: 0.7844\n",
      "Epoch 82/100\n",
      "7646/7646 - 0s - loss: 0.3618 - acc: 0.8780 - val_loss: 0.8610 - val_acc: 0.7834\n",
      "Epoch 83/100\n",
      "7646/7646 - 0s - loss: 0.3628 - acc: 0.8795 - val_loss: 0.8300 - val_acc: 0.7849\n",
      "Epoch 84/100\n",
      "7646/7646 - 0s - loss: 1.0011 - acc: 0.8795 - val_loss: 0.8053 - val_acc: 0.7917\n",
      "Epoch 85/100\n",
      "7646/7646 - 0s - loss: 0.6795 - acc: 0.8815 - val_loss: 0.7841 - val_acc: 0.7959\n",
      "Epoch 86/100\n",
      "7646/7646 - 0s - loss: 0.5832 - acc: 0.8841 - val_loss: 0.8489 - val_acc: 0.7834\n",
      "Epoch 87/100\n",
      "7646/7646 - 0s - loss: 0.7259 - acc: 0.8841 - val_loss: 0.8692 - val_acc: 0.7917\n"
     ]
    },
    {
     "name": "stdout",
     "output_type": "stream",
     "text": [
      "Epoch 88/100\n",
      "7646/7646 - 0s - loss: 0.4302 - acc: 0.8790 - val_loss: 0.7620 - val_acc: 0.7943\n",
      "Epoch 89/100\n",
      "7646/7646 - 1s - loss: 0.4550 - acc: 0.8824 - val_loss: 0.9211 - val_acc: 0.7813\n",
      "Epoch 90/100\n",
      "7646/7646 - 0s - loss: 0.3440 - acc: 0.8844 - val_loss: 0.7965 - val_acc: 0.8001\n",
      "Epoch 91/100\n",
      "7646/7646 - 0s - loss: 0.3938 - acc: 0.8857 - val_loss: 0.8135 - val_acc: 0.7975\n",
      "Epoch 92/100\n",
      "7646/7646 - 0s - loss: 0.3587 - acc: 0.8785 - val_loss: 0.8317 - val_acc: 0.7954\n",
      "Epoch 93/100\n",
      "7646/7646 - 0s - loss: 0.3406 - acc: 0.8883 - val_loss: 0.8658 - val_acc: 0.7975\n",
      "Epoch 94/100\n",
      "7646/7646 - 0s - loss: 0.3508 - acc: 0.8857 - val_loss: 0.8524 - val_acc: 0.7996\n",
      "Epoch 95/100\n",
      "7646/7646 - 0s - loss: 0.3552 - acc: 0.8797 - val_loss: 0.8353 - val_acc: 0.7980\n",
      "Epoch 96/100\n",
      "7646/7646 - 0s - loss: 0.3443 - acc: 0.8843 - val_loss: 0.8229 - val_acc: 0.7923\n",
      "Epoch 97/100\n",
      "7646/7646 - 0s - loss: 0.3382 - acc: 0.8888 - val_loss: 0.8990 - val_acc: 0.7917\n",
      "Epoch 98/100\n",
      "7646/7646 - 0s - loss: 0.3470 - acc: 0.8856 - val_loss: 0.8860 - val_acc: 0.7954\n",
      "Epoch 99/100\n",
      "7646/7646 - 0s - loss: 0.3757 - acc: 0.8886 - val_loss: 0.8668 - val_acc: 0.7849\n",
      "Epoch 100/100\n",
      "7646/7646 - 1s - loss: 0.3416 - acc: 0.8880 - val_loss: 0.9028 - val_acc: 0.7928\n"
     ]
    }
   ],
   "source": [
    "history = model.fit(X_train, Y_train, epochs=100,\n",
    "           verbose=2,\n",
    "           validation_data=(X_test, Y_test))"
   ]
  },
  {
   "cell_type": "code",
   "execution_count": 147,
   "metadata": {},
   "outputs": [
    {
     "data": {
      "text/html": [
       "<div>\n",
       "<style scoped>\n",
       "    .dataframe tbody tr th:only-of-type {\n",
       "        vertical-align: middle;\n",
       "    }\n",
       "\n",
       "    .dataframe tbody tr th {\n",
       "        vertical-align: top;\n",
       "    }\n",
       "\n",
       "    .dataframe thead th {\n",
       "        text-align: right;\n",
       "    }\n",
       "</style>\n",
       "<table border=\"1\" class=\"dataframe\">\n",
       "  <thead>\n",
       "    <tr style=\"text-align: right;\">\n",
       "      <th></th>\n",
       "      <th>loss</th>\n",
       "      <th>acc</th>\n",
       "      <th>val_loss</th>\n",
       "      <th>val_acc</th>\n",
       "    </tr>\n",
       "  </thead>\n",
       "  <tbody>\n",
       "    <tr>\n",
       "      <td>95</td>\n",
       "      <td>0.344348</td>\n",
       "      <td>0.884253</td>\n",
       "      <td>0.822866</td>\n",
       "      <td>0.792255</td>\n",
       "    </tr>\n",
       "    <tr>\n",
       "      <td>96</td>\n",
       "      <td>0.338244</td>\n",
       "      <td>0.888831</td>\n",
       "      <td>0.898992</td>\n",
       "      <td>0.791732</td>\n",
       "    </tr>\n",
       "    <tr>\n",
       "      <td>97</td>\n",
       "      <td>0.347002</td>\n",
       "      <td>0.885561</td>\n",
       "      <td>0.886041</td>\n",
       "      <td>0.795395</td>\n",
       "    </tr>\n",
       "    <tr>\n",
       "      <td>98</td>\n",
       "      <td>0.375744</td>\n",
       "      <td>0.888569</td>\n",
       "      <td>0.866846</td>\n",
       "      <td>0.784929</td>\n",
       "    </tr>\n",
       "    <tr>\n",
       "      <td>99</td>\n",
       "      <td>0.341581</td>\n",
       "      <td>0.888046</td>\n",
       "      <td>0.902790</td>\n",
       "      <td>0.792779</td>\n",
       "    </tr>\n",
       "  </tbody>\n",
       "</table>\n",
       "</div>"
      ],
      "text/plain": [
       "        loss       acc  val_loss   val_acc\n",
       "95  0.344348  0.884253  0.822866  0.792255\n",
       "96  0.338244  0.888831  0.898992  0.791732\n",
       "97  0.347002  0.885561  0.886041  0.795395\n",
       "98  0.375744  0.888569  0.866846  0.784929\n",
       "99  0.341581  0.888046  0.902790  0.792779"
      ]
     },
     "execution_count": 147,
     "metadata": {},
     "output_type": "execute_result"
    }
   ],
   "source": [
    "hist = pd.DataFrame(history.history)\n",
    "hist.tail()"
   ]
  },
  {
   "cell_type": "code",
   "execution_count": 148,
   "metadata": {},
   "outputs": [
    {
     "data": {
      "image/png": "[encoded data removed]",
      "text/plain": [
       "<Figure size 432x288 with 1 Axes>"
      ]
     },
     "metadata": {
      "needs_background": "light"
     },
     "output_type": "display_data"
    },
    {
     "data": {
      "image/png": "[encoded data removed]",
      "text/plain": [
       "<Figure size 432x288 with 1 Axes>"
      ]
     },
     "metadata": {
      "needs_background": "light"
     },
     "output_type": "display_data"
    }
   ],
   "source": [
    " def plot_history(history): \n",
    "        hist = pd.DataFrame(history.history)\n",
    "        hist['epoch'] = history.epoch\n",
    "        plt.figure()\n",
    "        plt.xlabel('Epoch')\n",
    "        plt.ylabel('loss')\n",
    "        plt.plot(hist['epoch'], hist['loss'], label='Train loss')\n",
    "        plt.plot(hist['epoch'], hist['val_loss'], label = 'Val loss')\n",
    "        plt.legend()\n",
    "\n",
    "        plt.figure()\n",
    "        plt.xlabel('Epoch')\n",
    "        plt.ylabel('acc')\n",
    "        plt.plot(hist['epoch'], hist['acc'],label='Train Acc')\n",
    "        plt.plot(hist['epoch'], hist['val_acc'],label = 'Test acc')\n",
    "        plt.legend()\n",
    "        plt.show()\n",
    "\n",
    "\n",
    "plot_history(history)"
   ]
  },
  {
   "cell_type": "code",
   "execution_count": 149,
   "metadata": {},
   "outputs": [
    {
     "name": "stdout",
     "output_type": "stream",
     "text": [
      "1911/1911 [==============================] - 0s 29us/sample - loss: 0.9028 - acc: 0.7928\n"
     ]
    }
   ],
   "source": [
    "score = model.evaluate(X_test, Y_test, batch_size=128)"
   ]
  },
  {
   "cell_type": "code",
   "execution_count": null,
   "metadata": {},
   "outputs": [],
   "source": []
  }
 ],
 "metadata": {
  "kernelspec": {
   "display_name": "Python 3",
   "language": "python",
   "name": "python3"
  },
  "language_info": {
   "codemirror_mode": {
    "name": "ipython",
    "version": 3
   },
   "file_extension": ".py",
   "mimetype": "text/x-python",
   "name": "python",
   "nbconvert_exporter": "python",
   "pygments_lexer": "ipython3",
   "version": "3.6.8"
  }
 },
 "nbformat": 4,
 "nbformat_minor": 2
}
