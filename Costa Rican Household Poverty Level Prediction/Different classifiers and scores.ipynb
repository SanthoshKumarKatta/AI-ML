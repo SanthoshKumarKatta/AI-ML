{
 "cells": [
  {
   "cell_type": "code",
   "execution_count": 219,
   "metadata": {},
   "outputs": [],
   "source": [
    "import pandas as pd\n",
    "from matplotlib import pyplot as plt\n",
    "%matplotlib inline\n",
    "import random\n",
    "random.seed(10)\n",
    "import data_pre as data_pre"
   ]
  },
  {
   "cell_type": "code",
   "execution_count": 220,
   "metadata": {},
   "outputs": [],
   "source": [
    "pd.set_option('display.max_columns', None)\n",
    "pd.set_option('display.max_rows', None)"
   ]
  },
  {
   "cell_type": "code",
   "execution_count": 221,
   "metadata": {},
   "outputs": [],
   "source": [
    "data = pd.read_csv(\"C:/Santhosh/AIML/Github/Machine-Learning/Costa Rican Household Poverty Level Prediction/data/train.csv\")"
   ]
  },
  {
   "cell_type": "code",
   "execution_count": 222,
   "metadata": {},
   "outputs": [],
   "source": [
    "del_cols = ['idhogar', 'Id','dependency','tamhog','r4t3', 'tamviv', 'r4h1', 'hogar_total','r4h2', 'r4h3', 'r4m1', 'r4m2','r4m3', 'hogar_nin', 'hogar_adul', 'hogar_mayor', 'SQBescolari','SQBage','SQBhogar_total','SQBedjefe','SQBhogar_nin','SQBovercrowding','SQBdependency','SQBmeaned','agesq']"
   ]
  },
  {
   "cell_type": "code",
   "execution_count": 223,
   "metadata": {},
   "outputs": [],
   "source": [
    "data_pre.drop_columns(data,del_cols)\n",
    "data_pre.replce_na(data)\n",
    "data_pre.get_cat_cols(data)\n",
    "data_pre.encode_data(data)\n",
    "train, test = data_pre.train_test_split(data)"
   ]
  },
  {
   "cell_type": "code",
   "execution_count": 224,
   "metadata": {},
   "outputs": [],
   "source": [
    "X_train = train.drop(['Target'], axis =1)\n",
    "Y_train = train['Target']\n",
    "X_test = test.drop(['Target'], axis =1)\n",
    "Y_test = test['Target']"
   ]
  },
  {
   "cell_type": "code",
   "execution_count": 230,
   "metadata": {},
   "outputs": [
    {
     "name": "stderr",
     "output_type": "stream",
     "text": [
      "c:\\users\\katta\\appdata\\local\\programs\\python\\python36\\lib\\site-packages\\sklearn\\linear_model\\logistic.py:947: ConvergenceWarning: lbfgs failed to converge. Increase the number of iterations.\n",
      "  \"of iterations.\", ConvergenceWarning)\n"
     ]
    }
   ],
   "source": [
    "from sklearn.linear_model import LogisticRegression\n",
    "clf = LogisticRegression(random_state=0, solver='lbfgs',multi_class='multinomial').fit(X_train, Y_train)"
   ]
  },
  {
   "cell_type": "code",
   "execution_count": 231,
   "metadata": {},
   "outputs": [
    {
     "data": {
      "text/plain": [
       "0.6273868689510855"
      ]
     },
     "execution_count": 231,
     "metadata": {},
     "output_type": "execute_result"
    }
   ],
   "source": [
    "print(\"Logistic regression \", gnb.score(X_test,Y_test))"
   ]
  },
  {
   "cell_type": "code",
   "execution_count": 235,
   "metadata": {},
   "outputs": [],
   "source": [
    "from sklearn.naive_bayes import GaussianNB\n",
    "gnb = GaussianNB()\n",
    "gnb_model = gnb.fit(X_train, Y_train)"
   ]
  },
  {
   "cell_type": "code",
   "execution_count": 236,
   "metadata": {},
   "outputs": [],
   "source": [
    "y_hat = model.predict(X_test)"
   ]
  },
  {
   "cell_type": "code",
   "execution_count": 237,
   "metadata": {},
   "outputs": [
    {
     "name": "stdout",
     "output_type": "stream",
     "text": [
      "Naive Bayes score 0.5729984301412873\n"
     ]
    }
   ],
   "source": [
    "print(\"Naive Bayes score\", gnb.score(X_test,Y_test))"
   ]
  },
  {
   "cell_type": "code",
   "execution_count": 238,
   "metadata": {},
   "outputs": [],
   "source": [
    "from keras.utils.np_utils import to_categorical\n",
    "Y_train = to_categorical(Y_train)\n",
    "Y_test = to_categorical(Y_test)"
   ]
  },
  {
   "cell_type": "code",
   "execution_count": 239,
   "metadata": {},
   "outputs": [],
   "source": [
    "from tensorflow import keras\n",
    "from tensorflow.keras import layers\n",
    "# from tensorflow.keras.metrics import f1\n",
    "model = keras.Sequential()"
   ]
  },
  {
   "cell_type": "code",
   "execution_count": 240,
   "metadata": {},
   "outputs": [],
   "source": [
    "model.add(layers.Dense(117, input_shape=(117,)))\n",
    "model.add(layers.Activation('relu'))\n",
    "model.add(layers.Dense(100))\n",
    "model.add(layers.Dropout(0.3))\n",
    "model.add(layers.Activation('relu'))\n",
    "model.add(layers.Dense(5))\n",
    "model.add(layers.Activation('softmax')) "
   ]
  },
  {
   "cell_type": "code",
   "execution_count": 241,
   "metadata": {},
   "outputs": [],
   "source": [
    "model.compile(loss='categorical_crossentropy', optimizer='adam', metrics=['accuracy'])"
   ]
  },
  {
   "cell_type": "code",
   "execution_count": 242,
   "metadata": {},
   "outputs": [
    {
     "data": {
      "text/plain": [
       "(7646, 5)"
      ]
     },
     "execution_count": 242,
     "metadata": {},
     "output_type": "execute_result"
    }
   ],
   "source": [
    "Y_train.shape"
   ]
  },
  {
   "cell_type": "code",
   "execution_count": 243,
   "metadata": {},
   "outputs": [
    {
     "name": "stdout",
     "output_type": "stream",
     "text": [
      "Train on 7646 samples, validate on 1911 samples\n",
      "Epoch 1/100\n",
      "7646/7646 - 2s - loss: 423.4611 - acc: 0.5711 - val_loss: 1.1268 - val_acc: 0.4767\n",
      "Epoch 2/100\n",
      "7646/7646 - 1s - loss: 1.1110 - acc: 0.6235 - val_loss: 1.0415 - val_acc: 0.6510\n",
      "Epoch 3/100\n",
      "7646/7646 - 1s - loss: 1.0325 - acc: 0.6516 - val_loss: 0.9919 - val_acc: 0.6593\n",
      "Epoch 4/100\n",
      "7646/7646 - 1s - loss: 0.9816 - acc: 0.6600 - val_loss: 0.9559 - val_acc: 0.6682\n",
      "Epoch 5/100\n",
      "7646/7646 - 1s - loss: 0.9492 - acc: 0.6652 - val_loss: 0.9372 - val_acc: 0.6641\n",
      "Epoch 6/100\n",
      "7646/7646 - 1s - loss: 0.9208 - acc: 0.6719 - val_loss: 0.9248 - val_acc: 0.6651\n",
      "Epoch 7/100\n",
      "7646/7646 - 1s - loss: 1.0570 - acc: 0.6746 - val_loss: 0.9007 - val_acc: 0.6724\n",
      "Epoch 8/100\n",
      "7646/7646 - 1s - loss: 0.8813 - acc: 0.6776 - val_loss: 0.8944 - val_acc: 0.6771\n",
      "Epoch 9/100\n",
      "7646/7646 - 1s - loss: 0.8633 - acc: 0.6818 - val_loss: 0.8797 - val_acc: 0.6803\n",
      "Epoch 10/100\n",
      "7646/7646 - 1s - loss: 0.8449 - acc: 0.6892 - val_loss: 0.8772 - val_acc: 0.6808\n",
      "Epoch 11/100\n",
      "7646/7646 - 1s - loss: 0.8280 - acc: 0.7001 - val_loss: 0.8705 - val_acc: 0.6787\n",
      "Epoch 12/100\n",
      "7646/7646 - 1s - loss: 0.8193 - acc: 0.7004 - val_loss: 0.8501 - val_acc: 0.6886\n",
      "Epoch 13/100\n",
      "7646/7646 - 1s - loss: 0.7990 - acc: 0.7069 - val_loss: 0.8369 - val_acc: 0.6965\n",
      "Epoch 14/100\n",
      "7646/7646 - 1s - loss: 0.7900 - acc: 0.7114 - val_loss: 0.8274 - val_acc: 0.6991\n",
      "Epoch 15/100\n",
      "7646/7646 - 1s - loss: 0.7804 - acc: 0.7189 - val_loss: 0.8311 - val_acc: 0.6928\n",
      "Epoch 16/100\n",
      "7646/7646 - 1s - loss: 0.8019 - acc: 0.7295 - val_loss: 0.8191 - val_acc: 0.7070\n",
      "Epoch 17/100\n",
      "7646/7646 - 1s - loss: 0.7467 - acc: 0.7311 - val_loss: 0.8230 - val_acc: 0.7049\n",
      "Epoch 18/100\n",
      "7646/7646 - 1s - loss: 0.7332 - acc: 0.7372 - val_loss: 0.8151 - val_acc: 0.7064\n",
      "Epoch 19/100\n",
      "7646/7646 - 1s - loss: 0.7921 - acc: 0.7337 - val_loss: 0.8018 - val_acc: 0.7132\n",
      "Epoch 20/100\n",
      "7646/7646 - 1s - loss: 0.7149 - acc: 0.7429 - val_loss: 0.8014 - val_acc: 0.7096\n",
      "Epoch 21/100\n",
      "7646/7646 - 1s - loss: 0.6944 - acc: 0.7529 - val_loss: 0.7870 - val_acc: 0.7206\n",
      "Epoch 22/100\n",
      "7646/7646 - 1s - loss: 0.6883 - acc: 0.7516 - val_loss: 0.8045 - val_acc: 0.7248\n",
      "Epoch 23/100\n",
      "7646/7646 - 1s - loss: 0.6763 - acc: 0.7595 - val_loss: 0.7916 - val_acc: 0.7200\n",
      "Epoch 24/100\n",
      "7646/7646 - 1s - loss: 0.6652 - acc: 0.7642 - val_loss: 0.7732 - val_acc: 0.7300\n",
      "Epoch 25/100\n",
      "7646/7646 - 1s - loss: 0.6519 - acc: 0.7706 - val_loss: 0.7714 - val_acc: 0.7289\n",
      "Epoch 26/100\n",
      "7646/7646 - 1s - loss: 0.9347 - acc: 0.7709 - val_loss: 0.7741 - val_acc: 0.7326\n",
      "Epoch 27/100\n",
      "7646/7646 - 1s - loss: 0.6317 - acc: 0.7775 - val_loss: 0.7644 - val_acc: 0.7357\n",
      "Epoch 28/100\n",
      "7646/7646 - 1s - loss: 0.6232 - acc: 0.7796 - val_loss: 0.7544 - val_acc: 0.7425\n",
      "Epoch 29/100\n",
      "7646/7646 - 1s - loss: 0.6096 - acc: 0.7847 - val_loss: 0.7611 - val_acc: 0.7378\n",
      "Epoch 30/100\n",
      "7646/7646 - 1s - loss: 0.5992 - acc: 0.7919 - val_loss: 0.7706 - val_acc: 0.7420\n",
      "Epoch 31/100\n",
      "7646/7646 - 1s - loss: 0.5842 - acc: 0.7952 - val_loss: 0.7595 - val_acc: 0.7436\n",
      "Epoch 32/100\n",
      "7646/7646 - 1s - loss: 0.5794 - acc: 0.7969 - val_loss: 0.7493 - val_acc: 0.7541\n",
      "Epoch 33/100\n",
      "7646/7646 - 1s - loss: 0.5719 - acc: 0.8028 - val_loss: 0.7336 - val_acc: 0.7551\n",
      "Epoch 34/100\n",
      "7646/7646 - 1s - loss: 0.5641 - acc: 0.8041 - val_loss: 0.7457 - val_acc: 0.7425\n",
      "Epoch 35/100\n",
      "7646/7646 - 1s - loss: 0.5533 - acc: 0.8098 - val_loss: 0.7403 - val_acc: 0.7582\n",
      "Epoch 36/100\n",
      "7646/7646 - 1s - loss: 0.5413 - acc: 0.8144 - val_loss: 0.7507 - val_acc: 0.7493\n",
      "Epoch 37/100\n",
      "7646/7646 - 1s - loss: 0.5342 - acc: 0.8165 - val_loss: 0.7563 - val_acc: 0.7488\n",
      "Epoch 38/100\n",
      "7646/7646 - 1s - loss: 0.5305 - acc: 0.8174 - val_loss: 0.7452 - val_acc: 0.7473\n",
      "Epoch 39/100\n",
      "7646/7646 - 1s - loss: 0.5216 - acc: 0.8223 - val_loss: 0.7443 - val_acc: 0.7572\n",
      "Epoch 40/100\n",
      "7646/7646 - 1s - loss: 1.1363 - acc: 0.8207 - val_loss: 0.7427 - val_acc: 0.7520\n",
      "Epoch 41/100\n",
      "7646/7646 - 1s - loss: 0.5694 - acc: 0.8181 - val_loss: 0.7385 - val_acc: 0.7551\n",
      "Epoch 42/100\n",
      "7646/7646 - 1s - loss: 0.4990 - acc: 0.8300 - val_loss: 0.7325 - val_acc: 0.7561\n",
      "Epoch 43/100\n",
      "7646/7646 - 1s - loss: 0.4938 - acc: 0.8305 - val_loss: 0.7399 - val_acc: 0.7624\n",
      "Epoch 44/100\n",
      "7646/7646 - 1s - loss: 0.4775 - acc: 0.8365 - val_loss: 0.7571 - val_acc: 0.7452\n",
      "Epoch 45/100\n",
      "7646/7646 - 1s - loss: 0.4745 - acc: 0.8402 - val_loss: 0.7312 - val_acc: 0.7666\n",
      "Epoch 46/100\n",
      "7646/7646 - 1s - loss: 0.4773 - acc: 0.8383 - val_loss: 0.7395 - val_acc: 0.7635\n",
      "Epoch 47/100\n",
      "7646/7646 - 1s - loss: 0.4723 - acc: 0.8363 - val_loss: 0.7229 - val_acc: 0.7666\n",
      "Epoch 48/100\n",
      "7646/7646 - 1s - loss: 0.4682 - acc: 0.8406 - val_loss: 0.7419 - val_acc: 0.7656\n",
      "Epoch 49/100\n",
      "7646/7646 - 1s - loss: 0.4620 - acc: 0.8440 - val_loss: 0.7428 - val_acc: 0.7624\n",
      "Epoch 50/100\n",
      "7646/7646 - 1s - loss: 0.4528 - acc: 0.8489 - val_loss: 0.7581 - val_acc: 0.7588\n",
      "Epoch 51/100\n",
      "7646/7646 - 1s - loss: 0.4612 - acc: 0.8444 - val_loss: 0.7519 - val_acc: 0.7703\n",
      "Epoch 52/100\n",
      "7646/7646 - 1s - loss: 0.4508 - acc: 0.8485 - val_loss: 0.7412 - val_acc: 0.7739\n",
      "Epoch 53/100\n",
      "7646/7646 - 1s - loss: 0.4380 - acc: 0.8514 - val_loss: 0.7495 - val_acc: 0.7718\n",
      "Epoch 54/100\n",
      "7646/7646 - 1s - loss: 0.4289 - acc: 0.8565 - val_loss: 0.7465 - val_acc: 0.7671\n",
      "Epoch 55/100\n",
      "7646/7646 - 1s - loss: 0.4306 - acc: 0.8551 - val_loss: 0.7531 - val_acc: 0.7666\n",
      "Epoch 56/100\n",
      "7646/7646 - 1s - loss: 0.4363 - acc: 0.8512 - val_loss: 0.7353 - val_acc: 0.7703\n",
      "Epoch 57/100\n",
      "7646/7646 - 1s - loss: 0.4240 - acc: 0.8565 - val_loss: 0.7591 - val_acc: 0.7718\n",
      "Epoch 58/100\n",
      "7646/7646 - 1s - loss: 0.4489 - acc: 0.8535 - val_loss: 0.7576 - val_acc: 0.7766\n",
      "Epoch 59/100\n",
      "7646/7646 - 1s - loss: 0.4222 - acc: 0.8581 - val_loss: 0.7528 - val_acc: 0.7745\n",
      "Epoch 60/100\n",
      "7646/7646 - 1s - loss: 0.4097 - acc: 0.8611 - val_loss: 0.7434 - val_acc: 0.7724\n",
      "Epoch 61/100\n",
      "7646/7646 - 1s - loss: 0.4068 - acc: 0.8632 - val_loss: 0.7523 - val_acc: 0.7666\n",
      "Epoch 62/100\n",
      "7646/7646 - 1s - loss: 0.4161 - acc: 0.8585 - val_loss: 0.7632 - val_acc: 0.7708\n",
      "Epoch 63/100\n",
      "7646/7646 - 1s - loss: 0.4011 - acc: 0.8637 - val_loss: 0.7271 - val_acc: 0.7823\n",
      "Epoch 64/100\n",
      "7646/7646 - 1s - loss: 0.3990 - acc: 0.8680 - val_loss: 0.7625 - val_acc: 0.7750\n",
      "Epoch 65/100\n",
      "7646/7646 - 1s - loss: 0.4027 - acc: 0.8636 - val_loss: 0.7228 - val_acc: 0.7766\n",
      "Epoch 66/100\n",
      "7646/7646 - 1s - loss: 0.3963 - acc: 0.8674 - val_loss: 0.7410 - val_acc: 0.7834\n",
      "Epoch 67/100\n",
      "7646/7646 - 1s - loss: 0.3919 - acc: 0.8676 - val_loss: 0.7197 - val_acc: 0.7855\n",
      "Epoch 68/100\n",
      "7646/7646 - 1s - loss: 0.3904 - acc: 0.8669 - val_loss: 0.7490 - val_acc: 0.7813\n",
      "Epoch 69/100\n",
      "7646/7646 - 1s - loss: 0.3809 - acc: 0.8738 - val_loss: 0.7651 - val_acc: 0.7849\n",
      "Epoch 70/100\n",
      "7646/7646 - 1s - loss: 0.4002 - acc: 0.8669 - val_loss: 0.7654 - val_acc: 0.7865\n",
      "Epoch 71/100\n",
      "7646/7646 - 1s - loss: 0.3795 - acc: 0.8737 - val_loss: 0.7740 - val_acc: 0.7839\n",
      "Epoch 72/100\n",
      "7646/7646 - 1s - loss: 0.3852 - acc: 0.8684 - val_loss: 0.7754 - val_acc: 0.7729\n",
      "Epoch 73/100\n",
      "7646/7646 - 1s - loss: 0.3759 - acc: 0.8755 - val_loss: 0.7908 - val_acc: 0.7891\n",
      "Epoch 74/100\n",
      "7646/7646 - 1s - loss: 1.3317 - acc: 0.8780 - val_loss: 0.8387 - val_acc: 0.7818\n",
      "Epoch 75/100\n",
      "7646/7646 - 1s - loss: 0.4298 - acc: 0.8772 - val_loss: 0.7587 - val_acc: 0.7875\n",
      "Epoch 76/100\n",
      "7646/7646 - 1s - loss: 0.3684 - acc: 0.8797 - val_loss: 0.7814 - val_acc: 0.7896\n",
      "Epoch 77/100\n",
      "7646/7646 - 1s - loss: 0.3682 - acc: 0.8790 - val_loss: 0.8461 - val_acc: 0.7797\n",
      "Epoch 78/100\n",
      "7646/7646 - 1s - loss: 0.3629 - acc: 0.8768 - val_loss: 0.8102 - val_acc: 0.7797\n",
      "Epoch 79/100\n",
      "7646/7646 - 1s - loss: 0.3633 - acc: 0.8773 - val_loss: 0.8163 - val_acc: 0.7865\n",
      "Epoch 80/100\n",
      "7646/7646 - 1s - loss: 0.3517 - acc: 0.8828 - val_loss: 0.8538 - val_acc: 0.7834\n",
      "Epoch 81/100\n",
      "7646/7646 - 1s - loss: 0.3599 - acc: 0.8797 - val_loss: 0.8224 - val_acc: 0.7818\n",
      "Epoch 82/100\n",
      "7646/7646 - 1s - loss: 0.3655 - acc: 0.8777 - val_loss: 0.7975 - val_acc: 0.7907\n",
      "Epoch 83/100\n",
      "7646/7646 - 1s - loss: 0.3525 - acc: 0.8805 - val_loss: 0.7924 - val_acc: 0.7896\n",
      "Epoch 84/100\n",
      "7646/7646 - 1s - loss: 0.3421 - acc: 0.8856 - val_loss: 0.8552 - val_acc: 0.7823\n",
      "Epoch 85/100\n",
      "7646/7646 - 1s - loss: 0.3508 - acc: 0.8844 - val_loss: 0.8420 - val_acc: 0.7875\n",
      "Epoch 86/100\n",
      "7646/7646 - 1s - loss: 0.3658 - acc: 0.8828 - val_loss: 0.8825 - val_acc: 0.7813\n",
      "Epoch 87/100\n",
      "7646/7646 - 1s - loss: 0.3441 - acc: 0.8852 - val_loss: 0.8321 - val_acc: 0.7949\n"
     ]
    },
    {
     "name": "stdout",
     "output_type": "stream",
     "text": [
      "Epoch 88/100\n",
      "7646/7646 - 1s - loss: 0.3447 - acc: 0.8858 - val_loss: 0.8343 - val_acc: 0.7902\n",
      "Epoch 89/100\n",
      "7646/7646 - 1s - loss: 0.3857 - acc: 0.8815 - val_loss: 0.8754 - val_acc: 0.7823\n",
      "Epoch 90/100\n",
      "7646/7646 - 1s - loss: 0.3397 - acc: 0.8882 - val_loss: 0.8064 - val_acc: 0.7943\n",
      "Epoch 91/100\n",
      "7646/7646 - 1s - loss: 0.3443 - acc: 0.8845 - val_loss: 0.8258 - val_acc: 0.7912\n",
      "Epoch 92/100\n",
      "7646/7646 - 1s - loss: 0.3385 - acc: 0.8874 - val_loss: 0.8535 - val_acc: 0.7907\n",
      "Epoch 93/100\n",
      "7646/7646 - 1s - loss: 0.3360 - acc: 0.8914 - val_loss: 0.8330 - val_acc: 0.7870\n",
      "Epoch 94/100\n",
      "7646/7646 - 1s - loss: 0.3452 - acc: 0.8863 - val_loss: 0.8975 - val_acc: 0.7886\n",
      "Epoch 95/100\n",
      "7646/7646 - 1s - loss: 0.3358 - acc: 0.8875 - val_loss: 0.8634 - val_acc: 0.7933\n",
      "Epoch 96/100\n",
      "7646/7646 - 1s - loss: 0.3411 - acc: 0.8869 - val_loss: 0.8477 - val_acc: 0.7912\n",
      "Epoch 97/100\n",
      "7646/7646 - 1s - loss: 0.3330 - acc: 0.8896 - val_loss: 0.8784 - val_acc: 0.7959\n",
      "Epoch 98/100\n",
      "7646/7646 - 1s - loss: 0.3202 - acc: 0.8960 - val_loss: 0.8886 - val_acc: 0.7896\n",
      "Epoch 99/100\n",
      "7646/7646 - 1s - loss: 0.3291 - acc: 0.8917 - val_loss: 0.9624 - val_acc: 0.7917\n",
      "Epoch 100/100\n",
      "7646/7646 - 1s - loss: 0.3290 - acc: 0.8926 - val_loss: 0.8568 - val_acc: 0.7943\n"
     ]
    }
   ],
   "source": [
    "history = model.fit(X_train, Y_train, epochs=100,\n",
    "           verbose=2,\n",
    "           validation_data=(X_test, Y_test))"
   ]
  },
  {
   "cell_type": "code",
   "execution_count": 244,
   "metadata": {},
   "outputs": [
    {
     "data": {
      "text/html": [
       "<div>\n",
       "<style scoped>\n",
       "    .dataframe tbody tr th:only-of-type {\n",
       "        vertical-align: middle;\n",
       "    }\n",
       "\n",
       "    .dataframe tbody tr th {\n",
       "        vertical-align: top;\n",
       "    }\n",
       "\n",
       "    .dataframe thead th {\n",
       "        text-align: right;\n",
       "    }\n",
       "</style>\n",
       "<table border=\"1\" class=\"dataframe\">\n",
       "  <thead>\n",
       "    <tr style=\"text-align: right;\">\n",
       "      <th></th>\n",
       "      <th>loss</th>\n",
       "      <th>acc</th>\n",
       "      <th>val_loss</th>\n",
       "      <th>val_acc</th>\n",
       "    </tr>\n",
       "  </thead>\n",
       "  <tbody>\n",
       "    <tr>\n",
       "      <td>95</td>\n",
       "      <td>0.341067</td>\n",
       "      <td>0.886869</td>\n",
       "      <td>0.847693</td>\n",
       "      <td>0.791209</td>\n",
       "    </tr>\n",
       "    <tr>\n",
       "      <td>96</td>\n",
       "      <td>0.332980</td>\n",
       "      <td>0.889615</td>\n",
       "      <td>0.878421</td>\n",
       "      <td>0.795918</td>\n",
       "    </tr>\n",
       "    <tr>\n",
       "      <td>97</td>\n",
       "      <td>0.320227</td>\n",
       "      <td>0.896024</td>\n",
       "      <td>0.888629</td>\n",
       "      <td>0.789639</td>\n",
       "    </tr>\n",
       "    <tr>\n",
       "      <td>98</td>\n",
       "      <td>0.329101</td>\n",
       "      <td>0.891708</td>\n",
       "      <td>0.962439</td>\n",
       "      <td>0.791732</td>\n",
       "    </tr>\n",
       "    <tr>\n",
       "      <td>99</td>\n",
       "      <td>0.329047</td>\n",
       "      <td>0.892624</td>\n",
       "      <td>0.856812</td>\n",
       "      <td>0.794349</td>\n",
       "    </tr>\n",
       "  </tbody>\n",
       "</table>\n",
       "</div>"
      ],
      "text/plain": [
       "        loss       acc  val_loss   val_acc\n",
       "95  0.341067  0.886869  0.847693  0.791209\n",
       "96  0.332980  0.889615  0.878421  0.795918\n",
       "97  0.320227  0.896024  0.888629  0.789639\n",
       "98  0.329101  0.891708  0.962439  0.791732\n",
       "99  0.329047  0.892624  0.856812  0.794349"
      ]
     },
     "execution_count": 244,
     "metadata": {},
     "output_type": "execute_result"
    }
   ],
   "source": [
    "hist = pd.DataFrame(history.history)\n",
    "hist.tail()"
   ]
  },
  {
   "cell_type": "code",
   "execution_count": 249,
   "metadata": {},
   "outputs": [
    {
     "data": {
      "image/png": "[encoded data removed]",
      "text/plain": [
       "<Figure size 432x288 with 1 Axes>"
      ]
     },
     "metadata": {
      "needs_background": "light"
     },
     "output_type": "display_data"
    },
    {
     "data": {
      "image/png": "[encoded data removed]",
      "text/plain": [
       "<Figure size 432x288 with 1 Axes>"
      ]
     },
     "metadata": {
      "needs_background": "light"
     },
     "output_type": "display_data"
    }
   ],
   "source": [
    " def plot_history(history): \n",
    "        hist = pd.DataFrame(history.history)\n",
    "        hist['epoch'] = history.epoch\n",
    "        plt.figure()\n",
    "        plt.xlabel('Epoch')\n",
    "        plt.ylabel('loss')\n",
    "        plt.plot(hist['epoch'], hist['loss'], label='Train loss')\n",
    "        plt.plot(hist['epoch'], hist['val_loss'], label = 'Val loss')\n",
    "        plt.legend()\n",
    "\n",
    "        plt.figure()\n",
    "        plt.xlabel('Epoch')\n",
    "        plt.ylabel('acc')\n",
    "        plt.plot(hist['epoch'], hist['acc'],label='Train Acc')\n",
    "        plt.plot(hist['epoch'], hist['val_acc'],label = 'Test acc')\n",
    "        plt.legend()\n",
    "        plt.show()\n",
    "\n",
    "\n",
    "plot_history(history)"
   ]
  },
  {
   "cell_type": "code",
   "execution_count": 246,
   "metadata": {},
   "outputs": [],
   "source": [
    "# encoded_Y = encoder.transform(Y_test)\n",
    "# # convert integers to dummy variables (i.e. one hot encoded)\n",
    "# dummy_y = np_utils.to_categorical(encoded_Y)"
   ]
  },
  {
   "cell_type": "code",
   "execution_count": 247,
   "metadata": {},
   "outputs": [
    {
     "name": "stdout",
     "output_type": "stream",
     "text": [
      "1911/1911 [==============================] - 0s 25us/sample - loss: 0.8568 - acc: 0.7943\n"
     ]
    }
   ],
   "source": [
    "score = model.evaluate(X_test, Y_test, batch_size=128)"
   ]
  },
  {
   "cell_type": "code",
   "execution_count": null,
   "metadata": {},
   "outputs": [],
   "source": []
  }
 ],
 "metadata": {
  "kernelspec": {
   "display_name": "Python 3",
   "language": "python",
   "name": "python3"
  },
  "language_info": {
   "codemirror_mode": {
    "name": "ipython",
    "version": 3
   },
   "file_extension": ".py",
   "mimetype": "text/x-python",
   "name": "python",
   "nbconvert_exporter": "python",
   "pygments_lexer": "ipython3",
   "version": "3.6.8"
  }
 },
 "nbformat": 4,
 "nbformat_minor": 2
}
