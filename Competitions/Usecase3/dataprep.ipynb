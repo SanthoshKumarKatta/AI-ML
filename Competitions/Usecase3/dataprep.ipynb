{
 "cells": [
  {
   "cell_type": "code",
   "execution_count": 1,
   "metadata": {},
   "outputs": [],
   "source": [
    "import pandas as pd"
   ]
  },
  {
   "cell_type": "code",
   "execution_count": 2,
   "metadata": {
    "collapsed": true
   },
   "outputs": [],
   "source": [
    "data_path = \"C:/Users/Katta's/PycharmProjects/data/usecase3/train.csv\"\n",
    "housing = pd.read_csv(data_path)"
   ]
  },
  {
   "cell_type": "code",
   "execution_count": 3,
   "metadata": {
    "collapsed": false
   },
   "outputs": [],
   "source": [
    " house_obj= housing.select_dtypes(include=['object']).copy()"
   ]
  },
  {
   "cell_type": "code",
   "execution_count": 4,
   "metadata": {
    "collapsed": false
   },
   "outputs": [],
   "source": [
    "house_obj.drop(house_obj.columns[house_obj.isnull().any()],axis=1, inplace=True) "
   ]
  },
  {
   "cell_type": "code",
   "execution_count": 6,
   "metadata": {},
   "outputs": [],
   "source": [
    "from sklearn.preprocessing import LabelEncoder\n",
    "le=LabelEncoder()\n",
    "for col in house_obj.columns.values:\n",
    "        le.fit(house_obj[col])\n",
    "        house_obj[col]=le.transform(house_obj[col])"
   ]
  },
  {
   "cell_type": "code",
   "execution_count": 7,
   "metadata": {},
   "outputs": [],
   "source": [
    "# All types except object\n",
    "housing_int = housing.select_dtypes(exclude=['object']).copy()\n",
    "# housing_cat1 = housing_cat.astype('int64',copy=False)\n",
    "int_columns = housing_int.columns\n"
   ]
  },
  {
   "cell_type": "code",
   "execution_count": 8,
   "metadata": {
    "collapsed": false
   },
   "outputs": [
    {
     "name": "stderr",
     "output_type": "stream",
     "text": [
      "c:\\users\\katta's\\venv\\lib\\site-packages\\sklearn\\preprocessing\\data.py:625: DataConversionWarning: Data with input dtype int64, float64 were all converted to float64 by StandardScaler.\n  return self.partial_fit(X, y)\nc:\\users\\katta's\\venv\\lib\\site-packages\\sklearn\\base.py:462: DataConversionWarning: Data with input dtype int64, float64 were all converted to float64 by StandardScaler.\n  return self.fit(X, **fit_params).transform(X)\n"
     ]
    }
   ],
   "source": [
    "from sklearn.preprocessing import StandardScaler\n",
    "# Scaling training because of variance\n",
    "ss = StandardScaler()\n",
    "# scaling training data\n",
    "housing_cat1_scaled = ss.fit_transform(housing_int)\n"
   ]
  },
  {
   "cell_type": "code",
   "execution_count": 9,
   "metadata": {},
   "outputs": [],
   "source": [
    "housing_cat1_scaled_df = pd.DataFrame(housing_cat1_scaled, columns=int_columns)"
   ]
  },
  {
   "cell_type": "code",
   "execution_count": 10,
   "metadata": {
    "collapsed": false
   },
   "outputs": [],
   "source": [
    "housing_t = pd.concat([house_obj, housing_cat1_scaled_df],axis= 1)\n"
   ]
  },
  {
   "cell_type": "code",
   "execution_count": 11,
   "metadata": {},
   "outputs": [],
   "source": [
    "housing_t['GarageYrBlt'].fillna(housing_t['GarageYrBlt'].mean(), inplace=True)\n",
    "housing_t['MasVnrArea'].fillna(housing_t['MasVnrArea'].mean(), inplace=True)\n",
    "housing_t['LotFrontage'].fillna(housing_t['LotFrontage'].mean(), inplace=True)"
   ]
  },
  {
   "cell_type": "code",
   "execution_count": 12,
   "metadata": {
    "collapsed": true
   },
   "outputs": [
    {
     "name": "stdout",
     "output_type": "stream",
     "text": [
      "Index(['MSZoning', 'Street', 'LotShape', 'LandContour', 'Utilities',\n       'LotConfig', 'LandSlope', 'Neighborhood', 'Condition1', 'Condition2',\n       'BldgType', 'HouseStyle', 'RoofStyle', 'RoofMatl', 'Exterior1st',\n       'Exterior2nd', 'ExterQual', 'ExterCond', 'Foundation', 'Heating',\n       'HeatingQC', 'CentralAir', 'KitchenQual', 'Functional', 'PavedDrive',\n       'SaleType', 'SaleCondition', 'Id', 'MSSubClass', 'LotFrontage',\n       'LotArea', 'OverallQual', 'OverallCond', 'YearBuilt', 'YearRemodAdd',\n       'MasVnrArea', 'BsmtFinSF1', 'BsmtFinSF2', 'BsmtUnfSF', 'TotalBsmtSF',\n       '1stFlrSF', '2ndFlrSF', 'LowQualFinSF', 'GrLivArea', 'BsmtFullBath',\n       'BsmtHalfBath', 'FullBath', 'HalfBath', 'BedroomAbvGr', 'KitchenAbvGr',\n       'TotRmsAbvGrd', 'Fireplaces', 'GarageYrBlt', 'GarageCars', 'GarageArea',\n       'WoodDeckSF', 'OpenPorchSF', 'EnclosedPorch', '3SsnPorch',\n       'ScreenPorch', 'PoolArea', 'MiscVal', 'MoSold', 'YrSold', 'SalePrice'],\n      dtype='object')\n"
     ]
    }
   ],
   "source": [
    "housing_train = housing_t.dropna()\n",
    "print(housing_train.columns)"
   ]
  },
  {
   "cell_type": "code",
   "execution_count": 13,
   "metadata": {},
   "outputs": [
    {
     "data": {
      "text/plain": [
       "Index(['MSZoning', 'Street', 'LotShape', 'LandContour', 'Utilities',\n       'LotConfig', 'LandSlope', 'Neighborhood', 'Condition1', 'Condition2',\n       'BldgType', 'HouseStyle', 'RoofStyle', 'RoofMatl', 'Exterior1st',\n       'Exterior2nd', 'ExterQual', 'ExterCond', 'Foundation', 'Heating',\n       'HeatingQC', 'CentralAir', 'KitchenQual', 'Functional', 'PavedDrive',\n       'SaleType', 'SaleCondition', 'MSSubClass', 'LotFrontage', 'LotArea',\n       'OverallQual', 'OverallCond', 'YearBuilt', 'YearRemodAdd', 'MasVnrArea',\n       'BsmtFinSF1', 'BsmtFinSF2', 'BsmtUnfSF', 'TotalBsmtSF', '1stFlrSF',\n       '2ndFlrSF', 'LowQualFinSF', 'GrLivArea', 'BsmtFullBath', 'BsmtHalfBath',\n       'FullBath', 'HalfBath', 'BedroomAbvGr', 'KitchenAbvGr', 'TotRmsAbvGrd',\n       'Fireplaces', 'GarageYrBlt', 'GarageCars', 'GarageArea', 'WoodDeckSF',\n       'OpenPorchSF', 'EnclosedPorch', '3SsnPorch', 'ScreenPorch', 'PoolArea',\n       'MiscVal', 'MoSold', 'YrSold'],\n      dtype='object')"
      ]
     },
     "execution_count": 13,
     "metadata": {},
     "output_type": "execute_result"
    }
   ],
   "source": [
    "train_x = housing_train.drop(['SalePrice', 'Id'],axis=1)\n",
    "train_y = housing_train['SalePrice']\n",
    "train_x.columns"
   ]
  },
  {
   "cell_type": "code",
   "execution_count": 64,
   "metadata": {},
   "outputs": [],
   "source": [
    "# Early stopping \n",
    "from keras.callbacks import EarlyStopping\n",
    "_es_monitor = 'val_loss'\n",
    "_es_patience = 10\n",
    "es = EarlyStopping(monitor=_es_monitor, mode='min', verbose=1, patience=_es_patience)"
   ]
  },
  {
   "cell_type": "code",
   "execution_count": 65,
   "metadata": {},
   "outputs": [],
   "source": [
    "#define batch size and number of epchos \n",
    "_batch_size = 32\n",
    "_epochs = 500\n",
    "_mc_model_location = 'v1_model.h5'\n",
    "_mc_monitor = 'val_loss'\n",
    "lr = 0.005\n",
    "# Defining optimizer \n",
    "from keras.optimizers import SGD\n",
    "_opt = SGD(lr)\n",
    "# _opt = 'adam'\n",
    "_loss = 'mean_squared_error'"
   ]
  },
  {
   "cell_type": "code",
   "execution_count": 66,
   "metadata": {},
   "outputs": [],
   "source": [
    "# Model check point\n",
    "from keras.layers import Dropout\n",
    "from keras.models import Sequential\n",
    "from keras.layers import Dense\n",
    "from keras.callbacks import ModelCheckpoint\n",
    "model = Sequential()\n",
    "model.add(Dense(64, activation='relu', kernel_initializer='normal'))\n",
    "model.add(Dropout(0.4))\n",
    "model.add(Dense(10, activation='relu'))\n",
    "model.add(Dropout(0.1))\n",
    "model.add(Dense(1))\n",
    "mc = ModelCheckpoint(_mc_model_location, monitor=_mc_monitor, mode='max', verbose=1, save_best_only=True)"
   ]
  },
  {
   "cell_type": "code",
   "execution_count": 67,
   "metadata": {},
   "outputs": [],
   "source": [
    "model.compile(loss=_loss, optimizer=_opt, metrics=['accuracy'])"
   ]
  },
  {
   "cell_type": "code",
   "execution_count": 68,
   "metadata": {},
   "outputs": [
    {
     "name": "stdout",
     "output_type": "stream",
     "text": [
      "Train on 1168 samples, validate on 292 samples\nEpoch 1/500\n"
     ]
    },
    {
     "name": "stdout",
     "output_type": "stream",
     "text": [
      "\r1168/1168 [==============================] - 1s 552us/step - loss: 2.2049 - acc: 0.0000e+00 - val_loss: 1.3474 - val_acc: 0.0000e+00\n"
     ]
    },
    {
     "name": "stdout",
     "output_type": "stream",
     "text": [
      "\nEpoch 00001: val_loss improved from -inf to 1.34743, saving model to v1_model.h5\n"
     ]
    },
    {
     "name": "stdout",
     "output_type": "stream",
     "text": [
      "Epoch 2/500\n\r1168/1168 [==============================] - 0s 7us/step - loss: 1.7898 - acc: 0.0000e+00 - val_loss: 1.0544 - val_acc: 0.0000e+00\n"
     ]
    },
    {
     "name": "stdout",
     "output_type": "stream",
     "text": [
      "\nEpoch 00002: val_loss did not improve from 1.34743\nEpoch 3/500\n\r1168/1168 [==============================] - 0s 7us/step - loss: 1.5074 - acc: 0.0000e+00 - val_loss: 0.9963 - val_acc: 0.0000e+00\n"
     ]
    },
    {
     "name": "stdout",
     "output_type": "stream",
     "text": [
      "\nEpoch 00003: val_loss did not improve from 1.34743\nEpoch 4/500\n\r1168/1168 [==============================] - 0s 9us/step - loss: 1.1985 - acc: 0.0000e+00 - val_loss: 0.9713 - val_acc: 0.0000e+00\n"
     ]
    },
    {
     "name": "stdout",
     "output_type": "stream",
     "text": [
      "\nEpoch 00004: val_loss did not improve from 1.34743\nEpoch 5/500\n\r1168/1168 [==============================] - 0s 9us/step - loss: 1.1817 - acc: 0.0000e+00 - val_loss: 0.9517 - val_acc: 0.0000e+00\n"
     ]
    },
    {
     "name": "stdout",
     "output_type": "stream",
     "text": [
      "\nEpoch 00005: val_loss did not improve from 1.34743\nEpoch 6/500\n\r1168/1168 [==============================] - 0s 12us/step - loss: 1.0922 - acc: 0.0000e+00 - val_loss: 0.9351 - val_acc: 0.0000e+00\n"
     ]
    },
    {
     "name": "stdout",
     "output_type": "stream",
     "text": [
      "\nEpoch 00006: val_loss did not improve from 1.34743\nEpoch 7/500\n\r1168/1168 [==============================] - 0s 15us/step - loss: 1.0212 - acc: 0.0000e+00 - val_loss: 0.9205 - val_acc: 0.0000e+00\n"
     ]
    },
    {
     "name": "stdout",
     "output_type": "stream",
     "text": [
      "\nEpoch 00007: val_loss did not improve from 1.34743\nEpoch 8/500\n\r1168/1168 [==============================] - 0s 10us/step - loss: 1.0027 - acc: 0.0000e+00 - val_loss: 0.9076 - val_acc: 0.0000e+00\n"
     ]
    },
    {
     "name": "stdout",
     "output_type": "stream",
     "text": [
      "\nEpoch 00008: val_loss did not improve from 1.34743\nEpoch 9/500\n\r1168/1168 [==============================] - 0s 12us/step - loss: 0.9801 - acc: 0.0000e+00 - val_loss: 0.8969 - val_acc: 0.0000e+00\n"
     ]
    },
    {
     "name": "stdout",
     "output_type": "stream",
     "text": [
      "\nEpoch 00009: val_loss did not improve from 1.34743\nEpoch 10/500\n\r1168/1168 [==============================] - 0s 14us/step - loss: 0.9866 - acc: 0.0000e+00 - val_loss: 0.8861 - val_acc: 0.0000e+00\n"
     ]
    },
    {
     "name": "stdout",
     "output_type": "stream",
     "text": [
      "\nEpoch 00010: val_loss did not improve from 1.34743\nEpoch 11/500\n\r1168/1168 [==============================] - 0s 9us/step - loss: 0.9813 - acc: 0.0000e+00 - val_loss: 0.8755 - val_acc: 0.0000e+00\n"
     ]
    },
    {
     "name": "stdout",
     "output_type": "stream",
     "text": [
      "\nEpoch 00011: val_loss did not improve from 1.34743\nEpoch 12/500\n\r1168/1168 [==============================] - 0s 11us/step - loss: 0.9126 - acc: 0.0000e+00 - val_loss: 0.8671 - val_acc: 0.0000e+00\n"
     ]
    },
    {
     "name": "stdout",
     "output_type": "stream",
     "text": [
      "\nEpoch 00012: val_loss did not improve from 1.34743\nEpoch 13/500\n"
     ]
    },
    {
     "name": "stdout",
     "output_type": "stream",
     "text": [
      "\r1168/1168 [==============================] - 0s 9us/step - loss: 0.9204 - acc: 0.0000e+00 - val_loss: 0.8573 - val_acc: 0.0000e+00\n"
     ]
    },
    {
     "name": "stdout",
     "output_type": "stream",
     "text": [
      "\nEpoch 00013: val_loss did not improve from 1.34743\nEpoch 14/500\n"
     ]
    },
    {
     "name": "stdout",
     "output_type": "stream",
     "text": [
      "\r1168/1168 [==============================] - 0s 9us/step - loss: 0.9428 - acc: 0.0000e+00 - val_loss: 0.8477 - val_acc: 0.0000e+00\n"
     ]
    },
    {
     "name": "stdout",
     "output_type": "stream",
     "text": [
      "\nEpoch 00014: val_loss did not improve from 1.34743\nEpoch 15/500\n"
     ]
    },
    {
     "name": "stdout",
     "output_type": "stream",
     "text": [
      "\r1168/1168 [==============================] - 0s 8us/step - loss: 0.9004 - acc: 0.0000e+00 - val_loss: 0.8379 - val_acc: 0.0000e+00\n"
     ]
    },
    {
     "name": "stdout",
     "output_type": "stream",
     "text": [
      "\nEpoch 00015: val_loss did not improve from 1.34743\nEpoch 16/500\n\r1168/1168 [==============================] - 0s 10us/step - loss: 0.9016 - acc: 0.0000e+00 - val_loss: 0.8322 - val_acc: 0.0000e+00\n"
     ]
    },
    {
     "name": "stdout",
     "output_type": "stream",
     "text": [
      "\nEpoch 00016: val_loss did not improve from 1.34743\nEpoch 17/500\n"
     ]
    },
    {
     "name": "stdout",
     "output_type": "stream",
     "text": [
      "\r1168/1168 [==============================] - 0s 10us/step - loss: 0.8828 - acc: 0.0000e+00 - val_loss: 0.8213 - val_acc: 0.0000e+00\n"
     ]
    },
    {
     "name": "stdout",
     "output_type": "stream",
     "text": [
      "\nEpoch 00017: val_loss did not improve from 1.34743\nEpoch 18/500\n"
     ]
    },
    {
     "name": "stdout",
     "output_type": "stream",
     "text": [
      "\r1168/1168 [==============================] - 0s 10us/step - loss: 0.8528 - acc: 0.0000e+00 - val_loss: 0.8135 - val_acc: 0.0000e+00\n"
     ]
    },
    {
     "name": "stdout",
     "output_type": "stream",
     "text": [
      "\nEpoch 00018: val_loss did not improve from 1.34743\nEpoch 19/500\n\r1168/1168 [==============================] - 0s 8us/step - loss: 0.8691 - acc: 0.0000e+00 - val_loss: 0.8062 - val_acc: 0.0000e+00\n"
     ]
    },
    {
     "name": "stdout",
     "output_type": "stream",
     "text": [
      "\nEpoch 00019: val_loss did not improve from 1.34743\nEpoch 20/500\n"
     ]
    },
    {
     "name": "stdout",
     "output_type": "stream",
     "text": [
      "\r1168/1168 [==============================] - 0s 18us/step - loss: 0.8183 - acc: 0.0000e+00 - val_loss: 0.7970 - val_acc: 0.0000e+00\n"
     ]
    },
    {
     "name": "stdout",
     "output_type": "stream",
     "text": [
      "\nEpoch 00020: val_loss did not improve from 1.34743\nEpoch 21/500\n\r1168/1168 [==============================] - 0s 9us/step - loss: 0.8168 - acc: 0.0000e+00 - val_loss: 0.7856 - val_acc: 0.0000e+00\n"
     ]
    },
    {
     "name": "stdout",
     "output_type": "stream",
     "text": [
      "\nEpoch 00021: val_loss did not improve from 1.34743\nEpoch 22/500\n\r1168/1168 [==============================] - 0s 9us/step - loss: 0.7902 - acc: 0.0000e+00 - val_loss: 0.7712 - val_acc: 0.0000e+00\n"
     ]
    },
    {
     "name": "stdout",
     "output_type": "stream",
     "text": [
      "\nEpoch 00022: val_loss did not improve from 1.34743\nEpoch 23/500\n\r1168/1168 [==============================] - 0s 7us/step - loss: 0.8216 - acc: 0.0000e+00 - val_loss: 0.7600 - val_acc: 0.0000e+00\n"
     ]
    },
    {
     "name": "stdout",
     "output_type": "stream",
     "text": [
      "\nEpoch 00023: val_loss did not improve from 1.34743\nEpoch 24/500\n"
     ]
    },
    {
     "name": "stdout",
     "output_type": "stream",
     "text": [
      "\r1168/1168 [==============================] - 0s 9us/step - loss: 0.8021 - acc: 0.0000e+00 - val_loss: 0.7458 - val_acc: 0.0000e+00\n"
     ]
    },
    {
     "name": "stdout",
     "output_type": "stream",
     "text": [
      "\nEpoch 00024: val_loss did not improve from 1.34743\nEpoch 25/500\n"
     ]
    },
    {
     "name": "stdout",
     "output_type": "stream",
     "text": [
      "\r1168/1168 [==============================] - 0s 8us/step - loss: 0.7992 - acc: 0.0000e+00 - val_loss: 0.7388 - val_acc: 0.0000e+00\n"
     ]
    },
    {
     "name": "stdout",
     "output_type": "stream",
     "text": [
      "\nEpoch 00025: val_loss did not improve from 1.34743\nEpoch 26/500\n"
     ]
    },
    {
     "name": "stdout",
     "output_type": "stream",
     "text": [
      "\r1168/1168 [==============================] - 0s 9us/step - loss: 0.7686 - acc: 0.0000e+00 - val_loss: 0.7202 - val_acc: 0.0000e+00\n"
     ]
    },
    {
     "name": "stdout",
     "output_type": "stream",
     "text": [
      "\nEpoch 00026: val_loss did not improve from 1.34743\nEpoch 27/500\n\r1168/1168 [==============================] - 0s 8us/step - loss: 0.7544 - acc: 0.0000e+00 - val_loss: 0.7080 - val_acc: 0.0000e+00\n"
     ]
    },
    {
     "name": "stdout",
     "output_type": "stream",
     "text": [
      "\nEpoch 00027: val_loss did not improve from 1.34743\nEpoch 28/500"
     ]
    },
    {
     "name": "stdout",
     "output_type": "stream",
     "text": [
      "\n\r1168/1168 [==============================] - 0s 8us/step - loss: 0.7749 - acc: 0.0000e+00 - val_loss: 0.7000 - val_acc: 0.0000e+00\n"
     ]
    },
    {
     "name": "stdout",
     "output_type": "stream",
     "text": [
      "\nEpoch 00028: val_loss did not improve from 1.34743\nEpoch 29/500\n"
     ]
    },
    {
     "name": "stdout",
     "output_type": "stream",
     "text": [
      "\r1168/1168 [==============================] - 0s 10us/step - loss: 0.7574 - acc: 0.0000e+00 - val_loss: 0.6826 - val_acc: 0.0000e+00\n"
     ]
    },
    {
     "name": "stdout",
     "output_type": "stream",
     "text": [
      "\nEpoch 00029: val_loss did not improve from 1.34743\nEpoch 30/500\n"
     ]
    },
    {
     "name": "stdout",
     "output_type": "stream",
     "text": [
      "\r1168/1168 [==============================] - 0s 9us/step - loss: 0.7239 - acc: 0.0000e+00 - val_loss: 0.6677 - val_acc: 0.0000e+00\n"
     ]
    },
    {
     "name": "stdout",
     "output_type": "stream",
     "text": [
      "\nEpoch 00030: val_loss did not improve from 1.34743\nEpoch 31/500\n"
     ]
    },
    {
     "name": "stdout",
     "output_type": "stream",
     "text": [
      "\r1168/1168 [==============================] - 0s 9us/step - loss: 0.7069 - acc: 0.0000e+00 - val_loss: 0.6575 - val_acc: 0.0000e+00\n"
     ]
    },
    {
     "name": "stdout",
     "output_type": "stream",
     "text": [
      "\nEpoch 00031: val_loss did not improve from 1.34743\nEpoch 32/500\n"
     ]
    },
    {
     "name": "stdout",
     "output_type": "stream",
     "text": [
      "\r1168/1168 [==============================] - 0s 16us/step - loss: 0.6719 - acc: 0.0000e+00 - val_loss: 0.6457 - val_acc: 0.0000e+00\n"
     ]
    },
    {
     "name": "stdout",
     "output_type": "stream",
     "text": [
      "\nEpoch 00032: val_loss did not improve from 1.34743\nEpoch 33/500\n\r1168/1168 [==============================] - 0s 9us/step - loss: 0.6704 - acc: 0.0000e+00 - val_loss: 0.6358 - val_acc: 0.0000e+00\n"
     ]
    },
    {
     "name": "stdout",
     "output_type": "stream",
     "text": [
      "\nEpoch 00033: val_loss did not improve from 1.34743\nEpoch 34/500\n"
     ]
    },
    {
     "name": "stdout",
     "output_type": "stream",
     "text": [
      "\r1168/1168 [==============================] - 0s 8us/step - loss: 0.6867 - acc: 0.0000e+00 - val_loss: 0.6243 - val_acc: 0.0000e+00\n"
     ]
    },
    {
     "name": "stdout",
     "output_type": "stream",
     "text": [
      "\nEpoch 00034: val_loss did not improve from 1.34743\nEpoch 35/500\n"
     ]
    },
    {
     "name": "stdout",
     "output_type": "stream",
     "text": [
      "\r1168/1168 [==============================] - 0s 7us/step - loss: 0.6559 - acc: 0.0000e+00 - val_loss: 0.6127 - val_acc: 0.0000e+00\n"
     ]
    },
    {
     "name": "stdout",
     "output_type": "stream",
     "text": [
      "\nEpoch 00035: val_loss did not improve from 1.34743\nEpoch 36/500\n\r1168/1168 [==============================]"
     ]
    },
    {
     "name": "stdout",
     "output_type": "stream",
     "text": [
      " - 0s 9us/step - loss: 0.6751 - acc: 0.0000e+00 - val_loss: 0.5981 - val_acc: 0.0000e+00\n"
     ]
    },
    {
     "name": "stdout",
     "output_type": "stream",
     "text": [
      "\nEpoch 00036: val_loss did not improve from 1.34743\nEpoch 37/500\n\r1168/1168 [==============================] - 0s 9us/step - loss: 0.6630 - acc: 0.0000e+00 - val_loss: 0.5938 - val_acc: 0.0000e+00\n"
     ]
    },
    {
     "name": "stdout",
     "output_type": "stream",
     "text": [
      "\nEpoch 00037: val_loss did not improve from 1.34743\nEpoch 38/500\n"
     ]
    },
    {
     "name": "stdout",
     "output_type": "stream",
     "text": [
      "\r1168/1168 [==============================] - 0s 9us/step - loss: 0.6744 - acc: 0.0000e+00 - val_loss: 0.5886 - val_acc: 0.0000e+00\n"
     ]
    },
    {
     "name": "stdout",
     "output_type": "stream",
     "text": [
      "\nEpoch 00038: val_loss did not improve from 1.34743\nEpoch 39/500\n"
     ]
    },
    {
     "name": "stdout",
     "output_type": "stream",
     "text": [
      "\r1168/1168 [==============================] - 0s 9us/step - loss: 0.6577 - acc: 0.0000e+00 - val_loss: 0.5829 - val_acc: 0.0000e+00\n"
     ]
    },
    {
     "name": "stdout",
     "output_type": "stream",
     "text": [
      "\nEpoch 00039: val_loss did not improve from 1.34743\nEpoch 40/500\n"
     ]
    },
    {
     "name": "stdout",
     "output_type": "stream",
     "text": [
      "\r1168/1168 [==============================] - 0s 7us/step - loss: 0.6191 - acc: 0.0000e+00 - val_loss: 0.5739 - val_acc: 0.0000e+00\n"
     ]
    },
    {
     "name": "stdout",
     "output_type": "stream",
     "text": [
      "\nEpoch 00040: val_loss did not improve from 1.34743\nEpoch 41/500\n"
     ]
    },
    {
     "name": "stdout",
     "output_type": "stream",
     "text": [
      "\r1168/1168 [==============================] - 0s 9us/step - loss: 0.6345 - acc: 0.0000e+00 - val_loss: 0.5663 - val_acc: 0.0000e+00\n"
     ]
    },
    {
     "name": "stdout",
     "output_type": "stream",
     "text": [
      "\nEpoch 00041: val_loss did not improve from 1.34743\nEpoch 42/500\n\r1168/1168 [==============================] - 0s 9us/step - loss: 0.6244 - acc: 0.0000e+00 - val_loss: 0.5645 - val_acc: 0.0000e+00\n"
     ]
    },
    {
     "name": "stdout",
     "output_type": "stream",
     "text": [
      "\nEpoch 00042: val_loss did not improve from 1.34743\nEpoch 43/500\n\r1168/1168 [==============================] - 0s 7us/step - loss: 0.5755 - acc: 0.0000e+00 - val_loss: 0.5480 - val_acc: 0.0000e+00\n"
     ]
    },
    {
     "name": "stdout",
     "output_type": "stream",
     "text": [
      "\nEpoch 00043: val_loss did not improve from 1.34743\nEpoch 44/500\n"
     ]
    },
    {
     "name": "stdout",
     "output_type": "stream",
     "text": [
      "\r1168/1168 [==============================] - 0s 8us/step - loss: 0.5767 - acc: 0.0000e+00 - val_loss: 0.5416 - val_acc: 0.0000e+00\n"
     ]
    },
    {
     "name": "stdout",
     "output_type": "stream",
     "text": [
      "\nEpoch 00044: val_loss did not improve from 1.34743\nEpoch 45/500\n"
     ]
    },
    {
     "name": "stdout",
     "output_type": "stream",
     "text": [
      "\r1168/1168 [==============================] - 0s 8us/step - loss: 0.5965 - acc: 0.0000e+00 - val_loss: 0.5375 - val_acc: 0.0000e+00\n"
     ]
    },
    {
     "name": "stdout",
     "output_type": "stream",
     "text": [
      "\nEpoch 00045: val_loss did not improve from 1.34743\nEpoch 46/500\n\r"
     ]
    },
    {
     "name": "stdout",
     "output_type": "stream",
     "text": [
      "1168/1168 [==============================] - 0s 8us/step - loss: 0.5761 - acc: 0.0000e+00 - val_loss: 0.5323 - val_acc: 0.0000e+00\n"
     ]
    },
    {
     "name": "stdout",
     "output_type": "stream",
     "text": [
      "\nEpoch 00046: val_loss did not improve from 1.34743\nEpoch 47/500\n\r1168/1168 [==============================] - 0s 7us/step - loss: 0.6041 - acc: 0.0000e+00 - val_loss: 0.5282 - val_acc: 0.0000e+00\n"
     ]
    },
    {
     "name": "stdout",
     "output_type": "stream",
     "text": [
      "\nEpoch 00047: val_loss did not improve from 1.34743\nEpoch 48/500\n\r1168/1168 [==============================] - 0s 8us/step - loss: 0.5638 - acc: 0.0000e+00 - val_loss: 0.5213 - val_acc: 0.0000e+00\n"
     ]
    },
    {
     "name": "stdout",
     "output_type": "stream",
     "text": [
      "\nEpoch 00048: val_loss did not improve from 1.34743\nEpoch 49/500\n"
     ]
    },
    {
     "name": "stdout",
     "output_type": "stream",
     "text": [
      "\r1168/1168 [==============================] - 0s 9us/step - loss: 0.5082 - acc: 0.0000e+00 - val_loss: 0.5114 - val_acc: 0.0000e+00\n"
     ]
    },
    {
     "name": "stdout",
     "output_type": "stream",
     "text": [
      "\nEpoch 00049: val_loss did not improve from 1.34743\nEpoch 50/500\n"
     ]
    },
    {
     "name": "stdout",
     "output_type": "stream",
     "text": [
      "\r1168/1168 [==============================] - 0s 9us/step - loss: 0.5150 - acc: 0.0000e+00 - val_loss: 0.5013 - val_acc: 0.0000e+00\n"
     ]
    },
    {
     "name": "stdout",
     "output_type": "stream",
     "text": [
      "\nEpoch 00050: val_loss did not improve from 1.34743\nEpoch 51/500\n"
     ]
    },
    {
     "name": "stdout",
     "output_type": "stream",
     "text": [
      "\r1168/1168 [==============================] - 0s 11us/step - loss: 0.5605 - acc: 0.0000e+00 - val_loss: 0.4985 - val_acc: 0.0000e+00\n"
     ]
    },
    {
     "name": "stdout",
     "output_type": "stream",
     "text": [
      "\nEpoch 00051: val_loss did not improve from 1.34743\nEpoch 52/500\n"
     ]
    },
    {
     "name": "stdout",
     "output_type": "stream",
     "text": [
      "\r1168/1168 [==============================] - 0s 9us/step - loss: 0.5141 - acc: 0.0000e+00 - val_loss: 0.4941 - val_acc: 0.0000e+00\n"
     ]
    },
    {
     "name": "stdout",
     "output_type": "stream",
     "text": [
      "\nEpoch 00052: val_loss did not improve from 1.34743\nEpoch 53/500\n"
     ]
    },
    {
     "name": "stdout",
     "output_type": "stream",
     "text": [
      "\r1168/1168 [==============================] - 0s 11us/step - loss: 0.5134 - acc: 0.0000e+00 - val_loss: 0.4819 - val_acc: 0.0000e+00\n"
     ]
    },
    {
     "name": "stdout",
     "output_type": "stream",
     "text": [
      "\nEpoch 00053: val_loss did not improve from 1.34743\nEpoch 54/500\n"
     ]
    },
    {
     "name": "stdout",
     "output_type": "stream",
     "text": [
      "\r1168/1168 [==============================] - 0s 8us/step - loss: 0.5397 - acc: 0.0000e+00 - val_loss: 0.4749 - val_acc: 0.0000e+00\n"
     ]
    },
    {
     "name": "stdout",
     "output_type": "stream",
     "text": [
      "\nEpoch 00054: val_loss did not improve from 1.34743\nEpoch 55/500\n"
     ]
    },
    {
     "name": "stdout",
     "output_type": "stream",
     "text": [
      "\r1168/1168 [==============================] - 0s 7us/step - loss: 0.5006 - acc: 0.0000e+00 - val_loss: 0.4701 - val_acc: 0.0000e+00\n"
     ]
    },
    {
     "name": "stdout",
     "output_type": "stream",
     "text": [
      "\nEpoch 00055: val_loss did not improve from 1.34743\nEpoch 56/500\n"
     ]
    },
    {
     "name": "stdout",
     "output_type": "stream",
     "text": [
      "\r1168/1168 [==============================] - 0s 9us/step - loss: 0.4959 - acc: 0.0000e+00 - val_loss: 0.4728 - val_acc: 0.0000e+00\n"
     ]
    },
    {
     "name": "stdout",
     "output_type": "stream",
     "text": [
      "\nEpoch 00056: val_loss did not improve from 1.34743\nEpoch 57/500\n\r1168/1168 [==============================] - 0s 9us/step - loss: 0.4959 - acc: 0.0000e+00 - val_loss: 0.4642 - val_acc: 0.0000e+00\n"
     ]
    },
    {
     "name": "stdout",
     "output_type": "stream",
     "text": [
      "\nEpoch 00057: val_loss did not improve from 1.34743\nEpoch 58/500"
     ]
    },
    {
     "name": "stdout",
     "output_type": "stream",
     "text": [
      "\n\r1168/1168 [==============================] - 0s 8us/step - loss: 0.4887 - acc: 0.0000e+00 - val_loss: 0.4602 - val_acc: 0.0000e+00\n"
     ]
    },
    {
     "name": "stdout",
     "output_type": "stream",
     "text": [
      "\nEpoch 00058: val_loss did not improve from 1.34743\nEpoch 59/500\n"
     ]
    },
    {
     "name": "stdout",
     "output_type": "stream",
     "text": [
      "\r1168/1168 [==============================] - 0s 7us/step - loss: 0.4879 - acc: 0.0000e+00 - val_loss: 0.4554 - val_acc: 0.0000e+00\n"
     ]
    },
    {
     "name": "stdout",
     "output_type": "stream",
     "text": [
      "\nEpoch 00059: val_loss did not improve from 1.34743\nEpoch 60/500\n"
     ]
    },
    {
     "name": "stdout",
     "output_type": "stream",
     "text": [
      "\r1168/1168 [==============================] - 0s 10us/step - loss: 0.5096 - acc: 0.0000e+00 - val_loss: 0.4520 - val_acc: 0.0000e+00\n"
     ]
    },
    {
     "name": "stdout",
     "output_type": "stream",
     "text": [
      "\nEpoch 00060: val_loss did not improve from 1.34743\nEpoch 61/500\n"
     ]
    },
    {
     "name": "stdout",
     "output_type": "stream",
     "text": [
      "\r1168/1168 [==============================] - 0s 9us/step - loss: 0.5031 - acc: 0.0000e+00 - val_loss: 0.4515 - val_acc: 0.0000e+00\n"
     ]
    },
    {
     "name": "stdout",
     "output_type": "stream",
     "text": [
      "\nEpoch 00061: val_loss did not improve from 1.34743\nEpoch 62/500\n\r1168/1168 [==============================] - 0s 8us/step - loss: 0.4865 - acc: 0.0000e+00 - val_loss: 0.4467 - val_acc: 0.0000e+00\n"
     ]
    },
    {
     "name": "stdout",
     "output_type": "stream",
     "text": [
      "\nEpoch 00062: val_loss did not improve from 1.34743\nEpoch 63/500\n"
     ]
    },
    {
     "name": "stdout",
     "output_type": "stream",
     "text": [
      "\r1168/1168 [==============================] - 0s 9us/step - loss: 0.4997 - acc: 0.0000e+00 - val_loss: 0.4437 - val_acc: 0.0000e+00\n"
     ]
    },
    {
     "name": "stdout",
     "output_type": "stream",
     "text": [
      "\nEpoch 00063: val_loss did not improve from 1.34743\nEpoch 64/500\n"
     ]
    },
    {
     "name": "stdout",
     "output_type": "stream",
     "text": [
      "\r1168/1168 [==============================] - 0s 11us/step - loss: 0.4737 - acc: 0.0000e+00 - val_loss: 0.4364 - val_acc: 0.0000e+00\n"
     ]
    },
    {
     "name": "stdout",
     "output_type": "stream",
     "text": [
      "\nEpoch 00064: val_loss did not improve from 1.34743\nEpoch 65/500\n"
     ]
    },
    {
     "name": "stdout",
     "output_type": "stream",
     "text": [
      "\r1168/1168 [==============================] - 0s 9us/step - loss: 0.4649 - acc: 0.0000e+00 - val_loss: 0.4389 - val_acc: 0.0000e+00\n"
     ]
    },
    {
     "name": "stdout",
     "output_type": "stream",
     "text": [
      "\nEpoch 00065: val_loss did not improve from 1.34743\nEpoch 66/500\n"
     ]
    },
    {
     "name": "stdout",
     "output_type": "stream",
     "text": [
      "\r1168/1168 [==============================] - 0s 9us/step - loss: 0.4806 - acc: 0.0000e+00 - val_loss: 0.4332 - val_acc: 0.0000e+00\n"
     ]
    },
    {
     "name": "stdout",
     "output_type": "stream",
     "text": [
      "\nEpoch 00066: val_loss did not improve from 1.34743\nEpoch 67/500\n\r1168/1168 [==============================]"
     ]
    },
    {
     "name": "stdout",
     "output_type": "stream",
     "text": [
      " - 0s 9us/step - loss: 0.4911 - acc: 0.0000e+00 - val_loss: 0.4320 - val_acc: 0.0000e+00\n"
     ]
    },
    {
     "name": "stdout",
     "output_type": "stream",
     "text": [
      "\nEpoch 00067: val_loss did not improve from 1.34743\nEpoch 68/500\n\r1168/1168 [==============================] - 0s 7us/step - loss: 0.4552 - acc: 0.0000e+00 - val_loss: 0.4271 - val_acc: 0.0000e+00\n"
     ]
    },
    {
     "name": "stdout",
     "output_type": "stream",
     "text": [
      "\nEpoch 00068: val_loss did not improve from 1.34743\nEpoch 69/500\n"
     ]
    },
    {
     "name": "stdout",
     "output_type": "stream",
     "text": [
      "\r1168/1168 [==============================] - 0s 8us/step - loss: 0.4474 - acc: 0.0000e+00 - val_loss: 0.4237 - val_acc: 0.0000e+00\n"
     ]
    },
    {
     "name": "stdout",
     "output_type": "stream",
     "text": [
      "\nEpoch 00069: val_loss did not improve from 1.34743\nEpoch 70/500\n"
     ]
    },
    {
     "name": "stdout",
     "output_type": "stream",
     "text": [
      "\r1168/1168 [==============================] - 0s 9us/step - loss: 0.4305 - acc: 0.0000e+00 - val_loss: 0.4188 - val_acc: 0.0000e+00\n"
     ]
    },
    {
     "name": "stdout",
     "output_type": "stream",
     "text": [
      "\nEpoch 00070: val_loss did not improve from 1.34743\nEpoch 71/500\n"
     ]
    },
    {
     "name": "stdout",
     "output_type": "stream",
     "text": [
      "\r1168/1168 [==============================] - 0s 9us/step - loss: 0.4108 - acc: 0.0000e+00 - val_loss: 0.4161 - val_acc: 0.0000e+00\n"
     ]
    },
    {
     "name": "stdout",
     "output_type": "stream",
     "text": [
      "\nEpoch 00071: val_loss did not improve from 1.34743\nEpoch 72/500\n\r1168/1168 [==============================] - 0s 9us/step - loss: 0.4399 - acc: 0.0000e+00 - val_loss: 0.4166 - val_acc: 0.0000e+00\n"
     ]
    },
    {
     "name": "stdout",
     "output_type": "stream",
     "text": [
      "\nEpoch 00072: val_loss did not improve from 1.34743\nEpoch 73/500\n"
     ]
    },
    {
     "name": "stdout",
     "output_type": "stream",
     "text": [
      "\r1168/1168 [==============================] - 0s 8us/step - loss: 0.4355 - acc: 0.0000e+00 - val_loss: 0.4166 - val_acc: 0.0000e+00\n"
     ]
    },
    {
     "name": "stdout",
     "output_type": "stream",
     "text": [
      "\nEpoch 00073: val_loss did not improve from 1.34743\nEpoch 74/500\n"
     ]
    },
    {
     "name": "stdout",
     "output_type": "stream",
     "text": [
      "\r1168/1168 [==============================] - 0s 8us/step - loss: 0.4161 - acc: 0.0000e+00 - val_loss: 0.4131 - val_acc: 0.0000e+00\n"
     ]
    },
    {
     "name": "stdout",
     "output_type": "stream",
     "text": [
      "\nEpoch 00074: val_loss did not improve from 1.34743\nEpoch 75/500\n"
     ]
    },
    {
     "name": "stdout",
     "output_type": "stream",
     "text": [
      "\r1168/1168 [==============================] - 0s 9us/step - loss: 0.4035 - acc: 0.0000e+00 - val_loss: 0.4133 - val_acc: 0.0000e+00\n"
     ]
    },
    {
     "name": "stdout",
     "output_type": "stream",
     "text": [
      "\nEpoch 00075: val_loss did not improve from 1.34743\nEpoch 76/500\n\r1168/1168 [==============================] - 0s 9us/step - loss: 0.4282 - acc: 0.0000e+00 - val_loss: 0.4096 - val_acc: 0.0000e+00\n"
     ]
    },
    {
     "name": "stdout",
     "output_type": "stream",
     "text": [
      "\nEpoch 00076: val_loss did not improve from 1.34743\nEpoch 77/500\n\r1168/1168 [==============================] - 0s 8us/step - loss: 0.3904 - acc: 0.0000e+00 - val_loss: 0.4063 - val_acc: 0.0000e+00\n"
     ]
    },
    {
     "name": "stdout",
     "output_type": "stream",
     "text": [
      "\nEpoch 00077: val_loss did not improve from 1.34743\nEpoch 78/500\n"
     ]
    },
    {
     "name": "stdout",
     "output_type": "stream",
     "text": [
      "\r1168/1168 [==============================] - 0s 8us/step - loss: 0.4286 - acc: 0.0000e+00 - val_loss: 0.4062 - val_acc: 0.0000e+00\n"
     ]
    },
    {
     "name": "stdout",
     "output_type": "stream",
     "text": [
      "\nEpoch 00078: val_loss did not improve from 1.34743\nEpoch 79/500\n"
     ]
    },
    {
     "name": "stdout",
     "output_type": "stream",
     "text": [
      "\r1168/1168 [==============================] - 0s 9us/step - loss: 0.3837 - acc: 0.0000e+00 - val_loss: 0.4023 - val_acc: 0.0000e+00\n"
     ]
    },
    {
     "name": "stdout",
     "output_type": "stream",
     "text": [
      "\nEpoch 00079: val_loss did not improve from 1.34743\nEpoch 80/500\n\r1168/1168 [==============================] - 0s 8us/step - loss: 0.4106 - acc: 0.0000e+00 - val_loss: 0.4018 - val_acc: 0.0000e+00\n"
     ]
    },
    {
     "name": "stdout",
     "output_type": "stream",
     "text": [
      "\nEpoch 00080: val_loss did not improve from 1.34743\nEpoch 81/500\n\r1168/1168 [==============================] - 0s 8us/step - loss: 0.4167 - acc: 0.0000e+00 - val_loss: 0.4016 - val_acc: 0.0000e+00\n"
     ]
    },
    {
     "name": "stdout",
     "output_type": "stream",
     "text": [
      "\nEpoch 00081: val_loss did not improve from 1.34743\nEpoch 82/500\n"
     ]
    },
    {
     "name": "stdout",
     "output_type": "stream",
     "text": [
      "\r1168/1168 [==============================] - 0s 7us/step - loss: 0.3918 - acc: 0.0000e+00 - val_loss: 0.3996 - val_acc: 0.0000e+00\n"
     ]
    },
    {
     "name": "stdout",
     "output_type": "stream",
     "text": [
      "\nEpoch 00082: val_loss did not improve from 1.34743\nEpoch 83/500\n"
     ]
    },
    {
     "name": "stdout",
     "output_type": "stream",
     "text": [
      "\r1168/1168 [==============================] - 0s 9us/step - loss: 0.4049 - acc: 0.0000e+00 - val_loss: 0.3955 - val_acc: 0.0000e+00\n"
     ]
    },
    {
     "name": "stdout",
     "output_type": "stream",
     "text": [
      "\nEpoch 00083: val_loss did not improve from 1.34743\nEpoch 84/500\n\r"
     ]
    },
    {
     "name": "stdout",
     "output_type": "stream",
     "text": [
      "1168/1168 [==============================] - 0s 9us/step - loss: 0.3915 - acc: 0.0000e+00 - val_loss: 0.3975 - val_acc: 0.0000e+00\n"
     ]
    },
    {
     "name": "stdout",
     "output_type": "stream",
     "text": [
      "\nEpoch 00084: val_loss did not improve from 1.34743\nEpoch 85/500\n\r1168/1168 [==============================] - 0s 8us/step - loss: 0.3904 - acc: 0.0000e+00 - val_loss: 0.3931 - val_acc: 0.0000e+00\n"
     ]
    },
    {
     "name": "stdout",
     "output_type": "stream",
     "text": [
      "\nEpoch 00085: val_loss did not improve from 1.34743\nEpoch 86/500\n"
     ]
    },
    {
     "name": "stdout",
     "output_type": "stream",
     "text": [
      "\r1168/1168 [==============================] - 0s 9us/step - loss: 0.4051 - acc: 0.0000e+00 - val_loss: 0.3938 - val_acc: 0.0000e+00\n"
     ]
    },
    {
     "name": "stdout",
     "output_type": "stream",
     "text": [
      "\nEpoch 00086: val_loss did not improve from 1.34743\nEpoch 87/500\n"
     ]
    },
    {
     "name": "stdout",
     "output_type": "stream",
     "text": [
      "\r1168/1168 [==============================] - 0s 8us/step - loss: 0.3716 - acc: 0.0000e+00 - val_loss: 0.3935 - val_acc: 0.0000e+00\n"
     ]
    },
    {
     "name": "stdout",
     "output_type": "stream",
     "text": [
      "\nEpoch 00087: val_loss did not improve from 1.34743\nEpoch 88/500\n\r1168/1168 [==============================] - 0s 9us/step - loss: 0.3563 - acc: 0.0000e+00 - val_loss: 0.3864 - val_acc: 0.0000e+00\n"
     ]
    },
    {
     "name": "stdout",
     "output_type": "stream",
     "text": [
      "\nEpoch 00088: val_loss did not improve from 1.34743\nEpoch 89/500\n\r1168/1168 [==============================] - 0s 7us/step - loss: 0.4065 - acc: 0.0000e+00 - val_loss: 0.3832 - val_acc: 0.0000e+00\n"
     ]
    },
    {
     "name": "stdout",
     "output_type": "stream",
     "text": [
      "\nEpoch 00089: val_loss did not improve from 1.34743\nEpoch 90/500\n"
     ]
    },
    {
     "name": "stdout",
     "output_type": "stream",
     "text": [
      "\r1168/1168 [==============================] - 0s 9us/step - loss: 0.3897 - acc: 0.0000e+00 - val_loss: 0.3857 - val_acc: 0.0000e+00\n"
     ]
    },
    {
     "name": "stdout",
     "output_type": "stream",
     "text": [
      "\nEpoch 00090: val_loss did not improve from 1.34743\nEpoch 91/500\n"
     ]
    },
    {
     "name": "stdout",
     "output_type": "stream",
     "text": [
      "\r1168/1168 [==============================] - 0s 13us/step - loss: 0.4145 - acc: 0.0000e+00 - val_loss: 0.3856 - val_acc: 0.0000e+00\n"
     ]
    },
    {
     "name": "stdout",
     "output_type": "stream",
     "text": [
      "\nEpoch 00091: val_loss did not improve from 1.34743\nEpoch 92/500\n"
     ]
    },
    {
     "name": "stdout",
     "output_type": "stream",
     "text": [
      "\r1168/1168 [==============================] - 0s 8us/step - loss: 0.3683 - acc: 0.0000e+00 - val_loss: 0.3845 - val_acc: 0.0000e+00\n"
     ]
    },
    {
     "name": "stdout",
     "output_type": "stream",
     "text": [
      "\nEpoch 00092: val_loss did not improve from 1.34743\nEpoch 93/500\n"
     ]
    },
    {
     "name": "stdout",
     "output_type": "stream",
     "text": [
      "\r1168/1168 [==============================] - 0s 10us/step - loss: 0.3585 - acc: 0.0000e+00 - val_loss: 0.3807 - val_acc: 0.0000e+00\n"
     ]
    },
    {
     "name": "stdout",
     "output_type": "stream",
     "text": [
      "\nEpoch 00093: val_loss did not improve from 1.34743\nEpoch 94/500\n"
     ]
    },
    {
     "name": "stdout",
     "output_type": "stream",
     "text": [
      "\r1168/1168 [==============================] - 0s 9us/step - loss: 0.3647 - acc: 0.0000e+00 - val_loss: 0.3796 - val_acc: 0.0000e+00\n"
     ]
    },
    {
     "name": "stdout",
     "output_type": "stream",
     "text": [
      "\nEpoch 00094: val_loss did not improve from 1.34743\nEpoch 95/500\n"
     ]
    },
    {
     "name": "stdout",
     "output_type": "stream",
     "text": [
      "\r1168/1168 [==============================] - 0s 9us/step - loss: 0.3981 - acc: 0.0000e+00 - val_loss: 0.3789 - val_acc: 0.0000e+00\n"
     ]
    },
    {
     "name": "stdout",
     "output_type": "stream",
     "text": [
      "\nEpoch 00095: val_loss did not improve from 1.34743\nEpoch 96/500\n\r1168/1168 [==============================] - 0s 9us/step - loss: 0.3468 - acc: 0.0000e+00 - val_loss: 0.3774 - val_acc: 0.0000e+00\n"
     ]
    },
    {
     "name": "stdout",
     "output_type": "stream",
     "text": [
      "\nEpoch 00096: val_loss did not improve from 1.34743\nEpoch 97/500"
     ]
    },
    {
     "name": "stdout",
     "output_type": "stream",
     "text": [
      "\n\r1168/1168 [==============================] - 0s 9us/step - loss: 0.3470 - acc: 0.0000e+00 - val_loss: 0.3765 - val_acc: 0.0000e+00\n"
     ]
    },
    {
     "name": "stdout",
     "output_type": "stream",
     "text": [
      "\nEpoch 00097: val_loss did not improve from 1.34743\nEpoch 98/500\n"
     ]
    },
    {
     "name": "stdout",
     "output_type": "stream",
     "text": [
      "\r1168/1168 [==============================] - 0s 9us/step - loss: 0.3903 - acc: 0.0000e+00 - val_loss: 0.3755 - val_acc: 0.0000e+00\n"
     ]
    },
    {
     "name": "stdout",
     "output_type": "stream",
     "text": [
      "\nEpoch 00098: val_loss did not improve from 1.34743\nEpoch 99/500\n"
     ]
    },
    {
     "name": "stdout",
     "output_type": "stream",
     "text": [
      "\r1168/1168 [==============================] - 0s 14us/step - loss: 0.3647 - acc: 0.0000e+00 - val_loss: 0.3748 - val_acc: 0.0000e+00\n"
     ]
    },
    {
     "name": "stdout",
     "output_type": "stream",
     "text": [
      "\nEpoch 00099: val_loss did not improve from 1.34743\nEpoch 100/500\n"
     ]
    },
    {
     "name": "stdout",
     "output_type": "stream",
     "text": [
      "\r1168/1168 [==============================] - 0s 9us/step - loss: 0.3771 - acc: 0.0000e+00 - val_loss: 0.3731 - val_acc: 0.0000e+00\n"
     ]
    },
    {
     "name": "stdout",
     "output_type": "stream",
     "text": [
      "\nEpoch 00100: val_loss did not improve from 1.34743\nEpoch 101/500\n"
     ]
    },
    {
     "name": "stdout",
     "output_type": "stream",
     "text": [
      "\r1168/1168 [==============================] - 0s 9us/step - loss: 0.3591 - acc: 0.0000e+00 - val_loss: 0.3743 - val_acc: 0.0000e+00\n"
     ]
    },
    {
     "name": "stdout",
     "output_type": "stream",
     "text": [
      "\nEpoch 00101: val_loss did not improve from 1.34743\nEpoch 102/500\n"
     ]
    },
    {
     "name": "stdout",
     "output_type": "stream",
     "text": [
      "\r1168/1168 [==============================] - 0s 8us/step - loss: 0.3571 - acc: 0.0000e+00 - val_loss: 0.3722 - val_acc: 0.0000e+00\n"
     ]
    },
    {
     "name": "stdout",
     "output_type": "stream",
     "text": [
      "\nEpoch 00102: val_loss did not improve from 1.34743\nEpoch 103/500\n"
     ]
    },
    {
     "name": "stdout",
     "output_type": "stream",
     "text": [
      "\r1168/1168 [==============================] - 0s 9us/step - loss: 0.3815 - acc: 0.0000e+00 - val_loss: 0.3730 - val_acc: 0.0000e+00\n"
     ]
    },
    {
     "name": "stdout",
     "output_type": "stream",
     "text": [
      "\nEpoch 00103: val_loss did not improve from 1.34743\nEpoch 104/500\n\r1168/1168 [==============================] - 0s 8us/step - loss: 0.3488 - acc: 0.0000e+00 - val_loss: 0.3713 - val_acc: 0.0000e+00\n"
     ]
    },
    {
     "name": "stdout",
     "output_type": "stream",
     "text": [
      "\nEpoch 00104: val_loss did not improve from 1.34743\nEpoch 105/500\n"
     ]
    },
    {
     "name": "stdout",
     "output_type": "stream",
     "text": [
      "\r1168/1168 [==============================] - 0s 9us/step - loss: 0.3635 - acc: 0.0000e+00 - val_loss: 0.3684 - val_acc: 0.0000e+00\n"
     ]
    },
    {
     "name": "stdout",
     "output_type": "stream",
     "text": [
      "\nEpoch 00105: val_loss did not improve from 1.34743\nEpoch 106/500\n"
     ]
    },
    {
     "name": "stdout",
     "output_type": "stream",
     "text": [
      "\r1168/1168 [==============================] - 0s 9us/step - loss: 0.3574 - acc: 0.0000e+00 - val_loss: 0.3680 - val_acc: 0.0000e+00\n"
     ]
    },
    {
     "name": "stdout",
     "output_type": "stream",
     "text": [
      "\nEpoch 00106: val_loss did not improve from 1.34743\nEpoch 107/500\n"
     ]
    },
    {
     "name": "stdout",
     "output_type": "stream",
     "text": [
      "\r1168/1168 [==============================] - 0s 8us/step - loss: 0.3705 - acc: 0.0000e+00 - val_loss: 0.3684 - val_acc: 0.0000e+00\n"
     ]
    },
    {
     "name": "stdout",
     "output_type": "stream",
     "text": [
      "\nEpoch 00107: val_loss did not improve from 1.34743\nEpoch 108/500\n"
     ]
    },
    {
     "name": "stdout",
     "output_type": "stream",
     "text": [
      "\r1168/1168 [==============================] - 0s 9us/step - loss: 0.3315 - acc: 0.0000e+00 - val_loss: 0.3690 - val_acc: 0.0000e+00\n"
     ]
    },
    {
     "name": "stdout",
     "output_type": "stream",
     "text": [
      "\nEpoch 00108: val_loss did not improve from 1.34743\nEpoch 109/500\n\r1168/1168 [==============================] - 0s 9us/step - loss: 0.3365 - acc: 0.0000e+00 - val_loss: 0.3712 - val_acc: 0.0000e+00\n"
     ]
    },
    {
     "name": "stdout",
     "output_type": "stream",
     "text": [
      "\nEpoch 00109: val_loss did not improve from 1.34743\nEpoch 110/500\n"
     ]
    },
    {
     "name": "stdout",
     "output_type": "stream",
     "text": [
      "\r1168/1168 [==============================] - 0s 9us/step - loss: 0.3209 - acc: 0.0000e+00 - val_loss: 0.3681 - val_acc: 0.0000e+00\n"
     ]
    },
    {
     "name": "stdout",
     "output_type": "stream",
     "text": [
      "\nEpoch 00110: val_loss did not improve from 1.34743\nEpoch 111/500\n"
     ]
    },
    {
     "name": "stdout",
     "output_type": "stream",
     "text": [
      "\r1168/1168 [==============================] - 0s 8us/step - loss: 0.3758 - acc: 0.0000e+00 - val_loss: 0.3692 - val_acc: 0.0000e+00\n"
     ]
    },
    {
     "name": "stdout",
     "output_type": "stream",
     "text": [
      "\nEpoch 00111: val_loss did not improve from 1.34743\nEpoch 112/500\n"
     ]
    },
    {
     "name": "stdout",
     "output_type": "stream",
     "text": [
      "\r1168/1168 [==============================] - 0s 9us/step - loss: 0.3745 - acc: 0.0000e+00 - val_loss: 0.3665 - val_acc: 0.0000e+00\n"
     ]
    },
    {
     "name": "stdout",
     "output_type": "stream",
     "text": [
      "\nEpoch 00112: val_loss did not improve from 1.34743\nEpoch 113/500\n"
     ]
    },
    {
     "name": "stdout",
     "output_type": "stream",
     "text": [
      "\r1168/1168 [==============================] - 0s 9us/step - loss: 0.3608 - acc: 0.0000e+00 - val_loss: 0.3734 - val_acc: 0.0000e+00\n"
     ]
    },
    {
     "name": "stdout",
     "output_type": "stream",
     "text": [
      "\nEpoch 00113: val_loss did not improve from 1.34743\nEpoch 114/500\n\r1168/1168 [==============================] - 0s 9us/step - loss: 0.3212 - acc: 0.0000e+00 - val_loss: 0.3683 - val_acc: 0.0000e+00\n"
     ]
    },
    {
     "name": "stdout",
     "output_type": "stream",
     "text": [
      "\nEpoch 00114: val_loss did not improve from 1.34743\nEpoch 115/500\n"
     ]
    },
    {
     "name": "stdout",
     "output_type": "stream",
     "text": [
      "\r1168/1168 [==============================] - 0s 10us/step - loss: 0.3335 - acc: 0.0000e+00 - val_loss: 0.3675 - val_acc: 0.0000e+00\n"
     ]
    },
    {
     "name": "stdout",
     "output_type": "stream",
     "text": [
      "\nEpoch 00115: val_loss did not improve from 1.34743\nEpoch 116/500\n"
     ]
    },
    {
     "name": "stdout",
     "output_type": "stream",
     "text": [
      "\r1168/1168 [==============================] - 0s 8us/step - loss: 0.3493 - acc: 0.0000e+00 - val_loss: 0.3695 - val_acc: 0.0000e+00\n"
     ]
    },
    {
     "name": "stdout",
     "output_type": "stream",
     "text": [
      "\nEpoch 00116: val_loss did not improve from 1.34743\nEpoch 117/500\n"
     ]
    },
    {
     "name": "stdout",
     "output_type": "stream",
     "text": [
      "\r1168/1168 [==============================] - 0s 7us/step - loss: 0.3428 - acc: 0.0000e+00 - val_loss: 0.3677 - val_acc: 0.0000e+00\n"
     ]
    },
    {
     "name": "stdout",
     "output_type": "stream",
     "text": [
      "\nEpoch 00117: val_loss did not improve from 1.34743\nEpoch 118/500\n\r"
     ]
    },
    {
     "name": "stdout",
     "output_type": "stream",
     "text": [
      "1168/1168 [==============================] - 0s 9us/step - loss: 0.3192 - acc: 0.0000e+00 - val_loss: 0.3673 - val_acc: 0.0000e+00\n"
     ]
    },
    {
     "name": "stdout",
     "output_type": "stream",
     "text": [
      "\nEpoch 00118: val_loss did not improve from 1.34743\nEpoch 119/500\n\r1168/1168 [==============================] - 0s 8us/step - loss: 0.3320 - acc: 0.0000e+00 - val_loss: 0.3671 - val_acc: 0.0000e+00\n"
     ]
    },
    {
     "name": "stdout",
     "output_type": "stream",
     "text": [
      "\nEpoch 00119: val_loss did not improve from 1.34743\nEpoch 120/500\n"
     ]
    },
    {
     "name": "stdout",
     "output_type": "stream",
     "text": [
      "\r1168/1168 [==============================] - 0s 9us/step - loss: 0.3487 - acc: 0.0000e+00 - val_loss: 0.3664 - val_acc: 0.0000e+00\n"
     ]
    },
    {
     "name": "stdout",
     "output_type": "stream",
     "text": [
      "\nEpoch 00120: val_loss did not improve from 1.34743\nEpoch 121/500\n"
     ]
    },
    {
     "name": "stdout",
     "output_type": "stream",
     "text": [
      "\r1168/1168 [==============================] - 0s 9us/step - loss: 0.3432 - acc: 0.0000e+00 - val_loss: 0.3637 - val_acc: 0.0000e+00\n"
     ]
    },
    {
     "name": "stdout",
     "output_type": "stream",
     "text": [
      "\nEpoch 00121: val_loss did not improve from 1.34743\nEpoch 122/500\n\r"
     ]
    },
    {
     "name": "stdout",
     "output_type": "stream",
     "text": [
      "1168/1168 [==============================] - 0s 9us/step - loss: 0.3256 - acc: 0.0000e+00 - val_loss: 0.3653 - val_acc: 0.0000e+00\n"
     ]
    },
    {
     "name": "stdout",
     "output_type": "stream",
     "text": [
      "\nEpoch 00122: val_loss did not improve from 1.34743\nEpoch 123/500\n\r1168/1168 [==============================] - 0s 9us/step - loss: 0.3335 - acc: 0.0000e+00 - val_loss: 0.3640 - val_acc: 0.0000e+00\n"
     ]
    },
    {
     "name": "stdout",
     "output_type": "stream",
     "text": [
      "\nEpoch 00123: val_loss did not improve from 1.34743"
     ]
    },
    {
     "name": "stdout",
     "output_type": "stream",
     "text": [
      "\nEpoch 124/500\n\r1168/1168 [==============================] - 0s 8us/step - loss: 0.3020 - acc: 0.0000e+00 - val_loss: 0.3654 - val_acc: 0.0000e+00\n"
     ]
    },
    {
     "name": "stdout",
     "output_type": "stream",
     "text": [
      "\nEpoch 00124: val_loss did not improve from 1.34743\nEpoch 125/500\n"
     ]
    },
    {
     "name": "stdout",
     "output_type": "stream",
     "text": [
      "\r1168/1168 [==============================] - 0s 8us/step - loss: 0.3056 - acc: 0.0000e+00 - val_loss: 0.3632 - val_acc: 0.0000e+00\n"
     ]
    },
    {
     "name": "stdout",
     "output_type": "stream",
     "text": [
      "\nEpoch 00125: val_loss did not improve from 1.34743\nEpoch 126/500\n"
     ]
    },
    {
     "name": "stdout",
     "output_type": "stream",
     "text": [
      "\r1168/1168 [==============================] - 0s 10us/step - loss: 0.3364 - acc: 0.0000e+00 - val_loss: 0.3622 - val_acc: 0.0000e+00\n"
     ]
    },
    {
     "name": "stdout",
     "output_type": "stream",
     "text": [
      "\nEpoch 00126: val_loss did not improve from 1.34743\nEpoch 127/500\n\r1168/1168 [==============================] - 0s 9us/step - loss: 0.3180 - acc: 0.0000e+00 - val_loss: 0.3631 - val_acc: 0.0000e+00\n"
     ]
    },
    {
     "name": "stdout",
     "output_type": "stream",
     "text": [
      "\nEpoch 00127: val_loss did not improve from 1.34743\nEpoch 128/500\n\r1168/1168 [==============================] - 0s 8us/step - loss: 0.3217 - acc: 0.0000e+00 - val_loss: 0.3628 - val_acc: 0.0000e+00\n"
     ]
    },
    {
     "name": "stdout",
     "output_type": "stream",
     "text": [
      "\nEpoch 00128: val_loss did not improve from 1.34743\nEpoch 129/500\n"
     ]
    },
    {
     "name": "stdout",
     "output_type": "stream",
     "text": [
      "\r1168/1168 [==============================] - 0s 9us/step - loss: 0.3059 - acc: 0.0000e+00 - val_loss: 0.3600 - val_acc: 0.0000e+00\n"
     ]
    },
    {
     "name": "stdout",
     "output_type": "stream",
     "text": [
      "\nEpoch 00129: val_loss did not improve from 1.34743\nEpoch 130/500\n"
     ]
    },
    {
     "name": "stdout",
     "output_type": "stream",
     "text": [
      "\r1168/1168 [==============================] - 0s 6us/step - loss: 0.3155 - acc: 0.0000e+00 - val_loss: 0.3577 - val_acc: 0.0000e+00\n"
     ]
    },
    {
     "name": "stdout",
     "output_type": "stream",
     "text": [
      "\nEpoch 00130: val_loss did not improve from 1.34743\nEpoch 131/500\n"
     ]
    },
    {
     "name": "stdout",
     "output_type": "stream",
     "text": [
      "\r1168/1168 [==============================] - 0s 9us/step - loss: 0.3091 - acc: 0.0000e+00 - val_loss: 0.3602 - val_acc: 0.0000e+00\n"
     ]
    },
    {
     "name": "stdout",
     "output_type": "stream",
     "text": [
      "\nEpoch 00131: val_loss did not improve from 1.34743\nEpoch 132/500\n\r1168/1168 [==============================] - 0s 9us/step - loss: 0.3040 - acc: 0.0000e+00 - val_loss: 0.3607 - val_acc: 0.0000e+00\n"
     ]
    },
    {
     "name": "stdout",
     "output_type": "stream",
     "text": [
      "\nEpoch 00132: val_loss did not improve from 1.34743\nEpoch 133/500\n"
     ]
    },
    {
     "name": "stdout",
     "output_type": "stream",
     "text": [
      "\r1168/1168 [==============================] - 0s 9us/step - loss: 0.3432 - acc: 0.0000e+00 - val_loss: 0.3601 - val_acc: 0.0000e+00\n"
     ]
    },
    {
     "name": "stdout",
     "output_type": "stream",
     "text": [
      "\nEpoch 00133: val_loss did not improve from 1.34743\nEpoch 134/500\n"
     ]
    },
    {
     "name": "stdout",
     "output_type": "stream",
     "text": [
      "\r1168/1168 [==============================] - 0s 9us/step - loss: 0.3541 - acc: 0.0000e+00 - val_loss: 0.3627 - val_acc: 0.0000e+00\n"
     ]
    },
    {
     "name": "stdout",
     "output_type": "stream",
     "text": [
      "\nEpoch 00134: val_loss did not improve from 1.34743\nEpoch 135/500\n"
     ]
    },
    {
     "name": "stdout",
     "output_type": "stream",
     "text": [
      "\r1168/1168 [==============================] - 0s 8us/step - loss: 0.3508 - acc: 0.0000e+00 - val_loss: 0.3608 - val_acc: 0.0000e+00\n"
     ]
    },
    {
     "name": "stdout",
     "output_type": "stream",
     "text": [
      "\nEpoch 00135: val_loss did not improve from 1.34743\nEpoch 136/500\n\r1168/1168 [==============================] - 0s 9us/step - loss: 0.3072 - acc: 0.0000e+00 - val_loss: 0.3600 - val_acc: 0.0000e+00\n"
     ]
    },
    {
     "name": "stdout",
     "output_type": "stream",
     "text": [
      "\nEpoch 00136: val_loss did not improve from 1.34743\nEpoch 137/500\n\r1168/1168 [==============================] - 0s 9us/step - loss: 0.2873 - acc: 0.0000e+00 - val_loss: 0.3584 - val_acc: 0.0000e+00\n"
     ]
    },
    {
     "name": "stdout",
     "output_type": "stream",
     "text": [
      "\nEpoch 00137: val_loss did not improve from 1.34743\nEpoch 138/500\n"
     ]
    },
    {
     "name": "stdout",
     "output_type": "stream",
     "text": [
      "\r1168/1168 [==============================] - 0s 9us/step - loss: 0.3571 - acc: 0.0000e+00 - val_loss: 0.3615 - val_acc: 0.0000e+00\n"
     ]
    },
    {
     "name": "stdout",
     "output_type": "stream",
     "text": [
      "\nEpoch 00138: val_loss did not improve from 1.34743\nEpoch 139/500\n"
     ]
    },
    {
     "name": "stdout",
     "output_type": "stream",
     "text": [
      "\r1168/1168 [==============================] - 0s 8us/step - loss: 0.3335 - acc: 0.0000e+00 - val_loss: 0.3599 - val_acc: 0.0000e+00\n"
     ]
    },
    {
     "name": "stdout",
     "output_type": "stream",
     "text": [
      "\nEpoch 00139: val_loss did not improve from 1.34743\nEpoch 140/500\n"
     ]
    },
    {
     "name": "stdout",
     "output_type": "stream",
     "text": [
      "\r1168/1168 [==============================] - 0s 11us/step - loss: 0.2988 - acc: 0.0000e+00 - val_loss: 0.3583 - val_acc: 0.0000e+00\n"
     ]
    },
    {
     "name": "stdout",
     "output_type": "stream",
     "text": [
      "\nEpoch 00140: val_loss did not improve from 1.34743\nEpoch 00140: early stopping\n"
     ]
    }
   ],
   "source": [
    "history = model.fit(train_x.values, train_y.values, validation_split=0.20,\n",
    "                    epochs=_epochs, batch_size = len(train_x), verbose=1, callbacks=[es,mc])"
   ]
  },
  {
   "cell_type": "code",
   "execution_count": 69,
   "metadata": {},
   "outputs": [
    {
     "data": {
      "image/png": "[encoded data removed]",
      "text/plain": [
       "<Figure size 432x288 with 1 Axes>"
      ]
     },
     "metadata": {},
     "output_type": "display_data"
    }
   ],
   "source": [
    "# plot loss - Train vs Valid\n",
    "import matplotlib.pyplot as plt\n",
    "plt.plot(history.history['loss'], label='train loss')\n",
    "plt.plot(history.history['val_loss'], label='test loss')\n",
    "plt.title('Loss - Train vs validation')\n",
    "plt.ylabel('Loss')\n",
    "plt.xlabel('Epoch')\n",
    "plt.legend(['Train', 'Test'], loc='upper left')\n",
    "plt.show()"
   ]
  },
  {
   "cell_type": "code",
   "execution_count": 70,
   "metadata": {},
   "outputs": [
    {
     "name": "stdout",
     "output_type": "stream",
     "text": [
      "\r  32/1460 [..............................] - ETA: 0s"
     ]
    },
    {
     "name": "stdout",
     "output_type": "stream",
     "text": [
      "\b\b\b\b\b\b\b\b\b\b\b\b\b\b\b\b\b\b\b\b\b\b\b\b\b\b\b\b\b\b\b\b\b\b\b\b\b\b\b\b\b\b\b\b\b\b\b\b\b\b\b\b\r1216/1460 [=======================>......] - ETA: 0s"
     ]
    },
    {
     "name": "stdout",
     "output_type": "stream",
     "text": [
      "\b\b\b\b\b\b\b\b\b\b\b\b\b\b\b\b\b\b\b\b\b\b\b\b\b\b\b\b\b\b\b\b\b\b\b\b\b\b\b\b\b\b\b\b\b\b\b\b\b\b\b\b\r1460/1460 [==============================] - 0s 46us/step\n"
     ]
    },
    {
     "name": "stdout",
     "output_type": "stream",
     "text": [
      "\nloss: 22.95%\n"
     ]
    }
   ],
   "source": [
    "metrics = model.evaluate(train_x, train_y)\n",
    "print(\"\\n%s: %.2f%%\" % (model.metrics_names[0], metrics[0]*100))"
   ]
  },
  {
   "cell_type": "code",
   "execution_count": 197,
   "metadata": {},
   "outputs": [],
   "source": []
  },
  {
   "cell_type": "code",
   "execution_count": null,
   "metadata": {},
   "outputs": [],
   "source": []
  }
 ],
 "metadata": {
  "kernelspec": {
   "display_name": "Python 2",
   "language": "python",
   "name": "python2"
  },
  "language_info": {
   "codemirror_mode": {
    "name": "ipython",
    "version": 2
   },
   "file_extension": ".py",
   "mimetype": "text/x-python",
   "name": "python",
   "nbconvert_exporter": "python",
   "pygments_lexer": "ipython2",
   "version": "2.7.15"
  }
 },
 "nbformat": 4,
 "nbformat_minor": 2
}
