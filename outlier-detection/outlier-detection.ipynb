{
 "cells": [
  {
   "cell_type": "code",
   "execution_count": 3,
   "metadata": {},
   "outputs": [],
   "source": [
    "import pyod as pd\n",
    "from scipy.io import loadmat"
   ]
  },
  {
   "cell_type": "code",
   "execution_count": 8,
   "metadata": {},
   "outputs": [],
   "source": [
    "mat = loadmat('C:\\Santhosh\\AIML\\Github\\Machine-Learning\\outlier-detection\\data\\cardio.mat')"
   ]
  },
  {
   "cell_type": "code",
   "execution_count": 13,
   "metadata": {},
   "outputs": [
    {
     "name": "stdout",
     "output_type": "stream",
     "text": [
      "{'__header__': b'MATLAB 5.0 MAT-file, written by Octave 3.8.0, 2014-12-18 10:48:09 UTC', '__version__': '1.0', '__globals__': [], 'X': array([[ 0.00491231,  0.69319077, -0.20364049, ...,  0.23149795,\n",
      "        -0.28978574, -0.49329397],\n",
      "       [ 0.11072935, -0.07990259, -0.20364049, ...,  0.09356344,\n",
      "        -0.25638541, -0.49329397],\n",
      "       [ 0.21654639, -0.27244466, -0.20364049, ...,  0.02459619,\n",
      "        -0.25638541,  1.14001753],\n",
      "       ...,\n",
      "       [-0.41835583, -0.91998844, -0.16463485, ..., -1.49268341,\n",
      "         0.24461959, -0.49329397],\n",
      "       [-0.41835583, -0.91998844, -0.15093411, ..., -1.42371616,\n",
      "         0.14441859, -0.49329397],\n",
      "       [-0.41835583, -0.91998844, -0.20364049, ..., -1.28578165,\n",
      "         3.58465295, -0.49329397]]), 'y': array([[0.],\n",
      "       [0.],\n",
      "       [0.],\n",
      "       ...,\n",
      "       [1.],\n",
      "       [1.],\n",
      "       [1.]])}\n"
     ]
    }
   ],
   "source": [
    "print(mat)"
   ]
  },
  {
   "cell_type": "code",
   "execution_count": 17,
   "metadata": {},
   "outputs": [],
   "source": [
    "X = mat['X']"
   ]
  },
  {
   "cell_type": "code",
   "execution_count": 18,
   "metadata": {},
   "outputs": [],
   "source": [
    "y = mat['y']"
   ]
  },
  {
   "cell_type": "code",
   "execution_count": 88,
   "metadata": {},
   "outputs": [
    {
     "name": "stdout",
     "output_type": "stream",
     "text": [
      "Number of Outliers :  45\n"
     ]
    }
   ],
   "source": [
    "#DBSCAN - clustering and ourlier detection\n",
    "from sklearn.cluster import DBSCAN\n",
    "data = X\n",
    "out_det = DBSCAN(min_samples = 2, eps = 3)\n",
    "model = out_det.fit(data)\n",
    "labels = model.labels_ # Returns clusters for each data point\n",
    "outliers = labels[labels==-1] # not in any cluster. If the datapoint has -1 as label then it is an outlier\n",
    "print('Number of Outliers : ', outliers.size)"
   ]
  },
  {
   "cell_type": "code",
   "execution_count": 104,
   "metadata": {},
   "outputs": [
    {
     "name": "stdout",
     "output_type": "stream",
     "text": [
      "number of clusters:  22\n"
     ]
    }
   ],
   "source": [
    "print('number of clusters: ' , len(set(labels))) # unique values in labels -- clusters"
   ]
  },
  {
   "cell_type": "code",
   "execution_count": 107,
   "metadata": {},
   "outputs": [
    {
     "data": {
      "text/plain": [
       "214"
      ]
     },
     "execution_count": 107,
     "metadata": {},
     "output_type": "execute_result"
    }
   ],
   "source": [
    "# Isolation forest\n",
    "from sklearn.ensemble import IsolationForest\n",
    "data = X\n",
    "clf = IsolationForest( behaviour = 'new', max_samples=100, random_state = 1, contamination= 'auto')\n",
    "preds = clf.fit_predict(data)\n",
    "list(preds).count(-1)"
   ]
  },
  {
   "cell_type": "code",
   "execution_count": null,
   "metadata": {},
   "outputs": [],
   "source": []
  }
 ],
 "metadata": {
  "kernelspec": {
   "display_name": "Python 3",
   "language": "python",
   "name": "python3"
  },
  "language_info": {
   "codemirror_mode": {
    "name": "ipython",
    "version": 3
   },
   "file_extension": ".py",
   "mimetype": "text/x-python",
   "name": "python",
   "nbconvert_exporter": "python",
   "pygments_lexer": "ipython3",
   "version": "3.6.8"
  }
 },
 "nbformat": 4,
 "nbformat_minor": 2
}
