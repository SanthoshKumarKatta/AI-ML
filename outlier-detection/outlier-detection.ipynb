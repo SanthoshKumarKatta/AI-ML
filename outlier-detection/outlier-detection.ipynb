{
 "cells": [
  {
   "cell_type": "code",
   "execution_count": 3,
   "metadata": {},
   "outputs": [],
   "source": [
    "import pyod as pd\n",
    "from scipy.io import loadmat"
   ]
  },
  {
   "cell_type": "code",
   "execution_count": 121,
   "metadata": {},
   "outputs": [],
   "source": [
    "#DBSCAN - clustering and ourlier detection\n",
    "from sklearn.cluster import DBSCAN\n",
    "def dbscan_(X):\n",
    "    data = X\n",
    "    out_det = DBSCAN(min_samples = 2, eps = 3)\n",
    "    model = out_det.fit(data)\n",
    "    labels = model.labels_ # Returns clusters for each data point\n",
    "    outliers = labels[labels==-1] # not in any cluster. If the datapoint has -1 as label then it is an outlier\n",
    "    print('Number of Outliers : ', outliers.size)\n",
    "    print('number of clusters: ' , len(set(labels))) # unique values in labels -- clusters"
   ]
  },
  {
   "cell_type": "code",
   "execution_count": 142,
   "metadata": {},
   "outputs": [],
   "source": [
    "datasets = ['cardio.mat',\n",
    "                 'glass.mat',\n",
    "                 'ionosphere.mat',\n",
    "                 'letter.mat',\n",
    "                 'lympho.mat',\n",
    "                 'mnist.mat',\n",
    "                 'musk.mat',\n",
    "                 'optdigits.mat',\n",
    "                 'pendigits.mat',\n",
    "                 'pima.mat',\n",
    "                 'satellite.mat',\n",
    "                 'satimage-2.mat',\n",
    "                 'shuttle.mat',\n",
    "                 'vertebral.mat',\n",
    "                 'vowels.mat',\n",
    "                 'wbc.mat']"
   ]
  },
  {
   "cell_type": "code",
   "execution_count": 143,
   "metadata": {},
   "outputs": [
    {
     "name": "stdout",
     "output_type": "stream",
     "text": [
      "Number of Outliers :  45\n",
      "number of clusters:  22\n"
     ]
    }
   ],
   "source": [
    "mat = loadmat('C:\\Santhosh\\AIML\\Github\\Machine-Learning\\outlier-detection\\data\\cardio.mat')\n",
    "X = mat['X']\n",
    "y = mat['y']\n",
    "dbscan_(X)"
   ]
  },
  {
   "cell_type": "code",
   "execution_count": 149,
   "metadata": {},
   "outputs": [
    {
     "name": "stdout",
     "output_type": "stream",
     "text": [
      "Number of Outliers :  2\n",
      "number of clusters:  3\n"
     ]
    }
   ],
   "source": [
    "mat = loadmat('C:\\Santhosh\\AIML\\Github\\Machine-Learning\\outlier-detection\\data\\glass.mat')\n",
    "X = mat['X']\n",
    "y = mat['y']\n",
    "dbscan_(X)"
   ]
  },
  {
   "cell_type": "code",
   "execution_count": 154,
   "metadata": {},
   "outputs": [],
   "source": [
    "# Isolation forest\n",
    "from sklearn.ensemble import IsolationForest\n",
    "def iso_forest(X):\n",
    "    data = X\n",
    "    clf = IsolationForest(behaviour = 'new', max_samples=100, random_state = 1, contamination= 'auto')\n",
    "    preds = clf.fit_predict(data)\n",
    "    print('number of outliers using Isolation Forest :', list(preds).count(-1))"
   ]
  },
  {
   "cell_type": "code",
   "execution_count": 155,
   "metadata": {},
   "outputs": [
    {
     "name": "stdout",
     "output_type": "stream",
     "text": [
      "number of outliers using Isolation Forest : 26\n"
     ]
    }
   ],
   "source": [
    "iso_forest(X)"
   ]
  },
  {
   "cell_type": "code",
   "execution_count": null,
   "metadata": {},
   "outputs": [],
   "source": []
  }
 ],
 "metadata": {
  "kernelspec": {
   "display_name": "Python 3",
   "language": "python",
   "name": "python3"
  },
  "language_info": {
   "codemirror_mode": {
    "name": "ipython",
    "version": 3
   },
   "file_extension": ".py",
   "mimetype": "text/x-python",
   "name": "python",
   "nbconvert_exporter": "python",
   "pygments_lexer": "ipython3",
   "version": "3.6.8"
  }
 },
 "nbformat": 4,
 "nbformat_minor": 2
}
