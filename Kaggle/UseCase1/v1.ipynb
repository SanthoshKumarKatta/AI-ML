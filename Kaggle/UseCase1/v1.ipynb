{
 "cells": [
  {
   "cell_type": "markdown",
   "metadata": {
    "_uuid": "0f45e66201162042748f6981ad159b0a7bdffb81"
   },
   "source": [
    "**Updates:**\n",
    "\n",
    "1. Changed Model from Classification to Regression in order to gain better Accuracy. Thanks for feedback @Aditya Soni."
   ]
  },
  {
   "cell_type": "code",
   "execution_count": 54,
   "metadata": {
    "_cell_guid": "79c7e3d0-c299-4dcb-8224-4455121ee9b0",
    "_uuid": "d629ff2d2480ee46fbb7e2d37f6b5fab8052498a"
   },
   "outputs": [],
   "source": [
    "import pandas as pd\n",
    "from sklearn.preprocessing import StandardScaler\n",
    "from sklearn.preprocessing import LabelEncoder\n",
    "from keras.models import Sequential\n",
    "from keras.layers import Dense"
   ]
  },
  {
   "cell_type": "code",
   "execution_count": 39,
   "metadata": {
    "_uuid": "b8766d740730b6498ef54d6e66aa2907d5c19205"
   },
   "outputs": [],
   "source": [
    "#train\n",
    "train = pd.read_csv(\"C:/Users/Katta's/PycharmProjects/data/usecase1/train.csv\")\n",
    "#test\n",
    "test = pd.read_csv(\"C:/Users/Katta's/PycharmProjects/data/usecase1/test.csv\")"
   ]
  },
  {
   "cell_type": "code",
   "execution_count": 41,
   "metadata": {
    "_uuid": "7ca0be1517cd0ac2285f2ea468fe28cc475f60ff"
   },
   "outputs": [],
   "source": [
    "# Splitting training data\n",
    "train_x = input.drop(['ID_code', 'target'], axis = 1)\n",
    "train_y = input['target']"
   ]
  },
  {
   "cell_type": "code",
   "execution_count": 42,
   "metadata": {
    "_uuid": "7b576df4dc70ac08a7863b7369a626bcd4f1fc17"
   },
   "outputs": [],
   "source": [
    "#splitting Test data\n",
    "test = test_input.drop(['ID_code'], axis = 1)"
   ]
  },
  {
   "cell_type": "code",
   "execution_count": 45,
   "metadata": {
    "_uuid": "1aa65e10d4fbd7c59be1d00c3e948a989fededb2"
   },
   "outputs": [],
   "source": [
    "# Scaling training because of variance\n",
    "ss = StandardScaler()\n",
    "# scaling training data\n",
    "train_x_scaled = ss.fit_transform(train_x)\n",
    "# scaling test data\n",
    "test_scaled = ss.transform(test)"
   ]
  },
  {
   "cell_type": "code",
   "execution_count": 46,
   "metadata": {
    "_uuid": "ed0b7b12dfc9d161f5a1cb93a489c79a34ede9d6"
   },
   "outputs": [],
   "source": [
    "#Lable encoding - Binery classification \n",
    "encoder = LabelEncoder()\n",
    "encoder.fit(train_y)\n",
    "train_y_encoded = encoder.transform(train_y)"
   ]
  },
  {
   "cell_type": "code",
   "execution_count": 65,
   "metadata": {
    "_uuid": "ed0b7b12dfc9d161f5a1cb93a489c79a34ede9d6"
   },
   "outputs": [],
   "source": [
    "# Train \n",
    "# Train x-- train_x\n",
    "# Train y - train_y\n",
    "# Scaled x - train_x_scaled\n",
    "# Encoded y - train_y_encoed\n",
    "# Scaled test - test_scaled"
   ]
  },
  {
   "cell_type": "code",
   "execution_count": 173,
   "metadata": {
    "_uuid": "ed0b7b12dfc9d161f5a1cb93a489c79a34ede9d6"
   },
   "outputs": [],
   "source": [
    "# Tuning during defining model\n",
    "# adding dropouts\n",
    "# Capacity - Height and Depth\n",
    "# Kernel initialization\n",
    "\n",
    "from keras.layers import Dropout\n",
    "model = Sequential()\n",
    "model.add(Dense(200, activation='relu', kernel_initializer='random_uniform'))\n",
    "model.add(Dropout(0.4))\n",
    "model.add(Dense(50, activation='relu'))\n",
    "model.add(Dense(1))"
   ]
  },
  {
   "cell_type": "code",
   "execution_count": 174,
   "metadata": {
    "_uuid": "ebf12162c8b05b2a595529556b0be0aa6a0f0906"
   },
   "outputs": [],
   "source": [
    "# Compile params and methods \n",
    "# Learning rate\n",
    "# Loss function\n",
    "# Optimizer \n",
    "# Learning rate\n",
    "lr = 0.01\n",
    "\n",
    "# Defining optimizer \n",
    "from keras.optimizers import SGD\n",
    "# _opt = SGD(lr)\n",
    "_opt= 'adam'\n",
    "\n",
    "# Loss function\n",
    "_loss = 'mean_squared_error'\n"
   ]
  },
  {
   "cell_type": "code",
   "execution_count": 175,
   "metadata": {
    "_uuid": "ebf12162c8b05b2a595529556b0be0aa6a0f0906"
   },
   "outputs": [],
   "source": [
    "\n",
    "# Configuring model with loss and optimizer \n",
    "model.compile(loss=_loss, optimizer=_opt, metrics=['accuracy'])\n"
   ]
  },
  {
   "cell_type": "code",
   "execution_count": 176,
   "metadata": {
    "_uuid": "ebf12162c8b05b2a595529556b0be0aa6a0f0906"
   },
   "outputs": [],
   "source": [
    "# Tuning during model fit\n",
    "# Batching\n",
    "# Epochs\n",
    "# Early stopping\n",
    "# Model check point\n"
   ]
  },
  {
   "cell_type": "code",
   "execution_count": 178,
   "metadata": {
    "_uuid": "ebf12162c8b05b2a595529556b0be0aa6a0f0906"
   },
   "outputs": [],
   "source": [
    "#define batch size and number of epchos \n",
    "_batch_size = 32\n",
    "_epochs = 100\n"
   ]
  },
  {
   "cell_type": "code",
   "execution_count": 179,
   "metadata": {
    "_uuid": "ebf12162c8b05b2a595529556b0be0aa6a0f0906"
   },
   "outputs": [],
   "source": [
    "# Early stopping \n",
    "from keras.callbacks import EarlyStopping\n",
    "_es_monitor = 'val_loss'\n",
    "_es_patience = 10\n",
    "es = EarlyStopping(monitor=_es_monitor, mode='min', verbose=1, patience=_es_patience)"
   ]
  },
  {
   "cell_type": "code",
   "execution_count": 180,
   "metadata": {
    "_uuid": "ebf12162c8b05b2a595529556b0be0aa6a0f0906"
   },
   "outputs": [],
   "source": [
    "\n",
    "# Model check point\n",
    "from keras.callbacks import ModelCheckpoint\n",
    "_mc_model_location = 'v1_model.h5'\n",
    "_mc_monitor = 'val_acc'\n",
    "mc = ModelCheckpoint(_mc_model_location, monitor=_mc_monitor, mode='max', verbose=1, save_best_only=True)"
   ]
  },
  {
   "cell_type": "code",
   "execution_count": 181,
   "metadata": {
    "_uuid": "1c79d3e6446087b542b8d4ef859c78c4395dffc9",
    "collapsed": false
   },
   "outputs": [
    {
     "name": "stdout",
     "output_type": "stream",
     "text": [
      "Train on 160000 samples, validate on 40000 samples\nEpoch 1/100\n"
     ]
    },
    {
     "name": "stdout",
     "output_type": "stream",
     "text": [
      "\r160000/160000 [==============================] - 3s 20us/step - loss: 0.2725 - acc: 0.7540 - val_loss: 0.1452 - val_acc: 0.8832\n"
     ]
    },
    {
     "name": "stdout",
     "output_type": "stream",
     "text": [
      "\nEpoch 00001: val_acc improved from -inf to 0.88325, saving model to v1_model.h5\n"
     ]
    },
    {
     "name": "stdout",
     "output_type": "stream",
     "text": [
      "Epoch 2/100\n"
     ]
    },
    {
     "name": "stdout",
     "output_type": "stream",
     "text": [
      "\r160000/160000 [==============================] - 2s 16us/step - loss: 0.2029 - acc: 0.8103 - val_loss: 0.1266 - val_acc: 0.8699\n"
     ]
    },
    {
     "name": "stdout",
     "output_type": "stream",
     "text": [
      "\nEpoch 00002: val_acc did not improve from 0.88325\nEpoch 3/100\n"
     ]
    },
    {
     "name": "stdout",
     "output_type": "stream",
     "text": [
      "\r160000/160000 [==============================] - 2s 15us/step - loss: 0.1733 - acc: 0.8085 - val_loss: 0.1336 - val_acc: 0.8435\n"
     ]
    },
    {
     "name": "stdout",
     "output_type": "stream",
     "text": [
      "\nEpoch 00003: val_acc did not improve from 0.88325\nEpoch 4/100\n"
     ]
    },
    {
     "name": "stdout",
     "output_type": "stream",
     "text": [
      "\r160000/160000 [==============================] - 2s 15us/step - loss: 0.1716 - acc: 0.7824 - val_loss: 0.1352 - val_acc: 0.8377\n"
     ]
    },
    {
     "name": "stdout",
     "output_type": "stream",
     "text": [
      "\nEpoch 00004: val_acc did not improve from 0.88325\nEpoch 5/100\n"
     ]
    },
    {
     "name": "stdout",
     "output_type": "stream",
     "text": [
      "\r160000/160000 [==============================] - 2s 14us/step - loss: 0.1697 - acc: 0.7760 - val_loss: 0.1246 - val_acc: 0.8547\n"
     ]
    },
    {
     "name": "stdout",
     "output_type": "stream",
     "text": [
      "\nEpoch 00005: val_acc did not improve from 0.88325\nEpoch 6/100\n"
     ]
    },
    {
     "name": "stdout",
     "output_type": "stream",
     "text": [
      "\r160000/160000 [==============================] - 2s 15us/step - loss: 0.1588 - acc: 0.7928 - val_loss: 0.1090 - val_acc: 0.8795\n"
     ]
    },
    {
     "name": "stdout",
     "output_type": "stream",
     "text": [
      "\nEpoch 00006: val_acc did not improve from 0.88325\nEpoch 7/100\n"
     ]
    },
    {
     "name": "stdout",
     "output_type": "stream",
     "text": [
      "\r160000/160000 [==============================] - 2s 15us/step - loss: 0.1426 - acc: 0.8226 - val_loss: 0.0971 - val_acc: 0.8939\n"
     ]
    },
    {
     "name": "stdout",
     "output_type": "stream",
     "text": [
      "\nEpoch 00007: val_acc improved from 0.88325 to 0.89390, saving model to v1_model.h5\nEpoch 8/100\n"
     ]
    },
    {
     "name": "stdout",
     "output_type": "stream",
     "text": [
      "\r160000/160000 [==============================] - 2s 15us/step - loss: 0.1311 - acc: 0.8458 - val_loss: 0.0915 - val_acc: 0.8997\n"
     ]
    },
    {
     "name": "stdout",
     "output_type": "stream",
     "text": [
      "\nEpoch 00008: val_acc improved from 0.89390 to 0.89975, saving model to v1_model.h5\nEpoch 9/100\n"
     ]
    },
    {
     "name": "stdout",
     "output_type": "stream",
     "text": [
      "\r160000/160000 [==============================] - 2s 15us/step - loss: 0.1258 - acc: 0.8613 - val_loss: 0.0911 - val_acc: 0.9012\n"
     ]
    },
    {
     "name": "stdout",
     "output_type": "stream",
     "text": [
      "\nEpoch 00009: val_acc improved from 0.89975 to 0.90120, saving model to v1_model.h5\nEpoch 10/100\n"
     ]
    },
    {
     "name": "stdout",
     "output_type": "stream",
     "text": [
      "\r160000/160000 [==============================] - 2s 15us/step - loss: 0.1247 - acc: 0.8692 - val_loss: 0.0928 - val_acc: 0.9007\n"
     ]
    },
    {
     "name": "stdout",
     "output_type": "stream",
     "text": [
      "\nEpoch 00010: val_acc did not improve from 0.90120\nEpoch 11/100\n"
     ]
    },
    {
     "name": "stdout",
     "output_type": "stream",
     "text": [
      "\r160000/160000 [==============================] - 2s 15us/step - loss: 0.1244 - acc: 0.8726 - val_loss: 0.0935 - val_acc: 0.9006\n"
     ]
    },
    {
     "name": "stdout",
     "output_type": "stream",
     "text": [
      "\nEpoch 00011: val_acc did not improve from 0.90120\nEpoch 12/100\n"
     ]
    },
    {
     "name": "stdout",
     "output_type": "stream",
     "text": [
      "\r160000/160000 [==============================] - 2s 14us/step - loss: 0.1239 - acc: 0.8746 - val_loss: 0.0923 - val_acc: 0.9010\n"
     ]
    },
    {
     "name": "stdout",
     "output_type": "stream",
     "text": [
      "\nEpoch 00012: val_acc did not improve from 0.90120\nEpoch 13/100\n"
     ]
    },
    {
     "name": "stdout",
     "output_type": "stream",
     "text": [
      "\r160000/160000 [==============================] - 2s 15us/step - loss: 0.1211 - acc: 0.8784 - val_loss: 0.0895 - val_acc: 0.9017\n"
     ]
    },
    {
     "name": "stdout",
     "output_type": "stream",
     "text": [
      "\nEpoch 00013: val_acc improved from 0.90120 to 0.90172, saving model to v1_model.h5\nEpoch 14/100\n"
     ]
    },
    {
     "name": "stdout",
     "output_type": "stream",
     "text": [
      "\r160000/160000 [==============================] - 2s 15us/step - loss: 0.1154 - acc: 0.8833 - val_loss: 0.0864 - val_acc: 0.9025\n"
     ]
    },
    {
     "name": "stdout",
     "output_type": "stream",
     "text": [
      "\nEpoch 00014: val_acc improved from 0.90172 to 0.90253, saving model to v1_model.h5\nEpoch 15/100\n"
     ]
    },
    {
     "name": "stdout",
     "output_type": "stream",
     "text": [
      "\r160000/160000 [==============================] - 2s 15us/step - loss: 0.1107 - acc: 0.8872 - val_loss: 0.0838 - val_acc: 0.9035\n"
     ]
    },
    {
     "name": "stdout",
     "output_type": "stream",
     "text": [
      "\nEpoch 00015: val_acc improved from 0.90253 to 0.90347, saving model to v1_model.h5\nEpoch 16/100\n"
     ]
    },
    {
     "name": "stdout",
     "output_type": "stream",
     "text": [
      "\r160000/160000 [==============================] - 2s 15us/step - loss: 0.1061 - acc: 0.8899 - val_loss: 0.0823 - val_acc: 0.9038\n"
     ]
    },
    {
     "name": "stdout",
     "output_type": "stream",
     "text": [
      "\nEpoch 00016: val_acc improved from 0.90347 to 0.90380, saving model to v1_model.h5\nEpoch 17/100\n"
     ]
    },
    {
     "name": "stdout",
     "output_type": "stream",
     "text": [
      "\r160000/160000 [==============================] - 3s 16us/step - loss: 0.1031 - acc: 0.8916 - val_loss: 0.0816 - val_acc: 0.9050\n"
     ]
    },
    {
     "name": "stdout",
     "output_type": "stream",
     "text": [
      "\nEpoch 00017: val_acc improved from 0.90380 to 0.90497, saving model to v1_model.h5\nEpoch 18/100\n"
     ]
    },
    {
     "name": "stdout",
     "output_type": "stream",
     "text": [
      "\r160000/160000 [==============================] - 3s 16us/step - loss: 0.1011 - acc: 0.8913 - val_loss: 0.0815 - val_acc: 0.9060\n"
     ]
    },
    {
     "name": "stdout",
     "output_type": "stream",
     "text": [
      "\nEpoch 00018: val_acc improved from 0.90497 to 0.90595, saving model to v1_model.h5\nEpoch 19/100\n"
     ]
    },
    {
     "name": "stdout",
     "output_type": "stream",
     "text": [
      "\r160000/160000 [==============================] - 2s 15us/step - loss: 0.0997 - acc: 0.8915 - val_loss: 0.0814 - val_acc: 0.9066\n"
     ]
    },
    {
     "name": "stdout",
     "output_type": "stream",
     "text": [
      "\nEpoch 00019: val_acc improved from 0.90595 to 0.90660, saving model to v1_model.h5\nEpoch 20/100\n"
     ]
    },
    {
     "name": "stdout",
     "output_type": "stream",
     "text": [
      "\r160000/160000 [==============================] - 2s 15us/step - loss: 0.0985 - acc: 0.8927 - val_loss: 0.0811 - val_acc: 0.9068\n"
     ]
    },
    {
     "name": "stdout",
     "output_type": "stream",
     "text": [
      "\nEpoch 00020: val_acc improved from 0.90660 to 0.90677, saving model to v1_model.h5\nEpoch 21/100\n"
     ]
    },
    {
     "name": "stdout",
     "output_type": "stream",
     "text": [
      "\r160000/160000 [==============================] - 3s 17us/step - loss: 0.0974 - acc: 0.8934 - val_loss: 0.0803 - val_acc: 0.9067\n"
     ]
    },
    {
     "name": "stdout",
     "output_type": "stream",
     "text": [
      "\nEpoch 00021: val_acc did not improve from 0.90677\nEpoch 22/100\n"
     ]
    },
    {
     "name": "stdout",
     "output_type": "stream",
     "text": [
      "\r160000/160000 [==============================] - 3s 19us/step - loss: 0.0957 - acc: 0.8948 - val_loss: 0.0793 - val_acc: 0.9064\n"
     ]
    },
    {
     "name": "stdout",
     "output_type": "stream",
     "text": [
      "\nEpoch 00022: val_acc did not improve from 0.90677\nEpoch 23/100\n"
     ]
    },
    {
     "name": "stdout",
     "output_type": "stream",
     "text": [
      "\r160000/160000 [==============================] - 3s 16us/step - loss: 0.0939 - acc: 0.8968 - val_loss: 0.0784 - val_acc: 0.9059\n"
     ]
    },
    {
     "name": "stdout",
     "output_type": "stream",
     "text": [
      "\nEpoch 00023: val_acc did not improve from 0.90677\nEpoch 24/100\n"
     ]
    },
    {
     "name": "stdout",
     "output_type": "stream",
     "text": [
      "\r160000/160000 [==============================] - 2s 15us/step - loss: 0.0922 - acc: 0.8982 - val_loss: 0.0776 - val_acc: 0.9054\n"
     ]
    },
    {
     "name": "stdout",
     "output_type": "stream",
     "text": [
      "\nEpoch 00024: val_acc did not improve from 0.90677\nEpoch 25/100\n"
     ]
    },
    {
     "name": "stdout",
     "output_type": "stream",
     "text": [
      "\r160000/160000 [==============================] - 2s 15us/step - loss: 0.0905 - acc: 0.9016 - val_loss: 0.0772 - val_acc: 0.9054\n"
     ]
    },
    {
     "name": "stdout",
     "output_type": "stream",
     "text": [
      "\nEpoch 00025: val_acc did not improve from 0.90677\nEpoch 26/100\n"
     ]
    },
    {
     "name": "stdout",
     "output_type": "stream",
     "text": [
      "\r160000/160000 [==============================] - 3s 19us/step - loss: 0.0888 - acc: 0.9031 - val_loss: 0.0769 - val_acc: 0.9052\n"
     ]
    },
    {
     "name": "stdout",
     "output_type": "stream",
     "text": [
      "\nEpoch 00026: val_acc did not improve from 0.90677\nEpoch 27/100\n"
     ]
    },
    {
     "name": "stdout",
     "output_type": "stream",
     "text": [
      "\r160000/160000 [==============================] - 2s 15us/step - loss: 0.0880 - acc: 0.9039 - val_loss: 0.0769 - val_acc: 0.9051\n"
     ]
    },
    {
     "name": "stdout",
     "output_type": "stream",
     "text": [
      "\nEpoch 00027: val_acc did not improve from 0.90677\nEpoch 28/100\n"
     ]
    },
    {
     "name": "stdout",
     "output_type": "stream",
     "text": [
      "\r160000/160000 [==============================] - 3s 18us/step - loss: 0.0872 - acc: 0.9040 - val_loss: 0.0769 - val_acc: 0.9051\n"
     ]
    },
    {
     "name": "stdout",
     "output_type": "stream",
     "text": [
      "\nEpoch 00028: val_acc did not improve from 0.90677\nEpoch 29/100\n"
     ]
    },
    {
     "name": "stdout",
     "output_type": "stream",
     "text": [
      "\r160000/160000 [==============================] - 2s 15us/step - loss: 0.0868 - acc: 0.9047 - val_loss: 0.0767 - val_acc: 0.9053\n"
     ]
    },
    {
     "name": "stdout",
     "output_type": "stream",
     "text": [
      "\nEpoch 00029: val_acc did not improve from 0.90677\nEpoch 30/100\n"
     ]
    },
    {
     "name": "stdout",
     "output_type": "stream",
     "text": [
      "\r160000/160000 [==============================] - 2s 15us/step - loss: 0.0861 - acc: 0.9054 - val_loss: 0.0764 - val_acc: 0.9056\n"
     ]
    },
    {
     "name": "stdout",
     "output_type": "stream",
     "text": [
      "\nEpoch 00030: val_acc did not improve from 0.90677\nEpoch 31/100\n"
     ]
    },
    {
     "name": "stdout",
     "output_type": "stream",
     "text": [
      "\r160000/160000 [==============================] - 2s 15us/step - loss: 0.0849 - acc: 0.9061 - val_loss: 0.0759 - val_acc: 0.9062\n"
     ]
    },
    {
     "name": "stdout",
     "output_type": "stream",
     "text": [
      "\nEpoch 00031: val_acc did not improve from 0.90677\nEpoch 32/100\n"
     ]
    },
    {
     "name": "stdout",
     "output_type": "stream",
     "text": [
      "\r160000/160000 [==============================] - 3s 19us/step - loss: 0.0846 - acc: 0.9062 - val_loss: 0.0752 - val_acc: 0.9071\n"
     ]
    },
    {
     "name": "stdout",
     "output_type": "stream",
     "text": [
      "\nEpoch 00032: val_acc improved from 0.90677 to 0.90710, saving model to v1_model.h5\nEpoch 33/100\n"
     ]
    },
    {
     "name": "stdout",
     "output_type": "stream",
     "text": [
      "\r160000/160000 [==============================] - 2s 15us/step - loss: 0.0838 - acc: 0.9065 - val_loss: 0.0744 - val_acc: 0.9081\n"
     ]
    },
    {
     "name": "stdout",
     "output_type": "stream",
     "text": [
      "\nEpoch 00033: val_acc improved from 0.90710 to 0.90807, saving model to v1_model.h5\nEpoch 34/100\n"
     ]
    },
    {
     "name": "stdout",
     "output_type": "stream",
     "text": [
      "\r160000/160000 [==============================] - 2s 15us/step - loss: 0.0826 - acc: 0.9072 - val_loss: 0.0737 - val_acc: 0.9089\n"
     ]
    },
    {
     "name": "stdout",
     "output_type": "stream",
     "text": [
      "\nEpoch 00034: val_acc improved from 0.90807 to 0.90890, saving model to v1_model.h5\nEpoch 35/100\n"
     ]
    },
    {
     "name": "stdout",
     "output_type": "stream",
     "text": [
      "\r160000/160000 [==============================] - 2s 15us/step - loss: 0.0815 - acc: 0.9077 - val_loss: 0.0730 - val_acc: 0.9091\n"
     ]
    },
    {
     "name": "stdout",
     "output_type": "stream",
     "text": [
      "\nEpoch 00035: val_acc improved from 0.90890 to 0.90912, saving model to v1_model.h5\nEpoch 36/100\n"
     ]
    },
    {
     "name": "stdout",
     "output_type": "stream",
     "text": [
      "\r160000/160000 [==============================] - 2s 15us/step - loss: 0.0812 - acc: 0.9081 - val_loss: 0.0725 - val_acc: 0.9097\n"
     ]
    },
    {
     "name": "stdout",
     "output_type": "stream",
     "text": [
      "\nEpoch 00036: val_acc improved from 0.90912 to 0.90968, saving model to v1_model.h5\nEpoch 37/100\n"
     ]
    },
    {
     "name": "stdout",
     "output_type": "stream",
     "text": [
      "\r160000/160000 [==============================] - 3s 17us/step - loss: 0.0806 - acc: 0.9086 - val_loss: 0.0721 - val_acc: 0.9103\n"
     ]
    },
    {
     "name": "stdout",
     "output_type": "stream",
     "text": [
      "\nEpoch 00037: val_acc improved from 0.90968 to 0.91030, saving model to v1_model.h5\nEpoch 38/100\n"
     ]
    },
    {
     "name": "stdout",
     "output_type": "stream",
     "text": [
      "\r160000/160000 [==============================] - 3s 18us/step - loss: 0.0801 - acc: 0.9083 - val_loss: 0.0718 - val_acc: 0.9109\n"
     ]
    },
    {
     "name": "stdout",
     "output_type": "stream",
     "text": [
      "\nEpoch 00038: val_acc improved from 0.91030 to 0.91090, saving model to v1_model.h5\nEpoch 39/100\n"
     ]
    },
    {
     "name": "stdout",
     "output_type": "stream",
     "text": [
      "\r160000/160000 [==============================] - 2s 15us/step - loss: 0.0796 - acc: 0.9089 - val_loss: 0.0716 - val_acc: 0.9111\n"
     ]
    },
    {
     "name": "stdout",
     "output_type": "stream",
     "text": [
      "\nEpoch 00039: val_acc improved from 0.91090 to 0.91110, saving model to v1_model.h5\nEpoch 40/100\n"
     ]
    },
    {
     "name": "stdout",
     "output_type": "stream",
     "text": [
      "\r160000/160000 [==============================] - 2s 15us/step - loss: 0.0796 - acc: 0.9085 - val_loss: 0.0714 - val_acc: 0.9114\n"
     ]
    },
    {
     "name": "stdout",
     "output_type": "stream",
     "text": [
      "\nEpoch 00040: val_acc improved from 0.91110 to 0.91135, saving model to v1_model.h5\nEpoch 41/100\n"
     ]
    },
    {
     "name": "stdout",
     "output_type": "stream",
     "text": [
      "\r160000/160000 [==============================] - 3s 17us/step - loss: 0.0789 - acc: 0.9089 - val_loss: 0.0712 - val_acc: 0.9114\n"
     ]
    },
    {
     "name": "stdout",
     "output_type": "stream",
     "text": [
      "\nEpoch 00041: val_acc improved from 0.91135 to 0.91140, saving model to v1_model.h5\nEpoch 42/100\n"
     ]
    },
    {
     "name": "stdout",
     "output_type": "stream",
     "text": [
      "\r160000/160000 [==============================] - 2s 15us/step - loss: 0.0786 - acc: 0.9097 - val_loss: 0.0710 - val_acc: 0.9114\n"
     ]
    },
    {
     "name": "stdout",
     "output_type": "stream",
     "text": [
      "\nEpoch 00042: val_acc did not improve from 0.91140\nEpoch 43/100\n"
     ]
    },
    {
     "name": "stdout",
     "output_type": "stream",
     "text": [
      "\r160000/160000 [==============================] - 2s 15us/step - loss: 0.0783 - acc: 0.9089 - val_loss: 0.0709 - val_acc: 0.9114\n"
     ]
    },
    {
     "name": "stdout",
     "output_type": "stream",
     "text": [
      "\nEpoch 00043: val_acc did not improve from 0.91140\nEpoch 44/100\n"
     ]
    },
    {
     "name": "stdout",
     "output_type": "stream",
     "text": [
      "\r160000/160000 [==============================] - 2s 15us/step - loss: 0.0777 - acc: 0.9103 - val_loss: 0.0708 - val_acc: 0.9115\n"
     ]
    },
    {
     "name": "stdout",
     "output_type": "stream",
     "text": [
      "\nEpoch 00044: val_acc improved from 0.91140 to 0.91153, saving model to v1_model.h5\nEpoch 45/100\n"
     ]
    },
    {
     "name": "stdout",
     "output_type": "stream",
     "text": [
      "\r160000/160000 [==============================] - 3s 16us/step - loss: 0.0772 - acc: 0.9103 - val_loss: 0.0708 - val_acc: 0.9114\n"
     ]
    },
    {
     "name": "stdout",
     "output_type": "stream",
     "text": [
      "\nEpoch 00045: val_acc did not improve from 0.91153\nEpoch 46/100\n"
     ]
    },
    {
     "name": "stdout",
     "output_type": "stream",
     "text": [
      "\r160000/160000 [==============================] - 2s 15us/step - loss: 0.0771 - acc: 0.9101 - val_loss: 0.0708 - val_acc: 0.9114\n"
     ]
    },
    {
     "name": "stdout",
     "output_type": "stream",
     "text": [
      "\nEpoch 00046: val_acc did not improve from 0.91153\nEpoch 47/100\n"
     ]
    },
    {
     "name": "stdout",
     "output_type": "stream",
     "text": [
      "\r160000/160000 [==============================] - 3s 16us/step - loss: 0.0767 - acc: 0.9103 - val_loss: 0.0709 - val_acc: 0.9114\n"
     ]
    },
    {
     "name": "stdout",
     "output_type": "stream",
     "text": [
      "\nEpoch 00047: val_acc did not improve from 0.91153\nEpoch 48/100\n"
     ]
    },
    {
     "name": "stdout",
     "output_type": "stream",
     "text": [
      "\r160000/160000 [==============================] - 3s 16us/step - loss: 0.0764 - acc: 0.9105 - val_loss: 0.0709 - val_acc: 0.9114\n"
     ]
    },
    {
     "name": "stdout",
     "output_type": "stream",
     "text": [
      "\nEpoch 00048: val_acc did not improve from 0.91153\nEpoch 49/100\n"
     ]
    },
    {
     "name": "stdout",
     "output_type": "stream",
     "text": [
      "\r160000/160000 [==============================] - 2s 15us/step - loss: 0.0763 - acc: 0.9107 - val_loss: 0.0709 - val_acc: 0.9114\n"
     ]
    },
    {
     "name": "stdout",
     "output_type": "stream",
     "text": [
      "\nEpoch 00049: val_acc did not improve from 0.91153\nEpoch 50/100\n"
     ]
    },
    {
     "name": "stdout",
     "output_type": "stream",
     "text": [
      "\r160000/160000 [==============================] - 2s 15us/step - loss: 0.0760 - acc: 0.9105 - val_loss: 0.0709 - val_acc: 0.9113\n"
     ]
    },
    {
     "name": "stdout",
     "output_type": "stream",
     "text": [
      "\nEpoch 00050: val_acc did not improve from 0.91153\nEpoch 51/100\n"
     ]
    },
    {
     "name": "stdout",
     "output_type": "stream",
     "text": [
      "\r160000/160000 [==============================] - 2s 15us/step - loss: 0.0756 - acc: 0.9110 - val_loss: 0.0708 - val_acc: 0.9114\n"
     ]
    },
    {
     "name": "stdout",
     "output_type": "stream",
     "text": [
      "\nEpoch 00051: val_acc did not improve from 0.91153\nEpoch 52/100\n"
     ]
    },
    {
     "name": "stdout",
     "output_type": "stream",
     "text": [
      "\r160000/160000 [==============================] - 2s 15us/step - loss: 0.0752 - acc: 0.9109 - val_loss: 0.0707 - val_acc: 0.9114\n"
     ]
    },
    {
     "name": "stdout",
     "output_type": "stream",
     "text": [
      "\nEpoch 00052: val_acc did not improve from 0.91153\nEpoch 53/100\n"
     ]
    },
    {
     "name": "stdout",
     "output_type": "stream",
     "text": [
      "\r160000/160000 [==============================] - 2s 15us/step - loss: 0.0753 - acc: 0.9109 - val_loss: 0.0706 - val_acc: 0.9113\n"
     ]
    },
    {
     "name": "stdout",
     "output_type": "stream",
     "text": [
      "\nEpoch 00053: val_acc did not improve from 0.91153\nEpoch 54/100\n"
     ]
    },
    {
     "name": "stdout",
     "output_type": "stream",
     "text": [
      "\r160000/160000 [==============================] - 2s 15us/step - loss: 0.0750 - acc: 0.9110 - val_loss: 0.0704 - val_acc: 0.9115\n"
     ]
    },
    {
     "name": "stdout",
     "output_type": "stream",
     "text": [
      "\nEpoch 00054: val_acc did not improve from 0.91153\nEpoch 55/100\n"
     ]
    },
    {
     "name": "stdout",
     "output_type": "stream",
     "text": [
      "\r160000/160000 [==============================] - 2s 15us/step - loss: 0.0745 - acc: 0.9113 - val_loss: 0.0703 - val_acc: 0.9115\n"
     ]
    },
    {
     "name": "stdout",
     "output_type": "stream",
     "text": [
      "\nEpoch 00055: val_acc did not improve from 0.91153\nEpoch 56/100\n"
     ]
    },
    {
     "name": "stdout",
     "output_type": "stream",
     "text": [
      "\r160000/160000 [==============================] - 2s 14us/step - loss: 0.0741 - acc: 0.9117 - val_loss: 0.0701 - val_acc: 0.9118\n"
     ]
    },
    {
     "name": "stdout",
     "output_type": "stream",
     "text": [
      "\nEpoch 00056: val_acc improved from 0.91153 to 0.91177, saving model to v1_model.h5\nEpoch 57/100\n"
     ]
    },
    {
     "name": "stdout",
     "output_type": "stream",
     "text": [
      "\r160000/160000 [==============================] - 2s 15us/step - loss: 0.0744 - acc: 0.9116 - val_loss: 0.0700 - val_acc: 0.9119\n"
     ]
    },
    {
     "name": "stdout",
     "output_type": "stream",
     "text": [
      "\nEpoch 00057: val_acc improved from 0.91177 to 0.91193, saving model to v1_model.h5\nEpoch 58/100\n"
     ]
    },
    {
     "name": "stdout",
     "output_type": "stream",
     "text": [
      "\r160000/160000 [==============================] - 2s 15us/step - loss: 0.0739 - acc: 0.9118 - val_loss: 0.0699 - val_acc: 0.9119\n"
     ]
    },
    {
     "name": "stdout",
     "output_type": "stream",
     "text": [
      "\nEpoch 00058: val_acc did not improve from 0.91193\nEpoch 59/100\n"
     ]
    },
    {
     "name": "stdout",
     "output_type": "stream",
     "text": [
      "\r160000/160000 [==============================] - 2s 15us/step - loss: 0.0735 - acc: 0.9120 - val_loss: 0.0698 - val_acc: 0.9118\n"
     ]
    },
    {
     "name": "stdout",
     "output_type": "stream",
     "text": [
      "\nEpoch 00059: val_acc did not improve from 0.91193\nEpoch 60/100\n"
     ]
    },
    {
     "name": "stdout",
     "output_type": "stream",
     "text": [
      "\r160000/160000 [==============================] - 2s 15us/step - loss: 0.0735 - acc: 0.9119 - val_loss: 0.0697 - val_acc: 0.9120\n"
     ]
    },
    {
     "name": "stdout",
     "output_type": "stream",
     "text": [
      "\nEpoch 00060: val_acc improved from 0.91193 to 0.91200, saving model to v1_model.h5\nEpoch 61/100\n"
     ]
    },
    {
     "name": "stdout",
     "output_type": "stream",
     "text": [
      "\r160000/160000 [==============================] - 2s 15us/step - loss: 0.0733 - acc: 0.9118 - val_loss: 0.0696 - val_acc: 0.9121\n"
     ]
    },
    {
     "name": "stdout",
     "output_type": "stream",
     "text": [
      "\nEpoch 00061: val_acc improved from 0.91200 to 0.91205, saving model to v1_model.h5\nEpoch 62/100\n"
     ]
    },
    {
     "name": "stdout",
     "output_type": "stream",
     "text": [
      "\r160000/160000 [==============================] - 2s 15us/step - loss: 0.0731 - acc: 0.9123 - val_loss: 0.0696 - val_acc: 0.9121\n"
     ]
    },
    {
     "name": "stdout",
     "output_type": "stream",
     "text": [
      "\nEpoch 00062: val_acc did not improve from 0.91205\nEpoch 63/100\n"
     ]
    },
    {
     "name": "stdout",
     "output_type": "stream",
     "text": [
      "\r160000/160000 [==============================] - 2s 15us/step - loss: 0.0730 - acc: 0.9122 - val_loss: 0.0696 - val_acc: 0.9121\n"
     ]
    },
    {
     "name": "stdout",
     "output_type": "stream",
     "text": [
      "\nEpoch 00063: val_acc improved from 0.91205 to 0.91210, saving model to v1_model.h5\nEpoch 64/100\n"
     ]
    },
    {
     "name": "stdout",
     "output_type": "stream",
     "text": [
      "\r160000/160000 [==============================] - 2s 15us/step - loss: 0.0728 - acc: 0.9121 - val_loss: 0.0696 - val_acc: 0.9121\n"
     ]
    },
    {
     "name": "stdout",
     "output_type": "stream",
     "text": [
      "\nEpoch 00064: val_acc did not improve from 0.91210\nEpoch 65/100\n"
     ]
    },
    {
     "name": "stdout",
     "output_type": "stream",
     "text": [
      "\r160000/160000 [==============================] - 2s 14us/step - loss: 0.0726 - acc: 0.9121 - val_loss: 0.0695 - val_acc: 0.9121\n"
     ]
    },
    {
     "name": "stdout",
     "output_type": "stream",
     "text": [
      "\nEpoch 00065: val_acc did not improve from 0.91210\nEpoch 66/100\n"
     ]
    },
    {
     "name": "stdout",
     "output_type": "stream",
     "text": [
      "\r160000/160000 [==============================] - 2s 15us/step - loss: 0.0725 - acc: 0.9120 - val_loss: 0.0696 - val_acc: 0.9121\n"
     ]
    },
    {
     "name": "stdout",
     "output_type": "stream",
     "text": [
      "\nEpoch 00066: val_acc improved from 0.91210 to 0.91212, saving model to v1_model.h5\nEpoch 67/100\n"
     ]
    },
    {
     "name": "stdout",
     "output_type": "stream",
     "text": [
      "\r160000/160000 [==============================] - 2s 15us/step - loss: 0.0719 - acc: 0.9125 - val_loss: 0.0696 - val_acc: 0.9121\n"
     ]
    },
    {
     "name": "stdout",
     "output_type": "stream",
     "text": [
      "\nEpoch 00067: val_acc did not improve from 0.91212\nEpoch 68/100\n"
     ]
    },
    {
     "name": "stdout",
     "output_type": "stream",
     "text": [
      "\r160000/160000 [==============================] - 2s 15us/step - loss: 0.0720 - acc: 0.9122 - val_loss: 0.0696 - val_acc: 0.9120\n"
     ]
    },
    {
     "name": "stdout",
     "output_type": "stream",
     "text": [
      "\nEpoch 00068: val_acc did not improve from 0.91212\nEpoch 69/100\n"
     ]
    },
    {
     "name": "stdout",
     "output_type": "stream",
     "text": [
      "\r160000/160000 [==============================] - 2s 15us/step - loss: 0.0719 - acc: 0.9129 - val_loss: 0.0696 - val_acc: 0.9122\n"
     ]
    },
    {
     "name": "stdout",
     "output_type": "stream",
     "text": [
      "\nEpoch 00069: val_acc improved from 0.91212 to 0.91223, saving model to v1_model.h5\nEpoch 70/100\n"
     ]
    },
    {
     "name": "stdout",
     "output_type": "stream",
     "text": [
      "\r160000/160000 [==============================] - 2s 15us/step - loss: 0.0720 - acc: 0.9128 - val_loss: 0.0695 - val_acc: 0.9122\n"
     ]
    },
    {
     "name": "stdout",
     "output_type": "stream",
     "text": [
      "\nEpoch 00070: val_acc did not improve from 0.91223\nEpoch 71/100\n"
     ]
    },
    {
     "name": "stdout",
     "output_type": "stream",
     "text": [
      "\r160000/160000 [==============================] - 2s 15us/step - loss: 0.0717 - acc: 0.9125 - val_loss: 0.0695 - val_acc: 0.9121\n"
     ]
    },
    {
     "name": "stdout",
     "output_type": "stream",
     "text": [
      "\nEpoch 00071: val_acc did not improve from 0.91223\nEpoch 72/100\n"
     ]
    },
    {
     "name": "stdout",
     "output_type": "stream",
     "text": [
      "\r160000/160000 [==============================] - 2s 15us/step - loss: 0.0716 - acc: 0.9125 - val_loss: 0.0695 - val_acc: 0.9121\n"
     ]
    },
    {
     "name": "stdout",
     "output_type": "stream",
     "text": [
      "\nEpoch 00072: val_acc did not improve from 0.91223\nEpoch 73/100\n"
     ]
    },
    {
     "name": "stdout",
     "output_type": "stream",
     "text": [
      "\r160000/160000 [==============================] - 2s 15us/step - loss: 0.0713 - acc: 0.9128 - val_loss: 0.0694 - val_acc: 0.9120\n"
     ]
    },
    {
     "name": "stdout",
     "output_type": "stream",
     "text": [
      "\nEpoch 00073: val_acc did not improve from 0.91223\nEpoch 74/100\n"
     ]
    },
    {
     "name": "stdout",
     "output_type": "stream",
     "text": [
      "\r160000/160000 [==============================] - 2s 15us/step - loss: 0.0712 - acc: 0.9128 - val_loss: 0.0693 - val_acc: 0.9121\n"
     ]
    },
    {
     "name": "stdout",
     "output_type": "stream",
     "text": [
      "\nEpoch 00074: val_acc did not improve from 0.91223\nEpoch 75/100\n"
     ]
    },
    {
     "name": "stdout",
     "output_type": "stream",
     "text": [
      "\r160000/160000 [==============================] - 2s 15us/step - loss: 0.0709 - acc: 0.9129 - val_loss: 0.0693 - val_acc: 0.9122\n"
     ]
    },
    {
     "name": "stdout",
     "output_type": "stream",
     "text": [
      "\nEpoch 00075: val_acc did not improve from 0.91223\nEpoch 76/100\n"
     ]
    },
    {
     "name": "stdout",
     "output_type": "stream",
     "text": [
      "\r160000/160000 [==============================] - 2s 15us/step - loss: 0.0711 - acc: 0.9123 - val_loss: 0.0692 - val_acc: 0.9122\n"
     ]
    },
    {
     "name": "stdout",
     "output_type": "stream",
     "text": [
      "\nEpoch 00076: val_acc improved from 0.91223 to 0.91225, saving model to v1_model.h5\nEpoch 77/100\n"
     ]
    },
    {
     "name": "stdout",
     "output_type": "stream",
     "text": [
      "\r160000/160000 [==============================] - 2s 15us/step - loss: 0.0708 - acc: 0.9133 - val_loss: 0.0691 - val_acc: 0.9122\n"
     ]
    },
    {
     "name": "stdout",
     "output_type": "stream",
     "text": [
      "\nEpoch 00077: val_acc did not improve from 0.91225\nEpoch 78/100\n"
     ]
    },
    {
     "name": "stdout",
     "output_type": "stream",
     "text": [
      "\r160000/160000 [==============================] - 2s 15us/step - loss: 0.0707 - acc: 0.9131 - val_loss: 0.0691 - val_acc: 0.9119\n"
     ]
    },
    {
     "name": "stdout",
     "output_type": "stream",
     "text": [
      "\nEpoch 00078: val_acc did not improve from 0.91225\nEpoch 79/100\n"
     ]
    },
    {
     "name": "stdout",
     "output_type": "stream",
     "text": [
      "\r160000/160000 [==============================] - 2s 15us/step - loss: 0.0708 - acc: 0.9134 - val_loss: 0.0691 - val_acc: 0.9121\n"
     ]
    },
    {
     "name": "stdout",
     "output_type": "stream",
     "text": [
      "\nEpoch 00079: val_acc did not improve from 0.91225\nEpoch 80/100\n"
     ]
    },
    {
     "name": "stdout",
     "output_type": "stream",
     "text": [
      "\r160000/160000 [==============================] - 2s 15us/step - loss: 0.0707 - acc: 0.9134 - val_loss: 0.0690 - val_acc: 0.9122\n"
     ]
    },
    {
     "name": "stdout",
     "output_type": "stream",
     "text": [
      "\nEpoch 00080: val_acc did not improve from 0.91225\nEpoch 81/100\n"
     ]
    },
    {
     "name": "stdout",
     "output_type": "stream",
     "text": [
      "\r160000/160000 [==============================] - 2s 15us/step - loss: 0.0702 - acc: 0.9136 - val_loss: 0.0690 - val_acc: 0.9123\n"
     ]
    },
    {
     "name": "stdout",
     "output_type": "stream",
     "text": [
      "\nEpoch 00081: val_acc improved from 0.91225 to 0.91228, saving model to v1_model.h5\nEpoch 82/100\n"
     ]
    },
    {
     "name": "stdout",
     "output_type": "stream",
     "text": [
      "\r160000/160000 [==============================] - 2s 15us/step - loss: 0.0700 - acc: 0.9137 - val_loss: 0.0690 - val_acc: 0.9122\n"
     ]
    },
    {
     "name": "stdout",
     "output_type": "stream",
     "text": [
      "\nEpoch 00082: val_acc did not improve from 0.91228\nEpoch 83/100\n"
     ]
    },
    {
     "name": "stdout",
     "output_type": "stream",
     "text": [
      "\r160000/160000 [==============================] - 2s 15us/step - loss: 0.0701 - acc: 0.9136 - val_loss: 0.0690 - val_acc: 0.9123\n"
     ]
    },
    {
     "name": "stdout",
     "output_type": "stream",
     "text": [
      "\nEpoch 00083: val_acc improved from 0.91228 to 0.91230, saving model to v1_model.h5\nEpoch 84/100\n"
     ]
    },
    {
     "name": "stdout",
     "output_type": "stream",
     "text": [
      "\r160000/160000 [==============================] - 2s 15us/step - loss: 0.0699 - acc: 0.9140 - val_loss: 0.0689 - val_acc: 0.9122\n"
     ]
    },
    {
     "name": "stdout",
     "output_type": "stream",
     "text": [
      "\nEpoch 00084: val_acc did not improve from 0.91230\nEpoch 85/100\n"
     ]
    },
    {
     "name": "stdout",
     "output_type": "stream",
     "text": [
      "\r160000/160000 [==============================] - 2s 15us/step - loss: 0.0701 - acc: 0.9135 - val_loss: 0.0689 - val_acc: 0.9123\n"
     ]
    },
    {
     "name": "stdout",
     "output_type": "stream",
     "text": [
      "\nEpoch 00085: val_acc improved from 0.91230 to 0.91233, saving model to v1_model.h5\nEpoch 86/100\n"
     ]
    },
    {
     "name": "stdout",
     "output_type": "stream",
     "text": [
      "\r160000/160000 [==============================] - 2s 15us/step - loss: 0.0695 - acc: 0.9144 - val_loss: 0.0689 - val_acc: 0.9122\n"
     ]
    },
    {
     "name": "stdout",
     "output_type": "stream",
     "text": [
      "\nEpoch 00086: val_acc did not improve from 0.91233\nEpoch 87/100\n"
     ]
    },
    {
     "name": "stdout",
     "output_type": "stream",
     "text": [
      "\r160000/160000 [==============================] - 2s 15us/step - loss: 0.0696 - acc: 0.9140 - val_loss: 0.0689 - val_acc: 0.9122\n"
     ]
    },
    {
     "name": "stdout",
     "output_type": "stream",
     "text": [
      "\nEpoch 00087: val_acc did not improve from 0.91233\nEpoch 88/100\n"
     ]
    },
    {
     "name": "stdout",
     "output_type": "stream",
     "text": [
      "\r160000/160000 [==============================] - 2s 15us/step - loss: 0.0697 - acc: 0.9137 - val_loss: 0.0689 - val_acc: 0.9122\n"
     ]
    },
    {
     "name": "stdout",
     "output_type": "stream",
     "text": [
      "\nEpoch 00088: val_acc did not improve from 0.91233\nEpoch 89/100\n"
     ]
    },
    {
     "name": "stdout",
     "output_type": "stream",
     "text": [
      "\r160000/160000 [==============================] - 2s 14us/step - loss: 0.0697 - acc: 0.9137 - val_loss: 0.0689 - val_acc: 0.9122\n"
     ]
    },
    {
     "name": "stdout",
     "output_type": "stream",
     "text": [
      "\nEpoch 00089: val_acc did not improve from 0.91233\nEpoch 90/100\n"
     ]
    },
    {
     "name": "stdout",
     "output_type": "stream",
     "text": [
      "\r160000/160000 [==============================] - 2s 15us/step - loss: 0.0693 - acc: 0.9140 - val_loss: 0.0689 - val_acc: 0.9122\n"
     ]
    },
    {
     "name": "stdout",
     "output_type": "stream",
     "text": [
      "\nEpoch 00090: val_acc did not improve from 0.91233\nEpoch 91/100\n"
     ]
    },
    {
     "name": "stdout",
     "output_type": "stream",
     "text": [
      "\r160000/160000 [==============================] - 2s 15us/step - loss: 0.0694 - acc: 0.9137 - val_loss: 0.0689 - val_acc: 0.9122\n"
     ]
    },
    {
     "name": "stdout",
     "output_type": "stream",
     "text": [
      "\nEpoch 00091: val_acc did not improve from 0.91233\nEpoch 92/100\n"
     ]
    },
    {
     "name": "stdout",
     "output_type": "stream",
     "text": [
      "\r160000/160000 [==============================] - 2s 15us/step - loss: 0.0692 - acc: 0.9143 - val_loss: 0.0689 - val_acc: 0.9122\n"
     ]
    },
    {
     "name": "stdout",
     "output_type": "stream",
     "text": [
      "\nEpoch 00092: val_acc did not improve from 0.91233\nEpoch 93/100\n"
     ]
    },
    {
     "name": "stdout",
     "output_type": "stream",
     "text": [
      "\r160000/160000 [==============================] - 2s 15us/step - loss: 0.0690 - acc: 0.9140 - val_loss: 0.0689 - val_acc: 0.9121\n"
     ]
    },
    {
     "name": "stdout",
     "output_type": "stream",
     "text": [
      "\nEpoch 00093: val_acc did not improve from 0.91233\nEpoch 94/100\n"
     ]
    },
    {
     "name": "stdout",
     "output_type": "stream",
     "text": [
      "\r160000/160000 [==============================] - 2s 15us/step - loss: 0.0691 - acc: 0.9144 - val_loss: 0.0689 - val_acc: 0.9122\n"
     ]
    },
    {
     "name": "stdout",
     "output_type": "stream",
     "text": [
      "\nEpoch 00094: val_acc did not improve from 0.91233\nEpoch 95/100\n"
     ]
    },
    {
     "name": "stdout",
     "output_type": "stream",
     "text": [
      "\r160000/160000 [==============================] - 2s 15us/step - loss: 0.0687 - acc: 0.9140 - val_loss: 0.0688 - val_acc: 0.9122\n"
     ]
    },
    {
     "name": "stdout",
     "output_type": "stream",
     "text": [
      "\nEpoch 00095: val_acc did not improve from 0.91233\nEpoch 96/100\n"
     ]
    },
    {
     "name": "stdout",
     "output_type": "stream",
     "text": [
      "\r160000/160000 [==============================] - 2s 15us/step - loss: 0.0687 - acc: 0.9141 - val_loss: 0.0688 - val_acc: 0.9121\n"
     ]
    },
    {
     "name": "stdout",
     "output_type": "stream",
     "text": [
      "\nEpoch 00096: val_acc did not improve from 0.91233\nEpoch 97/100\n"
     ]
    },
    {
     "name": "stdout",
     "output_type": "stream",
     "text": [
      "\r160000/160000 [==============================] - 2s 15us/step - loss: 0.0686 - acc: 0.9146 - val_loss: 0.0688 - val_acc: 0.9123\n"
     ]
    },
    {
     "name": "stdout",
     "output_type": "stream",
     "text": [
      "\nEpoch 00097: val_acc did not improve from 0.91233\nEpoch 98/100\n"
     ]
    },
    {
     "name": "stdout",
     "output_type": "stream",
     "text": [
      "\r160000/160000 [==============================] - 2s 15us/step - loss: 0.0687 - acc: 0.9147 - val_loss: 0.0687 - val_acc: 0.9123\n"
     ]
    },
    {
     "name": "stdout",
     "output_type": "stream",
     "text": [
      "\nEpoch 00098: val_acc did not improve from 0.91233\nEpoch 99/100\n"
     ]
    },
    {
     "name": "stdout",
     "output_type": "stream",
     "text": [
      "\r160000/160000 [==============================] - 2s 15us/step - loss: 0.0684 - acc: 0.9147 - val_loss: 0.0687 - val_acc: 0.9124\n"
     ]
    },
    {
     "name": "stdout",
     "output_type": "stream",
     "text": [
      "\nEpoch 00099: val_acc improved from 0.91233 to 0.91240, saving model to v1_model.h5\nEpoch 100/100\n"
     ]
    },
    {
     "name": "stdout",
     "output_type": "stream",
     "text": [
      "\r160000/160000 [==============================] - 2s 15us/step - loss: 0.0685 - acc: 0.9147 - val_loss: 0.0687 - val_acc: 0.9124\n"
     ]
    },
    {
     "name": "stdout",
     "output_type": "stream",
     "text": [
      "\nEpoch 00100: val_acc improved from 0.91240 to 0.91242, saving model to v1_model.h5\n"
     ]
    }
   ],
   "source": [
    "history = model.fit(train_x_scaled, train_y_encoded, validation_split=0.20,\n",
    "                    epochs=_epochs, batch_size = len(train_x_scaled), verbose=1, callbacks=[es, mc])"
   ]
  },
  {
   "cell_type": "code",
   "execution_count": 182,
   "metadata": {
    "_uuid": "9a07e4ea6cb8eda6d1f133fa26303e427319fb13"
   },
   "outputs": [
    {
     "data": {
      "image/png": "[encoded data removed]",
      "text/plain": [
       "<Figure size 432x288 with 1 Axes>"
      ]
     },
     "metadata": {},
     "output_type": "display_data"
    }
   ],
   "source": [
    "# plot the accuracy - Train vs Valid\n",
    "plt.plot(history.history['acc'], label='train')\n",
    "plt.plot(history.history['val_acc'], label='test')\n",
    "plt.title('Accuracy - Train vs validation')\n",
    "plt.ylabel('Accuracy')\n",
    "plt.xlabel('Epoch')\n",
    "plt.legend(['Train', 'Test'], loc='upper left')\n",
    "plt.show()\n"
   ]
  },
  {
   "cell_type": "code",
   "execution_count": 183,
   "metadata": {
    "_uuid": "9a07e4ea6cb8eda6d1f133fa26303e427319fb13"
   },
   "outputs": [
    {
     "data": {
      "image/png": "[encoded data removed]",
      "text/plain": [
       "<Figure size 432x288 with 1 Axes>"
      ]
     },
     "metadata": {},
     "output_type": "display_data"
    }
   ],
   "source": [
    "import matplotlib.pyplot as plt\n",
    "\n",
    "# plot loss - Train vs Valid\n",
    "plt.plot(history.history['loss'], label='train loss')\n",
    "plt.plot(history.history['val_loss'], label='test loss')\n",
    "plt.title('Loss - Train vs validation')\n",
    "plt.ylabel('Loss')\n",
    "plt.xlabel('Epoch')\n",
    "plt.legend(['Train', 'Test'], loc='upper left')\n",
    "plt.show()"
   ]
  },
  {
   "cell_type": "code",
   "execution_count": 184,
   "metadata": {
    "_uuid": "f7e2f84d0bafb9daa32dbe394c72a7e8327aed10"
   },
   "outputs": [
    {
     "name": "stdout",
     "output_type": "stream",
     "text": [
      "  ID_code    target\n0  test_0  0.281067\n1  test_1  0.277391\n2  test_2 -0.007397\n3  test_3  0.067523\n4  test_4  0.034530\n"
     ]
    }
   ],
   "source": [
    "predict = model.predict(test_scaled)\n",
    "result = pd.DataFrame({\"ID_code\": pd.read_csv(\"C:/Users/Katta's/PycharmProjects/data/usecase1/test.csv\")['ID_code'], \"target\": predict[:,0]})\n",
    "print(result.head())"
   ]
  },
  {
   "cell_type": "code",
   "execution_count": 185,
   "metadata": {
    "_uuid": "bb35a639c6157fe21d22c9d46d01b7cd87e2bbab"
   },
   "outputs": [],
   "source": [
    "result.to_csv(\"C:/Users/Katta's/PycharmProjects/data/usecase1/submission1.csv\", index=False)\n"
   ]
  },
  {
   "cell_type": "code",
   "execution_count": null,
   "metadata": {},
   "outputs": [],
   "source": []
  }
 ],
 "metadata": {
  "kernelspec": {
   "display_name": "Python 3",
   "language": "python",
   "name": "python3"
  },
  "language_info": {
   "codemirror_mode": {
    "name": "ipython",
    "version": 3
   },
   "file_extension": ".py",
   "mimetype": "text/x-python",
   "name": "python",
   "nbconvert_exporter": "python",
   "pygments_lexer": "ipython3",
   "version": "3.6.6"
  }
 },
 "nbformat": 4,
 "nbformat_minor": 1
}
