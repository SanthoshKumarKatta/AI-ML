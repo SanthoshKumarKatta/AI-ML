{
 "cells": [
  {
   "cell_type": "code",
   "execution_count": 1,
   "metadata": {},
   "outputs": [],
   "source": [
    "import pandas as pd"
   ]
  },
  {
   "cell_type": "code",
   "execution_count": 2,
   "metadata": {
    "collapsed": true
   },
   "outputs": [],
   "source": [
    "data_path = \"C:/Users/Katta's/PycharmProjects/data/usecase3/train.csv\"\n",
    "housing = pd.read_csv(data_path)"
   ]
  },
  {
   "cell_type": "code",
   "execution_count": 3,
   "metadata": {
    "collapsed": false
   },
   "outputs": [],
   "source": [
    " house_obj= housing.select_dtypes(include=['object']).copy()"
   ]
  },
  {
   "cell_type": "code",
   "execution_count": 4,
   "metadata": {
    "collapsed": false
   },
   "outputs": [],
   "source": [
    "house_obj.drop(house_obj.columns[house_obj.isnull().any()],axis=1, inplace=True) "
   ]
  },
  {
   "cell_type": "code",
   "execution_count": 6,
   "metadata": {},
   "outputs": [],
   "source": [
    "from sklearn.preprocessing import LabelEncoder\n",
    "le=LabelEncoder()\n",
    "for col in house_obj.columns.values:\n",
    "        le.fit(house_obj[col])\n",
    "        house_obj[col]=le.transform(house_obj[col])"
   ]
  },
  {
   "cell_type": "code",
   "execution_count": 7,
   "metadata": {},
   "outputs": [],
   "source": [
    "# All types except object\n",
    "housing_int = housing.select_dtypes(exclude=['object']).copy()\n",
    "# housing_cat1 = housing_cat.astype('int64',copy=False)\n",
    "int_columns = housing_int.columns\n"
   ]
  },
  {
   "cell_type": "code",
   "execution_count": 8,
   "metadata": {
    "collapsed": false
   },
   "outputs": [
    {
     "name": "stderr",
     "output_type": "stream",
     "text": [
      "c:\\users\\katta's\\venv\\lib\\site-packages\\sklearn\\preprocessing\\data.py:625: DataConversionWarning: Data with input dtype int64, float64 were all converted to float64 by StandardScaler.\n  return self.partial_fit(X, y)\nc:\\users\\katta's\\venv\\lib\\site-packages\\sklearn\\base.py:462: DataConversionWarning: Data with input dtype int64, float64 were all converted to float64 by StandardScaler.\n  return self.fit(X, **fit_params).transform(X)\n"
     ]
    }
   ],
   "source": [
    "from sklearn.preprocessing import StandardScaler\n",
    "# Scaling training because of variance\n",
    "ss = StandardScaler()\n",
    "# scaling training data\n",
    "housing_cat1_scaled = ss.fit_transform(housing_int)\n"
   ]
  },
  {
   "cell_type": "code",
   "execution_count": 9,
   "metadata": {},
   "outputs": [],
   "source": [
    "housing_cat1_scaled_df = pd.DataFrame(housing_cat1_scaled, columns=int_columns)"
   ]
  },
  {
   "cell_type": "code",
   "execution_count": 10,
   "metadata": {
    "collapsed": false
   },
   "outputs": [],
   "source": [
    "housing_t = pd.concat([house_obj, housing_cat1_scaled_df],axis= 1)\n"
   ]
  },
  {
   "cell_type": "code",
   "execution_count": 11,
   "metadata": {},
   "outputs": [],
   "source": [
    "housing_t['GarageYrBlt'].fillna(housing_t['GarageYrBlt'].mean(), inplace=True)\n",
    "housing_t['MasVnrArea'].fillna(housing_t['MasVnrArea'].mean(), inplace=True)\n",
    "housing_t['LotFrontage'].fillna(housing_t['LotFrontage'].mean(), inplace=True)"
   ]
  },
  {
   "cell_type": "code",
   "execution_count": 12,
   "metadata": {
    "collapsed": true
   },
   "outputs": [
    {
     "name": "stdout",
     "output_type": "stream",
     "text": [
      "Index(['MSZoning', 'Street', 'LotShape', 'LandContour', 'Utilities',\n       'LotConfig', 'LandSlope', 'Neighborhood', 'Condition1', 'Condition2',\n       'BldgType', 'HouseStyle', 'RoofStyle', 'RoofMatl', 'Exterior1st',\n       'Exterior2nd', 'ExterQual', 'ExterCond', 'Foundation', 'Heating',\n       'HeatingQC', 'CentralAir', 'KitchenQual', 'Functional', 'PavedDrive',\n       'SaleType', 'SaleCondition', 'Id', 'MSSubClass', 'LotFrontage',\n       'LotArea', 'OverallQual', 'OverallCond', 'YearBuilt', 'YearRemodAdd',\n       'MasVnrArea', 'BsmtFinSF1', 'BsmtFinSF2', 'BsmtUnfSF', 'TotalBsmtSF',\n       '1stFlrSF', '2ndFlrSF', 'LowQualFinSF', 'GrLivArea', 'BsmtFullBath',\n       'BsmtHalfBath', 'FullBath', 'HalfBath', 'BedroomAbvGr', 'KitchenAbvGr',\n       'TotRmsAbvGrd', 'Fireplaces', 'GarageYrBlt', 'GarageCars', 'GarageArea',\n       'WoodDeckSF', 'OpenPorchSF', 'EnclosedPorch', '3SsnPorch',\n       'ScreenPorch', 'PoolArea', 'MiscVal', 'MoSold', 'YrSold', 'SalePrice'],\n      dtype='object')\n"
     ]
    }
   ],
   "source": [
    "housing_train = housing_t.dropna()\n",
    "print(housing_train.columns)"
   ]
  },
  {
   "cell_type": "code",
   "execution_count": 13,
   "metadata": {},
   "outputs": [
    {
     "data": {
      "text/plain": [
       "Index(['MSZoning', 'Street', 'LotShape', 'LandContour', 'Utilities',\n       'LotConfig', 'LandSlope', 'Neighborhood', 'Condition1', 'Condition2',\n       'BldgType', 'HouseStyle', 'RoofStyle', 'RoofMatl', 'Exterior1st',\n       'Exterior2nd', 'ExterQual', 'ExterCond', 'Foundation', 'Heating',\n       'HeatingQC', 'CentralAir', 'KitchenQual', 'Functional', 'PavedDrive',\n       'SaleType', 'SaleCondition', 'MSSubClass', 'LotFrontage', 'LotArea',\n       'OverallQual', 'OverallCond', 'YearBuilt', 'YearRemodAdd', 'MasVnrArea',\n       'BsmtFinSF1', 'BsmtFinSF2', 'BsmtUnfSF', 'TotalBsmtSF', '1stFlrSF',\n       '2ndFlrSF', 'LowQualFinSF', 'GrLivArea', 'BsmtFullBath', 'BsmtHalfBath',\n       'FullBath', 'HalfBath', 'BedroomAbvGr', 'KitchenAbvGr', 'TotRmsAbvGrd',\n       'Fireplaces', 'GarageYrBlt', 'GarageCars', 'GarageArea', 'WoodDeckSF',\n       'OpenPorchSF', 'EnclosedPorch', '3SsnPorch', 'ScreenPorch', 'PoolArea',\n       'MiscVal', 'MoSold', 'YrSold'],\n      dtype='object')"
      ]
     },
     "execution_count": 13,
     "metadata": {},
     "output_type": "execute_result"
    }
   ],
   "source": [
    "train_x = housing_train.drop(['SalePrice', 'Id'],axis=1)\n",
    "train_y = housing_train['SalePrice']\n",
    "train_x.columns"
   ]
  },
  {
   "cell_type": "code",
   "execution_count": 15,
   "metadata": {},
   "outputs": [],
   "source": [
    "# Early stopping \n",
    "from keras.callbacks import EarlyStopping\n",
    "_es_monitor = 'val_loss'\n",
    "_es_patience = 10\n",
    "es = EarlyStopping(monitor=_es_monitor, mode='min', verbose=1, patience=_es_patience)"
   ]
  },
  {
   "cell_type": "code",
   "execution_count": 43,
   "metadata": {},
   "outputs": [],
   "source": [
    "#define batch size and number of epchos \n",
    "_batch_size = 32\n",
    "_epochs = 500\n",
    "_mc_model_location = 'v1_model.h5'\n",
    "_mc_monitor = 'val_loss'\n",
    "lr = 0.005\n",
    "# Defining optimizer \n",
    "from keras.optimizers import SGD\n",
    "_opt = SGD(lr)\n",
    "# _opt = 'adam'\n",
    "_loss = 'mean_squared_error'"
   ]
  },
  {
   "cell_type": "code",
   "execution_count": 44,
   "metadata": {},
   "outputs": [],
   "source": [
    "# Model check point\n",
    "from keras.layers import Dropout\n",
    "from keras.models import Sequential\n",
    "from keras.layers import Dense\n",
    "from keras.callbacks import ModelCheckpoint\n",
    "\n",
    "model = Sequential()\n",
    "model.add(Dense(64, activation='relu', kernel_initializer='normal'))\n",
    "model.add(Dropout(0.4))\n",
    "model.add(Dense(10, activation='relu'))\n",
    "model.add(Dense(1))\n",
    "mc = ModelCheckpoint(_mc_model_location, monitor=_mc_monitor, mode='max', verbose=1, save_best_only=True)"
   ]
  },
  {
   "cell_type": "code",
   "execution_count": 45,
   "metadata": {},
   "outputs": [],
   "source": [
    "model.compile(loss=_loss, optimizer=_opt, metrics=['accuracy'])"
   ]
  },
  {
   "cell_type": "code",
   "execution_count": 46,
   "metadata": {},
   "outputs": [
    {
     "name": "stdout",
     "output_type": "stream",
     "text": [
      "Train on 1168 samples, validate on 292 samples\nEpoch 1/500\n"
     ]
    },
    {
     "name": "stdout",
     "output_type": "stream",
     "text": [
      "\r1168/1168 [==============================] - 0s 378us/step - loss: 1.5097 - acc: 0.0000e+00 - val_loss: 1.1114 - val_acc: 0.0000e+00\n"
     ]
    },
    {
     "name": "stdout",
     "output_type": "stream",
     "text": [
      "\nEpoch 00001: val_loss improved from -inf to 1.11141, saving model to v1_model.h5\n"
     ]
    },
    {
     "name": "stdout",
     "output_type": "stream",
     "text": [
      "Epoch 2/500\n\r1168/1168 [==============================] - 0s 7us/step - loss: 1.1306 - acc: 0.0000e+00 - val_loss: 1.0883 - val_acc: 0.0000e+00\n"
     ]
    },
    {
     "name": "stdout",
     "output_type": "stream",
     "text": [
      "\nEpoch 00002: val_loss did not improve from 1.11141\nEpoch 3/500\n\r1168/1168 [==============================] - 0s 8us/step - loss: 1.0673 - acc: 0.0000e+00 - val_loss: 1.0741 - val_acc: 0.0000e+00\n"
     ]
    },
    {
     "name": "stdout",
     "output_type": "stream",
     "text": [
      "\nEpoch 00003: val_loss did not improve from 1.11141\nEpoch 4/500\n\r1168/1168 [==============================] - 0s 9us/step - loss: 1.0718 - acc: 0.0000e+00 - val_loss: 1.0619 - val_acc: 0.0000e+00\n"
     ]
    },
    {
     "name": "stdout",
     "output_type": "stream",
     "text": [
      "\nEpoch 00004: val_loss did not improve from 1.11141\nEpoch 5/500\n\r1168/1168 [==============================] - 0s 7us/step - loss: 1.0147 - acc: 0.0000e+00 - val_loss: 1.0520 - val_acc: 0.0000e+00\n"
     ]
    },
    {
     "name": "stdout",
     "output_type": "stream",
     "text": [
      "\nEpoch 00005: val_loss did not improve from 1.11141\nEpoch 6/500\n\r1168/1168 [==============================] - 0s 9us/step - loss: 1.0076 - acc: 0.0000e+00 - val_loss: 1.0433 - val_acc: 0.0000e+00\n"
     ]
    },
    {
     "name": "stdout",
     "output_type": "stream",
     "text": [
      "\nEpoch 00006: val_loss did not improve from 1.11141\nEpoch 7/500\n\r1168/1168 [==============================] - 0s 9us/step - loss: 0.9982 - acc: 0.0000e+00 - val_loss: 1.0351 - val_acc: 0.0000e+00\n"
     ]
    },
    {
     "name": "stdout",
     "output_type": "stream",
     "text": [
      "\nEpoch 00007: val_loss did not improve from 1.11141\nEpoch 8/500\n\r1168/1168 [==============================] - 0s 9us/step - loss: 0.9665 - acc: 0.0000e+00 - val_loss: 1.0267 - val_acc: 0.0000e+00\n"
     ]
    },
    {
     "name": "stdout",
     "output_type": "stream",
     "text": [
      "\nEpoch 00008: val_loss did not improve from 1.11141\nEpoch 9/500\n\r1168/1168 [==============================] - 0s 8us/step - loss: 0.9689 - acc: 0.0000e+00 - val_loss: 1.0187 - val_acc: 0.0000e+00\n"
     ]
    },
    {
     "name": "stdout",
     "output_type": "stream",
     "text": [
      "\nEpoch 00009: val_loss did not improve from 1.11141\nEpoch 10/500\n\r1168/1168 [==============================] - 0s 8us/step - loss: 0.9850 - acc: 0.0000e+00 - val_loss: 1.0107 - val_acc: 0.0000e+00\n"
     ]
    },
    {
     "name": "stdout",
     "output_type": "stream",
     "text": [
      "\nEpoch 00010: val_loss did not improve from 1.11141\nEpoch 11/500\n\r1168/1168 [==============================] - 0s 8us/step - loss: 0.9473 - acc: 0.0000e+00 - val_loss: 1.0025 - val_acc: 0.0000e+00\n"
     ]
    },
    {
     "name": "stdout",
     "output_type": "stream",
     "text": [
      "\nEpoch 00011: val_loss did not improve from 1.11141\nEpoch 12/500\n\r1168/1168 [==============================] - 0s 8us/step - loss: 0.9522 - acc: 0.0000e+00 - val_loss: 0.9956 - val_acc: 0.0000e+00\n"
     ]
    },
    {
     "name": "stdout",
     "output_type": "stream",
     "text": [
      "\nEpoch 00012: val_loss did not improve from 1.11141\nEpoch 13/500\n\r1168/1168 [==============================] - 0s 7us/step - loss: 0.9834 - acc: 0.0000e+00 - val_loss: 0.9890 - val_acc: 0.0000e+00\n"
     ]
    },
    {
     "name": "stdout",
     "output_type": "stream",
     "text": [
      "\nEpoch 00013: val_loss did not improve from 1.11141\nEpoch 14/500\n\r1168/1168 [==============================] - 0s 9us/step - loss: 0.9470 - acc: 0.0000e+00 - val_loss: 0.9828 - val_acc: 0.0000e+00\n"
     ]
    },
    {
     "name": "stdout",
     "output_type": "stream",
     "text": [
      "\nEpoch 00014: val_loss did not improve from 1.11141\nEpoch 15/500\n\r1168/1168 [==============================] - 0s 8us/step - loss: 0.9477 - acc: 0.0000e+00 - val_loss: 0.9753 - val_acc: 0.0000e+00\n"
     ]
    },
    {
     "name": "stdout",
     "output_type": "stream",
     "text": [
      "\nEpoch 00015: val_loss did not improve from 1.11141\nEpoch 16/500\n\r1168/1168 [==============================] - 0s 7us/step - loss: 0.9281 - acc: 0.0000e+00 - val_loss: 0.9698 - val_acc: 0.0000e+00\n"
     ]
    },
    {
     "name": "stdout",
     "output_type": "stream",
     "text": [
      "\nEpoch 00016: val_loss did not improve from 1.11141\nEpoch 17/500\n"
     ]
    },
    {
     "name": "stdout",
     "output_type": "stream",
     "text": [
      "\r1168/1168 [==============================] - 0s 8us/step - loss: 0.9262 - acc: 0.0000e+00 - val_loss: 0.9640 - val_acc: 0.0000e+00\n"
     ]
    },
    {
     "name": "stdout",
     "output_type": "stream",
     "text": [
      "\nEpoch 00017: val_loss did not improve from 1.11141\nEpoch 18/500\n"
     ]
    },
    {
     "name": "stdout",
     "output_type": "stream",
     "text": [
      "\r1168/1168 [==============================] - 0s 10us/step - loss: 0.9065 - acc: 0.0000e+00 - val_loss: 0.9575 - val_acc: 0.0000e+00\n"
     ]
    },
    {
     "name": "stdout",
     "output_type": "stream",
     "text": [
      "\nEpoch 00018: val_loss did not improve from 1.11141\nEpoch 19/500\n"
     ]
    },
    {
     "name": "stdout",
     "output_type": "stream",
     "text": [
      "\r1168/1168 [==============================] - 0s 7us/step - loss: 0.9236 - acc: 0.0000e+00 - val_loss: 0.9514 - val_acc: 0.0000e+00\n"
     ]
    },
    {
     "name": "stdout",
     "output_type": "stream",
     "text": [
      "\nEpoch 00019: val_loss did not improve from 1.11141\nEpoch 20/500\n\r1168/1168 [==============================] - 0s 8us/step - loss: 0.9120 - acc: 0.0000e+00 - val_loss: 0.9448 - val_acc: 0.0000e+00\n"
     ]
    },
    {
     "name": "stdout",
     "output_type": "stream",
     "text": [
      "\nEpoch 00020: val_loss did not improve from 1.11141\nEpoch 21/500\n"
     ]
    },
    {
     "name": "stdout",
     "output_type": "stream",
     "text": [
      "\r1168/1168 [==============================] - 0s 9us/step - loss: 0.9214 - acc: 0.0000e+00 - val_loss: 0.9400 - val_acc: 0.0000e+00\n"
     ]
    },
    {
     "name": "stdout",
     "output_type": "stream",
     "text": [
      "\nEpoch 00021: val_loss did not improve from 1.11141\nEpoch 22/500\n"
     ]
    },
    {
     "name": "stdout",
     "output_type": "stream",
     "text": [
      "\r1168/1168 [==============================] - 0s 9us/step - loss: 0.8892 - acc: 0.0000e+00 - val_loss: 0.9335 - val_acc: 0.0000e+00\n"
     ]
    },
    {
     "name": "stdout",
     "output_type": "stream",
     "text": [
      "\nEpoch 00022: val_loss did not improve from 1.11141\nEpoch 23/500\n"
     ]
    },
    {
     "name": "stdout",
     "output_type": "stream",
     "text": [
      "\r1168/1168 [==============================] - 0s 8us/step - loss: 0.9027 - acc: 0.0000e+00 - val_loss: 0.9277 - val_acc: 0.0000e+00\n"
     ]
    },
    {
     "name": "stdout",
     "output_type": "stream",
     "text": [
      "\nEpoch 00023: val_loss did not improve from 1.11141\nEpoch 24/500\n"
     ]
    },
    {
     "name": "stdout",
     "output_type": "stream",
     "text": [
      "\r1168/1168 [==============================] - 0s 8us/step - loss: 0.8885 - acc: 0.0000e+00 - val_loss: 0.9207 - val_acc: 0.0000e+00\n"
     ]
    },
    {
     "name": "stdout",
     "output_type": "stream",
     "text": [
      "\nEpoch 00024: val_loss did not improve from 1.11141\nEpoch 25/500\n\r1168/1168 [==============================] - 0s 9us/step - loss: 0.8724 - acc: 0.0000e+00 - val_loss: 0.9147 - val_acc: 0.0000e+00\n"
     ]
    },
    {
     "name": "stdout",
     "output_type": "stream",
     "text": [
      "\nEpoch 00025: val_loss did not improve from 1.11141\nEpoch 26/500\n\r1168/1168 [==============================] - 0s 8us/step - loss: 0.8668 - acc: 0.0000e+00 - val_loss: 0.9071 - val_acc: 0.0000e+00\n"
     ]
    },
    {
     "name": "stdout",
     "output_type": "stream",
     "text": [
      "\nEpoch 00026: val_loss did not improve from 1.11141\nEpoch 27/500\n"
     ]
    },
    {
     "name": "stdout",
     "output_type": "stream",
     "text": [
      "\r1168/1168 [==============================] - 0s 8us/step - loss: 0.8667 - acc: 0.0000e+00 - val_loss: 0.9010 - val_acc: 0.0000e+00\n"
     ]
    },
    {
     "name": "stdout",
     "output_type": "stream",
     "text": [
      "\nEpoch 00027: val_loss did not improve from 1.11141\nEpoch 28/500\n"
     ]
    },
    {
     "name": "stdout",
     "output_type": "stream",
     "text": [
      "\r1168/1168 [==============================] - 0s 10us/step - loss: 0.8584 - acc: 0.0000e+00 - val_loss: 0.8954 - val_acc: 0.0000e+00\n"
     ]
    },
    {
     "name": "stdout",
     "output_type": "stream",
     "text": [
      "\nEpoch 00028: val_loss did not improve from 1.11141\nEpoch 29/500\n"
     ]
    },
    {
     "name": "stdout",
     "output_type": "stream",
     "text": [
      "\r1168/1168 [==============================] - 0s 10us/step - loss: 0.8283 - acc: 0.0000e+00 - val_loss: 0.8857 - val_acc: 0.0000e+00\n"
     ]
    },
    {
     "name": "stdout",
     "output_type": "stream",
     "text": [
      "\nEpoch 00029: val_loss did not improve from 1.11141\nEpoch 30/500\n"
     ]
    },
    {
     "name": "stdout",
     "output_type": "stream",
     "text": [
      "\r1168/1168 [==============================] - 0s 9us/step - loss: 0.8463 - acc: 0.0000e+00 - val_loss: 0.8778 - val_acc: 0.0000e+00\n"
     ]
    },
    {
     "name": "stdout",
     "output_type": "stream",
     "text": [
      "\nEpoch 00030: val_loss did not improve from 1.11141\nEpoch 31/500\n\r1168/1168 [==============================] - 0s 6us/step - loss: 0.8321 - acc: 0.0000e+00 - val_loss: 0.8702 - val_acc: 0.0000e+00\n"
     ]
    },
    {
     "name": "stdout",
     "output_type": "stream",
     "text": [
      "\nEpoch 00031: val_loss did not improve from 1.11141\nEpoch 32/500\n"
     ]
    },
    {
     "name": "stdout",
     "output_type": "stream",
     "text": [
      "\r1168/1168 [==============================] - 0s 9us/step - loss: 0.7960 - acc: 0.0000e+00 - val_loss: 0.8611 - val_acc: 0.0000e+00\n"
     ]
    },
    {
     "name": "stdout",
     "output_type": "stream",
     "text": [
      "\nEpoch 00032: val_loss did not improve from 1.11141\nEpoch 33/500\n"
     ]
    },
    {
     "name": "stdout",
     "output_type": "stream",
     "text": [
      "\r1168/1168 [==============================] - 0s 9us/step - loss: 0.8364 - acc: 0.0000e+00 - val_loss: 0.8551 - val_acc: 0.0000e+00\n"
     ]
    },
    {
     "name": "stdout",
     "output_type": "stream",
     "text": [
      "\nEpoch 00033: val_loss did not improve from 1.11141\nEpoch 34/500\n"
     ]
    },
    {
     "name": "stdout",
     "output_type": "stream",
     "text": [
      "\r1168/1168 [==============================] - 0s 8us/step - loss: 0.8015 - acc: 0.0000e+00 - val_loss: 0.8458 - val_acc: 0.0000e+00\n"
     ]
    },
    {
     "name": "stdout",
     "output_type": "stream",
     "text": [
      "\nEpoch 00034: val_loss did not improve from 1.11141\nEpoch 35/500\n"
     ]
    },
    {
     "name": "stdout",
     "output_type": "stream",
     "text": [
      "\r1168/1168 [==============================] - 0s 9us/step - loss: 0.7997 - acc: 0.0000e+00 - val_loss: 0.8370 - val_acc: 0.0000e+00\n"
     ]
    },
    {
     "name": "stdout",
     "output_type": "stream",
     "text": [
      "\nEpoch 00035: val_loss did not improve from 1.11141\nEpoch 36/500\n\r1168/1168 [==============================] - 0s 10us/step - loss: 0.8126 - acc: 0.0000e+00 - val_loss: 0.8301 - val_acc: 0.0000e+00\n"
     ]
    },
    {
     "name": "stdout",
     "output_type": "stream",
     "text": [
      "\nEpoch 00036: val_loss did not improve from 1.11141\nEpoch 37/500\n\r1168/1168 [==============================] - 0s 7us/step - loss: 0.7800 - acc: 0.0000e+00 - val_loss: 0.8227 - val_acc: 0.0000e+00\n"
     ]
    },
    {
     "name": "stdout",
     "output_type": "stream",
     "text": [
      "\nEpoch 00037: val_loss did not improve from 1.11141\nEpoch 38/500\n"
     ]
    },
    {
     "name": "stdout",
     "output_type": "stream",
     "text": [
      "\r1168/1168 [==============================] - 0s 8us/step - loss: 0.7822 - acc: 0.0000e+00 - val_loss: 0.8127 - val_acc: 0.0000e+00\n"
     ]
    },
    {
     "name": "stdout",
     "output_type": "stream",
     "text": [
      "\nEpoch 00038: val_loss did not improve from 1.11141\nEpoch 39/500\n"
     ]
    },
    {
     "name": "stdout",
     "output_type": "stream",
     "text": [
      "\r1168/1168 [==============================] - 0s 8us/step - loss: 0.7819 - acc: 0.0000e+00 - val_loss: 0.8045 - val_acc: 0.0000e+00\n"
     ]
    },
    {
     "name": "stdout",
     "output_type": "stream",
     "text": [
      "\nEpoch 00039: val_loss did not improve from 1.11141\nEpoch 40/500\n\r1168/1168 [==============================] - 0s 8us/step - loss: 0.7686 - acc: 0.0000e+00 - val_loss: 0.7952 - val_acc: 0.0000e+00\n"
     ]
    },
    {
     "name": "stdout",
     "output_type": "stream",
     "text": [
      "\nEpoch 00040: val_loss did not improve from 1.11141\nEpoch 41/500\n\r1168/1168 [==============================] - 0s 8us/step - loss: 0.7711 - acc: 0.0000e+00 - val_loss: 0.7865 - val_acc: 0.0000e+00\n"
     ]
    },
    {
     "name": "stdout",
     "output_type": "stream",
     "text": [
      "\nEpoch 00041: val_loss did not improve from 1.11141\nEpoch 42/500\n"
     ]
    },
    {
     "name": "stdout",
     "output_type": "stream",
     "text": [
      "\r1168/1168 [==============================] - 0s 9us/step - loss: 0.7278 - acc: 0.0000e+00 - val_loss: 0.7765 - val_acc: 0.0000e+00\n"
     ]
    },
    {
     "name": "stdout",
     "output_type": "stream",
     "text": [
      "\nEpoch 00042: val_loss did not improve from 1.11141\nEpoch 43/500\n"
     ]
    },
    {
     "name": "stdout",
     "output_type": "stream",
     "text": [
      "\r1168/1168 [==============================] - 0s 8us/step - loss: 0.7576 - acc: 0.0000e+00 - val_loss: 0.7682 - val_acc: 0.0000e+00\n"
     ]
    },
    {
     "name": "stdout",
     "output_type": "stream",
     "text": [
      "\nEpoch 00043: val_loss did not improve from 1.11141\nEpoch 44/500\n\r"
     ]
    },
    {
     "name": "stdout",
     "output_type": "stream",
     "text": [
      "1168/1168 [==============================] - 0s 9us/step - loss: 0.7140 - acc: 0.0000e+00 - val_loss: 0.7577 - val_acc: 0.0000e+00\n"
     ]
    },
    {
     "name": "stdout",
     "output_type": "stream",
     "text": [
      "\nEpoch 00044: val_loss did not improve from 1.11141\nEpoch 45/500\n\r1168/1168 [==============================] - 0s 7us/step - loss: 0.7215 - acc: 0.0000e+00 - val_loss: 0.7491 - val_acc: 0.0000e+00\n"
     ]
    },
    {
     "name": "stdout",
     "output_type": "stream",
     "text": [
      "\nEpoch 00045: val_loss did not improve from 1.11141\nEpoch 46/500\n"
     ]
    },
    {
     "name": "stdout",
     "output_type": "stream",
     "text": [
      "\r1168/1168 [==============================] - 0s 13us/step - loss: 0.7225 - acc: 0.0000e+00 - val_loss: 0.7390 - val_acc: 0.0000e+00\n"
     ]
    },
    {
     "name": "stdout",
     "output_type": "stream",
     "text": [
      "\nEpoch 00046: val_loss did not improve from 1.11141\nEpoch 47/500\n\r1168/1168 [==============================] - 0s 7us/step - loss: 0.6991 - acc: 0.0000e+00 - val_loss: 0.7289 - val_acc: 0.0000e+00\n"
     ]
    },
    {
     "name": "stdout",
     "output_type": "stream",
     "text": [
      "\nEpoch 00047: val_loss did not improve from 1.11141\nEpoch 48/500\n"
     ]
    },
    {
     "name": "stdout",
     "output_type": "stream",
     "text": [
      "\r1168/1168 [==============================] - 0s 8us/step - loss: 0.6746 - acc: 0.0000e+00 - val_loss: 0.7183 - val_acc: 0.0000e+00\n"
     ]
    },
    {
     "name": "stdout",
     "output_type": "stream",
     "text": [
      "\nEpoch 00048: val_loss did not improve from 1.11141\nEpoch 49/500\n\r1168/1168 [==============================] - 0s 8us/step - loss: 0.6789 - acc: 0.0000e+00 - val_loss: 0.7092 - val_acc: 0.0000e+00\n"
     ]
    },
    {
     "name": "stdout",
     "output_type": "stream",
     "text": [
      "\nEpoch 00049: val_loss did not improve from 1.11141\nEpoch 50/500\n"
     ]
    },
    {
     "name": "stdout",
     "output_type": "stream",
     "text": [
      "\r1168/1168 [==============================] - 0s 10us/step - loss: 0.6951 - acc: 0.0000e+00 - val_loss: 0.7014 - val_acc: 0.0000e+00\n"
     ]
    },
    {
     "name": "stdout",
     "output_type": "stream",
     "text": [
      "\nEpoch 00050: val_loss did not improve from 1.11141\nEpoch 51/500\n"
     ]
    },
    {
     "name": "stdout",
     "output_type": "stream",
     "text": [
      "\r1168/1168 [==============================] - 0s 7us/step - loss: 0.6682 - acc: 0.0000e+00 - val_loss: 0.6914 - val_acc: 0.0000e+00\n"
     ]
    },
    {
     "name": "stdout",
     "output_type": "stream",
     "text": [
      "\nEpoch 00051: val_loss did not improve from 1.11141\nEpoch 52/500\n"
     ]
    },
    {
     "name": "stdout",
     "output_type": "stream",
     "text": [
      "\r1168/1168 [==============================] - 0s 10us/step - loss: 0.6355 - acc: 0.0000e+00 - val_loss: 0.6819 - val_acc: 0.0000e+00\n"
     ]
    },
    {
     "name": "stdout",
     "output_type": "stream",
     "text": [
      "\nEpoch 00052: val_loss did not improve from 1.11141\nEpoch 53/500\n\r1168/1168 [==============================] - 0s 9us/step - loss: 0.6820 - acc: 0.0000e+00 - val_loss: 0.6739 - val_acc: 0.0000e+00\n"
     ]
    },
    {
     "name": "stdout",
     "output_type": "stream",
     "text": [
      "\nEpoch 00053: val_loss did not improve from 1.11141"
     ]
    },
    {
     "name": "stdout",
     "output_type": "stream",
     "text": [
      "\nEpoch 54/500\n\r1168/1168 [==============================] - 0s 8us/step - loss: 0.6184 - acc: 0.0000e+00 - val_loss: 0.6647 - val_acc: 0.0000e+00\n"
     ]
    },
    {
     "name": "stdout",
     "output_type": "stream",
     "text": [
      "\nEpoch 00054: val_loss did not improve from 1.11141\nEpoch 55/500\n"
     ]
    },
    {
     "name": "stdout",
     "output_type": "stream",
     "text": [
      "\r1168/1168 [==============================] - 0s 9us/step - loss: 0.6392 - acc: 0.0000e+00 - val_loss: 0.6569 - val_acc: 0.0000e+00\n"
     ]
    },
    {
     "name": "stdout",
     "output_type": "stream",
     "text": [
      "\nEpoch 00055: val_loss did not improve from 1.11141\nEpoch 56/500\n"
     ]
    },
    {
     "name": "stdout",
     "output_type": "stream",
     "text": [
      "\r1168/1168 [==============================] - 0s 8us/step - loss: 0.6295 - acc: 0.0000e+00 - val_loss: 0.6479 - val_acc: 0.0000e+00\n"
     ]
    },
    {
     "name": "stdout",
     "output_type": "stream",
     "text": [
      "\nEpoch 00056: val_loss did not improve from 1.11141\nEpoch 57/500\n"
     ]
    },
    {
     "name": "stdout",
     "output_type": "stream",
     "text": [
      "\r1168/1168 [==============================] - 0s 9us/step - loss: 0.6178 - acc: 0.0000e+00 - val_loss: 0.6397 - val_acc: 0.0000e+00\n"
     ]
    },
    {
     "name": "stdout",
     "output_type": "stream",
     "text": [
      "\nEpoch 00057: val_loss did not improve from 1.11141\nEpoch 58/500\n"
     ]
    },
    {
     "name": "stdout",
     "output_type": "stream",
     "text": [
      "\r1168/1168 [==============================] - 0s 9us/step - loss: 0.6266 - acc: 0.0000e+00 - val_loss: 0.6318 - val_acc: 0.0000e+00\n"
     ]
    },
    {
     "name": "stdout",
     "output_type": "stream",
     "text": [
      "\nEpoch 00058: val_loss did not improve from 1.11141\nEpoch 59/500\n\r1168/1168 [==============================] - 0s 9us/step - loss: 0.6270 - acc: 0.0000e+00 - val_loss: 0.6240 - val_acc: 0.0000e+00\n"
     ]
    },
    {
     "name": "stdout",
     "output_type": "stream",
     "text": [
      "\nEpoch 00059: val_loss did not improve from 1.11141\nEpoch 60/500\n"
     ]
    },
    {
     "name": "stdout",
     "output_type": "stream",
     "text": [
      "\r1168/1168 [==============================] - 0s 10us/step - loss: 0.5851 - acc: 0.0000e+00 - val_loss: 0.6159 - val_acc: 0.0000e+00\n"
     ]
    },
    {
     "name": "stdout",
     "output_type": "stream",
     "text": [
      "\nEpoch 00060: val_loss did not improve from 1.11141\nEpoch 61/500\n"
     ]
    },
    {
     "name": "stdout",
     "output_type": "stream",
     "text": [
      "\r1168/1168 [==============================] - 0s 7us/step - loss: 0.5991 - acc: 0.0000e+00 - val_loss: 0.6092 - val_acc: 0.0000e+00\n"
     ]
    },
    {
     "name": "stdout",
     "output_type": "stream",
     "text": [
      "\nEpoch 00061: val_loss did not improve from 1.11141\nEpoch 62/500\n"
     ]
    },
    {
     "name": "stdout",
     "output_type": "stream",
     "text": [
      "\r1168/1168 [==============================] - 0s 8us/step - loss: 0.6113 - acc: 0.0000e+00 - val_loss: 0.6018 - val_acc: 0.0000e+00\n"
     ]
    },
    {
     "name": "stdout",
     "output_type": "stream",
     "text": [
      "\nEpoch 00062: val_loss did not improve from 1.11141\nEpoch 63/500\n\r1168/1168 [==============================] - 0s 9us/step - loss: 0.6005 - acc: 0.0000e+00 - val_loss: 0.5964 - val_acc: 0.0000e+00\n"
     ]
    },
    {
     "name": "stdout",
     "output_type": "stream",
     "text": [
      "\nEpoch 00063: val_loss did not improve from 1.11141\nEpoch 64/500\n\r1168/1168 [==============================] - 0s 8us/step - loss: 0.5603 - acc: 0.0000e+00 - val_loss: 0.5887 - val_acc: 0.0000e+00\n"
     ]
    },
    {
     "name": "stdout",
     "output_type": "stream",
     "text": [
      "\nEpoch 00064: val_loss did not improve from 1.11141\nEpoch 65/500\n"
     ]
    },
    {
     "name": "stdout",
     "output_type": "stream",
     "text": [
      "\r1168/1168 [==============================] - 0s 8us/step - loss: 0.5421 - acc: 0.0000e+00 - val_loss: 0.5799 - val_acc: 0.0000e+00\n"
     ]
    },
    {
     "name": "stdout",
     "output_type": "stream",
     "text": [
      "\nEpoch 00065: val_loss did not improve from 1.11141\nEpoch 66/500\n"
     ]
    },
    {
     "name": "stdout",
     "output_type": "stream",
     "text": [
      "\r1168/1168 [==============================] - 0s 9us/step - loss: 0.5633 - acc: 0.0000e+00 - val_loss: 0.5733 - val_acc: 0.0000e+00\n"
     ]
    },
    {
     "name": "stdout",
     "output_type": "stream",
     "text": [
      "\nEpoch 00066: val_loss did not improve from 1.11141\nEpoch 67/500\n"
     ]
    },
    {
     "name": "stdout",
     "output_type": "stream",
     "text": [
      "\r1168/1168 [==============================] - 0s 10us/step - loss: 0.5488 - acc: 0.0000e+00 - val_loss: 0.5665 - val_acc: 0.0000e+00\n"
     ]
    },
    {
     "name": "stdout",
     "output_type": "stream",
     "text": [
      "\nEpoch 00067: val_loss did not improve from 1.11141\nEpoch 68/500\n\r1168/1168 [==============================] - 0s 9us/step - loss: 0.5555 - acc: 0.0000e+00 - val_loss: 0.5600 - val_acc: 0.0000e+00\n"
     ]
    },
    {
     "name": "stdout",
     "output_type": "stream",
     "text": [
      "\nEpoch 00068: val_loss did not improve from 1.11141\nEpoch 69/500\n\r1168/1168 [==============================] - 0s 8us/step - loss: 0.5728 - acc: 0.0000e+00 - val_loss: 0.5558 - val_acc: 0.0000e+00\n"
     ]
    },
    {
     "name": "stdout",
     "output_type": "stream",
     "text": [
      "\nEpoch 00069: val_loss did not improve from 1.11141\n"
     ]
    },
    {
     "name": "stdout",
     "output_type": "stream",
     "text": [
      "Epoch 70/500\n\r1168/1168 [==============================] - 0s 7us/step - loss: 0.5189 - acc: 0.0000e+00 - val_loss: 0.5499 - val_acc: 0.0000e+00\n"
     ]
    },
    {
     "name": "stdout",
     "output_type": "stream",
     "text": [
      "\nEpoch 00070: val_loss did not improve from 1.11141\nEpoch 71/500\n"
     ]
    },
    {
     "name": "stdout",
     "output_type": "stream",
     "text": [
      "\r1168/1168 [==============================] - 0s 7us/step - loss: 0.5302 - acc: 0.0000e+00 - val_loss: 0.5431 - val_acc: 0.0000e+00\n"
     ]
    },
    {
     "name": "stdout",
     "output_type": "stream",
     "text": [
      "\nEpoch 00071: val_loss did not improve from 1.11141\nEpoch 72/500\n"
     ]
    },
    {
     "name": "stdout",
     "output_type": "stream",
     "text": [
      "\r1168/1168 [==============================] - 0s 9us/step - loss: 0.5403 - acc: 0.0000e+00 - val_loss: 0.5384 - val_acc: 0.0000e+00\n"
     ]
    },
    {
     "name": "stdout",
     "output_type": "stream",
     "text": [
      "\nEpoch 00072: val_loss did not improve from 1.11141\nEpoch 73/500\n\r"
     ]
    },
    {
     "name": "stdout",
     "output_type": "stream",
     "text": [
      "1168/1168 [==============================] - 0s 9us/step - loss: 0.5251 - acc: 0.0000e+00 - val_loss: 0.5333 - val_acc: 0.0000e+00\n"
     ]
    },
    {
     "name": "stdout",
     "output_type": "stream",
     "text": [
      "\nEpoch 00073: val_loss did not improve from 1.11141\nEpoch 74/500\n\r1168/1168 [==============================] - 0s 9us/step - loss: 0.5190 - acc: 0.0000e+00 - val_loss: 0.5267 - val_acc: 0.0000e+00\n"
     ]
    },
    {
     "name": "stdout",
     "output_type": "stream",
     "text": [
      "\nEpoch 00074: val_loss did not improve from 1.11141\nEpoch 75/500\n"
     ]
    },
    {
     "name": "stdout",
     "output_type": "stream",
     "text": [
      "\r1168/1168 [==============================] - 0s 9us/step - loss: 0.4957 - acc: 0.0000e+00 - val_loss: 0.5209 - val_acc: 0.0000e+00\n"
     ]
    },
    {
     "name": "stdout",
     "output_type": "stream",
     "text": [
      "\nEpoch 00075: val_loss did not improve from 1.11141\nEpoch 76/500\n"
     ]
    },
    {
     "name": "stdout",
     "output_type": "stream",
     "text": [
      "\r1168/1168 [==============================] - 0s 8us/step - loss: 0.5044 - acc: 0.0000e+00 - val_loss: 0.5158 - val_acc: 0.0000e+00\n"
     ]
    },
    {
     "name": "stdout",
     "output_type": "stream",
     "text": [
      "\nEpoch 00076: val_loss did not improve from 1.11141\nEpoch 77/500\n"
     ]
    },
    {
     "name": "stdout",
     "output_type": "stream",
     "text": [
      "\r1168/1168 [==============================] - 0s 9us/step - loss: 0.4908 - acc: 0.0000e+00 - val_loss: 0.5102 - val_acc: 0.0000e+00\n"
     ]
    },
    {
     "name": "stdout",
     "output_type": "stream",
     "text": [
      "\nEpoch 00077: val_loss did not improve from 1.11141\nEpoch 78/500\n\r"
     ]
    },
    {
     "name": "stdout",
     "output_type": "stream",
     "text": [
      "1168/1168 [==============================] - 0s 9us/step - loss: 0.4904 - acc: 0.0000e+00 - val_loss: 0.5077 - val_acc: 0.0000e+00\n"
     ]
    },
    {
     "name": "stdout",
     "output_type": "stream",
     "text": [
      "\nEpoch 00078: val_loss did not improve from 1.11141\nEpoch 79/500\n\r1168/1168 [==============================] - 0s 8us/step - loss: 0.4706 - acc: 0.0000e+00 - val_loss: 0.5012 - val_acc: 0.0000e+00\n"
     ]
    },
    {
     "name": "stdout",
     "output_type": "stream",
     "text": [
      "\nEpoch 00079: val_loss did not improve from 1.11141\nEpoch 80/500\n"
     ]
    },
    {
     "name": "stdout",
     "output_type": "stream",
     "text": [
      "\r1168/1168 [==============================] - 0s 8us/step - loss: 0.4899 - acc: 0.0000e+00 - val_loss: 0.4971 - val_acc: 0.0000e+00\n"
     ]
    },
    {
     "name": "stdout",
     "output_type": "stream",
     "text": [
      "\nEpoch 00080: val_loss did not improve from 1.11141\nEpoch 81/500\n"
     ]
    },
    {
     "name": "stdout",
     "output_type": "stream",
     "text": [
      "\r1168/1168 [==============================] - 0s 8us/step - loss: 0.4962 - acc: 0.0000e+00 - val_loss: 0.4929 - val_acc: 0.0000e+00\n"
     ]
    },
    {
     "name": "stdout",
     "output_type": "stream",
     "text": [
      "\nEpoch 00081: val_loss did not improve from 1.11141\nEpoch 82/500\n"
     ]
    },
    {
     "name": "stdout",
     "output_type": "stream",
     "text": [
      "\r1168/1168 [==============================] - 0s 9us/step - loss: 0.4945 - acc: 0.0000e+00 - val_loss: 0.4887 - val_acc: 0.0000e+00\n"
     ]
    },
    {
     "name": "stdout",
     "output_type": "stream",
     "text": [
      "\nEpoch 00082: val_loss did not improve from 1.11141\nEpoch 83/500\n\r1168/1168 [==============================] - 0s 9us/step - loss: 0.4704 - acc: 0.0000e+00 - val_loss: 0.4858 - val_acc: 0.0000e+00\n"
     ]
    },
    {
     "name": "stdout",
     "output_type": "stream",
     "text": [
      "\nEpoch 00083: val_loss did not improve from 1.11141\nEpoch 84/500\n\r1168/1168 [==============================] - 0s 11us/step - loss: 0.4883 - acc: 0.0000e+00 - val_loss: 0.4816 - val_acc: 0.0000e+00\n"
     ]
    },
    {
     "name": "stdout",
     "output_type": "stream",
     "text": [
      "\nEpoch 00084: val_loss did not improve from 1.11141\nEpoch 85/500\n\r1168/1168 [==============================] - 0s 9us/step - loss: 0.4861 - acc: 0.0000e+00 - val_loss: 0.4779 - val_acc: 0.0000e+00\n"
     ]
    },
    {
     "name": "stdout",
     "output_type": "stream",
     "text": [
      "\nEpoch 00085: val_loss did not improve from 1.11141\nEpoch 86/500\n"
     ]
    },
    {
     "name": "stdout",
     "output_type": "stream",
     "text": [
      "\r1168/1168 [==============================] - 0s 7us/step - loss: 0.4399 - acc: 0.0000e+00 - val_loss: 0.4739 - val_acc: 0.0000e+00\n"
     ]
    },
    {
     "name": "stdout",
     "output_type": "stream",
     "text": [
      "\nEpoch 00086: val_loss did not improve from 1.11141\nEpoch 87/500\n"
     ]
    },
    {
     "name": "stdout",
     "output_type": "stream",
     "text": [
      "\r1168/1168 [==============================] - 0s 9us/step - loss: 0.4327 - acc: 0.0000e+00 - val_loss: 0.4683 - val_acc: 0.0000e+00\n"
     ]
    },
    {
     "name": "stdout",
     "output_type": "stream",
     "text": [
      "\nEpoch 00087: val_loss did not improve from 1.11141\nEpoch 88/500\n"
     ]
    },
    {
     "name": "stdout",
     "output_type": "stream",
     "text": [
      "\r1168/1168 [==============================] - 0s 16us/step - loss: 0.5020 - acc: 0.0000e+00 - val_loss: 0.4649 - val_acc: 0.0000e+00\n"
     ]
    },
    {
     "name": "stdout",
     "output_type": "stream",
     "text": [
      "\nEpoch 00088: val_loss did not improve from 1.11141\nEpoch 89/500\n"
     ]
    },
    {
     "name": "stdout",
     "output_type": "stream",
     "text": [
      "\r1168/1168 [==============================] - 0s 8us/step - loss: 0.4357 - acc: 0.0000e+00 - val_loss: 0.4619 - val_acc: 0.0000e+00\n"
     ]
    },
    {
     "name": "stdout",
     "output_type": "stream",
     "text": [
      "\nEpoch 00089: val_loss did not improve from 1.11141\nEpoch 90/500\n"
     ]
    },
    {
     "name": "stdout",
     "output_type": "stream",
     "text": [
      "\r1168/1168 [==============================] - 0s 8us/step - loss: 0.4445 - acc: 0.0000e+00 - val_loss: 0.4578 - val_acc: 0.0000e+00\n"
     ]
    },
    {
     "name": "stdout",
     "output_type": "stream",
     "text": [
      "\nEpoch 00090: val_loss did not improve from 1.11141\nEpoch 91/500\n"
     ]
    },
    {
     "name": "stdout",
     "output_type": "stream",
     "text": [
      "\r1168/1168 [==============================] - 0s 9us/step - loss: 0.4033 - acc: 0.0000e+00 - val_loss: 0.4534 - val_acc: 0.0000e+00\n"
     ]
    },
    {
     "name": "stdout",
     "output_type": "stream",
     "text": [
      "\nEpoch 00091: val_loss did not improve from 1.11141\nEpoch 92/500\n\r1168/1168 [==============================] - 0s 8us/step - loss: 0.4243 - acc: 0.0000e+00 - val_loss: 0.4494 - val_acc: 0.0000e+00\n"
     ]
    },
    {
     "name": "stdout",
     "output_type": "stream",
     "text": [
      "\nEpoch 00092: val_loss did not improve from 1.11141\nEpoch 93/500\n"
     ]
    },
    {
     "name": "stdout",
     "output_type": "stream",
     "text": [
      "\r1168/1168 [==============================] - 0s 10us/step - loss: 0.4244 - acc: 0.0000e+00 - val_loss: 0.4478 - val_acc: 0.0000e+00\n"
     ]
    },
    {
     "name": "stdout",
     "output_type": "stream",
     "text": [
      "\nEpoch 00093: val_loss did not improve from 1.11141\nEpoch 94/500\n"
     ]
    },
    {
     "name": "stdout",
     "output_type": "stream",
     "text": [
      "\r1168/1168 [==============================] - 0s 13us/step - loss: 0.4366 - acc: 0.0000e+00 - val_loss: 0.4440 - val_acc: 0.0000e+00\n"
     ]
    },
    {
     "name": "stdout",
     "output_type": "stream",
     "text": [
      "\nEpoch 00094: val_loss did not improve from 1.11141\nEpoch 95/500\n"
     ]
    },
    {
     "name": "stdout",
     "output_type": "stream",
     "text": [
      "\r1168/1168 [==============================] - 0s 10us/step - loss: 0.4476 - acc: 0.0000e+00 - val_loss: 0.4410 - val_acc: 0.0000e+00\n"
     ]
    },
    {
     "name": "stdout",
     "output_type": "stream",
     "text": [
      "\nEpoch 00095: val_loss did not improve from 1.11141\nEpoch 96/500\n"
     ]
    },
    {
     "name": "stdout",
     "output_type": "stream",
     "text": [
      "\r1168/1168 [==============================] - 0s 9us/step - loss: 0.4064 - acc: 0.0000e+00 - val_loss: 0.4368 - val_acc: 0.0000e+00\n"
     ]
    },
    {
     "name": "stdout",
     "output_type": "stream",
     "text": [
      "\nEpoch 00096: val_loss did not improve from 1.11141\nEpoch 97/500\n"
     ]
    },
    {
     "name": "stdout",
     "output_type": "stream",
     "text": [
      "\r1168/1168 [==============================] - 0s 9us/step - loss: 0.4226 - acc: 0.0000e+00 - val_loss: 0.4332 - val_acc: 0.0000e+00\n"
     ]
    },
    {
     "name": "stdout",
     "output_type": "stream",
     "text": [
      "\nEpoch 00097: val_loss did not improve from 1.11141\nEpoch 98/500\n"
     ]
    },
    {
     "name": "stdout",
     "output_type": "stream",
     "text": [
      "\r1168/1168 [==============================] - 0s 9us/step - loss: 0.4173 - acc: 0.0000e+00 - val_loss: 0.4316 - val_acc: 0.0000e+00\n"
     ]
    },
    {
     "name": "stdout",
     "output_type": "stream",
     "text": [
      "\nEpoch 00098: val_loss did not improve from 1.11141\nEpoch 99/500\n"
     ]
    },
    {
     "name": "stdout",
     "output_type": "stream",
     "text": [
      "\r1168/1168 [==============================] - 0s 9us/step - loss: 0.4358 - acc: 0.0000e+00 - val_loss: 0.4290 - val_acc: 0.0000e+00\n"
     ]
    },
    {
     "name": "stdout",
     "output_type": "stream",
     "text": [
      "\nEpoch 00099: val_loss did not improve from 1.11141\nEpoch 100/500\n\r1168/1168 [==============================] - 0s 9us/step - loss: 0.4219 - acc: 0.0000e+00 - val_loss: 0.4260 - val_acc: 0.0000e+00\n"
     ]
    },
    {
     "name": "stdout",
     "output_type": "stream",
     "text": [
      "\nEpoch 00100: val_loss did not improve from 1.11141\nEpoch 101/500\n"
     ]
    },
    {
     "name": "stdout",
     "output_type": "stream",
     "text": [
      "\r1168/1168 [==============================] - 0s 12us/step - loss: 0.4165 - acc: 0.0000e+00 - val_loss: 0.4241 - val_acc: 0.0000e+00\n"
     ]
    },
    {
     "name": "stdout",
     "output_type": "stream",
     "text": [
      "\nEpoch 00101: val_loss did not improve from 1.11141\nEpoch 102/500\n\r1168/1168 [==============================] - 0s 8us/step - loss: 0.4293 - acc: 0.0000e+00 - val_loss: 0.4222 - val_acc: 0.0000e+00\n"
     ]
    },
    {
     "name": "stdout",
     "output_type": "stream",
     "text": [
      "\nEpoch 00102: val_loss did not improve from 1.11141\nEpoch 103/500\n"
     ]
    },
    {
     "name": "stdout",
     "output_type": "stream",
     "text": [
      "\r1168/1168 [==============================] - 0s 6us/step - loss: 0.3866 - acc: 0.0000e+00 - val_loss: 0.4190 - val_acc: 0.0000e+00\n"
     ]
    },
    {
     "name": "stdout",
     "output_type": "stream",
     "text": [
      "\nEpoch 00103: val_loss did not improve from 1.11141\nEpoch 104/500\n"
     ]
    },
    {
     "name": "stdout",
     "output_type": "stream",
     "text": [
      "\r1168/1168 [==============================] - 0s 10us/step - loss: 0.3882 - acc: 0.0000e+00 - val_loss: 0.4156 - val_acc: 0.0000e+00\n"
     ]
    },
    {
     "name": "stdout",
     "output_type": "stream",
     "text": [
      "\nEpoch 00104: val_loss did not improve from 1.11141\nEpoch 105/500\n"
     ]
    },
    {
     "name": "stdout",
     "output_type": "stream",
     "text": [
      "\r1168/1168 [==============================] - 0s 10us/step - loss: 0.3734 - acc: 0.0000e+00 - val_loss: 0.4119 - val_acc: 0.0000e+00\n"
     ]
    },
    {
     "name": "stdout",
     "output_type": "stream",
     "text": [
      "\nEpoch 00105: val_loss did not improve from 1.11141\nEpoch 106/500\n"
     ]
    },
    {
     "name": "stdout",
     "output_type": "stream",
     "text": [
      "\r1168/1168 [==============================] - 0s 9us/step - loss: 0.4147 - acc: 0.0000e+00 - val_loss: 0.4096 - val_acc: 0.0000e+00\n"
     ]
    },
    {
     "name": "stdout",
     "output_type": "stream",
     "text": [
      "\nEpoch 00106: val_loss did not improve from 1.11141\nEpoch 107/500\n\r1168/1168 [==============================] - 0s 9us/step - loss: 0.4228 - acc: 0.0000e+00 - val_loss: 0.4081 - val_acc: 0.0000e+00\n"
     ]
    },
    {
     "name": "stdout",
     "output_type": "stream",
     "text": [
      "\nEpoch 00107: val_loss did not improve from 1.11141\nEpoch 108/500\n"
     ]
    },
    {
     "name": "stdout",
     "output_type": "stream",
     "text": [
      "\r1168/1168 [==============================] - 0s 9us/step - loss: 0.4074 - acc: 0.0000e+00 - val_loss: 0.4066 - val_acc: 0.0000e+00\n"
     ]
    },
    {
     "name": "stdout",
     "output_type": "stream",
     "text": [
      "\nEpoch 00108: val_loss did not improve from 1.11141\nEpoch 109/500\n"
     ]
    },
    {
     "name": "stdout",
     "output_type": "stream",
     "text": [
      "\r1168/1168 [==============================] - 0s 6us/step - loss: 0.3763 - acc: 0.0000e+00 - val_loss: 0.4041 - val_acc: 0.0000e+00\n"
     ]
    },
    {
     "name": "stdout",
     "output_type": "stream",
     "text": [
      "\nEpoch 00109: val_loss did not improve from 1.11141\nEpoch 110/500\n"
     ]
    },
    {
     "name": "stdout",
     "output_type": "stream",
     "text": [
      "\r1168/1168 [==============================] - 0s 10us/step - loss: 0.3818 - acc: 0.0000e+00 - val_loss: 0.4014 - val_acc: 0.0000e+00\n"
     ]
    },
    {
     "name": "stdout",
     "output_type": "stream",
     "text": [
      "\nEpoch 00110: val_loss did not improve from 1.11141\nEpoch 111/500\n"
     ]
    },
    {
     "name": "stdout",
     "output_type": "stream",
     "text": [
      "\r1168/1168 [==============================] - 0s 9us/step - loss: 0.4012 - acc: 0.0000e+00 - val_loss: 0.3999 - val_acc: 0.0000e+00\n"
     ]
    },
    {
     "name": "stdout",
     "output_type": "stream",
     "text": [
      "\nEpoch 00111: val_loss did not improve from 1.11141\nEpoch 112/500\n\r1168/1168 [==============================] - 0s 9us/step - loss: 0.3773 - acc: 0.0000e+00 - val_loss: 0.3981 - val_acc: 0.0000e+00\n"
     ]
    },
    {
     "name": "stdout",
     "output_type": "stream",
     "text": [
      "\nEpoch 00112: val_loss did not improve from 1.11141"
     ]
    },
    {
     "name": "stdout",
     "output_type": "stream",
     "text": [
      "\nEpoch 113/500\n\r1168/1168 [==============================] - 0s 9us/step - loss: 0.4114 - acc: 0.0000e+00 - val_loss: 0.3960 - val_acc: 0.0000e+00\n"
     ]
    },
    {
     "name": "stdout",
     "output_type": "stream",
     "text": [
      "\nEpoch 00113: val_loss did not improve from 1.11141\nEpoch 114/500\n"
     ]
    },
    {
     "name": "stdout",
     "output_type": "stream",
     "text": [
      "\r1168/1168 [==============================] - 0s 7us/step - loss: 0.3658 - acc: 0.0000e+00 - val_loss: 0.3941 - val_acc: 0.0000e+00\n"
     ]
    },
    {
     "name": "stdout",
     "output_type": "stream",
     "text": [
      "\nEpoch 00114: val_loss did not improve from 1.11141\nEpoch 115/500\n"
     ]
    },
    {
     "name": "stdout",
     "output_type": "stream",
     "text": [
      "\r1168/1168 [==============================] - 0s 8us/step - loss: 0.3568 - acc: 0.0000e+00 - val_loss: 0.3909 - val_acc: 0.0000e+00\n"
     ]
    },
    {
     "name": "stdout",
     "output_type": "stream",
     "text": [
      "\nEpoch 00115: val_loss did not improve from 1.11141\nEpoch 116/500\n\r1168/1168 [==============================]"
     ]
    },
    {
     "name": "stdout",
     "output_type": "stream",
     "text": [
      " - 0s 9us/step - loss: 0.3933 - acc: 0.0000e+00 - val_loss: 0.3914 - val_acc: 0.0000e+00\n"
     ]
    },
    {
     "name": "stdout",
     "output_type": "stream",
     "text": [
      "\nEpoch 00116: val_loss did not improve from 1.11141\nEpoch 117/500\n\r1168/1168 [==============================] - 0s 9us/step - loss: 0.3658 - acc: 0.0000e+00 - val_loss: 0.3879 - val_acc: 0.0000e+00\n"
     ]
    },
    {
     "name": "stdout",
     "output_type": "stream",
     "text": [
      "\nEpoch 00117: val_loss did not improve from 1.11141\nEpoch 118/500\n"
     ]
    },
    {
     "name": "stdout",
     "output_type": "stream",
     "text": [
      "\r1168/1168 [==============================] - 0s 9us/step - loss: 0.3696 - acc: 0.0000e+00 - val_loss: 0.3856 - val_acc: 0.0000e+00\n"
     ]
    },
    {
     "name": "stdout",
     "output_type": "stream",
     "text": [
      "\nEpoch 00118: val_loss did not improve from 1.11141\nEpoch 119/500\n"
     ]
    },
    {
     "name": "stdout",
     "output_type": "stream",
     "text": [
      "\r1168/1168 [==============================] - 0s 7us/step - loss: 0.3566 - acc: 0.0000e+00 - val_loss: 0.3851 - val_acc: 0.0000e+00\n"
     ]
    },
    {
     "name": "stdout",
     "output_type": "stream",
     "text": [
      "\nEpoch 00119: val_loss did not improve from 1.11141\nEpoch 120/500\n"
     ]
    },
    {
     "name": "stdout",
     "output_type": "stream",
     "text": [
      "\r1168/1168 [==============================] - 0s 9us/step - loss: 0.3862 - acc: 0.0000e+00 - val_loss: 0.3826 - val_acc: 0.0000e+00\n"
     ]
    },
    {
     "name": "stdout",
     "output_type": "stream",
     "text": [
      "\nEpoch 00120: val_loss did not improve from 1.11141\nEpoch 121/500\n\r1168/1168 [==============================] - 0s 9us/step - loss: 0.3809 - acc: 0.0000e+00 - val_loss: 0.3806 - val_acc: 0.0000e+00\n"
     ]
    },
    {
     "name": "stdout",
     "output_type": "stream",
     "text": [
      "\nEpoch 00121: val_loss did not improve from 1.11141\nEpoch 122/500\n"
     ]
    },
    {
     "name": "stdout",
     "output_type": "stream",
     "text": [
      "\r1168/1168 [==============================] - 0s 7us/step - loss: 0.3411 - acc: 0.0000e+00 - val_loss: 0.3802 - val_acc: 0.0000e+00\n"
     ]
    },
    {
     "name": "stdout",
     "output_type": "stream",
     "text": [
      "\nEpoch 00122: val_loss did not improve from 1.11141\nEpoch 123/500\n"
     ]
    },
    {
     "name": "stdout",
     "output_type": "stream",
     "text": [
      "\r1168/1168 [==============================] - 0s 8us/step - loss: 0.3717 - acc: 0.0000e+00 - val_loss: 0.3773 - val_acc: 0.0000e+00\n"
     ]
    },
    {
     "name": "stdout",
     "output_type": "stream",
     "text": [
      "\nEpoch 00123: val_loss did not improve from 1.11141\nEpoch 124/500\n"
     ]
    },
    {
     "name": "stdout",
     "output_type": "stream",
     "text": [
      "\r1168/1168 [==============================] - 0s 9us/step - loss: 0.3649 - acc: 0.0000e+00 - val_loss: 0.3761 - val_acc: 0.0000e+00\n"
     ]
    },
    {
     "name": "stdout",
     "output_type": "stream",
     "text": [
      "\nEpoch 00124: val_loss did not improve from 1.11141\nEpoch 125/500\n\r1168/1168 [==============================] - 0s 9us/step - loss: 0.3389 - acc: 0.0000e+00 - val_loss: 0.3747 - val_acc: 0.0000e+00\n"
     ]
    },
    {
     "name": "stdout",
     "output_type": "stream",
     "text": [
      "\nEpoch 00125: val_loss did not improve from 1.11141\nEpoch 126/500\n\r1168/1168 [==============================] - 0s 7us/step - loss: 0.3663 - acc: 0.0000e+00 - val_loss: 0.3732 - val_acc: 0.0000e+00\n"
     ]
    },
    {
     "name": "stdout",
     "output_type": "stream",
     "text": [
      "\nEpoch 00126: val_loss did not improve from 1.11141\nEpoch 127/500\n"
     ]
    },
    {
     "name": "stdout",
     "output_type": "stream",
     "text": [
      "\r1168/1168 [==============================] - 0s 7us/step - loss: 0.3708 - acc: 0.0000e+00 - val_loss: 0.3717 - val_acc: 0.0000e+00\n"
     ]
    },
    {
     "name": "stdout",
     "output_type": "stream",
     "text": [
      "\nEpoch 00127: val_loss did not improve from 1.11141\nEpoch 128/500\n"
     ]
    },
    {
     "name": "stdout",
     "output_type": "stream",
     "text": [
      "\r1168/1168 [==============================] - 0s 10us/step - loss: 0.3676 - acc: 0.0000e+00 - val_loss: 0.3698 - val_acc: 0.0000e+00\n"
     ]
    },
    {
     "name": "stdout",
     "output_type": "stream",
     "text": [
      "\nEpoch 00128: val_loss did not improve from 1.11141\nEpoch 129/500\n\r1168/1168 [==============================] - 0s 9us/step - loss: 0.3516 - acc: 0.0000e+00 - val_loss: 0.3686 - val_acc: 0.0000e+00\n"
     ]
    },
    {
     "name": "stdout",
     "output_type": "stream",
     "text": [
      "\nEpoch 00129: val_loss did not improve from 1.11141\nEpoch 130/500\n\r1168/1168 [==============================] - 0s 6us/step - loss: 0.3398 - acc: 0.0000e+00 - val_loss: 0.3681 - val_acc: 0.0000e+00\n"
     ]
    },
    {
     "name": "stdout",
     "output_type": "stream",
     "text": [
      "\nEpoch 00130: val_loss did not improve from 1.11141\nEpoch 131/500\n"
     ]
    },
    {
     "name": "stdout",
     "output_type": "stream",
     "text": [
      "\r1168/1168 [==============================] - 0s 9us/step - loss: 0.3470 - acc: 0.0000e+00 - val_loss: 0.3665 - val_acc: 0.0000e+00\n"
     ]
    },
    {
     "name": "stdout",
     "output_type": "stream",
     "text": [
      "\nEpoch 00131: val_loss did not improve from 1.11141\nEpoch 132/500\n"
     ]
    },
    {
     "name": "stdout",
     "output_type": "stream",
     "text": [
      "\r1168/1168 [==============================] - 0s 8us/step - loss: 0.3319 - acc: 0.0000e+00 - val_loss: 0.3647 - val_acc: 0.0000e+00\n"
     ]
    },
    {
     "name": "stdout",
     "output_type": "stream",
     "text": [
      "\nEpoch 00132: val_loss did not improve from 1.11141\nEpoch 133/500\n"
     ]
    },
    {
     "name": "stdout",
     "output_type": "stream",
     "text": [
      "\r1168/1168 [==============================] - 0s 9us/step - loss: 0.3570 - acc: 0.0000e+00 - val_loss: 0.3635 - val_acc: 0.0000e+00\n"
     ]
    },
    {
     "name": "stdout",
     "output_type": "stream",
     "text": [
      "\nEpoch 00133: val_loss did not improve from 1.11141\nEpoch 134/500\n\r1168/1168 [==============================] - 0s 9us/step - loss: 0.3379 - acc: 0.0000e+00 - val_loss: 0.3620 - val_acc: 0.0000e+00\n"
     ]
    },
    {
     "name": "stdout",
     "output_type": "stream",
     "text": [
      "\nEpoch 00134: val_loss did not improve from 1.11141\nEpoch 135/500\n"
     ]
    },
    {
     "name": "stdout",
     "output_type": "stream",
     "text": [
      "\r1168/1168 [==============================] - 0s 9us/step - loss: 0.3408 - acc: 0.0000e+00 - val_loss: 0.3609 - val_acc: 0.0000e+00\n"
     ]
    },
    {
     "name": "stdout",
     "output_type": "stream",
     "text": [
      "\nEpoch 00135: val_loss did not improve from 1.11141\nEpoch 136/500\n"
     ]
    },
    {
     "name": "stdout",
     "output_type": "stream",
     "text": [
      "\r1168/1168 [==============================] - 0s 8us/step - loss: 0.3599 - acc: 0.0000e+00 - val_loss: 0.3603 - val_acc: 0.0000e+00\n"
     ]
    },
    {
     "name": "stdout",
     "output_type": "stream",
     "text": [
      "\nEpoch 00136: val_loss did not improve from 1.11141\nEpoch 137/500\n"
     ]
    },
    {
     "name": "stdout",
     "output_type": "stream",
     "text": [
      "\r1168/1168 [==============================] - 0s 9us/step - loss: 0.3308 - acc: 0.0000e+00 - val_loss: 0.3592 - val_acc: 0.0000e+00\n"
     ]
    },
    {
     "name": "stdout",
     "output_type": "stream",
     "text": [
      "\nEpoch 00137: val_loss did not improve from 1.11141\nEpoch 138/500\n\r1168/1168 [==============================] - 0s 9us/step - loss: 0.3339 - acc: 0.0000e+00 - val_loss: 0.3585 - val_acc: 0.0000e+00\n"
     ]
    },
    {
     "name": "stdout",
     "output_type": "stream",
     "text": [
      "\nEpoch 00138: val_loss did not improve from 1.11141\nEpoch 139/500"
     ]
    },
    {
     "name": "stdout",
     "output_type": "stream",
     "text": [
      "\n\r1168/1168 [==============================] - 0s 7us/step - loss: 0.3709 - acc: 0.0000e+00 - val_loss: 0.3583 - val_acc: 0.0000e+00\n"
     ]
    },
    {
     "name": "stdout",
     "output_type": "stream",
     "text": [
      "\nEpoch 00139: val_loss did not improve from 1.11141\nEpoch 140/500\n"
     ]
    },
    {
     "name": "stdout",
     "output_type": "stream",
     "text": [
      "\r1168/1168 [==============================] - 0s 7us/step - loss: 0.3268 - acc: 0.0000e+00 - val_loss: 0.3579 - val_acc: 0.0000e+00\n"
     ]
    },
    {
     "name": "stdout",
     "output_type": "stream",
     "text": [
      "\nEpoch 00140: val_loss did not improve from 1.11141\nEpoch 141/500\n"
     ]
    },
    {
     "name": "stdout",
     "output_type": "stream",
     "text": [
      "\r1168/1168 [==============================] - 0s 8us/step - loss: 0.3318 - acc: 0.0000e+00 - val_loss: 0.3573 - val_acc: 0.0000e+00\n"
     ]
    },
    {
     "name": "stdout",
     "output_type": "stream",
     "text": [
      "\nEpoch 00141: val_loss did not improve from 1.11141\nEpoch 142/500\n\r1168/1168 [==============================] - 0s 9us/step - loss: 0.3440 - acc: 0.0000e+00 - val_loss: 0.3557 - val_acc: 0.0000e+00\n"
     ]
    },
    {
     "name": "stdout",
     "output_type": "stream",
     "text": [
      "\nEpoch 00142: val_loss did not improve from 1.11141\nEpoch 143/500\n\r1168/1168 [==============================] - 0s 9us/step - loss: 0.3231 - acc: 0.0000e+00 - val_loss: 0.3549 - val_acc: 0.0000e+00\n"
     ]
    },
    {
     "name": "stdout",
     "output_type": "stream",
     "text": [
      "\nEpoch 00143: val_loss did not improve from 1.11141\nEpoch 144/500\n"
     ]
    },
    {
     "name": "stdout",
     "output_type": "stream",
     "text": [
      "\r1168/1168 [==============================] - 0s 10us/step - loss: 0.3313 - acc: 0.0000e+00 - val_loss: 0.3546 - val_acc: 0.0000e+00\n"
     ]
    },
    {
     "name": "stdout",
     "output_type": "stream",
     "text": [
      "\nEpoch 00144: val_loss did not improve from 1.11141\nEpoch 145/500\n"
     ]
    },
    {
     "name": "stdout",
     "output_type": "stream",
     "text": [
      "\r1168/1168 [==============================] - 0s 7us/step - loss: 0.3425 - acc: 0.0000e+00 - val_loss: 0.3540 - val_acc: 0.0000e+00\n"
     ]
    },
    {
     "name": "stdout",
     "output_type": "stream",
     "text": [
      "\nEpoch 00145: val_loss did not improve from 1.11141\nEpoch 146/500\n"
     ]
    },
    {
     "name": "stdout",
     "output_type": "stream",
     "text": [
      "\r1168/1168 [==============================] - 0s 7us/step - loss: 0.3406 - acc: 0.0000e+00 - val_loss: 0.3518 - val_acc: 0.0000e+00\n"
     ]
    },
    {
     "name": "stdout",
     "output_type": "stream",
     "text": [
      "\nEpoch 00146: val_loss did not improve from 1.11141\nEpoch 147/500\n"
     ]
    },
    {
     "name": "stdout",
     "output_type": "stream",
     "text": [
      "\r1168/1168 [==============================] - 0s 8us/step - loss: 0.3460 - acc: 0.0000e+00 - val_loss: 0.3513 - val_acc: 0.0000e+00\n"
     ]
    },
    {
     "name": "stdout",
     "output_type": "stream",
     "text": [
      "\nEpoch 00147: val_loss did not improve from 1.11141\nEpoch 148/500\n"
     ]
    },
    {
     "name": "stdout",
     "output_type": "stream",
     "text": [
      "\r1168/1168 [==============================] - 0s 10us/step - loss: 0.3247 - acc: 0.0000e+00 - val_loss: 0.3501 - val_acc: 0.0000e+00\n"
     ]
    },
    {
     "name": "stdout",
     "output_type": "stream",
     "text": [
      "\nEpoch 00148: val_loss did not improve from 1.11141\nEpoch 149/500\n\r1168/1168 [==============================] - 0s 7us/step - loss: 0.3216 - acc: 0.0000e+00 - val_loss: 0.3492 - val_acc: 0.0000e+00\n"
     ]
    },
    {
     "name": "stdout",
     "output_type": "stream",
     "text": [
      "\nEpoch 00149: val_loss did not improve from 1.11141\nEpoch 150/500\n"
     ]
    },
    {
     "name": "stdout",
     "output_type": "stream",
     "text": [
      "\r1168/1168 [==============================] - 0s 9us/step - loss: 0.3094 - acc: 0.0000e+00 - val_loss: 0.3485 - val_acc: 0.0000e+00\n"
     ]
    },
    {
     "name": "stdout",
     "output_type": "stream",
     "text": [
      "\nEpoch 00150: val_loss did not improve from 1.11141\nEpoch 151/500\n"
     ]
    },
    {
     "name": "stdout",
     "output_type": "stream",
     "text": [
      "\r1168/1168 [==============================] - 0s 10us/step - loss: 0.3211 - acc: 0.0000e+00 - val_loss: 0.3485 - val_acc: 0.0000e+00\n"
     ]
    },
    {
     "name": "stdout",
     "output_type": "stream",
     "text": [
      "\nEpoch 00151: val_loss did not improve from 1.11141\nEpoch 152/500\n"
     ]
    },
    {
     "name": "stdout",
     "output_type": "stream",
     "text": [
      "\r1168/1168 [==============================] - 0s 10us/step - loss: 0.3027 - acc: 0.0000e+00 - val_loss: 0.3461 - val_acc: 0.0000e+00\n"
     ]
    },
    {
     "name": "stdout",
     "output_type": "stream",
     "text": [
      "\nEpoch 00152: val_loss did not improve from 1.11141\nEpoch 153/500\n"
     ]
    },
    {
     "name": "stdout",
     "output_type": "stream",
     "text": [
      "\r1168/1168 [==============================] - 0s 7us/step - loss: 0.3215 - acc: 0.0000e+00 - val_loss: 0.3451 - val_acc: 0.0000e+00\n"
     ]
    },
    {
     "name": "stdout",
     "output_type": "stream",
     "text": [
      "\nEpoch 00153: val_loss did not improve from 1.11141\nEpoch 154/500\n"
     ]
    },
    {
     "name": "stdout",
     "output_type": "stream",
     "text": [
      "\r1168/1168 [==============================] - 0s 9us/step - loss: 0.3100 - acc: 0.0000e+00 - val_loss: 0.3441 - val_acc: 0.0000e+00\n"
     ]
    },
    {
     "name": "stdout",
     "output_type": "stream",
     "text": [
      "\nEpoch 00154: val_loss did not improve from 1.11141\nEpoch 155/500\n"
     ]
    },
    {
     "name": "stdout",
     "output_type": "stream",
     "text": [
      "\r1168/1168 [==============================] - 0s 7us/step - loss: 0.3229 - acc: 0.0000e+00 - val_loss: 0.3435 - val_acc: 0.0000e+00\n"
     ]
    },
    {
     "name": "stdout",
     "output_type": "stream",
     "text": [
      "\nEpoch 00155: val_loss did not improve from 1.11141\nEpoch 156/500\n\r1168/1168 [==============================] - 0s 9us/step - loss: 0.3207 - acc: 0.0000e+00 - val_loss: 0.3431 - val_acc: 0.0000e+00\n"
     ]
    },
    {
     "name": "stdout",
     "output_type": "stream",
     "text": [
      "\nEpoch 00156: val_loss did not improve from 1.11141\nEpoch 157/500\n"
     ]
    },
    {
     "name": "stdout",
     "output_type": "stream",
     "text": [
      "\r1168/1168 [==============================] - 0s 7us/step - loss: 0.3252 - acc: 0.0000e+00 - val_loss: 0.3422 - val_acc: 0.0000e+00\n"
     ]
    },
    {
     "name": "stdout",
     "output_type": "stream",
     "text": [
      "\nEpoch 00157: val_loss did not improve from 1.11141\nEpoch 158/500\n"
     ]
    },
    {
     "name": "stdout",
     "output_type": "stream",
     "text": [
      "\r1168/1168 [==============================] - 0s 8us/step - loss: 0.3209 - acc: 0.0000e+00 - val_loss: 0.3418 - val_acc: 0.0000e+00\n"
     ]
    },
    {
     "name": "stdout",
     "output_type": "stream",
     "text": [
      "\nEpoch 00158: val_loss did not improve from 1.11141\nEpoch 159/500\n"
     ]
    },
    {
     "name": "stdout",
     "output_type": "stream",
     "text": [
      "\r1168/1168 [==============================] - 0s 9us/step - loss: 0.3261 - acc: 0.0000e+00 - val_loss: 0.3412 - val_acc: 0.0000e+00\n"
     ]
    },
    {
     "name": "stdout",
     "output_type": "stream",
     "text": [
      "\nEpoch 00159: val_loss did not improve from 1.11141\nEpoch 160/500\n\r1168/1168 [==============================] - 0s 9us/step - loss: 0.3133 - acc: 0.0000e+00 - val_loss: 0.3400 - val_acc: 0.0000e+00\n"
     ]
    },
    {
     "name": "stdout",
     "output_type": "stream",
     "text": [
      "\nEpoch 00160: val_loss did not improve from 1.11141\nEpoch 161/500\n"
     ]
    },
    {
     "name": "stdout",
     "output_type": "stream",
     "text": [
      "\r1168/1168 [==============================] - 0s 9us/step - loss: 0.3089 - acc: 0.0000e+00 - val_loss: 0.3396 - val_acc: 0.0000e+00\n"
     ]
    },
    {
     "name": "stdout",
     "output_type": "stream",
     "text": [
      "\nEpoch 00161: val_loss did not improve from 1.11141\nEpoch 162/500\n"
     ]
    },
    {
     "name": "stdout",
     "output_type": "stream",
     "text": [
      "\r1168/1168 [==============================] - 0s 8us/step - loss: 0.3186 - acc: 0.0000e+00 - val_loss: 0.3397 - val_acc: 0.0000e+00\n"
     ]
    },
    {
     "name": "stdout",
     "output_type": "stream",
     "text": [
      "\nEpoch 00162: val_loss did not improve from 1.11141\nEpoch 163/500\n"
     ]
    },
    {
     "name": "stdout",
     "output_type": "stream",
     "text": [
      "\r1168/1168 [==============================] - 0s 16us/step - loss: 0.3084 - acc: 0.0000e+00 - val_loss: 0.3388 - val_acc: 0.0000e+00\n"
     ]
    },
    {
     "name": "stdout",
     "output_type": "stream",
     "text": [
      "\nEpoch 00163: val_loss did not improve from 1.11141\nEpoch 164/500\n\r1168/1168 [==============================] - 0s 8us/step - loss: 0.2963 - acc: 0.0000e+00 - val_loss: 0.3375 - val_acc: 0.0000e+00\n"
     ]
    },
    {
     "name": "stdout",
     "output_type": "stream",
     "text": [
      "\nEpoch 00164: val_loss did not improve from 1.11141\nEpoch 165/500\n"
     ]
    },
    {
     "name": "stdout",
     "output_type": "stream",
     "text": [
      "\r1168/1168 [==============================] - 0s 7us/step - loss: 0.2946 - acc: 0.0000e+00 - val_loss: 0.3374 - val_acc: 0.0000e+00\n"
     ]
    },
    {
     "name": "stdout",
     "output_type": "stream",
     "text": [
      "\nEpoch 00165: val_loss did not improve from 1.11141\nEpoch 166/500\n"
     ]
    },
    {
     "name": "stdout",
     "output_type": "stream",
     "text": [
      "\r1168/1168 [==============================] - 0s 9us/step - loss: 0.2852 - acc: 0.0000e+00 - val_loss: 0.3360 - val_acc: 0.0000e+00\n"
     ]
    },
    {
     "name": "stdout",
     "output_type": "stream",
     "text": [
      "\nEpoch 00166: val_loss did not improve from 1.11141\nEpoch 167/500\n\r1168/1168 [==============================] - 0s 9us/step - loss: 0.3102 - acc: 0.0000e+00 - val_loss: 0.3362 - val_acc: 0.0000e+00\n"
     ]
    },
    {
     "name": "stdout",
     "output_type": "stream",
     "text": [
      "\nEpoch 00167: val_loss did not improve from 1.11141\nEpoch 168/500\n"
     ]
    },
    {
     "name": "stdout",
     "output_type": "stream",
     "text": [
      "\r1168/1168 [==============================] - 0s 9us/step - loss: 0.2936 - acc: 0.0000e+00 - val_loss: 0.3357 - val_acc: 0.0000e+00\n"
     ]
    },
    {
     "name": "stdout",
     "output_type": "stream",
     "text": [
      "\nEpoch 00168: val_loss did not improve from 1.11141\nEpoch 169/500\n"
     ]
    },
    {
     "name": "stdout",
     "output_type": "stream",
     "text": [
      "\r1168/1168 [==============================] - 0s 9us/step - loss: 0.2966 - acc: 0.0000e+00 - val_loss: 0.3356 - val_acc: 0.0000e+00\n"
     ]
    },
    {
     "name": "stdout",
     "output_type": "stream",
     "text": [
      "\nEpoch 00169: val_loss did not improve from 1.11141\nEpoch 170/500\n"
     ]
    },
    {
     "name": "stdout",
     "output_type": "stream",
     "text": [
      "\r1168/1168 [==============================] - 0s 8us/step - loss: 0.2941 - acc: 0.0000e+00 - val_loss: 0.3347 - val_acc: 0.0000e+00\n"
     ]
    },
    {
     "name": "stdout",
     "output_type": "stream",
     "text": [
      "\nEpoch 00170: val_loss did not improve from 1.11141\nEpoch 171/500\n\r1168/1168 [==============================] - 0s 8us/step - loss: 0.3050 - acc: 0.0000e+00 - val_loss: 0.3345 - val_acc: 0.0000e+00\n"
     ]
    },
    {
     "name": "stdout",
     "output_type": "stream",
     "text": [
      "\nEpoch 00171: val_loss did not improve from 1.11141\nEpoch 172/500\n"
     ]
    },
    {
     "name": "stdout",
     "output_type": "stream",
     "text": [
      "\r1168/1168 [==============================] - 0s 9us/step - loss: 0.2853 - acc: 0.0000e+00 - val_loss: 0.3338 - val_acc: 0.0000e+00\n"
     ]
    },
    {
     "name": "stdout",
     "output_type": "stream",
     "text": [
      "\nEpoch 00172: val_loss did not improve from 1.11141\nEpoch 173/500\n"
     ]
    },
    {
     "name": "stdout",
     "output_type": "stream",
     "text": [
      "\r1168/1168 [==============================] - 0s 7us/step - loss: 0.2935 - acc: 0.0000e+00 - val_loss: 0.3325 - val_acc: 0.0000e+00\n"
     ]
    },
    {
     "name": "stdout",
     "output_type": "stream",
     "text": [
      "\nEpoch 00173: val_loss did not improve from 1.11141\nEpoch 174/500\n\r1168/1168 [==============================] - 0s 9us/step - loss: 0.2952 - acc: 0.0000e+00 - val_loss: 0.3315 - val_acc: 0.0000e+00\n"
     ]
    },
    {
     "name": "stdout",
     "output_type": "stream",
     "text": [
      "\nEpoch 00174: val_loss did not improve from 1.11141\nEpoch 175/500\n\r1168/1168 [==============================] - 0s 9us/step - loss: 0.2910 - acc: 0.0000e+00 - val_loss: 0.3312 - val_acc: 0.0000e+00\n"
     ]
    },
    {
     "name": "stdout",
     "output_type": "stream",
     "text": [
      "\nEpoch 00175: val_loss did not improve from 1.11141\nEpoch 176/500\n\r1168/1168 [==============================] - 0s 8us/step - loss: 0.2753 - acc: 0.0000e+00 - val_loss: 0.3303 - val_acc: 0.0000e+00\n"
     ]
    },
    {
     "name": "stdout",
     "output_type": "stream",
     "text": [
      "\nEpoch 00176: val_loss did not improve from 1.11141\nEpoch 177/500\n"
     ]
    },
    {
     "name": "stdout",
     "output_type": "stream",
     "text": [
      "\r1168/1168 [==============================] - 0s 7us/step - loss: 0.2964 - acc: 0.0000e+00 - val_loss: 0.3296 - val_acc: 0.0000e+00\n"
     ]
    },
    {
     "name": "stdout",
     "output_type": "stream",
     "text": [
      "\nEpoch 00177: val_loss did not improve from 1.11141\nEpoch 178/500\n"
     ]
    },
    {
     "name": "stdout",
     "output_type": "stream",
     "text": [
      "\r1168/1168 [==============================] - 0s 9us/step - loss: 0.2937 - acc: 0.0000e+00 - val_loss: 0.3306 - val_acc: 0.0000e+00\n"
     ]
    },
    {
     "name": "stdout",
     "output_type": "stream",
     "text": [
      "\nEpoch 00178: val_loss did not improve from 1.11141\nEpoch 179/500\n\r"
     ]
    },
    {
     "name": "stdout",
     "output_type": "stream",
     "text": [
      "1168/1168 [==============================] - 0s 8us/step - loss: 0.2861 - acc: 0.0000e+00 - val_loss: 0.3301 - val_acc: 0.0000e+00\n"
     ]
    },
    {
     "name": "stdout",
     "output_type": "stream",
     "text": [
      "\nEpoch 00179: val_loss did not improve from 1.11141\nEpoch 180/500\n\r1168/1168 [==============================] - 0s 9us/step - loss: 0.2908 - acc: 0.0000e+00 - val_loss: 0.3296 - val_acc: 0.0000e+00\n"
     ]
    },
    {
     "name": "stdout",
     "output_type": "stream",
     "text": [
      "\nEpoch 00180: val_loss did not improve from 1.11141\nEpoch 181/500\n"
     ]
    },
    {
     "name": "stdout",
     "output_type": "stream",
     "text": [
      "\r1168/1168 [==============================] - 0s 9us/step - loss: 0.2808 - acc: 0.0000e+00 - val_loss: 0.3295 - val_acc: 0.0000e+00\n"
     ]
    },
    {
     "name": "stdout",
     "output_type": "stream",
     "text": [
      "\nEpoch 00181: val_loss did not improve from 1.11141\nEpoch 182/500\n"
     ]
    },
    {
     "name": "stdout",
     "output_type": "stream",
     "text": [
      "\r1168/1168 [==============================] - 0s 8us/step - loss: 0.3063 - acc: 0.0000e+00 - val_loss: 0.3290 - val_acc: 0.0000e+00\n"
     ]
    },
    {
     "name": "stdout",
     "output_type": "stream",
     "text": [
      "\nEpoch 00182: val_loss did not improve from 1.11141\nEpoch 183/500\n\r1168/1168 [==============================] - 0s 9us/step - loss: 0.2956 - acc: 0.0000e+00 - val_loss: 0.3288 - val_acc: 0.0000e+00\n"
     ]
    },
    {
     "name": "stdout",
     "output_type": "stream",
     "text": [
      "\nEpoch 00183: val_loss did not improve from 1.11141\nEpoch 184/500\n\r1168/1168 [==============================] - 0s 8us/step - loss: 0.2759 - acc: 0.0000e+00 - val_loss: 0.3282 - val_acc: 0.0000e+00\n"
     ]
    },
    {
     "name": "stdout",
     "output_type": "stream",
     "text": [
      "\nEpoch 00184: val_loss did not improve from 1.11141\nEpoch 185/500\n"
     ]
    },
    {
     "name": "stdout",
     "output_type": "stream",
     "text": [
      "\r1168/1168 [==============================] - 0s 8us/step - loss: 0.3020 - acc: 0.0000e+00 - val_loss: 0.3277 - val_acc: 0.0000e+00\n"
     ]
    },
    {
     "name": "stdout",
     "output_type": "stream",
     "text": [
      "\nEpoch 00185: val_loss did not improve from 1.11141\nEpoch 186/500\n"
     ]
    },
    {
     "name": "stdout",
     "output_type": "stream",
     "text": [
      "\r1168/1168 [==============================] - 0s 7us/step - loss: 0.2833 - acc: 0.0000e+00 - val_loss: 0.3284 - val_acc: 0.0000e+00\n"
     ]
    },
    {
     "name": "stdout",
     "output_type": "stream",
     "text": [
      "\nEpoch 00186: val_loss did not improve from 1.11141\nEpoch 187/500\n\r1168/1168 [==============================] - 0s 9us/step - loss: 0.2735 - acc: 0.0000e+00 - val_loss: 0.3284 - val_acc: 0.0000e+00\n"
     ]
    },
    {
     "name": "stdout",
     "output_type": "stream",
     "text": [
      "\nEpoch 00187: val_loss did not improve from 1.11141\nEpoch 188/500\n\r1168/1168 [==============================] - 0s 7us/step - loss: 0.2754 - acc: 0.0000e+00 - val_loss: 0.3284 - val_acc: 0.0000e+00\n"
     ]
    },
    {
     "name": "stdout",
     "output_type": "stream",
     "text": [
      "\nEpoch 00188: val_loss did not improve from 1.11141\nEpoch 189/500\n"
     ]
    },
    {
     "name": "stdout",
     "output_type": "stream",
     "text": [
      "\r1168/1168 [==============================] - 0s 9us/step - loss: 0.2955 - acc: 0.0000e+00 - val_loss: 0.3278 - val_acc: 0.0000e+00\n"
     ]
    },
    {
     "name": "stdout",
     "output_type": "stream",
     "text": [
      "\nEpoch 00189: val_loss did not improve from 1.11141\nEpoch 190/500\n"
     ]
    },
    {
     "name": "stdout",
     "output_type": "stream",
     "text": [
      "\r1168/1168 [==============================] - 0s 9us/step - loss: 0.2734 - acc: 0.0000e+00 - val_loss: 0.3274 - val_acc: 0.0000e+00\n"
     ]
    },
    {
     "name": "stdout",
     "output_type": "stream",
     "text": [
      "\nEpoch 00190: val_loss did not improve from 1.11141\nEpoch 191/500\n"
     ]
    },
    {
     "name": "stdout",
     "output_type": "stream",
     "text": [
      "\r1168/1168 [==============================] - 0s 8us/step - loss: 0.2747 - acc: 0.0000e+00 - val_loss: 0.3270 - val_acc: 0.0000e+00\n"
     ]
    },
    {
     "name": "stdout",
     "output_type": "stream",
     "text": [
      "\nEpoch 00191: val_loss did not improve from 1.11141\nEpoch 192/500\n\r"
     ]
    },
    {
     "name": "stdout",
     "output_type": "stream",
     "text": [
      "1168/1168 [==============================] - 0s 8us/step - loss: 0.2833 - acc: 0.0000e+00 - val_loss: 0.3257 - val_acc: 0.0000e+00\n"
     ]
    },
    {
     "name": "stdout",
     "output_type": "stream",
     "text": [
      "\nEpoch 00192: val_loss did not improve from 1.11141\nEpoch 193/500\n"
     ]
    },
    {
     "name": "stdout",
     "output_type": "stream",
     "text": [
      "\r1168/1168 [==============================] - 0s 7us/step - loss: 0.2822 - acc: 0.0000e+00 - val_loss: 0.3252 - val_acc: 0.0000e+00\n"
     ]
    },
    {
     "name": "stdout",
     "output_type": "stream",
     "text": [
      "\nEpoch 00193: val_loss did not improve from 1.11141\nEpoch 194/500\n"
     ]
    },
    {
     "name": "stdout",
     "output_type": "stream",
     "text": [
      "\r1168/1168 [==============================] - 0s 9us/step - loss: 0.2980 - acc: 0.0000e+00 - val_loss: 0.3251 - val_acc: 0.0000e+00\n"
     ]
    },
    {
     "name": "stdout",
     "output_type": "stream",
     "text": [
      "\nEpoch 00194: val_loss did not improve from 1.11141\nEpoch 195/500\n\r1168/1168 [==============================] - 0s 8us/step - loss: 0.2785 - acc: 0.0000e+00 - val_loss: 0.3247 - val_acc: 0.0000e+00\n"
     ]
    },
    {
     "name": "stdout",
     "output_type": "stream",
     "text": [
      "\nEpoch 00195: val_loss did not improve from 1.11141\nEpoch 196/500\n\r1168/1168 [==============================] - 0s 10us/step - loss: 0.2902 - acc: 0.0000e+00 - val_loss: 0.3248 - val_acc: 0.0000e+00\n"
     ]
    },
    {
     "name": "stdout",
     "output_type": "stream",
     "text": [
      "\nEpoch 00196: val_loss did not improve from 1.11141\nEpoch 197/500\n"
     ]
    },
    {
     "name": "stdout",
     "output_type": "stream",
     "text": [
      "\r1168/1168 [==============================] - 0s 7us/step - loss: 0.2718 - acc: 0.0000e+00 - val_loss: 0.3250 - val_acc: 0.0000e+00\n"
     ]
    },
    {
     "name": "stdout",
     "output_type": "stream",
     "text": [
      "\nEpoch 00197: val_loss did not improve from 1.11141\nEpoch 198/500\n"
     ]
    },
    {
     "name": "stdout",
     "output_type": "stream",
     "text": [
      "\r1168/1168 [==============================] - 0s 9us/step - loss: 0.2837 - acc: 0.0000e+00 - val_loss: 0.3241 - val_acc: 0.0000e+00\n"
     ]
    },
    {
     "name": "stdout",
     "output_type": "stream",
     "text": [
      "\nEpoch 00198: val_loss did not improve from 1.11141\nEpoch 199/500\n"
     ]
    },
    {
     "name": "stdout",
     "output_type": "stream",
     "text": [
      "\r1168/1168 [==============================] - 0s 9us/step - loss: 0.3017 - acc: 0.0000e+00 - val_loss: 0.3241 - val_acc: 0.0000e+00\n"
     ]
    },
    {
     "name": "stdout",
     "output_type": "stream",
     "text": [
      "\nEpoch 00199: val_loss did not improve from 1.11141\nEpoch 200/500\n\r1168/1168 [==============================] - 0s 9us/step - loss: 0.2700 - acc: 0.0000e+00 - val_loss: 0.3238 - val_acc: 0.0000e+00\n"
     ]
    },
    {
     "name": "stdout",
     "output_type": "stream",
     "text": [
      "\nEpoch 00200: val_loss did not improve from 1.11141\nEpoch 201/500\n"
     ]
    },
    {
     "name": "stdout",
     "output_type": "stream",
     "text": [
      "\r1168/1168 [==============================] - 0s 9us/step - loss: 0.2807 - acc: 0.0000e+00 - val_loss: 0.3236 - val_acc: 0.0000e+00\n"
     ]
    },
    {
     "name": "stdout",
     "output_type": "stream",
     "text": [
      "\nEpoch 00201: val_loss did not improve from 1.11141\nEpoch 202/500\n"
     ]
    },
    {
     "name": "stdout",
     "output_type": "stream",
     "text": [
      "\r1168/1168 [==============================] - 0s 8us/step - loss: 0.2688 - acc: 0.0000e+00 - val_loss: 0.3230 - val_acc: 0.0000e+00\n"
     ]
    },
    {
     "name": "stdout",
     "output_type": "stream",
     "text": [
      "\nEpoch 00202: val_loss did not improve from 1.11141\nEpoch 203/500\n"
     ]
    },
    {
     "name": "stdout",
     "output_type": "stream",
     "text": [
      "\r1168/1168 [==============================] - 0s 8us/step - loss: 0.2546 - acc: 0.0000e+00 - val_loss: 0.3218 - val_acc: 0.0000e+00\n"
     ]
    },
    {
     "name": "stdout",
     "output_type": "stream",
     "text": [
      "\nEpoch 00203: val_loss did not improve from 1.11141\nEpoch 204/500\n\r1168/1168 [==============================] - 0s 9us/step - loss: 0.2670 - acc: 0.0000e+00 - val_loss: 0.3226 - val_acc: 0.0000e+00\n"
     ]
    },
    {
     "name": "stdout",
     "output_type": "stream",
     "text": [
      "\nEpoch 00204: val_loss did not improve from 1.11141\nEpoch 205/500\n"
     ]
    },
    {
     "name": "stdout",
     "output_type": "stream",
     "text": [
      "\r1168/1168 [==============================] - 0s 8us/step - loss: 0.2882 - acc: 0.0000e+00 - val_loss: 0.3226 - val_acc: 0.0000e+00\n"
     ]
    },
    {
     "name": "stdout",
     "output_type": "stream",
     "text": [
      "\nEpoch 00205: val_loss did not improve from 1.11141\nEpoch 206/500\n"
     ]
    },
    {
     "name": "stdout",
     "output_type": "stream",
     "text": [
      "\r1168/1168 [==============================] - 0s 10us/step - loss: 0.2831 - acc: 0.0000e+00 - val_loss: 0.3222 - val_acc: 0.0000e+00\n"
     ]
    },
    {
     "name": "stdout",
     "output_type": "stream",
     "text": [
      "\nEpoch 00206: val_loss did not improve from 1.11141\nEpoch 207/500\n"
     ]
    },
    {
     "name": "stdout",
     "output_type": "stream",
     "text": [
      "\r1168/1168 [==============================] - 0s 6us/step - loss: 0.2786 - acc: 0.0000e+00 - val_loss: 0.3224 - val_acc: 0.0000e+00\n"
     ]
    },
    {
     "name": "stdout",
     "output_type": "stream",
     "text": [
      "\nEpoch 00207: val_loss did not improve from 1.11141\nEpoch 208/500\n"
     ]
    },
    {
     "name": "stdout",
     "output_type": "stream",
     "text": [
      "\r1168/1168 [==============================] - 0s 10us/step - loss: 0.2693 - acc: 0.0000e+00 - val_loss: 0.3217 - val_acc: 0.0000e+00\n"
     ]
    },
    {
     "name": "stdout",
     "output_type": "stream",
     "text": [
      "\nEpoch 00208: val_loss did not improve from 1.11141\nEpoch 209/500\n\r1168/1168 [==============================] - 0s 7us/step - loss: 0.2776 - acc: 0.0000e+00 - val_loss: 0.3224 - val_acc: 0.0000e+00\n"
     ]
    },
    {
     "name": "stdout",
     "output_type": "stream",
     "text": [
      "\nEpoch 00209: val_loss did not improve from 1.11141\nEpoch 210/500\n"
     ]
    },
    {
     "name": "stdout",
     "output_type": "stream",
     "text": [
      "\r1168/1168 [==============================] - 0s 7us/step - loss: 0.2648 - acc: 0.0000e+00 - val_loss: 0.3224 - val_acc: 0.0000e+00\n"
     ]
    },
    {
     "name": "stdout",
     "output_type": "stream",
     "text": [
      "\nEpoch 00210: val_loss did not improve from 1.11141\nEpoch 211/500\n"
     ]
    },
    {
     "name": "stdout",
     "output_type": "stream",
     "text": [
      "\r1168/1168 [==============================] - 0s 10us/step - loss: 0.2713 - acc: 0.0000e+00 - val_loss: 0.3216 - val_acc: 0.0000e+00\n"
     ]
    },
    {
     "name": "stdout",
     "output_type": "stream",
     "text": [
      "\nEpoch 00211: val_loss did not improve from 1.11141\nEpoch 212/500\n"
     ]
    },
    {
     "name": "stdout",
     "output_type": "stream",
     "text": [
      "\r1168/1168 [==============================] - 0s 8us/step - loss: 0.2491 - acc: 0.0000e+00 - val_loss: 0.3208 - val_acc: 0.0000e+00\n"
     ]
    },
    {
     "name": "stdout",
     "output_type": "stream",
     "text": [
      "\nEpoch 00212: val_loss did not improve from 1.11141\nEpoch 213/500\n\r1168/1168 [==============================] - 0s 9us/step - loss: 0.2796 - acc: 0.0000e+00 - val_loss: 0.3210 - val_acc: 0.0000e+00\n"
     ]
    },
    {
     "name": "stdout",
     "output_type": "stream",
     "text": [
      "\nEpoch 00213: val_loss did not improve from 1.11141\nEpoch 214/500\n\r1168/1168 [==============================] - 0s 8us/step - loss: 0.2498 - acc: 0.0000e+00 - val_loss: 0.3210 - val_acc: 0.0000e+00\n"
     ]
    },
    {
     "name": "stdout",
     "output_type": "stream",
     "text": [
      "\nEpoch 00214: val_loss did not improve from 1.11141\nEpoch 215/500\n"
     ]
    },
    {
     "name": "stdout",
     "output_type": "stream",
     "text": [
      "\r1168/1168 [==============================] - 0s 8us/step - loss: 0.2936 - acc: 0.0000e+00 - val_loss: 0.3210 - val_acc: 0.0000e+00\n"
     ]
    },
    {
     "name": "stdout",
     "output_type": "stream",
     "text": [
      "\nEpoch 00215: val_loss did not improve from 1.11141\nEpoch 216/500\n"
     ]
    },
    {
     "name": "stdout",
     "output_type": "stream",
     "text": [
      "\r1168/1168 [==============================] - 0s 8us/step - loss: 0.2550 - acc: 0.0000e+00 - val_loss: 0.3205 - val_acc: 0.0000e+00\n"
     ]
    },
    {
     "name": "stdout",
     "output_type": "stream",
     "text": [
      "\nEpoch 00216: val_loss did not improve from 1.11141\nEpoch 217/500\n\r1168/1168 [==============================] - 0s 9us/step - loss: 0.2701 - acc: 0.0000e+00 - val_loss: 0.3207 - val_acc: 0.0000e+00\n"
     ]
    },
    {
     "name": "stdout",
     "output_type": "stream",
     "text": [
      "\nEpoch 00217: val_loss did not improve from 1.11141\nEpoch 218/500\n"
     ]
    },
    {
     "name": "stdout",
     "output_type": "stream",
     "text": [
      "\r1168/1168 [==============================] - 0s 8us/step - loss: 0.2433 - acc: 0.0000e+00 - val_loss: 0.3204 - val_acc: 0.0000e+00\n"
     ]
    },
    {
     "name": "stdout",
     "output_type": "stream",
     "text": [
      "\nEpoch 00218: val_loss did not improve from 1.11141\nEpoch 219/500\n"
     ]
    },
    {
     "name": "stdout",
     "output_type": "stream",
     "text": [
      "\r1168/1168 [==============================] - 0s 8us/step - loss: 0.2589 - acc: 0.0000e+00 - val_loss: 0.3201 - val_acc: 0.0000e+00\n"
     ]
    },
    {
     "name": "stdout",
     "output_type": "stream",
     "text": [
      "\nEpoch 00219: val_loss did not improve from 1.11141\nEpoch 220/500\n"
     ]
    },
    {
     "name": "stdout",
     "output_type": "stream",
     "text": [
      "\r1168/1168 [==============================] - 0s 8us/step - loss: 0.2874 - acc: 0.0000e+00 - val_loss: 0.3196 - val_acc: 0.0000e+00\n"
     ]
    },
    {
     "name": "stdout",
     "output_type": "stream",
     "text": [
      "\nEpoch 00220: val_loss did not improve from 1.11141\nEpoch 221/500\n\r1168/1168 [==============================] - 0s 9us/step - loss: 0.2620 - acc: 0.0000e+00 - val_loss: 0.3196 - val_acc: 0.0000e+00\n"
     ]
    },
    {
     "name": "stdout",
     "output_type": "stream",
     "text": [
      "\nEpoch 00221: val_loss did not improve from 1.11141\nEpoch 222/500\n"
     ]
    },
    {
     "name": "stdout",
     "output_type": "stream",
     "text": [
      "\r1168/1168 [==============================] - 0s 9us/step - loss: 0.2555 - acc: 0.0000e+00 - val_loss: 0.3189 - val_acc: 0.0000e+00\n"
     ]
    },
    {
     "name": "stdout",
     "output_type": "stream",
     "text": [
      "\nEpoch 00222: val_loss did not improve from 1.11141\nEpoch 223/500\n"
     ]
    },
    {
     "name": "stdout",
     "output_type": "stream",
     "text": [
      "\r1168/1168 [==============================] - 0s 8us/step - loss: 0.2611 - acc: 0.0000e+00 - val_loss: 0.3187 - val_acc: 0.0000e+00\n"
     ]
    },
    {
     "name": "stdout",
     "output_type": "stream",
     "text": [
      "\nEpoch 00223: val_loss did not improve from 1.11141\nEpoch 224/500\n"
     ]
    },
    {
     "name": "stdout",
     "output_type": "stream",
     "text": [
      "\r1168/1168 [==============================] - 0s 8us/step - loss: 0.2901 - acc: 0.0000e+00 - val_loss: 0.3189 - val_acc: 0.0000e+00\n"
     ]
    },
    {
     "name": "stdout",
     "output_type": "stream",
     "text": [
      "\nEpoch 00224: val_loss did not improve from 1.11141\nEpoch 225/500\n\r1168/1168 [==============================] - 0s 9us/step - loss: 0.2792 - acc: 0.0000e+00 - val_loss: 0.3188 - val_acc: 0.0000e+00\n"
     ]
    },
    {
     "name": "stdout",
     "output_type": "stream",
     "text": [
      "\nEpoch 00225: val_loss did not improve from 1.11141\nEpoch 226/500\n\r1168/1168 [==============================] - 0s 6us/step - loss: 0.2548 - acc: 0.0000e+00 - val_loss: 0.3183 - val_acc: 0.0000e+00\n"
     ]
    },
    {
     "name": "stdout",
     "output_type": "stream",
     "text": [
      "\nEpoch 00226: val_loss did not improve from 1.11141\nEpoch 227/500\n"
     ]
    },
    {
     "name": "stdout",
     "output_type": "stream",
     "text": [
      "\r1168/1168 [==============================] - 0s 7us/step - loss: 0.2675 - acc: 0.0000e+00 - val_loss: 0.3181 - val_acc: 0.0000e+00\n"
     ]
    },
    {
     "name": "stdout",
     "output_type": "stream",
     "text": [
      "\nEpoch 00227: val_loss did not improve from 1.11141\nEpoch 228/500\n"
     ]
    },
    {
     "name": "stdout",
     "output_type": "stream",
     "text": [
      "\r1168/1168 [==============================] - 0s 9us/step - loss: 0.2506 - acc: 0.0000e+00 - val_loss: 0.3175 - val_acc: 0.0000e+00\n"
     ]
    },
    {
     "name": "stdout",
     "output_type": "stream",
     "text": [
      "\nEpoch 00228: val_loss did not improve from 1.11141\nEpoch 229/500\n\r1168/1168 [==============================] - 0s 8us/step - loss: 0.2630 - acc: 0.0000e+00 - val_loss: 0.3183 - val_acc: 0.0000e+00\n"
     ]
    },
    {
     "name": "stdout",
     "output_type": "stream",
     "text": [
      "\nEpoch 00229: val_loss did not improve from 1.11141\nEpoch 230/500\n"
     ]
    },
    {
     "name": "stdout",
     "output_type": "stream",
     "text": [
      "\r1168/1168 [==============================] - 0s 9us/step - loss: 0.2220 - acc: 0.0000e+00 - val_loss: 0.3176 - val_acc: 0.0000e+00\n"
     ]
    },
    {
     "name": "stdout",
     "output_type": "stream",
     "text": [
      "\nEpoch 00230: val_loss did not improve from 1.11141\nEpoch 231/500\n"
     ]
    },
    {
     "name": "stdout",
     "output_type": "stream",
     "text": [
      "\r1168/1168 [==============================] - 0s 8us/step - loss: 0.2597 - acc: 0.0000e+00 - val_loss: 0.3183 - val_acc: 0.0000e+00\n"
     ]
    },
    {
     "name": "stdout",
     "output_type": "stream",
     "text": [
      "\nEpoch 00231: val_loss did not improve from 1.11141\nEpoch 232/500\n"
     ]
    },
    {
     "name": "stdout",
     "output_type": "stream",
     "text": [
      "\r1168/1168 [==============================] - 0s 9us/step - loss: 0.2473 - acc: 0.0000e+00 - val_loss: 0.3184 - val_acc: 0.0000e+00\n"
     ]
    },
    {
     "name": "stdout",
     "output_type": "stream",
     "text": [
      "\nEpoch 00232: val_loss did not improve from 1.11141\nEpoch 233/500\n\r1168/1168 [==============================] - 0s 9us/step - loss: 0.2489 - acc: 0.0000e+00 - val_loss: 0.3179 - val_acc: 0.0000e+00\n"
     ]
    },
    {
     "name": "stdout",
     "output_type": "stream",
     "text": [
      "\nEpoch 00233: val_loss did not improve from 1.11141\nEpoch 234/500\n"
     ]
    },
    {
     "name": "stdout",
     "output_type": "stream",
     "text": [
      "\r1168/1168 [==============================] - 0s 9us/step - loss: 0.2677 - acc: 0.0000e+00 - val_loss: 0.3170 - val_acc: 0.0000e+00\n"
     ]
    },
    {
     "name": "stdout",
     "output_type": "stream",
     "text": [
      "\nEpoch 00234: val_loss did not improve from 1.11141\nEpoch 235/500\n\r"
     ]
    },
    {
     "name": "stdout",
     "output_type": "stream",
     "text": [
      "1168/1168 [==============================] - 0s 9us/step - loss: 0.2533 - acc: 0.0000e+00 - val_loss: 0.3174 - val_acc: 0.0000e+00\n"
     ]
    },
    {
     "name": "stdout",
     "output_type": "stream",
     "text": [
      "\nEpoch 00235: val_loss did not improve from 1.11141\nEpoch 236/500\n"
     ]
    },
    {
     "name": "stdout",
     "output_type": "stream",
     "text": [
      "\r1168/1168 [==============================] - 0s 8us/step - loss: 0.2728 - acc: 0.0000e+00 - val_loss: 0.3168 - val_acc: 0.0000e+00\n"
     ]
    },
    {
     "name": "stdout",
     "output_type": "stream",
     "text": [
      "\nEpoch 00236: val_loss did not improve from 1.11141\nEpoch 237/500\n"
     ]
    },
    {
     "name": "stdout",
     "output_type": "stream",
     "text": [
      "\r1168/1168 [==============================] - 0s 9us/step - loss: 0.2499 - acc: 0.0000e+00 - val_loss: 0.3174 - val_acc: 0.0000e+00\n"
     ]
    },
    {
     "name": "stdout",
     "output_type": "stream",
     "text": [
      "\nEpoch 00237: val_loss did not improve from 1.11141\nEpoch 238/500\n"
     ]
    },
    {
     "name": "stdout",
     "output_type": "stream",
     "text": [
      "\r1168/1168 [==============================] - 0s 7us/step - loss: 0.2488 - acc: 0.0000e+00 - val_loss: 0.3175 - val_acc: 0.0000e+00\n"
     ]
    },
    {
     "name": "stdout",
     "output_type": "stream",
     "text": [
      "\nEpoch 00238: val_loss did not improve from 1.11141\nEpoch 239/500\n\r1168/1168 [==============================] - 0s 8us/step - loss: 0.2639 - acc: 0.0000e+00 - val_loss: 0.3167 - val_acc: 0.0000e+00\n"
     ]
    },
    {
     "name": "stdout",
     "output_type": "stream",
     "text": [
      "\nEpoch 00239: val_loss did not improve from 1.11141"
     ]
    },
    {
     "name": "stdout",
     "output_type": "stream",
     "text": [
      "\nEpoch 240/500\n\r1168/1168 [==============================] - 0s 9us/step - loss: 0.2518 - acc: 0.0000e+00 - val_loss: 0.3167 - val_acc: 0.0000e+00\n"
     ]
    },
    {
     "name": "stdout",
     "output_type": "stream",
     "text": [
      "\nEpoch 00240: val_loss did not improve from 1.11141\nEpoch 241/500\n"
     ]
    },
    {
     "name": "stdout",
     "output_type": "stream",
     "text": [
      "\r1168/1168 [==============================] - 0s 15us/step - loss: 0.2392 - acc: 0.0000e+00 - val_loss: 0.3167 - val_acc: 0.0000e+00\n"
     ]
    },
    {
     "name": "stdout",
     "output_type": "stream",
     "text": [
      "\nEpoch 00241: val_loss did not improve from 1.11141\nEpoch 242/500\n"
     ]
    },
    {
     "name": "stdout",
     "output_type": "stream",
     "text": [
      "\r1168/1168 [==============================] - 0s 8us/step - loss: 0.2469 - acc: 0.0000e+00 - val_loss: 0.3170 - val_acc: 0.0000e+00\n"
     ]
    },
    {
     "name": "stdout",
     "output_type": "stream",
     "text": [
      "\nEpoch 00242: val_loss did not improve from 1.11141\nEpoch 243/500\n\r1168/1168 [==============================] - 0s 8us/step - loss: 0.2447 - acc: 0.0000e+00 - val_loss: 0.3172 - val_acc: 0.0000e+00\n"
     ]
    },
    {
     "name": "stdout",
     "output_type": "stream",
     "text": [
      "\nEpoch 00243: val_loss did not improve from 1.11141\nEpoch 244/500\n"
     ]
    },
    {
     "name": "stdout",
     "output_type": "stream",
     "text": [
      "\r1168/1168 [==============================] - 0s 9us/step - loss: 0.2349 - acc: 0.0000e+00 - val_loss: 0.3166 - val_acc: 0.0000e+00\n"
     ]
    },
    {
     "name": "stdout",
     "output_type": "stream",
     "text": [
      "\nEpoch 00244: val_loss did not improve from 1.11141\nEpoch 245/500\n"
     ]
    },
    {
     "name": "stdout",
     "output_type": "stream",
     "text": [
      "\r1168/1168 [==============================] - 0s 7us/step - loss: 0.2302 - acc: 0.0000e+00 - val_loss: 0.3169 - val_acc: 0.0000e+00\n"
     ]
    },
    {
     "name": "stdout",
     "output_type": "stream",
     "text": [
      "\nEpoch 00245: val_loss did not improve from 1.11141\nEpoch 246/500\n"
     ]
    },
    {
     "name": "stdout",
     "output_type": "stream",
     "text": [
      "\r1168/1168 [==============================] - 0s 11us/step - loss: 0.2595 - acc: 0.0000e+00 - val_loss: 0.3166 - val_acc: 0.0000e+00\n"
     ]
    },
    {
     "name": "stdout",
     "output_type": "stream",
     "text": [
      "\nEpoch 00246: val_loss did not improve from 1.11141\nEpoch 247/500\n"
     ]
    },
    {
     "name": "stdout",
     "output_type": "stream",
     "text": [
      "\r1168/1168 [==============================] - 0s 9us/step - loss: 0.2326 - acc: 0.0000e+00 - val_loss: 0.3165 - val_acc: 0.0000e+00\n"
     ]
    },
    {
     "name": "stdout",
     "output_type": "stream",
     "text": [
      "\nEpoch 00247: val_loss did not improve from 1.11141\nEpoch 248/500\n\r1168/1168 [==============================] - 0s 9us/step - loss: 0.2458 - acc: 0.0000e+00 - val_loss: 0.3174 - val_acc: 0.0000e+00\n"
     ]
    },
    {
     "name": "stdout",
     "output_type": "stream",
     "text": [
      "\nEpoch 00248: val_loss did not improve from 1.11141\nEpoch 249/500\n"
     ]
    },
    {
     "name": "stdout",
     "output_type": "stream",
     "text": [
      "\r1168/1168 [==============================] - 0s 9us/step - loss: 0.2663 - acc: 0.0000e+00 - val_loss: 0.3174 - val_acc: 0.0000e+00\n"
     ]
    },
    {
     "name": "stdout",
     "output_type": "stream",
     "text": [
      "\nEpoch 00249: val_loss did not improve from 1.11141\nEpoch 250/500\n"
     ]
    },
    {
     "name": "stdout",
     "output_type": "stream",
     "text": [
      "\r1168/1168 [==============================] - 0s 9us/step - loss: 0.2514 - acc: 0.0000e+00 - val_loss: 0.3167 - val_acc: 0.0000e+00\n"
     ]
    },
    {
     "name": "stdout",
     "output_type": "stream",
     "text": [
      "\nEpoch 00250: val_loss did not improve from 1.11141\nEpoch 251/500\n"
     ]
    },
    {
     "name": "stdout",
     "output_type": "stream",
     "text": [
      "\r1168/1168 [==============================] - 0s 8us/step - loss: 0.2460 - acc: 0.0000e+00 - val_loss: 0.3168 - val_acc: 0.0000e+00\n"
     ]
    },
    {
     "name": "stdout",
     "output_type": "stream",
     "text": [
      "\nEpoch 00251: val_loss did not improve from 1.11141\nEpoch 252/500\n\r1168/1168 [==============================] - 0s 9us/step - loss: 0.2629 - acc: 0.0000e+00 - val_loss: 0.3173 - val_acc: 0.0000e+00\n"
     ]
    },
    {
     "name": "stdout",
     "output_type": "stream",
     "text": [
      "\nEpoch 00252: val_loss did not improve from 1.11141\nEpoch 253/500\n\r1168/1168 [==============================] - 0s 7us/step - loss: 0.2536 - acc: 0.0000e+00 - val_loss: 0.3170 - val_acc: 0.0000e+00\n"
     ]
    },
    {
     "name": "stdout",
     "output_type": "stream",
     "text": [
      "\nEpoch 00253: val_loss did not improve from 1.11141\nEpoch 254/500\n"
     ]
    },
    {
     "name": "stdout",
     "output_type": "stream",
     "text": [
      "\r1168/1168 [==============================] - 0s 7us/step - loss: 0.2359 - acc: 0.0000e+00 - val_loss: 0.3166 - val_acc: 0.0000e+00\n"
     ]
    },
    {
     "name": "stdout",
     "output_type": "stream",
     "text": [
      "\nEpoch 00254: val_loss did not improve from 1.11141\nEpoch 255/500\n"
     ]
    },
    {
     "name": "stdout",
     "output_type": "stream",
     "text": [
      "\r1168/1168 [==============================] - 0s 7us/step - loss: 0.2594 - acc: 0.0000e+00 - val_loss: 0.3170 - val_acc: 0.0000e+00\n"
     ]
    },
    {
     "name": "stdout",
     "output_type": "stream",
     "text": [
      "\nEpoch 00255: val_loss did not improve from 1.11141\nEpoch 256/500\n\r1168/1168 [==============================] - 0s 9us/step - loss: 0.2452 - acc: 0.0000e+00 - val_loss: 0.3164 - val_acc: 0.0000e+00\n"
     ]
    },
    {
     "name": "stdout",
     "output_type": "stream",
     "text": [
      "\nEpoch 00256: val_loss did not improve from 1.11141\nEpoch 257/500\n\r1168/1168 [==============================] - 0s 7us/step - loss: 0.2804 - acc: 0.0000e+00 - val_loss: 0.3164 - val_acc: 0.0000e+00\n"
     ]
    },
    {
     "name": "stdout",
     "output_type": "stream",
     "text": [
      "\nEpoch 00257: val_loss did not improve from 1.11141\nEpoch 258/500\n"
     ]
    },
    {
     "name": "stdout",
     "output_type": "stream",
     "text": [
      "\r1168/1168 [==============================] - 0s 8us/step - loss: 0.2459 - acc: 0.0000e+00 - val_loss: 0.3161 - val_acc: 0.0000e+00\n"
     ]
    },
    {
     "name": "stdout",
     "output_type": "stream",
     "text": [
      "\nEpoch 00258: val_loss did not improve from 1.11141\nEpoch 259/500\n"
     ]
    },
    {
     "name": "stdout",
     "output_type": "stream",
     "text": [
      "\r1168/1168 [==============================] - 0s 9us/step - loss: 0.2287 - acc: 0.0000e+00 - val_loss: 0.3161 - val_acc: 0.0000e+00\n"
     ]
    },
    {
     "name": "stdout",
     "output_type": "stream",
     "text": [
      "\nEpoch 00259: val_loss did not improve from 1.11141\nEpoch 260/500\n\r1168/1168 [==============================] - 0s 9us/step - loss: 0.2466 - acc: 0.0000e+00 - val_loss: 0.3164 - val_acc: 0.0000e+00\n"
     ]
    },
    {
     "name": "stdout",
     "output_type": "stream",
     "text": [
      "\nEpoch 00260: val_loss did not improve from 1.11141\nEpoch 261/500\n\r1168/1168 [==============================] - 0s 8us/step - loss: 0.2504 - acc: 0.0000e+00 - val_loss: 0.3163 - val_acc: 0.0000e+00\n"
     ]
    },
    {
     "name": "stdout",
     "output_type": "stream",
     "text": [
      "\nEpoch 00261: val_loss did not improve from 1.11141\nEpoch 262/500\n"
     ]
    },
    {
     "name": "stdout",
     "output_type": "stream",
     "text": [
      "\r1168/1168 [==============================] - 0s 7us/step - loss: 0.2190 - acc: 0.0000e+00 - val_loss: 0.3161 - val_acc: 0.0000e+00\n"
     ]
    },
    {
     "name": "stdout",
     "output_type": "stream",
     "text": [
      "\nEpoch 00262: val_loss did not improve from 1.11141\nEpoch 263/500\n"
     ]
    },
    {
     "name": "stdout",
     "output_type": "stream",
     "text": [
      "\r1168/1168 [==============================] - 0s 9us/step - loss: 0.2361 - acc: 0.0000e+00 - val_loss: 0.3158 - val_acc: 0.0000e+00\n"
     ]
    },
    {
     "name": "stdout",
     "output_type": "stream",
     "text": [
      "\nEpoch 00263: val_loss did not improve from 1.11141\nEpoch 264/500\n\r1168/1168 [==============================] - 0s 9us/step - loss: 0.2431 - acc: 0.0000e+00 - val_loss: 0.3158 - val_acc: 0.0000e+00\n"
     ]
    },
    {
     "name": "stdout",
     "output_type": "stream",
     "text": [
      "\nEpoch 00264: val_loss did not improve from 1.11141\nEpoch 265/500\n"
     ]
    },
    {
     "name": "stdout",
     "output_type": "stream",
     "text": [
      "\r1168/1168 [==============================] - 0s 9us/step - loss: 0.2359 - acc: 0.0000e+00 - val_loss: 0.3159 - val_acc: 0.0000e+00\n"
     ]
    },
    {
     "name": "stdout",
     "output_type": "stream",
     "text": [
      "\nEpoch 00265: val_loss did not improve from 1.11141\nEpoch 266/500\n"
     ]
    },
    {
     "name": "stdout",
     "output_type": "stream",
     "text": [
      "\r1168/1168 [==============================] - 0s 8us/step - loss: 0.2480 - acc: 0.0000e+00 - val_loss: 0.3156 - val_acc: 0.0000e+00\n"
     ]
    },
    {
     "name": "stdout",
     "output_type": "stream",
     "text": [
      "\nEpoch 00266: val_loss did not improve from 1.11141\nEpoch 267/500\n\r1168/1168 [==============================] - 0s 8us/step - loss: 0.2598 - acc: 0.0000e+00 - val_loss: 0.3162 - val_acc: 0.0000e+00\n"
     ]
    },
    {
     "name": "stdout",
     "output_type": "stream",
     "text": [
      "\nEpoch 00267: val_loss did not improve from 1.11141\nEpoch 268/500\n\r1168/1168 [==============================] - 0s 8us/step - loss: 0.2168 - acc: 0.0000e+00 - val_loss: 0.3167 - val_acc: 0.0000e+00\n"
     ]
    },
    {
     "name": "stdout",
     "output_type": "stream",
     "text": [
      "\nEpoch 00268: val_loss did not improve from 1.11141\nEpoch 269/500\n"
     ]
    },
    {
     "name": "stdout",
     "output_type": "stream",
     "text": [
      "\r1168/1168 [==============================] - 0s 8us/step - loss: 0.2564 - acc: 0.0000e+00 - val_loss: 0.3168 - val_acc: 0.0000e+00\n"
     ]
    },
    {
     "name": "stdout",
     "output_type": "stream",
     "text": [
      "\nEpoch 00269: val_loss did not improve from 1.11141\nEpoch 270/500\n"
     ]
    },
    {
     "name": "stdout",
     "output_type": "stream",
     "text": [
      "\r1168/1168 [==============================] - 0s 8us/step - loss: 0.2271 - acc: 0.0000e+00 - val_loss: 0.3167 - val_acc: 0.0000e+00\n"
     ]
    },
    {
     "name": "stdout",
     "output_type": "stream",
     "text": [
      "\nEpoch 00270: val_loss did not improve from 1.11141\nEpoch 271/500\n\r1168/1168 [==============================] - 0s 8us/step - loss: 0.2385 - acc: 0.0000e+00 - val_loss: 0.3171 - val_acc: 0.0000e+00\n"
     ]
    },
    {
     "name": "stdout",
     "output_type": "stream",
     "text": [
      "\nEpoch 00271: val_loss did not improve from 1.11141\nEpoch 272/500\n\r1168/1168 [==============================] - 0s 8us/step - loss: 0.2471 - acc: 0.0000e+00 - val_loss: 0.3167 - val_acc: 0.0000e+00\n"
     ]
    },
    {
     "name": "stdout",
     "output_type": "stream",
     "text": [
      "\nEpoch 00272: val_loss did not improve from 1.11141\nEpoch 273/500\n"
     ]
    },
    {
     "name": "stdout",
     "output_type": "stream",
     "text": [
      "\r1168/1168 [==============================] - 0s 8us/step - loss: 0.2391 - acc: 0.0000e+00 - val_loss: 0.3170 - val_acc: 0.0000e+00\n"
     ]
    },
    {
     "name": "stdout",
     "output_type": "stream",
     "text": [
      "\nEpoch 00273: val_loss did not improve from 1.11141\nEpoch 274/500\n"
     ]
    },
    {
     "name": "stdout",
     "output_type": "stream",
     "text": [
      "\r1168/1168 [==============================] - 0s 8us/step - loss: 0.2294 - acc: 0.0000e+00 - val_loss: 0.3172 - val_acc: 0.0000e+00\n"
     ]
    },
    {
     "name": "stdout",
     "output_type": "stream",
     "text": [
      "\nEpoch 00274: val_loss did not improve from 1.11141\nEpoch 275/500\n\r1168/1168 [==============================] - 0s 9us/step - loss: 0.2344 - acc: 0.0000e+00 - val_loss: 0.3168 - val_acc: 0.0000e+00\n"
     ]
    },
    {
     "name": "stdout",
     "output_type": "stream",
     "text": [
      "\nEpoch 00275: val_loss did not improve from 1.11141\nEpoch 276/500\n\r1168/1168 [==============================] - 0s 8us/step - loss: 0.2451 - acc: 0.0000e+00 - val_loss: 0.3165 - val_acc: 0.0000e+00\n"
     ]
    },
    {
     "name": "stdout",
     "output_type": "stream",
     "text": [
      "\nEpoch 00276: val_loss did not improve from 1.11141\nEpoch 00276: early stopping\n"
     ]
    }
   ],
   "source": [
    "history = model.fit(train_x.values, train_y.values, validation_split=0.20,\n",
    "                    epochs=_epochs, batch_size = len(train_x), verbose=1, callbacks=[es,mc])"
   ]
  },
  {
   "cell_type": "code",
   "execution_count": 47,
   "metadata": {},
   "outputs": [
    {
     "data": {
      "image/png": "[encoded data removed]",
      "text/plain": [
       "<Figure size 432x288 with 1 Axes>"
      ]
     },
     "metadata": {},
     "output_type": "display_data"
    }
   ],
   "source": [
    "# plot loss - Train vs Valid\n",
    "import matplotlib.pyplot as plt\n",
    "plt.plot(history.history['loss'], label='train loss')\n",
    "plt.plot(history.history['val_loss'], label='test loss')\n",
    "plt.title('Loss - Train vs validation')\n",
    "plt.ylabel('Loss')\n",
    "plt.xlabel('Epoch')\n",
    "plt.legend(['Train', 'Test'], loc='upper left')\n",
    "plt.show()"
   ]
  },
  {
   "cell_type": "code",
   "execution_count": 33,
   "metadata": {},
   "outputs": [
    {
     "name": "stdout",
     "output_type": "stream",
     "text": [
      "\r  32/1460 [..............................] - ETA: 0s"
     ]
    },
    {
     "name": "stdout",
     "output_type": "stream",
     "text": [
      "\b\b\b\b\b\b\b\b\b\b\b\b\b\b\b\b\b\b\b\b\b\b\b\b\b\b\b\b\b\b\b\b\b\b\b\b\b\b\b\b\b\b\b\b\b\b\b\b\b\b\b\b\r 576/1460 [==========>...................] - ETA: 0s"
     ]
    },
    {
     "name": "stdout",
     "output_type": "stream",
     "text": [
      "\b\b\b\b\b\b\b\b\b\b\b\b\b\b\b\b\b\b\b\b\b\b\b\b\b\b\b\b\b\b\b\b\b\b\b\b\b\b\b\b\b\b\b\b\b\b\b\b\b\b\b\b\r1056/1460 [====================>.........] - ETA: 0s"
     ]
    },
    {
     "name": "stdout",
     "output_type": "stream",
     "text": [
      "\b\b\b\b\b\b\b\b\b\b\b\b\b\b\b\b\b\b\b\b\b\b\b\b\b\b\b\b\b\b\b\b\b\b\b\b\b\b\b\b\b\b\b\b\b\b\b\b\b\b\b\b\r1460/1460 [==============================] - 0s 102us/step\n"
     ]
    },
    {
     "name": "stdout",
     "output_type": "stream",
     "text": [
      "\nloss: 49.21%\n"
     ]
    }
   ],
   "source": [
    "metrics = model.evaluate(train_x, train_y)\n",
    "print(\"\\n%s: %.2f%%\" % (model.metrics_names[0], metrics[0]*100))"
   ]
  },
  {
   "cell_type": "code",
   "execution_count": 197,
   "metadata": {},
   "outputs": [],
   "source": []
  },
  {
   "cell_type": "code",
   "execution_count": null,
   "metadata": {},
   "outputs": [],
   "source": []
  }
 ],
 "metadata": {
  "kernelspec": {
   "display_name": "Python 2",
   "language": "python",
   "name": "python2"
  },
  "language_info": {
   "codemirror_mode": {
    "name": "ipython",
    "version": 2
   },
   "file_extension": ".py",
   "mimetype": "text/x-python",
   "name": "python",
   "nbconvert_exporter": "python",
   "pygments_lexer": "ipython2",
   "version": "2.7.15"
  }
 },
 "nbformat": 4,
 "nbformat_minor": 2
}
