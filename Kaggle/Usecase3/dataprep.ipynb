{
 "cells": [
  {
   "cell_type": "code",
   "execution_count": 57,
   "metadata": {},
   "outputs": [],
   "source": [
    "import pandas as pd"
   ]
  },
  {
   "cell_type": "code",
   "execution_count": 58,
   "metadata": {
    "collapsed": true
   },
   "outputs": [],
   "source": [
    "data_path = \"C:/Users/Katta's/PycharmProjects/data/usecase3/train.csv\"\n",
    "housing = pd.read_csv(data_path)"
   ]
  },
  {
   "cell_type": "code",
   "execution_count": 59,
   "metadata": {
    "collapsed": false
   },
   "outputs": [],
   "source": [
    " house_obj= housing.select_dtypes(include=['object']).copy()"
   ]
  },
  {
   "cell_type": "code",
   "execution_count": 60,
   "metadata": {
    "collapsed": false
   },
   "outputs": [],
   "source": [
    "house_obj.drop(house_obj.columns[house_obj.isnull().any()],axis=1, inplace=True) "
   ]
  },
  {
   "cell_type": "code",
   "execution_count": 61,
   "metadata": {},
   "outputs": [],
   "source": [
    "from sklearn.preprocessing import LabelEncoder\n",
    "le=LabelEncoder()\n",
    "for col in house_obj.columns.values:\n",
    "        le.fit(house_obj[col])\n",
    "        house_obj[col]=le.transform(house_obj[col])"
   ]
  },
  {
   "cell_type": "code",
   "execution_count": 62,
   "metadata": {},
   "outputs": [],
   "source": [
    "# All types except object\n",
    "housing_int = housing.select_dtypes(exclude=['object']).copy()\n",
    "# housing_cat1 = housing_cat.astype('int64',copy=False)\n",
    "int_columns = housing_int.columns\n"
   ]
  },
  {
   "cell_type": "code",
   "execution_count": 63,
   "metadata": {
    "collapsed": false
   },
   "outputs": [
    {
     "name": "stderr",
     "output_type": "stream",
     "text": [
      "c:\\users\\katta's\\venv\\lib\\site-packages\\sklearn\\preprocessing\\data.py:625: DataConversionWarning: Data with input dtype int64, float64 were all converted to float64 by StandardScaler.\n  return self.partial_fit(X, y)\nc:\\users\\katta's\\venv\\lib\\site-packages\\sklearn\\base.py:462: DataConversionWarning: Data with input dtype int64, float64 were all converted to float64 by StandardScaler.\n  return self.fit(X, **fit_params).transform(X)\n"
     ]
    }
   ],
   "source": [
    "from sklearn.preprocessing import StandardScaler\n",
    "# Scaling training because of variance\n",
    "ss = StandardScaler()\n",
    "# scaling training data\n",
    "housing_cat1_scaled = ss.fit_transform(housing_int)\n"
   ]
  },
  {
   "cell_type": "code",
   "execution_count": 64,
   "metadata": {},
   "outputs": [],
   "source": [
    "housing_cat1_scaled_df = pd.DataFrame(housing_cat1_scaled, columns=int_columns)"
   ]
  },
  {
   "cell_type": "code",
   "execution_count": 65,
   "metadata": {
    "collapsed": false
   },
   "outputs": [],
   "source": [
    "housing_t = pd.concat([house_obj, housing_cat1_scaled_df],axis= 1)\n"
   ]
  },
  {
   "cell_type": "code",
   "execution_count": 66,
   "metadata": {},
   "outputs": [],
   "source": [
    "housing_t['GarageYrBlt'].fillna(housing_t['GarageYrBlt'].mean(), inplace=True)\n",
    "housing_t['MasVnrArea'].fillna(housing_t['MasVnrArea'].mean(), inplace=True)\n",
    "housing_t['LotFrontage'].fillna(housing_t['LotFrontage'].mean(), inplace=True)"
   ]
  },
  {
   "cell_type": "code",
   "execution_count": 67,
   "metadata": {
    "collapsed": true
   },
   "outputs": [
    {
     "name": "stdout",
     "output_type": "stream",
     "text": [
      "Index(['MSZoning', 'Street', 'LotShape', 'LandContour', 'Utilities',\n       'LotConfig', 'LandSlope', 'Neighborhood', 'Condition1', 'Condition2',\n       'BldgType', 'HouseStyle', 'RoofStyle', 'RoofMatl', 'Exterior1st',\n       'Exterior2nd', 'ExterQual', 'ExterCond', 'Foundation', 'Heating',\n       'HeatingQC', 'CentralAir', 'KitchenQual', 'Functional', 'PavedDrive',\n       'SaleType', 'SaleCondition', 'Id', 'MSSubClass', 'LotFrontage',\n       'LotArea', 'OverallQual', 'OverallCond', 'YearBuilt', 'YearRemodAdd',\n       'MasVnrArea', 'BsmtFinSF1', 'BsmtFinSF2', 'BsmtUnfSF', 'TotalBsmtSF',\n       '1stFlrSF', '2ndFlrSF', 'LowQualFinSF', 'GrLivArea', 'BsmtFullBath',\n       'BsmtHalfBath', 'FullBath', 'HalfBath', 'BedroomAbvGr', 'KitchenAbvGr',\n       'TotRmsAbvGrd', 'Fireplaces', 'GarageYrBlt', 'GarageCars', 'GarageArea',\n       'WoodDeckSF', 'OpenPorchSF', 'EnclosedPorch', '3SsnPorch',\n       'ScreenPorch', 'PoolArea', 'MiscVal', 'MoSold', 'YrSold', 'SalePrice'],\n      dtype='object')\n"
     ]
    }
   ],
   "source": [
    "housing_train = housing_t.dropna()\n",
    "print(housing_train.columns)"
   ]
  },
  {
   "cell_type": "code",
   "execution_count": 68,
   "metadata": {},
   "outputs": [
    {
     "data": {
      "text/plain": [
       "Index(['MSZoning', 'Street', 'LotShape', 'LandContour', 'Utilities',\n       'LotConfig', 'LandSlope', 'Neighborhood', 'Condition1', 'Condition2',\n       'BldgType', 'HouseStyle', 'RoofStyle', 'RoofMatl', 'Exterior1st',\n       'Exterior2nd', 'ExterQual', 'ExterCond', 'Foundation', 'Heating',\n       'HeatingQC', 'CentralAir', 'KitchenQual', 'Functional', 'PavedDrive',\n       'SaleType', 'SaleCondition', 'MSSubClass', 'LotFrontage', 'LotArea',\n       'OverallQual', 'OverallCond', 'YearBuilt', 'YearRemodAdd', 'MasVnrArea',\n       'BsmtFinSF1', 'BsmtFinSF2', 'BsmtUnfSF', 'TotalBsmtSF', '1stFlrSF',\n       '2ndFlrSF', 'LowQualFinSF', 'GrLivArea', 'BsmtFullBath', 'BsmtHalfBath',\n       'FullBath', 'HalfBath', 'BedroomAbvGr', 'KitchenAbvGr', 'TotRmsAbvGrd',\n       'Fireplaces', 'GarageYrBlt', 'GarageCars', 'GarageArea', 'WoodDeckSF',\n       'OpenPorchSF', 'EnclosedPorch', '3SsnPorch', 'ScreenPorch', 'PoolArea',\n       'MiscVal', 'MoSold', 'YrSold'],\n      dtype='object')"
      ]
     },
     "execution_count": 68,
     "metadata": {},
     "output_type": "execute_result"
    }
   ],
   "source": [
    "train_x = housing_train.drop(['SalePrice', 'Id'],axis=1)\n",
    "train_y = housing_train['SalePrice']\n",
    "train_x.columns"
   ]
  },
  {
   "cell_type": "code",
   "execution_count": 69,
   "metadata": {},
   "outputs": [],
   "source": [
    "# Early stopping \n",
    "from keras.callbacks import EarlyStopping\n",
    "_es_monitor = 'val_loss'\n",
    "_es_patience = 10\n",
    "es = EarlyStopping(monitor=_es_monitor, mode='min', verbose=1, patience=_es_patience)"
   ]
  },
  {
   "cell_type": "code",
   "execution_count": 70,
   "metadata": {},
   "outputs": [],
   "source": [
    "#define batch size and number of epchos \n",
    "_batch_size = 32\n",
    "_epochs = 500\n",
    "_mc_model_location = 'v1_model.h5'\n",
    "_mc_monitor = 'val_loss'\n",
    "lr = 0.005\n",
    "# Defining optimizer \n",
    "from keras.optimizers import SGD\n",
    "_opt = SGD(lr)\n",
    "_loss = 'mean_squared_error'"
   ]
  },
  {
   "cell_type": "code",
   "execution_count": 82,
   "metadata": {},
   "outputs": [],
   "source": [
    "# Model check point\n",
    "from keras.layers import Dropout\n",
    "from keras.models import Sequential\n",
    "from keras.layers import Dense\n",
    "from keras.callbacks import ModelCheckpoint\n",
    "\n",
    "model = Sequential()\n",
    "model.add(Dense(64, activation='relu', kernel_initializer='normal'))\n",
    "model.add(Dropout(0.4))\n",
    "model.add(Dense(1, activation='relu'))\n",
    "mc = ModelCheckpoint(_mc_model_location, monitor=_mc_monitor, mode='max', verbose=1, save_best_only=True)"
   ]
  },
  {
   "cell_type": "code",
   "execution_count": 83,
   "metadata": {},
   "outputs": [],
   "source": [
    "model.compile(loss=_loss, optimizer=_opt, metrics=['accuracy'])"
   ]
  },
  {
   "cell_type": "code",
   "execution_count": 88,
   "metadata": {},
   "outputs": [
    {
     "name": "stdout",
     "output_type": "stream",
     "text": [
      "Train on 1168 samples, validate on 292 samples\nEpoch 1/500\n\r1168/1168 [==============================] - 0s 28us/step - loss: 0.9846 - acc: 0.0000e+00 - val_loss: 1.0635 - val_acc: 0.0000e+00\n"
     ]
    },
    {
     "name": "stdout",
     "output_type": "stream",
     "text": [
      "\nEpoch 00001: val_loss did not improve from 1.06348\nEpoch 2/500\n\r1168/1168 [==============================] - 0s 27us/step - loss: 0.9915 - acc: 0.0000e+00 - val_loss: 1.0635 - val_acc: 0.0000e+00\n"
     ]
    },
    {
     "name": "stdout",
     "output_type": "stream",
     "text": [
      "\nEpoch 00002: val_loss did not improve from 1.06348\nEpoch 3/500\n\r1168/1168 [==============================] - 0s 24us/step - loss: 0.9817 - acc: 0.0000e+00 - val_loss: 1.0635 - val_acc: 0.0000e+00\n"
     ]
    },
    {
     "name": "stdout",
     "output_type": "stream",
     "text": [
      "\nEpoch 00003: val_loss did not improve from 1.06348\nEpoch 4/500\n\r1168/1168 [==============================] - 0s 10us/step - loss: 0.9873 - acc: 0.0000e+00 - val_loss: 1.0635 - val_acc: 0.0000e+00\n"
     ]
    },
    {
     "name": "stdout",
     "output_type": "stream",
     "text": [
      "\nEpoch 00004: val_loss did not improve from 1.06348\nEpoch 5/500\n\r1168/1168 [==============================] - 0s 9us/step - loss: 0.9876 - acc: 0.0000e+00 - val_loss: 1.0635 - val_acc: 0.0000e+00\n"
     ]
    },
    {
     "name": "stdout",
     "output_type": "stream",
     "text": [
      "\nEpoch 00005: val_loss did not improve from 1.06348\nEpoch 6/500\n\r1168/1168 [==============================] - 0s 10us/step - loss: 0.9847 - acc: 0.0000e+00 - val_loss: 1.0635 - val_acc: 0.0000e+00\n"
     ]
    },
    {
     "name": "stdout",
     "output_type": "stream",
     "text": [
      "\nEpoch 00006: val_loss did not improve from 1.06348\nEpoch 7/500\n"
     ]
    },
    {
     "name": "stdout",
     "output_type": "stream",
     "text": [
      "\r1168/1168 [==============================] - 0s 9us/step - loss: 0.9887 - acc: 0.0000e+00 - val_loss: 1.0635 - val_acc: 0.0000e+00\n"
     ]
    },
    {
     "name": "stdout",
     "output_type": "stream",
     "text": [
      "\nEpoch 00007: val_loss did not improve from 1.06348\nEpoch 8/500\n\r1168/1168 [==============================] - 0s 12us/step - loss: 0.9844 - acc: 0.0000e+00 - val_loss: 1.0635 - val_acc: 0.0000e+00\n"
     ]
    },
    {
     "name": "stdout",
     "output_type": "stream",
     "text": [
      "\nEpoch 00008: val_loss did not improve from 1.06348\nEpoch 9/500\n"
     ]
    },
    {
     "name": "stdout",
     "output_type": "stream",
     "text": [
      "\r1168/1168 [==============================] - 0s 9us/step - loss: 0.9860 - acc: 0.0000e+00 - val_loss: 1.0635 - val_acc: 0.0000e+00\n"
     ]
    },
    {
     "name": "stdout",
     "output_type": "stream",
     "text": [
      "\nEpoch 00009: val_loss did not improve from 1.06348\nEpoch 10/500\n\r1168/1168 [==============================] - 0s 10us/step - loss: 0.9847 - acc: 0.0000e+00 - val_loss: 1.0635 - val_acc: 0.0000e+00\n"
     ]
    },
    {
     "name": "stdout",
     "output_type": "stream",
     "text": [
      "\nEpoch 00010: val_loss did not improve from 1.06348\nEpoch 11/500\n\r1168/1168 [==============================] - 0s 8us/step - loss: 0.9859 - acc: 0.0000e+00 - val_loss: 1.0635 - val_acc: 0.0000e+00\n"
     ]
    },
    {
     "name": "stdout",
     "output_type": "stream",
     "text": [
      "\nEpoch 00011: val_loss did not improve from 1.06348\nEpoch 12/500\n\r1168/1168 [==============================] - 0s 7us/step - loss: 0.9855 - acc: 0.0000e+00 - val_loss: 1.0635 - val_acc: 0.0000e+00\n"
     ]
    },
    {
     "name": "stdout",
     "output_type": "stream",
     "text": [
      "\nEpoch 00012: val_loss did not improve from 1.06348\nEpoch 13/500\n\r1168/1168 [==============================] - 0s 7us/step - loss: 0.9846 - acc: 0.0000e+00 - val_loss: 1.0635 - val_acc: 0.0000e+00\n"
     ]
    },
    {
     "name": "stdout",
     "output_type": "stream",
     "text": [
      "\nEpoch 00013: val_loss did not improve from 1.06348\nEpoch 14/500\n"
     ]
    },
    {
     "name": "stdout",
     "output_type": "stream",
     "text": [
      "\r1168/1168 [==============================] - 0s 20us/step - loss: 0.9854 - acc: 0.0000e+00 - val_loss: 1.0635 - val_acc: 0.0000e+00\n"
     ]
    },
    {
     "name": "stdout",
     "output_type": "stream",
     "text": [
      "\nEpoch 00014: val_loss did not improve from 1.06348\nEpoch 15/500\n"
     ]
    },
    {
     "name": "stdout",
     "output_type": "stream",
     "text": [
      "\r1168/1168 [==============================] - 0s 33us/step - loss: 0.9855 - acc: 0.0000e+00 - val_loss: 1.0635 - val_acc: 0.0000e+00\n"
     ]
    },
    {
     "name": "stdout",
     "output_type": "stream",
     "text": [
      "\nEpoch 00015: val_loss did not improve from 1.06348\nEpoch 16/500\n"
     ]
    },
    {
     "name": "stdout",
     "output_type": "stream",
     "text": [
      "\r1168/1168 [==============================] - 0s 8us/step - loss: 0.9862 - acc: 0.0000e+00 - val_loss: 1.0635 - val_acc: 0.0000e+00\n"
     ]
    },
    {
     "name": "stdout",
     "output_type": "stream",
     "text": [
      "\nEpoch 00016: val_loss did not improve from 1.06348\nEpoch 17/500\n\r1168/1168 [==============================] - 0s 9us/step - loss: 0.9856 - acc: 0.0000e+00 - val_loss: 1.0635 - val_acc: 0.0000e+00\n"
     ]
    },
    {
     "name": "stdout",
     "output_type": "stream",
     "text": [
      "\nEpoch 00017: val_loss did not improve from 1.06348\nEpoch 18/500\n\r1168/1168 [==============================] - 0s 9us/step - loss: 0.9858 - acc: 0.0000e+00 - val_loss: 1.0635 - val_acc: 0.0000e+00\n"
     ]
    },
    {
     "name": "stdout",
     "output_type": "stream",
     "text": [
      "\nEpoch 00018: val_loss did not improve from 1.06348\nEpoch 19/500\n"
     ]
    },
    {
     "name": "stdout",
     "output_type": "stream",
     "text": [
      "\r1168/1168 [==============================] - 0s 10us/step - loss: 0.9886 - acc: 0.0000e+00 - val_loss: 1.0635 - val_acc: 0.0000e+00\n"
     ]
    },
    {
     "name": "stdout",
     "output_type": "stream",
     "text": [
      "\nEpoch 00019: val_loss did not improve from 1.06348\nEpoch 20/500\n"
     ]
    },
    {
     "name": "stdout",
     "output_type": "stream",
     "text": [
      "\r1168/1168 [==============================] - 0s 13us/step - loss: 0.9884 - acc: 0.0000e+00 - val_loss: 1.0635 - val_acc: 0.0000e+00\n"
     ]
    },
    {
     "name": "stdout",
     "output_type": "stream",
     "text": [
      "\nEpoch 00020: val_loss did not improve from 1.06348\nEpoch 21/500\n\r1168/1168 [==============================] - 0s 7us/step - loss: 0.9840 - acc: 0.0000e+00 - val_loss: 1.0635 - val_acc: 0.0000e+00\n"
     ]
    },
    {
     "name": "stdout",
     "output_type": "stream",
     "text": [
      "\nEpoch 00021: val_loss did not improve from 1.06348\nEpoch 22/500\n"
     ]
    },
    {
     "name": "stdout",
     "output_type": "stream",
     "text": [
      "\r1168/1168 [==============================] - 0s 8us/step - loss: 0.9861 - acc: 0.0000e+00 - val_loss: 1.0635 - val_acc: 0.0000e+00\n"
     ]
    },
    {
     "name": "stdout",
     "output_type": "stream",
     "text": [
      "\nEpoch 00022: val_loss did not improve from 1.06348\nEpoch 23/500\n"
     ]
    },
    {
     "name": "stdout",
     "output_type": "stream",
     "text": [
      "\r1168/1168 [==============================] - 0s 7us/step - loss: 0.9865 - acc: 0.0000e+00 - val_loss: 1.0635 - val_acc: 0.0000e+00\n"
     ]
    },
    {
     "name": "stdout",
     "output_type": "stream",
     "text": [
      "\nEpoch 00023: val_loss did not improve from 1.06348\nEpoch 24/500\n\r1168/1168 [==============================] - 0s 10us/step - loss: 0.9844 - acc: 0.0000e+00 - val_loss: 1.0635 - val_acc: 0.0000e+00\n"
     ]
    },
    {
     "name": "stdout",
     "output_type": "stream",
     "text": [
      "\nEpoch 00024: val_loss did not improve from 1.06348\nEpoch 25/500\n"
     ]
    },
    {
     "name": "stdout",
     "output_type": "stream",
     "text": [
      "\r1168/1168 [==============================] - 0s 9us/step - loss: 0.9853 - acc: 0.0000e+00 - val_loss: 1.0635 - val_acc: 0.0000e+00\n"
     ]
    },
    {
     "name": "stdout",
     "output_type": "stream",
     "text": [
      "\nEpoch 00025: val_loss did not improve from 1.06348\nEpoch 26/500\n\r1168/1168 [==============================] - 0s 9us/step - loss: 0.9882 - acc: 0.0000e+00 - val_loss: 1.0635 - val_acc: 0.0000e+00\n"
     ]
    },
    {
     "name": "stdout",
     "output_type": "stream",
     "text": [
      "\nEpoch 00026: val_loss did not improve from 1.06348\nEpoch 27/500\n\r1168/1168 [==============================] - 0s 10us/step - loss: 0.9869 - acc: 0.0000e+00 - val_loss: 1.0635 - val_acc: 0.0000e+00\n"
     ]
    },
    {
     "name": "stdout",
     "output_type": "stream",
     "text": [
      "\nEpoch 00027: val_loss did not improve from 1.06348\nEpoch 28/500\n\r"
     ]
    },
    {
     "name": "stdout",
     "output_type": "stream",
     "text": [
      "1168/1168 [==============================] - 0s 8us/step - loss: 0.9860 - acc: 0.0000e+00 - val_loss: 1.0635 - val_acc: 0.0000e+00\n"
     ]
    },
    {
     "name": "stdout",
     "output_type": "stream",
     "text": [
      "\nEpoch 00028: val_loss did not improve from 1.06348\nEpoch 29/500\n\r1168/1168 [==============================] - 0s 6us/step - loss: 0.9848 - acc: 0.0000e+00 - val_loss: 1.0635 - val_acc: 0.0000e+00\n"
     ]
    },
    {
     "name": "stdout",
     "output_type": "stream",
     "text": [
      "\nEpoch 00029: val_loss did not improve from 1.06348\nEpoch 30/500\n"
     ]
    },
    {
     "name": "stdout",
     "output_type": "stream",
     "text": [
      "\r1168/1168 [==============================] - 0s 13us/step - loss: 0.9860 - acc: 0.0000e+00 - val_loss: 1.0635 - val_acc: 0.0000e+00\n"
     ]
    },
    {
     "name": "stdout",
     "output_type": "stream",
     "text": [
      "\nEpoch 00030: val_loss did not improve from 1.06348\nEpoch 31/500\n"
     ]
    },
    {
     "name": "stdout",
     "output_type": "stream",
     "text": [
      "\r1168/1168 [==============================] - 0s 8us/step - loss: 0.9827 - acc: 0.0000e+00 - val_loss: 1.0635 - val_acc: 0.0000e+00\n"
     ]
    },
    {
     "name": "stdout",
     "output_type": "stream",
     "text": [
      "\nEpoch 00031: val_loss did not improve from 1.06348\nEpoch 32/500\n"
     ]
    },
    {
     "name": "stdout",
     "output_type": "stream",
     "text": [
      "\r1168/1168 [==============================] - 0s 9us/step - loss: 0.9854 - acc: 0.0000e+00 - val_loss: 1.0635 - val_acc: 0.0000e+00\n"
     ]
    },
    {
     "name": "stdout",
     "output_type": "stream",
     "text": [
      "\nEpoch 00032: val_loss did not improve from 1.06348\nEpoch 33/500\n"
     ]
    },
    {
     "name": "stdout",
     "output_type": "stream",
     "text": [
      "\r1168/1168 [==============================] - 0s 6us/step - loss: 0.9819 - acc: 0.0000e+00 - val_loss: 1.0635 - val_acc: 0.0000e+00\n"
     ]
    },
    {
     "name": "stdout",
     "output_type": "stream",
     "text": [
      "\nEpoch 00033: val_loss did not improve from 1.06348\nEpoch 34/500\n"
     ]
    },
    {
     "name": "stdout",
     "output_type": "stream",
     "text": [
      "\r1168/1168 [==============================] - 0s 9us/step - loss: 0.9840 - acc: 0.0000e+00 - val_loss: 1.0635 - val_acc: 0.0000e+00\n"
     ]
    },
    {
     "name": "stdout",
     "output_type": "stream",
     "text": [
      "\nEpoch 00034: val_loss did not improve from 1.06348\nEpoch 35/500\n"
     ]
    },
    {
     "name": "stdout",
     "output_type": "stream",
     "text": [
      "\r1168/1168 [==============================] - 0s 44us/step - loss: 0.9843 - acc: 0.0000e+00 - val_loss: 1.0635 - val_acc: 0.0000e+00\n"
     ]
    },
    {
     "name": "stdout",
     "output_type": "stream",
     "text": [
      "\nEpoch 00035: val_loss did not improve from 1.06348\nEpoch 36/500\n"
     ]
    },
    {
     "name": "stdout",
     "output_type": "stream",
     "text": [
      "\r1168/1168 [==============================] - 0s 9us/step - loss: 0.9862 - acc: 0.0000e+00 - val_loss: 1.0635 - val_acc: 0.0000e+00\n"
     ]
    },
    {
     "name": "stdout",
     "output_type": "stream",
     "text": [
      "\nEpoch 00036: val_loss did not improve from 1.06348\nEpoch 37/500\n"
     ]
    },
    {
     "name": "stdout",
     "output_type": "stream",
     "text": [
      "\r1168/1168 [==============================] - 0s 7us/step - loss: 0.9812 - acc: 0.0000e+00 - val_loss: 1.0635 - val_acc: 0.0000e+00\n"
     ]
    },
    {
     "name": "stdout",
     "output_type": "stream",
     "text": [
      "\nEpoch 00037: val_loss did not improve from 1.06348\nEpoch 38/500\n"
     ]
    },
    {
     "name": "stdout",
     "output_type": "stream",
     "text": [
      "\r1168/1168 [==============================] - 0s 9us/step - loss: 0.9840 - acc: 0.0000e+00 - val_loss: 1.0635 - val_acc: 0.0000e+00\n"
     ]
    },
    {
     "name": "stdout",
     "output_type": "stream",
     "text": [
      "\nEpoch 00038: val_loss did not improve from 1.06348\nEpoch 39/500\n\r1168/1168 [==============================] - 0s 9us/step - loss: 0.9858 - acc: 0.0000e+00 - val_loss: 1.0635 - val_acc: 0.0000e+00\n"
     ]
    },
    {
     "name": "stdout",
     "output_type": "stream",
     "text": [
      "\nEpoch 00039: val_loss did not improve from 1.06348\nEpoch 40/500\n\r1168/1168 [==============================] - 0s 6us/step - loss: 0.9812 - acc: 0.0000e+00 - val_loss: 1.0635 - val_acc: 0.0000e+00\n"
     ]
    },
    {
     "name": "stdout",
     "output_type": "stream",
     "text": [
      "\nEpoch 00040: val_loss did not improve from 1.06348\nEpoch 41/500\n"
     ]
    },
    {
     "name": "stdout",
     "output_type": "stream",
     "text": [
      "\r1168/1168 [==============================] - 0s 6us/step - loss: 0.9840 - acc: 0.0000e+00 - val_loss: 1.0635 - val_acc: 0.0000e+00\n"
     ]
    },
    {
     "name": "stdout",
     "output_type": "stream",
     "text": [
      "\nEpoch 00041: val_loss did not improve from 1.06348\nEpoch 42/500\n\r1168/1168 [==============================]"
     ]
    },
    {
     "name": "stdout",
     "output_type": "stream",
     "text": [
      " - 0s 9us/step - loss: 0.9857 - acc: 0.0000e+00 - val_loss: 1.0635 - val_acc: 0.0000e+00\n"
     ]
    },
    {
     "name": "stdout",
     "output_type": "stream",
     "text": [
      "\nEpoch 00042: val_loss did not improve from 1.06348\nEpoch 43/500\n\r1168/1168 [==============================] - 0s 7us/step - loss: 0.9872 - acc: 0.0000e+00 - val_loss: 1.0635 - val_acc: 0.0000e+00\n"
     ]
    },
    {
     "name": "stdout",
     "output_type": "stream",
     "text": [
      "\nEpoch 00043: val_loss did not improve from 1.06348\nEpoch 44/500\n"
     ]
    },
    {
     "name": "stdout",
     "output_type": "stream",
     "text": [
      "\r1168/1168 [==============================] - 0s 8us/step - loss: 0.9826 - acc: 0.0000e+00 - val_loss: 1.0635 - val_acc: 0.0000e+00\n"
     ]
    },
    {
     "name": "stdout",
     "output_type": "stream",
     "text": [
      "\nEpoch 00044: val_loss did not improve from 1.06348\nEpoch 45/500\n\r1168/1168 [==============================] - 0s 8us/step - loss: 0.9890 - acc: 0.0000e+00 - val_loss: 1.0635 - val_acc: 0.0000e+00\n"
     ]
    },
    {
     "name": "stdout",
     "output_type": "stream",
     "text": [
      "\nEpoch 00045: val_loss did not improve from 1.06348\nEpoch 46/500\n\r1168/1168 [==============================] - 0s 8us/step - loss: 0.9862 - acc: 0.0000e+00 - val_loss: 1.0635 - val_acc: 0.0000e+00\n"
     ]
    },
    {
     "name": "stdout",
     "output_type": "stream",
     "text": [
      "\nEpoch 00046: val_loss did not improve from 1.06348\nEpoch 47/500\n"
     ]
    },
    {
     "name": "stdout",
     "output_type": "stream",
     "text": [
      "\r1168/1168 [==============================] - 0s 7us/step - loss: 0.9853 - acc: 0.0000e+00 - val_loss: 1.0635 - val_acc: 0.0000e+00\n"
     ]
    },
    {
     "name": "stdout",
     "output_type": "stream",
     "text": [
      "\nEpoch 00047: val_loss did not improve from 1.06348\nEpoch 48/500\n\r1168/1168 [==============================] - 0s 7us/step - loss: 0.9849 - acc: 0.0000e+00 - val_loss: 1.0635 - val_acc: 0.0000e+00\n"
     ]
    },
    {
     "name": "stdout",
     "output_type": "stream",
     "text": [
      "\nEpoch 00048: val_loss did not improve from 1.06348\nEpoch 49/500\n\r1168/1168 [==============================] - 0s 8us/step - loss: 0.9848 - acc: 0.0000e+00 - val_loss: 1.0635 - val_acc: 0.0000e+00\n"
     ]
    },
    {
     "name": "stdout",
     "output_type": "stream",
     "text": [
      "\nEpoch 00049: val_loss did not improve from 1.06348\nEpoch 50/500\n\r1168/1168 [==============================] - 0s 7us/step - loss: 0.9845 - acc: 0.0000e+00 - val_loss: 1.0635 - val_acc: 0.0000e+00\n"
     ]
    },
    {
     "name": "stdout",
     "output_type": "stream",
     "text": [
      "\nEpoch 00050: val_loss did not improve from 1.06348\nEpoch 51/500\n\r"
     ]
    },
    {
     "name": "stdout",
     "output_type": "stream",
     "text": [
      "1168/1168 [==============================] - 0s 6us/step - loss: 0.9845 - acc: 0.0000e+00 - val_loss: 1.0635 - val_acc: 0.0000e+00\n"
     ]
    },
    {
     "name": "stdout",
     "output_type": "stream",
     "text": [
      "\nEpoch 00051: val_loss did not improve from 1.06348\nEpoch 52/500\n\r1168/1168 [==============================] - 0s 9us/step - loss: 0.9850 - acc: 0.0000e+00 - val_loss: 1.0635 - val_acc: 0.0000e+00\n"
     ]
    },
    {
     "name": "stdout",
     "output_type": "stream",
     "text": [
      "\nEpoch 00052: val_loss did not improve from 1.06348\nEpoch 53/500\n"
     ]
    },
    {
     "name": "stdout",
     "output_type": "stream",
     "text": [
      "\r1168/1168 [==============================] - 0s 6us/step - loss: 0.9866 - acc: 0.0000e+00 - val_loss: 1.0635 - val_acc: 0.0000e+00\n"
     ]
    },
    {
     "name": "stdout",
     "output_type": "stream",
     "text": [
      "\nEpoch 00053: val_loss did not improve from 1.06348\nEpoch 54/500\n\r1168/1168 [==============================]"
     ]
    },
    {
     "name": "stdout",
     "output_type": "stream",
     "text": [
      " - 0s 9us/step - loss: 0.9851 - acc: 0.0000e+00 - val_loss: 1.0635 - val_acc: 0.0000e+00\n"
     ]
    },
    {
     "name": "stdout",
     "output_type": "stream",
     "text": [
      "\nEpoch 00054: val_loss did not improve from 1.06348\nEpoch 55/500\n\r1168/1168 [==============================] - 0s 8us/step - loss: 0.9847 - acc: 0.0000e+00 - val_loss: 1.0635 - val_acc: 0.0000e+00\n"
     ]
    },
    {
     "name": "stdout",
     "output_type": "stream",
     "text": [
      "\nEpoch 00055: val_loss did not improve from 1.06348\nEpoch 56/500\n"
     ]
    },
    {
     "name": "stdout",
     "output_type": "stream",
     "text": [
      "\r1168/1168 [==============================] - 0s 8us/step - loss: 0.9858 - acc: 0.0000e+00 - val_loss: 1.0635 - val_acc: 0.0000e+00\n"
     ]
    },
    {
     "name": "stdout",
     "output_type": "stream",
     "text": [
      "\nEpoch 00056: val_loss did not improve from 1.06348\nEpoch 57/500\n"
     ]
    },
    {
     "name": "stdout",
     "output_type": "stream",
     "text": [
      "\r1168/1168 [==============================] - 0s 6us/step - loss: 0.9849 - acc: 0.0000e+00 - val_loss: 1.0635 - val_acc: 0.0000e+00\n"
     ]
    },
    {
     "name": "stdout",
     "output_type": "stream",
     "text": [
      "\nEpoch 00057: val_loss did not improve from 1.06348\nEpoch 58/500\n\r1168/1168 [==============================] - 0s 8us/step - loss: 0.9844 - acc: 0.0000e+00 - val_loss: 1.0635 - val_acc: 0.0000e+00\n"
     ]
    },
    {
     "name": "stdout",
     "output_type": "stream",
     "text": [
      "\nEpoch 00058: val_loss did not improve from 1.06348\nEpoch 59/500\n"
     ]
    },
    {
     "name": "stdout",
     "output_type": "stream",
     "text": [
      "\r1168/1168 [==============================] - 0s 6us/step - loss: 0.9848 - acc: 0.0000e+00 - val_loss: 1.0635 - val_acc: 0.0000e+00\n"
     ]
    },
    {
     "name": "stdout",
     "output_type": "stream",
     "text": [
      "\nEpoch 00059: val_loss did not improve from 1.06348\nEpoch 60/500\n"
     ]
    },
    {
     "name": "stdout",
     "output_type": "stream",
     "text": [
      "\r1168/1168 [==============================] - 0s 8us/step - loss: 0.9847 - acc: 0.0000e+00 - val_loss: 1.0635 - val_acc: 0.0000e+00\n"
     ]
    },
    {
     "name": "stdout",
     "output_type": "stream",
     "text": [
      "\nEpoch 00060: val_loss did not improve from 1.06348\nEpoch 61/500\n\r1168/1168 [==============================] - 0s 7us/step - loss: 0.9847 - acc: 0.0000e+00 - val_loss: 1.0635 - val_acc: 0.0000e+00\n"
     ]
    },
    {
     "name": "stdout",
     "output_type": "stream",
     "text": [
      "\nEpoch 00061: val_loss did not improve from 1.06348\nEpoch 62/500\n\r1168/1168 [==============================] - 0s 9us/step - loss: 0.9870 - acc: 0.0000e+00 - val_loss: 1.0635 - val_acc: 0.0000e+00\n"
     ]
    },
    {
     "name": "stdout",
     "output_type": "stream",
     "text": [
      "\nEpoch 00062: val_loss did not improve from 1.06348\nEpoch 63/500\n"
     ]
    },
    {
     "name": "stdout",
     "output_type": "stream",
     "text": [
      "\r1168/1168 [==============================] - 0s 6us/step - loss: 0.9881 - acc: 0.0000e+00 - val_loss: 1.0635 - val_acc: 0.0000e+00\n"
     ]
    },
    {
     "name": "stdout",
     "output_type": "stream",
     "text": [
      "\nEpoch 00063: val_loss did not improve from 1.06348\nEpoch 64/500\n"
     ]
    },
    {
     "name": "stdout",
     "output_type": "stream",
     "text": [
      "\r1168/1168 [==============================] - 0s 9us/step - loss: 0.9846 - acc: 0.0000e+00 - val_loss: 1.0635 - val_acc: 0.0000e+00\n"
     ]
    },
    {
     "name": "stdout",
     "output_type": "stream",
     "text": [
      "\nEpoch 00064: val_loss did not improve from 1.06348\nEpoch 65/500\n"
     ]
    },
    {
     "name": "stdout",
     "output_type": "stream",
     "text": [
      "\r1168/1168 [==============================] - 0s 8us/step - loss: 0.9840 - acc: 0.0000e+00 - val_loss: 1.0635 - val_acc: 0.0000e+00\n"
     ]
    },
    {
     "name": "stdout",
     "output_type": "stream",
     "text": [
      "\nEpoch 00065: val_loss did not improve from 1.06348\nEpoch 66/500\n\r1168/1168 [==============================] - 0s 8us/step - loss: 0.9843 - acc: 0.0000e+00 - val_loss: 1.0635 - val_acc: 0.0000e+00\n"
     ]
    },
    {
     "name": "stdout",
     "output_type": "stream",
     "text": [
      "\nEpoch 00066: val_loss did not improve from 1.06348\nEpoch 67/500\n\r1168/1168 [==============================] - 0s 9us/step - loss: 0.9842 - acc: 0.0000e+00 - val_loss: 1.0635 - val_acc: 0.0000e+00\n"
     ]
    },
    {
     "name": "stdout",
     "output_type": "stream",
     "text": [
      "\nEpoch 00067: val_loss did not improve from 1.06348\nEpoch 68/500\n"
     ]
    },
    {
     "name": "stdout",
     "output_type": "stream",
     "text": [
      "\r1168/1168 [==============================] - 0s 8us/step - loss: 0.9827 - acc: 0.0000e+00 - val_loss: 1.0635 - val_acc: 0.0000e+00\n"
     ]
    },
    {
     "name": "stdout",
     "output_type": "stream",
     "text": [
      "\nEpoch 00068: val_loss did not improve from 1.06348\nEpoch 69/500\n"
     ]
    },
    {
     "name": "stdout",
     "output_type": "stream",
     "text": [
      "\r1168/1168 [==============================] - 0s 8us/step - loss: 0.9836 - acc: 0.0000e+00 - val_loss: 1.0635 - val_acc: 0.0000e+00\n"
     ]
    },
    {
     "name": "stdout",
     "output_type": "stream",
     "text": [
      "\nEpoch 00069: val_loss did not improve from 1.06348\nEpoch 70/500\n"
     ]
    },
    {
     "name": "stdout",
     "output_type": "stream",
     "text": [
      "\r1168/1168 [==============================] - 0s 8us/step - loss: 0.9867 - acc: 0.0000e+00 - val_loss: 1.0635 - val_acc: 0.0000e+00\n"
     ]
    },
    {
     "name": "stdout",
     "output_type": "stream",
     "text": [
      "\nEpoch 00070: val_loss did not improve from 1.06348\nEpoch 71/500\n"
     ]
    },
    {
     "name": "stdout",
     "output_type": "stream",
     "text": [
      "\r1168/1168 [==============================] - 0s 9us/step - loss: 0.9848 - acc: 0.0000e+00 - val_loss: 1.0635 - val_acc: 0.0000e+00\n"
     ]
    },
    {
     "name": "stdout",
     "output_type": "stream",
     "text": [
      "\nEpoch 00071: val_loss did not improve from 1.06348\nEpoch 72/500\n\r1168/1168 [==============================] - 0s 9us/step - loss: 0.9844 - acc: 0.0000e+00 - val_loss: 1.0635 - val_acc: 0.0000e+00\n"
     ]
    },
    {
     "name": "stdout",
     "output_type": "stream",
     "text": [
      "\nEpoch 00072: val_loss did not improve from 1.06348\nEpoch 73/500\n"
     ]
    },
    {
     "name": "stdout",
     "output_type": "stream",
     "text": [
      "\r1168/1168 [==============================] - 0s 13us/step - loss: 0.9841 - acc: 0.0000e+00 - val_loss: 1.0635 - val_acc: 0.0000e+00\n"
     ]
    },
    {
     "name": "stdout",
     "output_type": "stream",
     "text": [
      "\nEpoch 00073: val_loss did not improve from 1.06348\nEpoch 74/500\n"
     ]
    },
    {
     "name": "stdout",
     "output_type": "stream",
     "text": [
      "\r1168/1168 [==============================] - 0s 9us/step - loss: 0.9861 - acc: 0.0000e+00 - val_loss: 1.0635 - val_acc: 0.0000e+00\n"
     ]
    },
    {
     "name": "stdout",
     "output_type": "stream",
     "text": [
      "\nEpoch 00074: val_loss did not improve from 1.06348\nEpoch 75/500\n"
     ]
    },
    {
     "name": "stdout",
     "output_type": "stream",
     "text": [
      "\r1168/1168 [==============================] - 0s 8us/step - loss: 0.9841 - acc: 0.0000e+00 - val_loss: 1.0635 - val_acc: 0.0000e+00\n"
     ]
    },
    {
     "name": "stdout",
     "output_type": "stream",
     "text": [
      "\nEpoch 00075: val_loss did not improve from 1.06348\nEpoch 76/500\n"
     ]
    },
    {
     "name": "stdout",
     "output_type": "stream",
     "text": [
      "\r1168/1168 [==============================] - 0s 8us/step - loss: 0.9864 - acc: 0.0000e+00 - val_loss: 1.0635 - val_acc: 0.0000e+00\n"
     ]
    },
    {
     "name": "stdout",
     "output_type": "stream",
     "text": [
      "\nEpoch 00076: val_loss did not improve from 1.06348\nEpoch 77/500\n\r1168/1168 [==============================] - 0s 9us/step - loss: 0.9838 - acc: 0.0000e+00 - val_loss: 1.0635 - val_acc: 0.0000e+00\n"
     ]
    },
    {
     "name": "stdout",
     "output_type": "stream",
     "text": [
      "\nEpoch 00077: val_loss did not improve from 1.06348"
     ]
    },
    {
     "name": "stdout",
     "output_type": "stream",
     "text": [
      "\nEpoch 78/500\n\r1168/1168 [==============================] - 0s 8us/step - loss: 0.9865 - acc: 0.0000e+00 - val_loss: 1.0635 - val_acc: 0.0000e+00\n"
     ]
    },
    {
     "name": "stdout",
     "output_type": "stream",
     "text": [
      "\nEpoch 00078: val_loss did not improve from 1.06348\nEpoch 79/500\n"
     ]
    },
    {
     "name": "stdout",
     "output_type": "stream",
     "text": [
      "\r1168/1168 [==============================] - 0s 9us/step - loss: 0.9835 - acc: 0.0000e+00 - val_loss: 1.0635 - val_acc: 0.0000e+00\n"
     ]
    },
    {
     "name": "stdout",
     "output_type": "stream",
     "text": [
      "\nEpoch 00079: val_loss did not improve from 1.06348\nEpoch 80/500\n"
     ]
    },
    {
     "name": "stdout",
     "output_type": "stream",
     "text": [
      "\r1168/1168 [==============================] - 0s 8us/step - loss: 0.9828 - acc: 0.0000e+00 - val_loss: 1.0635 - val_acc: 0.0000e+00\n"
     ]
    },
    {
     "name": "stdout",
     "output_type": "stream",
     "text": [
      "\nEpoch 00080: val_loss did not improve from 1.06348\nEpoch 81/500\n\r1168/1168 [==============================]"
     ]
    },
    {
     "name": "stdout",
     "output_type": "stream",
     "text": [
      " - 0s 9us/step - loss: 0.9841 - acc: 0.0000e+00 - val_loss: 1.0635 - val_acc: 0.0000e+00\n"
     ]
    },
    {
     "name": "stdout",
     "output_type": "stream",
     "text": [
      "\nEpoch 00081: val_loss did not improve from 1.06348\nEpoch 82/500\n\r1168/1168 [==============================] - 0s 8us/step - loss: 0.9883 - acc: 0.0000e+00 - val_loss: 1.0635 - val_acc: 0.0000e+00\n"
     ]
    },
    {
     "name": "stdout",
     "output_type": "stream",
     "text": [
      "\nEpoch 00082: val_loss did not improve from 1.06348\nEpoch 83/500\n"
     ]
    },
    {
     "name": "stdout",
     "output_type": "stream",
     "text": [
      "\r1168/1168 [==============================] - 0s 8us/step - loss: 0.9835 - acc: 0.0000e+00 - val_loss: 1.0635 - val_acc: 0.0000e+00\n"
     ]
    },
    {
     "name": "stdout",
     "output_type": "stream",
     "text": [
      "\nEpoch 00083: val_loss did not improve from 1.06348\nEpoch 84/500\n"
     ]
    },
    {
     "name": "stdout",
     "output_type": "stream",
     "text": [
      "\r1168/1168 [==============================] - 0s 8us/step - loss: 0.9871 - acc: 0.0000e+00 - val_loss: 1.0635 - val_acc: 0.0000e+00\n"
     ]
    },
    {
     "name": "stdout",
     "output_type": "stream",
     "text": [
      "\nEpoch 00084: val_loss did not improve from 1.06348\nEpoch 85/500\n\r1168/1168 [==============================] - 0s 8us/step - loss: 0.9850 - acc: 0.0000e+00 - val_loss: 1.0635 - val_acc: 0.0000e+00\n"
     ]
    },
    {
     "name": "stdout",
     "output_type": "stream",
     "text": [
      "\nEpoch 00085: val_loss did not improve from 1.06348\nEpoch 86/500\n\r1168/1168 [==============================] - 0s 7us/step - loss: 0.9805 - acc: 0.0000e+00 - val_loss: 1.0635 - val_acc: 0.0000e+00\n"
     ]
    },
    {
     "name": "stdout",
     "output_type": "stream",
     "text": [
      "\nEpoch 00086: val_loss did not improve from 1.06348\nEpoch 87/500\n"
     ]
    },
    {
     "name": "stdout",
     "output_type": "stream",
     "text": [
      "\r1168/1168 [==============================] - 0s 7us/step - loss: 0.9864 - acc: 0.0000e+00 - val_loss: 1.0635 - val_acc: 0.0000e+00\n"
     ]
    },
    {
     "name": "stdout",
     "output_type": "stream",
     "text": [
      "\nEpoch 00087: val_loss did not improve from 1.06348\nEpoch 88/500\n"
     ]
    },
    {
     "name": "stdout",
     "output_type": "stream",
     "text": [
      "\r1168/1168 [==============================] - 0s 8us/step - loss: 0.9844 - acc: 0.0000e+00 - val_loss: 1.0635 - val_acc: 0.0000e+00\n"
     ]
    },
    {
     "name": "stdout",
     "output_type": "stream",
     "text": [
      "\nEpoch 00088: val_loss did not improve from 1.06348\nEpoch 89/500\n\r1168/1168 [==============================] - 0s 8us/step - loss: 0.9845 - acc: 0.0000e+00 - val_loss: 1.0635 - val_acc: 0.0000e+00\n"
     ]
    },
    {
     "name": "stdout",
     "output_type": "stream",
     "text": [
      "\nEpoch 00089: val_loss did not improve from 1.06348\nEpoch 90/500\n"
     ]
    },
    {
     "name": "stdout",
     "output_type": "stream",
     "text": [
      "\r1168/1168 [==============================] - 0s 9us/step - loss: 0.9843 - acc: 0.0000e+00 - val_loss: 1.0635 - val_acc: 0.0000e+00\n"
     ]
    },
    {
     "name": "stdout",
     "output_type": "stream",
     "text": [
      "\nEpoch 00090: val_loss did not improve from 1.06348\nEpoch 91/500\n"
     ]
    },
    {
     "name": "stdout",
     "output_type": "stream",
     "text": [
      "\r1168/1168 [==============================] - 0s 7us/step - loss: 0.9851 - acc: 0.0000e+00 - val_loss: 1.0635 - val_acc: 0.0000e+00\n"
     ]
    },
    {
     "name": "stdout",
     "output_type": "stream",
     "text": [
      "\nEpoch 00091: val_loss did not improve from 1.06348\nEpoch 92/500\n\r1168/1168 [==============================] - 0s 8us/step - loss: 0.9830 - acc: 0.0000e+00 - val_loss: 1.0635 - val_acc: 0.0000e+00\n"
     ]
    },
    {
     "name": "stdout",
     "output_type": "stream",
     "text": [
      "\nEpoch 00092: val_loss did not improve from 1.06348\nEpoch 93/500\n\r1168/1168 [==============================] - 0s 7us/step - loss: 0.9873 - acc: 0.0000e+00 - val_loss: 1.0635 - val_acc: 0.0000e+00\n"
     ]
    },
    {
     "name": "stdout",
     "output_type": "stream",
     "text": [
      "\nEpoch 00093: val_loss did not improve from 1.06348\nEpoch 94/500\n"
     ]
    },
    {
     "name": "stdout",
     "output_type": "stream",
     "text": [
      "\r1168/1168 [==============================] - 0s 8us/step - loss: 0.9842 - acc: 0.0000e+00 - val_loss: 1.0635 - val_acc: 0.0000e+00\n"
     ]
    },
    {
     "name": "stdout",
     "output_type": "stream",
     "text": [
      "\nEpoch 00094: val_loss did not improve from 1.06348\nEpoch 95/500\n"
     ]
    },
    {
     "name": "stdout",
     "output_type": "stream",
     "text": [
      "\r1168/1168 [==============================] - 0s 7us/step - loss: 0.9841 - acc: 0.0000e+00 - val_loss: 1.0635 - val_acc: 0.0000e+00\n"
     ]
    },
    {
     "name": "stdout",
     "output_type": "stream",
     "text": [
      "\nEpoch 00095: val_loss did not improve from 1.06348\nEpoch 96/500\n\r1168/1168 [==============================] - 0s 9us/step - loss: 0.9860 - acc: 0.0000e+00 - val_loss: 1.0635 - val_acc: 0.0000e+00\n"
     ]
    },
    {
     "name": "stdout",
     "output_type": "stream",
     "text": [
      "\nEpoch 00096: val_loss did not improve from 1.06348\nEpoch 97/500\n\r1168/1168 [==============================] - 0s 6us/step - loss: 0.9810 - acc: 0.0000e+00 - val_loss: 1.0635 - val_acc: 0.0000e+00\n"
     ]
    },
    {
     "name": "stdout",
     "output_type": "stream",
     "text": [
      "\nEpoch 00097: val_loss did not improve from 1.06348\nEpoch 98/500\n"
     ]
    },
    {
     "name": "stdout",
     "output_type": "stream",
     "text": [
      "\r1168/1168 [==============================] - 0s 7us/step - loss: 0.9853 - acc: 0.0000e+00 - val_loss: 1.0635 - val_acc: 0.0000e+00\n"
     ]
    },
    {
     "name": "stdout",
     "output_type": "stream",
     "text": [
      "\nEpoch 00098: val_loss did not improve from 1.06348\nEpoch 99/500\n"
     ]
    },
    {
     "name": "stdout",
     "output_type": "stream",
     "text": [
      "\r1168/1168 [==============================] - 0s 9us/step - loss: 0.9856 - acc: 0.0000e+00 - val_loss: 1.0635 - val_acc: 0.0000e+00\n"
     ]
    },
    {
     "name": "stdout",
     "output_type": "stream",
     "text": [
      "\nEpoch 00099: val_loss did not improve from 1.06348\nEpoch 100/500\n\r1168/1168 [==============================] - 0s 8us/step - loss: 0.9840 - acc: 0.0000e+00 - val_loss: 1.0635 - val_acc: 0.0000e+00\n"
     ]
    },
    {
     "name": "stdout",
     "output_type": "stream",
     "text": [
      "\nEpoch 00100: val_loss did not improve from 1.06348\nEpoch 101/500\n"
     ]
    },
    {
     "name": "stdout",
     "output_type": "stream",
     "text": [
      "\r1168/1168 [==============================] - 0s 8us/step - loss: 0.9838 - acc: 0.0000e+00 - val_loss: 1.0635 - val_acc: 0.0000e+00\n"
     ]
    },
    {
     "name": "stdout",
     "output_type": "stream",
     "text": [
      "\nEpoch 00101: val_loss did not improve from 1.06348\nEpoch 102/500\n"
     ]
    },
    {
     "name": "stdout",
     "output_type": "stream",
     "text": [
      "\r1168/1168 [==============================] - 0s 7us/step - loss: 0.9836 - acc: 0.0000e+00 - val_loss: 1.0635 - val_acc: 0.0000e+00\n"
     ]
    },
    {
     "name": "stdout",
     "output_type": "stream",
     "text": [
      "\nEpoch 00102: val_loss did not improve from 1.06348\nEpoch 103/500\n\r1168/1168 [==============================] - 0s 8us/step - loss: 0.9839 - acc: 0.0000e+00 - val_loss: 1.0635 - val_acc: 0.0000e+00\n"
     ]
    },
    {
     "name": "stdout",
     "output_type": "stream",
     "text": [
      "\nEpoch 00103: val_loss did not improve from 1.06348\nEpoch 104/500\n"
     ]
    },
    {
     "name": "stdout",
     "output_type": "stream",
     "text": [
      "\r1168/1168 [==============================] - 0s 8us/step - loss: 0.9841 - acc: 0.0000e+00 - val_loss: 1.0635 - val_acc: 0.0000e+00\n"
     ]
    },
    {
     "name": "stdout",
     "output_type": "stream",
     "text": [
      "\nEpoch 00104: val_loss did not improve from 1.06348\nEpoch 105/500\n"
     ]
    },
    {
     "name": "stdout",
     "output_type": "stream",
     "text": [
      "\r1168/1168 [==============================] - 0s 7us/step - loss: 0.9846 - acc: 0.0000e+00 - val_loss: 1.0635 - val_acc: 0.0000e+00\n"
     ]
    },
    {
     "name": "stdout",
     "output_type": "stream",
     "text": [
      "\nEpoch 00105: val_loss did not improve from 1.06348\nEpoch 106/500\n\r"
     ]
    },
    {
     "name": "stdout",
     "output_type": "stream",
     "text": [
      "1168/1168 [==============================] - 0s 8us/step - loss: 0.9860 - acc: 0.0000e+00 - val_loss: 1.0635 - val_acc: 0.0000e+00\n"
     ]
    },
    {
     "name": "stdout",
     "output_type": "stream",
     "text": [
      "\nEpoch 00106: val_loss did not improve from 1.06348\nEpoch 107/500\n\r1168/1168 [==============================] - 0s 9us/step - loss: 0.9868 - acc: 0.0000e+00 - val_loss: 1.0635 - val_acc: 0.0000e+00\n"
     ]
    },
    {
     "name": "stdout",
     "output_type": "stream",
     "text": [
      "\nEpoch 00107: val_loss did not improve from 1.06348\nEpoch 108/500\n"
     ]
    },
    {
     "name": "stdout",
     "output_type": "stream",
     "text": [
      "\r1168/1168 [==============================] - 0s 9us/step - loss: 0.9859 - acc: 0.0000e+00 - val_loss: 1.0635 - val_acc: 0.0000e+00\n"
     ]
    },
    {
     "name": "stdout",
     "output_type": "stream",
     "text": [
      "\nEpoch 00108: val_loss did not improve from 1.06348\nEpoch 109/500\n"
     ]
    },
    {
     "name": "stdout",
     "output_type": "stream",
     "text": [
      "\r1168/1168 [==============================] - 0s 7us/step - loss: 0.9854 - acc: 0.0000e+00 - val_loss: 1.0635 - val_acc: 0.0000e+00\n"
     ]
    },
    {
     "name": "stdout",
     "output_type": "stream",
     "text": [
      "\nEpoch 00109: val_loss did not improve from 1.06348\nEpoch 110/500\n"
     ]
    },
    {
     "name": "stdout",
     "output_type": "stream",
     "text": [
      "\r1168/1168 [==============================] - 0s 9us/step - loss: 0.9841 - acc: 0.0000e+00 - val_loss: 1.0635 - val_acc: 0.0000e+00\n"
     ]
    },
    {
     "name": "stdout",
     "output_type": "stream",
     "text": [
      "\nEpoch 00110: val_loss did not improve from 1.06348\nEpoch 111/500\n"
     ]
    },
    {
     "name": "stdout",
     "output_type": "stream",
     "text": [
      "\r1168/1168 [==============================] - 0s 8us/step - loss: 0.9838 - acc: 0.0000e+00 - val_loss: 1.0635 - val_acc: 0.0000e+00\n"
     ]
    },
    {
     "name": "stdout",
     "output_type": "stream",
     "text": [
      "\nEpoch 00111: val_loss did not improve from 1.06348\nEpoch 112/500\n\r1168/1168 [==============================] - 0s 8us/step - loss: 0.9838 - acc: 0.0000e+00 - val_loss: 1.0635 - val_acc: 0.0000e+00\n"
     ]
    },
    {
     "name": "stdout",
     "output_type": "stream",
     "text": [
      "\nEpoch 00112: val_loss did not improve from 1.06348\nEpoch 113/500\n\r1168/1168 [==============================] - 0s 8us/step - loss: 0.9846 - acc: 0.0000e+00 - val_loss: 1.0635 - val_acc: 0.0000e+00\n"
     ]
    },
    {
     "name": "stdout",
     "output_type": "stream",
     "text": [
      "\nEpoch 00113: val_loss did not improve from 1.06348\nEpoch 114/500\n"
     ]
    },
    {
     "name": "stdout",
     "output_type": "stream",
     "text": [
      "\r1168/1168 [==============================] - 0s 8us/step - loss: 0.9842 - acc: 0.0000e+00 - val_loss: 1.0635 - val_acc: 0.0000e+00\n"
     ]
    },
    {
     "name": "stdout",
     "output_type": "stream",
     "text": [
      "\nEpoch 00114: val_loss did not improve from 1.06348\nEpoch 115/500\n"
     ]
    },
    {
     "name": "stdout",
     "output_type": "stream",
     "text": [
      "\r1168/1168 [==============================] - 0s 7us/step - loss: 0.9826 - acc: 0.0000e+00 - val_loss: 1.0635 - val_acc: 0.0000e+00\n"
     ]
    },
    {
     "name": "stdout",
     "output_type": "stream",
     "text": [
      "\nEpoch 00115: val_loss did not improve from 1.06348\nEpoch 116/500\n"
     ]
    },
    {
     "name": "stdout",
     "output_type": "stream",
     "text": [
      "\r1168/1168 [==============================] - 0s 8us/step - loss: 0.9841 - acc: 0.0000e+00 - val_loss: 1.0635 - val_acc: 0.0000e+00\n"
     ]
    },
    {
     "name": "stdout",
     "output_type": "stream",
     "text": [
      "\nEpoch 00116: val_loss did not improve from 1.06348\nEpoch 117/500\n\r1168/1168 [==============================] - 0s 7us/step - loss: 0.9850 - acc: 0.0000e+00 - val_loss: 1.0635 - val_acc: 0.0000e+00\n"
     ]
    },
    {
     "name": "stdout",
     "output_type": "stream",
     "text": [
      "\nEpoch 00117: val_loss did not improve from 1.06348\nEpoch 118/500\n"
     ]
    },
    {
     "name": "stdout",
     "output_type": "stream",
     "text": [
      "\r1168/1168 [==============================] - 0s 8us/step - loss: 0.9883 - acc: 0.0000e+00 - val_loss: 1.0635 - val_acc: 0.0000e+00\n"
     ]
    },
    {
     "name": "stdout",
     "output_type": "stream",
     "text": [
      "\nEpoch 00118: val_loss did not improve from 1.06348\nEpoch 119/500\n"
     ]
    },
    {
     "name": "stdout",
     "output_type": "stream",
     "text": [
      "\r1168/1168 [==============================] - 0s 6us/step - loss: 0.9809 - acc: 0.0000e+00 - val_loss: 1.0635 - val_acc: 0.0000e+00\n"
     ]
    },
    {
     "name": "stdout",
     "output_type": "stream",
     "text": [
      "\nEpoch 00119: val_loss did not improve from 1.06348\nEpoch 120/500\n"
     ]
    },
    {
     "name": "stdout",
     "output_type": "stream",
     "text": [
      "\r1168/1168 [==============================] - 0s 9us/step - loss: 0.9846 - acc: 0.0000e+00 - val_loss: 1.0635 - val_acc: 0.0000e+00\n"
     ]
    },
    {
     "name": "stdout",
     "output_type": "stream",
     "text": [
      "\nEpoch 00120: val_loss did not improve from 1.06348\nEpoch 121/500\n\r1168/1168 [==============================] - 0s 9us/step - loss: 0.9831 - acc: 0.0000e+00 - val_loss: 1.0635 - val_acc: 0.0000e+00\n"
     ]
    },
    {
     "name": "stdout",
     "output_type": "stream",
     "text": [
      "\nEpoch 00121: val_loss did not improve from 1.06348\nEpoch 122/500\n"
     ]
    },
    {
     "name": "stdout",
     "output_type": "stream",
     "text": [
      "\r1168/1168 [==============================] - 0s 9us/step - loss: 0.9836 - acc: 0.0000e+00 - val_loss: 1.0635 - val_acc: 0.0000e+00\n"
     ]
    },
    {
     "name": "stdout",
     "output_type": "stream",
     "text": [
      "\nEpoch 00122: val_loss did not improve from 1.06348\nEpoch 123/500\n"
     ]
    },
    {
     "name": "stdout",
     "output_type": "stream",
     "text": [
      "\r1168/1168 [==============================] - 0s 8us/step - loss: 0.9842 - acc: 0.0000e+00 - val_loss: 1.0635 - val_acc: 0.0000e+00\n"
     ]
    },
    {
     "name": "stdout",
     "output_type": "stream",
     "text": [
      "\nEpoch 00123: val_loss did not improve from 1.06348\nEpoch 124/500\n"
     ]
    },
    {
     "name": "stdout",
     "output_type": "stream",
     "text": [
      "\r1168/1168 [==============================] - 0s 8us/step - loss: 0.9845 - acc: 0.0000e+00 - val_loss: 1.0635 - val_acc: 0.0000e+00\n"
     ]
    },
    {
     "name": "stdout",
     "output_type": "stream",
     "text": [
      "\nEpoch 00124: val_loss did not improve from 1.06348\nEpoch 125/500\n\r1168/1168 [==============================] - 0s 9us/step - loss: 0.9832 - acc: 0.0000e+00 - val_loss: 1.0635 - val_acc: 0.0000e+00\n"
     ]
    },
    {
     "name": "stdout",
     "output_type": "stream",
     "text": [
      "\nEpoch 00125: val_loss did not improve from 1.06348\nEpoch 126/500\n\r1168/1168 [==============================] - 0s 7us/step - loss: 0.9850 - acc: 0.0000e+00 - val_loss: 1.0635 - val_acc: 0.0000e+00\n"
     ]
    },
    {
     "name": "stdout",
     "output_type": "stream",
     "text": [
      "\nEpoch 00126: val_loss did not improve from 1.06348\nEpoch 127/500\n"
     ]
    },
    {
     "name": "stdout",
     "output_type": "stream",
     "text": [
      "\r1168/1168 [==============================] - 0s 8us/step - loss: 0.9844 - acc: 0.0000e+00 - val_loss: 1.0635 - val_acc: 0.0000e+00\n"
     ]
    },
    {
     "name": "stdout",
     "output_type": "stream",
     "text": [
      "\nEpoch 00127: val_loss did not improve from 1.06348\nEpoch 128/500\n"
     ]
    },
    {
     "name": "stdout",
     "output_type": "stream",
     "text": [
      "\r1168/1168 [==============================] - 0s 9us/step - loss: 0.9839 - acc: 0.0000e+00 - val_loss: 1.0635 - val_acc: 0.0000e+00\n"
     ]
    },
    {
     "name": "stdout",
     "output_type": "stream",
     "text": [
      "\nEpoch 00128: val_loss did not improve from 1.06348\nEpoch 129/500\n\r1168/1168 [==============================] - 0s 8us/step - loss: 0.9836 - acc: 0.0000e+00 - val_loss: 1.0635 - val_acc: 0.0000e+00\n"
     ]
    },
    {
     "name": "stdout",
     "output_type": "stream",
     "text": [
      "\nEpoch 00129: val_loss did not improve from 1.06348\nEpoch 130/500\n"
     ]
    },
    {
     "name": "stdout",
     "output_type": "stream",
     "text": [
      "\r1168/1168 [==============================] - 0s 8us/step - loss: 0.9848 - acc: 0.0000e+00 - val_loss: 1.0635 - val_acc: 0.0000e+00\n"
     ]
    },
    {
     "name": "stdout",
     "output_type": "stream",
     "text": [
      "\nEpoch 00130: val_loss did not improve from 1.06348\nEpoch 131/500\n"
     ]
    },
    {
     "name": "stdout",
     "output_type": "stream",
     "text": [
      "\r1168/1168 [==============================] - 0s 8us/step - loss: 0.9841 - acc: 0.0000e+00 - val_loss: 1.0635 - val_acc: 0.0000e+00\n"
     ]
    },
    {
     "name": "stdout",
     "output_type": "stream",
     "text": [
      "\nEpoch 00131: val_loss did not improve from 1.06348\nEpoch 132/500\n\r1168/1168 [==============================] - 0s 8us/step - loss: 0.9825 - acc: 0.0000e+00 - val_loss: 1.0635 - val_acc: 0.0000e+00\n"
     ]
    },
    {
     "name": "stdout",
     "output_type": "stream",
     "text": [
      "\nEpoch 00132: val_loss did not improve from 1.06348\nEpoch 133/500\n\r1168/1168 [==============================] - 0s 7us/step - loss: 0.9875 - acc: 0.0000e+00 - val_loss: 1.0635 - val_acc: 0.0000e+00\n"
     ]
    },
    {
     "name": "stdout",
     "output_type": "stream",
     "text": [
      "\nEpoch 00133: val_loss did not improve from 1.06348\nEpoch 134/500\n"
     ]
    },
    {
     "name": "stdout",
     "output_type": "stream",
     "text": [
      "\r1168/1168 [==============================] - 0s 8us/step - loss: 0.9847 - acc: 0.0000e+00 - val_loss: 1.0635 - val_acc: 0.0000e+00\n"
     ]
    },
    {
     "name": "stdout",
     "output_type": "stream",
     "text": [
      "\nEpoch 00134: val_loss did not improve from 1.06348\nEpoch 135/500\n"
     ]
    },
    {
     "name": "stdout",
     "output_type": "stream",
     "text": [
      "\r1168/1168 [==============================] - 0s 8us/step - loss: 0.9860 - acc: 0.0000e+00 - val_loss: 1.0635 - val_acc: 0.0000e+00\n"
     ]
    },
    {
     "name": "stdout",
     "output_type": "stream",
     "text": [
      "\nEpoch 00135: val_loss did not improve from 1.06348\nEpoch 136/500\n\r1168/1168 [==============================] - 0s 9us/step - loss: 0.9849 - acc: 0.0000e+00 - val_loss: 1.0635 - val_acc: 0.0000e+00\n"
     ]
    },
    {
     "name": "stdout",
     "output_type": "stream",
     "text": [
      "\nEpoch 00136: val_loss did not improve from 1.06348"
     ]
    },
    {
     "name": "stdout",
     "output_type": "stream",
     "text": [
      "\nEpoch 137/500\n\r1168/1168 [==============================] - 0s 9us/step - loss: 0.9842 - acc: 0.0000e+00 - val_loss: 1.0635 - val_acc: 0.0000e+00\n"
     ]
    },
    {
     "name": "stdout",
     "output_type": "stream",
     "text": [
      "\nEpoch 00137: val_loss did not improve from 1.06348\nEpoch 138/500\n"
     ]
    },
    {
     "name": "stdout",
     "output_type": "stream",
     "text": [
      "\r1168/1168 [==============================] - 0s 9us/step - loss: 0.9843 - acc: 0.0000e+00 - val_loss: 1.0635 - val_acc: 0.0000e+00\n"
     ]
    },
    {
     "name": "stdout",
     "output_type": "stream",
     "text": [
      "\nEpoch 00138: val_loss did not improve from 1.06348\nEpoch 139/500\n"
     ]
    },
    {
     "name": "stdout",
     "output_type": "stream",
     "text": [
      "\r1168/1168 [==============================] - 0s 8us/step - loss: 0.9848 - acc: 0.0000e+00 - val_loss: 1.0635 - val_acc: 0.0000e+00\n"
     ]
    },
    {
     "name": "stdout",
     "output_type": "stream",
     "text": [
      "\nEpoch 00139: val_loss did not improve from 1.06348\nEpoch 140/500\n"
     ]
    },
    {
     "name": "stdout",
     "output_type": "stream",
     "text": [
      "\r1168/1168 [==============================] - 0s 7us/step - loss: 0.9850 - acc: 0.0000e+00 - val_loss: 1.0635 - val_acc: 0.0000e+00\n"
     ]
    },
    {
     "name": "stdout",
     "output_type": "stream",
     "text": [
      "\nEpoch 00140: val_loss did not improve from 1.06348\nEpoch 141/500\n\r1168/1168 [==============================] - 0s 9us/step - loss: 0.9844 - acc: 0.0000e+00 - val_loss: 1.0635 - val_acc: 0.0000e+00\n"
     ]
    },
    {
     "name": "stdout",
     "output_type": "stream",
     "text": [
      "\nEpoch 00141: val_loss did not improve from 1.06348\nEpoch 142/500\n"
     ]
    },
    {
     "name": "stdout",
     "output_type": "stream",
     "text": [
      "\r1168/1168 [==============================] - 0s 7us/step - loss: 0.9844 - acc: 0.0000e+00 - val_loss: 1.0635 - val_acc: 0.0000e+00\n"
     ]
    },
    {
     "name": "stdout",
     "output_type": "stream",
     "text": [
      "\nEpoch 00142: val_loss did not improve from 1.06348\nEpoch 143/500\n"
     ]
    },
    {
     "name": "stdout",
     "output_type": "stream",
     "text": [
      "\r1168/1168 [==============================] - 0s 9us/step - loss: 0.9847 - acc: 0.0000e+00 - val_loss: 1.0635 - val_acc: 0.0000e+00\n"
     ]
    },
    {
     "name": "stdout",
     "output_type": "stream",
     "text": [
      "\nEpoch 00143: val_loss did not improve from 1.06348\nEpoch 144/500\n\r1168/1168 [==============================] - 0s 9us/step - loss: 0.9802 - acc: 0.0000e+00 - val_loss: 1.0635 - val_acc: 0.0000e+00\n"
     ]
    },
    {
     "name": "stdout",
     "output_type": "stream",
     "text": [
      "\nEpoch 00144: val_loss did not improve from 1.06348\nEpoch 145/500\n\r1168/1168 [==============================] - 0s 7us/step - loss: 0.9853 - acc: 0.0000e+00 - val_loss: 1.0635 - val_acc: 0.0000e+00\n"
     ]
    },
    {
     "name": "stdout",
     "output_type": "stream",
     "text": [
      "\nEpoch 00145: val_loss did not improve from 1.06348\nEpoch 146/500\n"
     ]
    },
    {
     "name": "stdout",
     "output_type": "stream",
     "text": [
      "\r1168/1168 [==============================] - 0s 7us/step - loss: 0.9841 - acc: 0.0000e+00 - val_loss: 1.0635 - val_acc: 0.0000e+00\n"
     ]
    },
    {
     "name": "stdout",
     "output_type": "stream",
     "text": [
      "\nEpoch 00146: val_loss did not improve from 1.06348\nEpoch 147/500\n\r1168/1168 [==============================] - 0s 8us/step - loss: 0.9838 - acc: 0.0000e+00 - val_loss: 1.0635 - val_acc: 0.0000e+00\n"
     ]
    },
    {
     "name": "stdout",
     "output_type": "stream",
     "text": [
      "\nEpoch 00147: val_loss did not improve from 1.06348\nEpoch 148/500\n\r1168/1168 [==============================] - 0s 7us/step - loss: 0.9847 - acc: 0.0000e+00 - val_loss: 1.0635 - val_acc: 0.0000e+00\n"
     ]
    },
    {
     "name": "stdout",
     "output_type": "stream",
     "text": [
      "\nEpoch 00148: val_loss did not improve from 1.06348\nEpoch 149/500\n"
     ]
    },
    {
     "name": "stdout",
     "output_type": "stream",
     "text": [
      "\r1168/1168 [==============================] - 0s 6us/step - loss: 0.9842 - acc: 0.0000e+00 - val_loss: 1.0635 - val_acc: 0.0000e+00\n"
     ]
    },
    {
     "name": "stdout",
     "output_type": "stream",
     "text": [
      "\nEpoch 00149: val_loss did not improve from 1.06348\nEpoch 150/500\n\r1168/1168 [==============================] - 0s 8us/step - loss: 0.9848 - acc: 0.0000e+00 - val_loss: 1.0635 - val_acc: 0.0000e+00\n"
     ]
    },
    {
     "name": "stdout",
     "output_type": "stream",
     "text": [
      "\nEpoch 00150: val_loss did not improve from 1.06348\nEpoch 151/500\n"
     ]
    },
    {
     "name": "stdout",
     "output_type": "stream",
     "text": [
      "\r1168/1168 [==============================] - 0s 8us/step - loss: 0.9843 - acc: 0.0000e+00 - val_loss: 1.0635 - val_acc: 0.0000e+00\n"
     ]
    },
    {
     "name": "stdout",
     "output_type": "stream",
     "text": [
      "\nEpoch 00151: val_loss did not improve from 1.06348\nEpoch 152/500\n"
     ]
    },
    {
     "name": "stdout",
     "output_type": "stream",
     "text": [
      "\r1168/1168 [==============================] - 0s 9us/step - loss: 0.9847 - acc: 0.0000e+00 - val_loss: 1.0635 - val_acc: 0.0000e+00\n"
     ]
    },
    {
     "name": "stdout",
     "output_type": "stream",
     "text": [
      "\nEpoch 00152: val_loss did not improve from 1.06348\nEpoch 153/500\n"
     ]
    },
    {
     "name": "stdout",
     "output_type": "stream",
     "text": [
      "\r1168/1168 [==============================] - 0s 8us/step - loss: 0.9851 - acc: 0.0000e+00 - val_loss: 1.0635 - val_acc: 0.0000e+00\n"
     ]
    },
    {
     "name": "stdout",
     "output_type": "stream",
     "text": [
      "\nEpoch 00153: val_loss did not improve from 1.06348\nEpoch 154/500\n"
     ]
    },
    {
     "name": "stdout",
     "output_type": "stream",
     "text": [
      "\r1168/1168 [==============================] - 0s 11us/step - loss: 0.9823 - acc: 0.0000e+00 - val_loss: 1.0635 - val_acc: 0.0000e+00\n"
     ]
    },
    {
     "name": "stdout",
     "output_type": "stream",
     "text": [
      "\nEpoch 00154: val_loss did not improve from 1.06348\nEpoch 155/500\n\r1168/1168 [==============================] - 0s 8us/step - loss: 0.9844 - acc: 0.0000e+00 - val_loss: 1.0635 - val_acc: 0.0000e+00\n"
     ]
    },
    {
     "name": "stdout",
     "output_type": "stream",
     "text": [
      "\nEpoch 00155: val_loss did not improve from 1.06348\nEpoch 156/500\n\r1168/1168 [==============================] - 0s 7us/step - loss: 0.9875 - acc: 0.0000e+00 - val_loss: 1.0635 - val_acc: 0.0000e+00\n"
     ]
    },
    {
     "name": "stdout",
     "output_type": "stream",
     "text": [
      "\nEpoch 00156: val_loss did not improve from 1.06348\nEpoch 157/500\n"
     ]
    },
    {
     "name": "stdout",
     "output_type": "stream",
     "text": [
      "\r1168/1168 [==============================] - 0s 9us/step - loss: 0.9858 - acc: 0.0000e+00 - val_loss: 1.0635 - val_acc: 0.0000e+00\n"
     ]
    },
    {
     "name": "stdout",
     "output_type": "stream",
     "text": [
      "\nEpoch 00157: val_loss did not improve from 1.06348\nEpoch 158/500\n"
     ]
    },
    {
     "name": "stdout",
     "output_type": "stream",
     "text": [
      "\r1168/1168 [==============================] - 0s 8us/step - loss: 0.9846 - acc: 0.0000e+00 - val_loss: 1.0635 - val_acc: 0.0000e+00\n"
     ]
    },
    {
     "name": "stdout",
     "output_type": "stream",
     "text": [
      "\nEpoch 00158: val_loss did not improve from 1.06348\nEpoch 159/500\n"
     ]
    },
    {
     "name": "stdout",
     "output_type": "stream",
     "text": [
      "\r1168/1168 [==============================] - 0s 7us/step - loss: 0.9847 - acc: 0.0000e+00 - val_loss: 1.0635 - val_acc: 0.0000e+00\n"
     ]
    },
    {
     "name": "stdout",
     "output_type": "stream",
     "text": [
      "\nEpoch 00159: val_loss did not improve from 1.06348\nEpoch 160/500\n\r1168/1168 [==============================] - 0s 9us/step - loss: 0.9843 - acc: 0.0000e+00 - val_loss: 1.0635 - val_acc: 0.0000e+00\n"
     ]
    },
    {
     "name": "stdout",
     "output_type": "stream",
     "text": [
      "\nEpoch 00160: val_loss did not improve from 1.06348\nEpoch 161/500\n\r1168/1168 [==============================] - 0s 10us/step - loss: 0.9893 - acc: 0.0000e+00 - val_loss: 1.0635 - val_acc: 0.0000e+00\n"
     ]
    },
    {
     "name": "stdout",
     "output_type": "stream",
     "text": [
      "\nEpoch 00161: val_loss did not improve from 1.06348\nEpoch 162/500"
     ]
    },
    {
     "name": "stdout",
     "output_type": "stream",
     "text": [
      "\n\r1168/1168 [==============================] - 0s 9us/step - loss: 0.9831 - acc: 0.0000e+00 - val_loss: 1.0635 - val_acc: 0.0000e+00\n"
     ]
    },
    {
     "name": "stdout",
     "output_type": "stream",
     "text": [
      "\nEpoch 00162: val_loss did not improve from 1.06348\nEpoch 163/500\n"
     ]
    },
    {
     "name": "stdout",
     "output_type": "stream",
     "text": [
      "\r1168/1168 [==============================] - 0s 9us/step - loss: 0.9857 - acc: 0.0000e+00 - val_loss: 1.0635 - val_acc: 0.0000e+00\n"
     ]
    },
    {
     "name": "stdout",
     "output_type": "stream",
     "text": [
      "\nEpoch 00163: val_loss did not improve from 1.06348\nEpoch 164/500\n"
     ]
    },
    {
     "name": "stdout",
     "output_type": "stream",
     "text": [
      "\r1168/1168 [==============================] - 0s 8us/step - loss: 0.9847 - acc: 0.0000e+00 - val_loss: 1.0635 - val_acc: 0.0000e+00\n"
     ]
    },
    {
     "name": "stdout",
     "output_type": "stream",
     "text": [
      "\nEpoch 00164: val_loss did not improve from 1.06348\nEpoch 165/500\n\r1168/1168 [==============================] - 0s 7us/step - loss: 0.9835 - acc: 0.0000e+00 - val_loss: 1.0635 - val_acc: 0.0000e+00\n"
     ]
    },
    {
     "name": "stdout",
     "output_type": "stream",
     "text": [
      "\nEpoch 00165: val_loss did not improve from 1.06348\nEpoch 166/500\n"
     ]
    },
    {
     "name": "stdout",
     "output_type": "stream",
     "text": [
      "\r1168/1168 [==============================] - 0s 9us/step - loss: 0.9849 - acc: 0.0000e+00 - val_loss: 1.0635 - val_acc: 0.0000e+00\n"
     ]
    },
    {
     "name": "stdout",
     "output_type": "stream",
     "text": [
      "\nEpoch 00166: val_loss did not improve from 1.06348\nEpoch 167/500\n"
     ]
    },
    {
     "name": "stdout",
     "output_type": "stream",
     "text": [
      "\r1168/1168 [==============================] - 0s 8us/step - loss: 0.9834 - acc: 0.0000e+00 - val_loss: 1.0635 - val_acc: 0.0000e+00\n"
     ]
    },
    {
     "name": "stdout",
     "output_type": "stream",
     "text": [
      "\nEpoch 00167: val_loss did not improve from 1.06348\nEpoch 168/500\n"
     ]
    },
    {
     "name": "stdout",
     "output_type": "stream",
     "text": [
      "\r1168/1168 [==============================] - 0s 9us/step - loss: 0.9836 - acc: 0.0000e+00 - val_loss: 1.0635 - val_acc: 0.0000e+00\n"
     ]
    },
    {
     "name": "stdout",
     "output_type": "stream",
     "text": [
      "\nEpoch 00168: val_loss did not improve from 1.06348\nEpoch 169/500\n\r1168/1168 [==============================] - 0s 8us/step - loss: 0.9845 - acc: 0.0000e+00 - val_loss: 1.0635 - val_acc: 0.0000e+00\n"
     ]
    },
    {
     "name": "stdout",
     "output_type": "stream",
     "text": [
      "\nEpoch 00169: val_loss did not improve from 1.06348\nEpoch 170/500\n"
     ]
    },
    {
     "name": "stdout",
     "output_type": "stream",
     "text": [
      "\r1168/1168 [==============================] - 0s 8us/step - loss: 0.9836 - acc: 0.0000e+00 - val_loss: 1.0635 - val_acc: 0.0000e+00\n"
     ]
    },
    {
     "name": "stdout",
     "output_type": "stream",
     "text": [
      "\nEpoch 00170: val_loss did not improve from 1.06348\nEpoch 171/500\n"
     ]
    },
    {
     "name": "stdout",
     "output_type": "stream",
     "text": [
      "\r1168/1168 [==============================] - 0s 9us/step - loss: 0.9845 - acc: 0.0000e+00 - val_loss: 1.0635 - val_acc: 0.0000e+00\n"
     ]
    },
    {
     "name": "stdout",
     "output_type": "stream",
     "text": [
      "\nEpoch 00171: val_loss did not improve from 1.06348\nEpoch 172/500\n\r1168/1168 [==============================] - 0s 8us/step - loss: 0.9843 - acc: 0.0000e+00 - val_loss: 1.0635 - val_acc: 0.0000e+00\n"
     ]
    },
    {
     "name": "stdout",
     "output_type": "stream",
     "text": [
      "\nEpoch 00172: val_loss did not improve from 1.06348\nEpoch 173/500\n"
     ]
    },
    {
     "name": "stdout",
     "output_type": "stream",
     "text": [
      "\r1168/1168 [==============================] - 0s 9us/step - loss: 0.9841 - acc: 0.0000e+00 - val_loss: 1.0635 - val_acc: 0.0000e+00\n"
     ]
    },
    {
     "name": "stdout",
     "output_type": "stream",
     "text": [
      "\nEpoch 00173: val_loss did not improve from 1.06348\nEpoch 174/500\n"
     ]
    },
    {
     "name": "stdout",
     "output_type": "stream",
     "text": [
      "\r1168/1168 [==============================] - 0s 8us/step - loss: 0.9825 - acc: 0.0000e+00 - val_loss: 1.0635 - val_acc: 0.0000e+00\n"
     ]
    },
    {
     "name": "stdout",
     "output_type": "stream",
     "text": [
      "\nEpoch 00174: val_loss did not improve from 1.06348\nEpoch 175/500\n"
     ]
    },
    {
     "name": "stdout",
     "output_type": "stream",
     "text": [
      "\r1168/1168 [==============================] - 0s 9us/step - loss: 0.9818 - acc: 0.0000e+00 - val_loss: 1.0635 - val_acc: 0.0000e+00\n"
     ]
    },
    {
     "name": "stdout",
     "output_type": "stream",
     "text": [
      "\nEpoch 00175: val_loss did not improve from 1.06348\nEpoch 176/500\n\r1168/1168 [==============================] - 0s 8us/step - loss: 0.9854 - acc: 0.0000e+00 - val_loss: 1.0635 - val_acc: 0.0000e+00\n"
     ]
    },
    {
     "name": "stdout",
     "output_type": "stream",
     "text": [
      "\nEpoch 00176: val_loss did not improve from 1.06348\nEpoch 177/500\n"
     ]
    },
    {
     "name": "stdout",
     "output_type": "stream",
     "text": [
      "\r1168/1168 [==============================] - 0s 8us/step - loss: 0.9843 - acc: 0.0000e+00 - val_loss: 1.0635 - val_acc: 0.0000e+00\n"
     ]
    },
    {
     "name": "stdout",
     "output_type": "stream",
     "text": [
      "\nEpoch 00177: val_loss did not improve from 1.06348\nEpoch 178/500\n"
     ]
    },
    {
     "name": "stdout",
     "output_type": "stream",
     "text": [
      "\r1168/1168 [==============================] - 0s 7us/step - loss: 0.9841 - acc: 0.0000e+00 - val_loss: 1.0635 - val_acc: 0.0000e+00\n"
     ]
    },
    {
     "name": "stdout",
     "output_type": "stream",
     "text": [
      "\nEpoch 00178: val_loss did not improve from 1.06348\nEpoch 179/500\n"
     ]
    },
    {
     "name": "stdout",
     "output_type": "stream",
     "text": [
      "\r1168/1168 [==============================] - 0s 8us/step - loss: 0.9834 - acc: 0.0000e+00 - val_loss: 1.0635 - val_acc: 0.0000e+00\n"
     ]
    },
    {
     "name": "stdout",
     "output_type": "stream",
     "text": [
      "\nEpoch 00179: val_loss did not improve from 1.06348\nEpoch 180/500\n\r1168/1168 [==============================] - 0s 8us/step - loss: 0.9844 - acc: 0.0000e+00 - val_loss: 1.0635 - val_acc: 0.0000e+00\n"
     ]
    },
    {
     "name": "stdout",
     "output_type": "stream",
     "text": [
      "\nEpoch 00180: val_loss did not improve from 1.06348\nEpoch 181/500\n"
     ]
    },
    {
     "name": "stdout",
     "output_type": "stream",
     "text": [
      "\r1168/1168 [==============================] - 0s 8us/step - loss: 0.9839 - acc: 0.0000e+00 - val_loss: 1.0635 - val_acc: 0.0000e+00\n"
     ]
    },
    {
     "name": "stdout",
     "output_type": "stream",
     "text": [
      "\nEpoch 00181: val_loss did not improve from 1.06348\nEpoch 182/500\n"
     ]
    },
    {
     "name": "stdout",
     "output_type": "stream",
     "text": [
      "\r1168/1168 [==============================] - 0s 7us/step - loss: 0.9842 - acc: 0.0000e+00 - val_loss: 1.0635 - val_acc: 0.0000e+00\n"
     ]
    },
    {
     "name": "stdout",
     "output_type": "stream",
     "text": [
      "\nEpoch 00182: val_loss did not improve from 1.06348\nEpoch 183/500\n\r1168/1168 [==============================] - 0s 8us/step - loss: 0.9848 - acc: 0.0000e+00 - val_loss: 1.0635 - val_acc: 0.0000e+00\n"
     ]
    },
    {
     "name": "stdout",
     "output_type": "stream",
     "text": [
      "\nEpoch 00183: val_loss did not improve from 1.06348\nEpoch 184/500\n"
     ]
    },
    {
     "name": "stdout",
     "output_type": "stream",
     "text": [
      "\r1168/1168 [==============================] - 0s 8us/step - loss: 0.9824 - acc: 0.0000e+00 - val_loss: 1.0635 - val_acc: 0.0000e+00\n"
     ]
    },
    {
     "name": "stdout",
     "output_type": "stream",
     "text": [
      "\nEpoch 00184: val_loss did not improve from 1.06348\nEpoch 185/500\n"
     ]
    },
    {
     "name": "stdout",
     "output_type": "stream",
     "text": [
      "\r1168/1168 [==============================] - 0s 6us/step - loss: 0.9849 - acc: 0.0000e+00 - val_loss: 1.0635 - val_acc: 0.0000e+00\n"
     ]
    },
    {
     "name": "stdout",
     "output_type": "stream",
     "text": [
      "\nEpoch 00185: val_loss did not improve from 1.06348\nEpoch 186/500\n\r1168/1168 [==============================] - 0s 9us/step - loss: 0.9841 - acc: 0.0000e+00 - val_loss: 1.0635 - val_acc: 0.0000e+00\n"
     ]
    },
    {
     "name": "stdout",
     "output_type": "stream",
     "text": [
      "\nEpoch 00186: val_loss did not improve from 1.06348\nEpoch 187/500\n"
     ]
    },
    {
     "name": "stdout",
     "output_type": "stream",
     "text": [
      "\r1168/1168 [==============================] - 0s 9us/step - loss: 0.9865 - acc: 0.0000e+00 - val_loss: 1.0635 - val_acc: 0.0000e+00\n"
     ]
    },
    {
     "name": "stdout",
     "output_type": "stream",
     "text": [
      "\nEpoch 00187: val_loss did not improve from 1.06348\nEpoch 188/500\n"
     ]
    },
    {
     "name": "stdout",
     "output_type": "stream",
     "text": [
      "\r1168/1168 [==============================] - 0s 8us/step - loss: 0.9841 - acc: 0.0000e+00 - val_loss: 1.0635 - val_acc: 0.0000e+00\n"
     ]
    },
    {
     "name": "stdout",
     "output_type": "stream",
     "text": [
      "\nEpoch 00188: val_loss did not improve from 1.06348\nEpoch 189/500\n"
     ]
    },
    {
     "name": "stdout",
     "output_type": "stream",
     "text": [
      "\r1168/1168 [==============================] - 0s 7us/step - loss: 0.9865 - acc: 0.0000e+00 - val_loss: 1.0635 - val_acc: 0.0000e+00\n"
     ]
    },
    {
     "name": "stdout",
     "output_type": "stream",
     "text": [
      "\nEpoch 00189: val_loss did not improve from 1.06348\nEpoch 190/500\n\r1168/1168 [==============================] - 0s 8us/step - loss: 0.9840 - acc: 0.0000e+00 - val_loss: 1.0635 - val_acc: 0.0000e+00\n"
     ]
    },
    {
     "name": "stdout",
     "output_type": "stream",
     "text": [
      "\nEpoch 00190: val_loss did not improve from 1.06348\nEpoch 191/500\n"
     ]
    },
    {
     "name": "stdout",
     "output_type": "stream",
     "text": [
      "\r1168/1168 [==============================] - 0s 9us/step - loss: 0.9843 - acc: 0.0000e+00 - val_loss: 1.0635 - val_acc: 0.0000e+00\n"
     ]
    },
    {
     "name": "stdout",
     "output_type": "stream",
     "text": [
      "\nEpoch 00191: val_loss did not improve from 1.06348\nEpoch 192/500\n"
     ]
    },
    {
     "name": "stdout",
     "output_type": "stream",
     "text": [
      "\r1168/1168 [==============================] - 0s 8us/step - loss: 0.9841 - acc: 0.0000e+00 - val_loss: 1.0635 - val_acc: 0.0000e+00\n"
     ]
    },
    {
     "name": "stdout",
     "output_type": "stream",
     "text": [
      "\nEpoch 00192: val_loss did not improve from 1.06348\nEpoch 193/500\n"
     ]
    },
    {
     "name": "stdout",
     "output_type": "stream",
     "text": [
      "\r1168/1168 [==============================] - 0s 8us/step - loss: 0.9838 - acc: 0.0000e+00 - val_loss: 1.0635 - val_acc: 0.0000e+00\n"
     ]
    },
    {
     "name": "stdout",
     "output_type": "stream",
     "text": [
      "\nEpoch 00193: val_loss did not improve from 1.06348\nEpoch 194/500\n\r1168/1168 [==============================] - 0s 8us/step - loss: 0.9840 - acc: 0.0000e+00 - val_loss: 1.0635 - val_acc: 0.0000e+00\n"
     ]
    },
    {
     "name": "stdout",
     "output_type": "stream",
     "text": [
      "\nEpoch 00194: val_loss did not improve from 1.06348\nEpoch 195/500\n"
     ]
    },
    {
     "name": "stdout",
     "output_type": "stream",
     "text": [
      "\r1168/1168 [==============================] - 0s 7us/step - loss: 0.9836 - acc: 0.0000e+00 - val_loss: 1.0635 - val_acc: 0.0000e+00\n"
     ]
    },
    {
     "name": "stdout",
     "output_type": "stream",
     "text": [
      "\nEpoch 00195: val_loss did not improve from 1.06348\nEpoch 196/500\n"
     ]
    },
    {
     "name": "stdout",
     "output_type": "stream",
     "text": [
      "\r1168/1168 [==============================] - 0s 12us/step - loss: 0.9839 - acc: 0.0000e+00 - val_loss: 1.0635 - val_acc: 0.0000e+00\n"
     ]
    },
    {
     "name": "stdout",
     "output_type": "stream",
     "text": [
      "\nEpoch 00196: val_loss did not improve from 1.06348\nEpoch 197/500\n"
     ]
    },
    {
     "name": "stdout",
     "output_type": "stream",
     "text": [
      "\r1168/1168 [==============================] - 0s 8us/step - loss: 0.9846 - acc: 0.0000e+00 - val_loss: 1.0635 - val_acc: 0.0000e+00\n"
     ]
    },
    {
     "name": "stdout",
     "output_type": "stream",
     "text": [
      "\nEpoch 00197: val_loss did not improve from 1.06348\nEpoch 198/500\n\r1168/1168 [==============================] - 0s 9us/step - loss: 0.9839 - acc: 0.0000e+00 - val_loss: 1.0635 - val_acc: 0.0000e+00\n"
     ]
    },
    {
     "name": "stdout",
     "output_type": "stream",
     "text": [
      "\nEpoch 00198: val_loss did not improve from 1.06348\nEpoch 199/500\n"
     ]
    },
    {
     "name": "stdout",
     "output_type": "stream",
     "text": [
      "\r1168/1168 [==============================] - 0s 8us/step - loss: 0.9840 - acc: 0.0000e+00 - val_loss: 1.0635 - val_acc: 0.0000e+00\n"
     ]
    },
    {
     "name": "stdout",
     "output_type": "stream",
     "text": [
      "\nEpoch 00199: val_loss did not improve from 1.06348\nEpoch 200/500\n"
     ]
    },
    {
     "name": "stdout",
     "output_type": "stream",
     "text": [
      "\r1168/1168 [==============================] - 0s 8us/step - loss: 0.9808 - acc: 0.0000e+00 - val_loss: 1.0635 - val_acc: 0.0000e+00\n"
     ]
    },
    {
     "name": "stdout",
     "output_type": "stream",
     "text": [
      "\nEpoch 00200: val_loss did not improve from 1.06348\nEpoch 201/500\n"
     ]
    },
    {
     "name": "stdout",
     "output_type": "stream",
     "text": [
      "\r1168/1168 [==============================] - 0s 9us/step - loss: 0.9844 - acc: 0.0000e+00 - val_loss: 1.0635 - val_acc: 0.0000e+00\n"
     ]
    },
    {
     "name": "stdout",
     "output_type": "stream",
     "text": [
      "\nEpoch 00201: val_loss did not improve from 1.06348\nEpoch 202/500\n"
     ]
    },
    {
     "name": "stdout",
     "output_type": "stream",
     "text": [
      "\r1168/1168 [==============================] - 0s 7us/step - loss: 0.9841 - acc: 0.0000e+00 - val_loss: 1.0635 - val_acc: 0.0000e+00\n"
     ]
    },
    {
     "name": "stdout",
     "output_type": "stream",
     "text": [
      "\nEpoch 00202: val_loss did not improve from 1.06348\nEpoch 203/500\n\r1168/1168 [==============================] - 0s 7us/step - loss: 0.9851 - acc: 0.0000e+00 - val_loss: 1.0635 - val_acc: 0.0000e+00\n"
     ]
    },
    {
     "name": "stdout",
     "output_type": "stream",
     "text": [
      "\nEpoch 00203: val_loss did not improve from 1.06348"
     ]
    },
    {
     "name": "stdout",
     "output_type": "stream",
     "text": [
      "\nEpoch 204/500\n\r1168/1168 [==============================] - 0s 9us/step - loss: 0.9842 - acc: 0.0000e+00 - val_loss: 1.0635 - val_acc: 0.0000e+00\n"
     ]
    },
    {
     "name": "stdout",
     "output_type": "stream",
     "text": [
      "\nEpoch 00204: val_loss did not improve from 1.06348\nEpoch 205/500\n"
     ]
    },
    {
     "name": "stdout",
     "output_type": "stream",
     "text": [
      "\r1168/1168 [==============================] - 0s 7us/step - loss: 0.9842 - acc: 0.0000e+00 - val_loss: 1.0635 - val_acc: 0.0000e+00\n"
     ]
    },
    {
     "name": "stdout",
     "output_type": "stream",
     "text": [
      "\nEpoch 00205: val_loss did not improve from 1.06348\nEpoch 206/500\n"
     ]
    },
    {
     "name": "stdout",
     "output_type": "stream",
     "text": [
      "\r1168/1168 [==============================] - 0s 9us/step - loss: 0.9833 - acc: 0.0000e+00 - val_loss: 1.0635 - val_acc: 0.0000e+00\n"
     ]
    },
    {
     "name": "stdout",
     "output_type": "stream",
     "text": [
      "\nEpoch 00206: val_loss did not improve from 1.06348\nEpoch 207/500\n"
     ]
    },
    {
     "name": "stdout",
     "output_type": "stream",
     "text": [
      "\r1168/1168 [==============================] - 0s 8us/step - loss: 0.9842 - acc: 0.0000e+00 - val_loss: 1.0635 - val_acc: 0.0000e+00\n"
     ]
    },
    {
     "name": "stdout",
     "output_type": "stream",
     "text": [
      "\nEpoch 00207: val_loss did not improve from 1.06348\nEpoch 208/500\n\r1168/1168 [==============================] - 0s 8us/step - loss: 0.9841 - acc: 0.0000e+00 - val_loss: 1.0635 - val_acc: 0.0000e+00\n"
     ]
    },
    {
     "name": "stdout",
     "output_type": "stream",
     "text": [
      "\nEpoch 00208: val_loss did not improve from 1.06348\nEpoch 209/500\n\r1168/1168 [==============================] - 0s 7us/step - loss: 0.9847 - acc: 0.0000e+00 - val_loss: 1.0635 - val_acc: 0.0000e+00\n"
     ]
    },
    {
     "name": "stdout",
     "output_type": "stream",
     "text": [
      "\nEpoch 00209: val_loss did not improve from 1.06348\nEpoch 210/500\n"
     ]
    },
    {
     "name": "stdout",
     "output_type": "stream",
     "text": [
      "\r1168/1168 [==============================] - 0s 8us/step - loss: 0.9838 - acc: 0.0000e+00 - val_loss: 1.0635 - val_acc: 0.0000e+00\n"
     ]
    },
    {
     "name": "stdout",
     "output_type": "stream",
     "text": [
      "\nEpoch 00210: val_loss did not improve from 1.06348\nEpoch 211/500\n\r1168/1168 [==============================] - 0s 8us/step - loss: 0.9841 - acc: 0.0000e+00 - val_loss: 1.0635 - val_acc: 0.0000e+00\n"
     ]
    },
    {
     "name": "stdout",
     "output_type": "stream",
     "text": [
      "\nEpoch 00211: val_loss did not improve from 1.06348\nEpoch 212/500\n\r1168/1168 [==============================] - 0s 8us/step - loss: 0.9858 - acc: 0.0000e+00 - val_loss: 1.0635 - val_acc: 0.0000e+00\n"
     ]
    },
    {
     "name": "stdout",
     "output_type": "stream",
     "text": [
      "\nEpoch 00212: val_loss did not improve from 1.06348\nEpoch 213/500\n"
     ]
    },
    {
     "name": "stdout",
     "output_type": "stream",
     "text": [
      "\r1168/1168 [==============================] - 0s 7us/step - loss: 0.9841 - acc: 0.0000e+00 - val_loss: 1.0635 - val_acc: 0.0000e+00\n"
     ]
    },
    {
     "name": "stdout",
     "output_type": "stream",
     "text": [
      "\nEpoch 00213: val_loss did not improve from 1.06348\nEpoch 214/500\n\r1168/1168 [==============================] - 0s 9us/step - loss: 0.9829 - acc: 0.0000e+00 - val_loss: 1.0635 - val_acc: 0.0000e+00\n"
     ]
    },
    {
     "name": "stdout",
     "output_type": "stream",
     "text": [
      "\nEpoch 00214: val_loss did not improve from 1.06348\nEpoch 215/500\n\r1168/1168 [==============================] - 0s 6us/step - loss: 0.9841 - acc: 0.0000e+00 - val_loss: 1.0635 - val_acc: 0.0000e+00\n"
     ]
    },
    {
     "name": "stdout",
     "output_type": "stream",
     "text": [
      "\nEpoch 00215: val_loss did not improve from 1.06348\nEpoch 216/500\n"
     ]
    },
    {
     "name": "stdout",
     "output_type": "stream",
     "text": [
      "\r1168/1168 [==============================] - 0s 8us/step - loss: 0.9842 - acc: 0.0000e+00 - val_loss: 1.0635 - val_acc: 0.0000e+00\n"
     ]
    },
    {
     "name": "stdout",
     "output_type": "stream",
     "text": [
      "\nEpoch 00216: val_loss did not improve from 1.06348\nEpoch 217/500\n"
     ]
    },
    {
     "name": "stdout",
     "output_type": "stream",
     "text": [
      "\r1168/1168 [==============================] - 0s 8us/step - loss: 0.9845 - acc: 0.0000e+00 - val_loss: 1.0635 - val_acc: 0.0000e+00\n"
     ]
    },
    {
     "name": "stdout",
     "output_type": "stream",
     "text": [
      "\nEpoch 00217: val_loss did not improve from 1.06348\nEpoch 218/500\n\r1168/1168 [==============================] - 0s 7us/step - loss: 0.9843 - acc: 0.0000e+00 - val_loss: 1.0635 - val_acc: 0.0000e+00\n"
     ]
    },
    {
     "name": "stdout",
     "output_type": "stream",
     "text": [
      "\nEpoch 00218: val_loss did not improve from 1.06348"
     ]
    },
    {
     "name": "stdout",
     "output_type": "stream",
     "text": [
      "\nEpoch 219/500\n\r1168/1168 [==============================] - 0s 8us/step - loss: 0.9836 - acc: 0.0000e+00 - val_loss: 1.0635 - val_acc: 0.0000e+00\n"
     ]
    },
    {
     "name": "stdout",
     "output_type": "stream",
     "text": [
      "\nEpoch 00219: val_loss did not improve from 1.06348\nEpoch 220/500\n"
     ]
    },
    {
     "name": "stdout",
     "output_type": "stream",
     "text": [
      "\r1168/1168 [==============================] - 0s 7us/step - loss: 0.9813 - acc: 0.0000e+00 - val_loss: 1.0635 - val_acc: 0.0000e+00\n"
     ]
    },
    {
     "name": "stdout",
     "output_type": "stream",
     "text": [
      "\nEpoch 00220: val_loss did not improve from 1.06348\nEpoch 221/500\n\r1168/1168 [==============================] - 0s 8us/step - loss: 0.9837 - acc: 0.0000e+00 - val_loss: 1.0635 - val_acc: 0.0000e+00\n"
     ]
    },
    {
     "name": "stdout",
     "output_type": "stream",
     "text": [
      "\nEpoch 00221: val_loss did not improve from 1.06348\nEpoch 222/500\n\r1168/1168 [==============================] - 0s 8us/step - loss: 0.9843 - acc: 0.0000e+00 - val_loss: 1.0635 - val_acc: 0.0000e+00\n"
     ]
    },
    {
     "name": "stdout",
     "output_type": "stream",
     "text": [
      "\nEpoch 00222: val_loss did not improve from 1.06348\nEpoch 223/500\n"
     ]
    },
    {
     "name": "stdout",
     "output_type": "stream",
     "text": [
      "\r1168/1168 [==============================] - 0s 7us/step - loss: 0.9837 - acc: 0.0000e+00 - val_loss: 1.0635 - val_acc: 0.0000e+00\n"
     ]
    },
    {
     "name": "stdout",
     "output_type": "stream",
     "text": [
      "\nEpoch 00223: val_loss did not improve from 1.06348\nEpoch 224/500\n"
     ]
    },
    {
     "name": "stdout",
     "output_type": "stream",
     "text": [
      "\r1168/1168 [==============================] - 0s 9us/step - loss: 0.9834 - acc: 0.0000e+00 - val_loss: 1.0635 - val_acc: 0.0000e+00\n"
     ]
    },
    {
     "name": "stdout",
     "output_type": "stream",
     "text": [
      "\nEpoch 00224: val_loss did not improve from 1.06348\nEpoch 225/500\n\r1168/1168 [==============================] - 0s 7us/step - loss: 0.9844 - acc: 0.0000e+00 - val_loss: 1.0635 - val_acc: 0.0000e+00\n"
     ]
    },
    {
     "name": "stdout",
     "output_type": "stream",
     "text": [
      "\nEpoch 00225: val_loss did not improve from 1.06348\nEpoch 226/500\n"
     ]
    },
    {
     "name": "stdout",
     "output_type": "stream",
     "text": [
      "\r1168/1168 [==============================] - 0s 7us/step - loss: 0.9852 - acc: 0.0000e+00 - val_loss: 1.0635 - val_acc: 0.0000e+00\n"
     ]
    },
    {
     "name": "stdout",
     "output_type": "stream",
     "text": [
      "\nEpoch 00226: val_loss did not improve from 1.06348\nEpoch 227/500\n\r1168/1168 [==============================] - 0s 9us/step - loss: 0.9841 - acc: 0.0000e+00 - val_loss: 1.0635 - val_acc: 0.0000e+00\n"
     ]
    },
    {
     "name": "stdout",
     "output_type": "stream",
     "text": [
      "\nEpoch 00227: val_loss did not improve from 1.06348\nEpoch 228/500\n\r1168/1168 [==============================] - 0s 7us/step - loss: 0.9850 - acc: 0.0000e+00 - val_loss: 1.0635 - val_acc: 0.0000e+00\n"
     ]
    },
    {
     "name": "stdout",
     "output_type": "stream",
     "text": [
      "\nEpoch 00228: val_loss did not improve from 1.06348\nEpoch 229/500\n"
     ]
    },
    {
     "name": "stdout",
     "output_type": "stream",
     "text": [
      "\r1168/1168 [==============================] - 0s 6us/step - loss: 0.9843 - acc: 0.0000e+00 - val_loss: 1.0635 - val_acc: 0.0000e+00\n"
     ]
    },
    {
     "name": "stdout",
     "output_type": "stream",
     "text": [
      "\nEpoch 00229: val_loss did not improve from 1.06348\nEpoch 230/500\n"
     ]
    },
    {
     "name": "stdout",
     "output_type": "stream",
     "text": [
      "\r1168/1168 [==============================] - 0s 9us/step - loss: 0.9845 - acc: 0.0000e+00 - val_loss: 1.0635 - val_acc: 0.0000e+00\n"
     ]
    },
    {
     "name": "stdout",
     "output_type": "stream",
     "text": [
      "\nEpoch 00230: val_loss did not improve from 1.06348\nEpoch 231/500\n\r1168/1168 [==============================] - 0s 8us/step - loss: 0.9841 - acc: 0.0000e+00 - val_loss: 1.0635 - val_acc: 0.0000e+00\n"
     ]
    },
    {
     "name": "stdout",
     "output_type": "stream",
     "text": [
      "\nEpoch 00231: val_loss did not improve from 1.06348\nEpoch 232/500\n"
     ]
    },
    {
     "name": "stdout",
     "output_type": "stream",
     "text": [
      "\r1168/1168 [==============================] - 0s 7us/step - loss: 0.9863 - acc: 0.0000e+00 - val_loss: 1.0635 - val_acc: 0.0000e+00\n"
     ]
    },
    {
     "name": "stdout",
     "output_type": "stream",
     "text": [
      "\nEpoch 00232: val_loss did not improve from 1.06348\nEpoch 233/500\n"
     ]
    },
    {
     "name": "stdout",
     "output_type": "stream",
     "text": [
      "\r1168/1168 [==============================] - 0s 9us/step - loss: 0.9853 - acc: 0.0000e+00 - val_loss: 1.0635 - val_acc: 0.0000e+00\n"
     ]
    },
    {
     "name": "stdout",
     "output_type": "stream",
     "text": [
      "\nEpoch 00233: val_loss did not improve from 1.06348\nEpoch 234/500\n\r1168/1168 [==============================] - 0s 8us/step - loss: 0.9849 - acc: 0.0000e+00 - val_loss: 1.0635 - val_acc: 0.0000e+00\n"
     ]
    },
    {
     "name": "stdout",
     "output_type": "stream",
     "text": [
      "\nEpoch 00234: val_loss did not improve from 1.06348\nEpoch 235/500\n"
     ]
    },
    {
     "name": "stdout",
     "output_type": "stream",
     "text": [
      "\r1168/1168 [==============================] - 0s 8us/step - loss: 0.9840 - acc: 0.0000e+00 - val_loss: 1.0635 - val_acc: 0.0000e+00\n"
     ]
    },
    {
     "name": "stdout",
     "output_type": "stream",
     "text": [
      "\nEpoch 00235: val_loss did not improve from 1.06348\nEpoch 236/500\n"
     ]
    },
    {
     "name": "stdout",
     "output_type": "stream",
     "text": [
      "\r1168/1168 [==============================] - 0s 8us/step - loss: 0.9785 - acc: 0.0000e+00 - val_loss: 1.0635 - val_acc: 0.0000e+00\n"
     ]
    },
    {
     "name": "stdout",
     "output_type": "stream",
     "text": [
      "\nEpoch 00236: val_loss did not improve from 1.06348\nEpoch 237/500\n"
     ]
    },
    {
     "name": "stdout",
     "output_type": "stream",
     "text": [
      "\r1168/1168 [==============================] - 0s 8us/step - loss: 0.9845 - acc: 0.0000e+00 - val_loss: 1.0635 - val_acc: 0.0000e+00\n"
     ]
    },
    {
     "name": "stdout",
     "output_type": "stream",
     "text": [
      "\nEpoch 00237: val_loss did not improve from 1.06348\nEpoch 238/500\n\r1168/1168 [==============================] - 0s 8us/step - loss: 0.9827 - acc: 0.0000e+00 - val_loss: 1.0635 - val_acc: 0.0000e+00\n"
     ]
    },
    {
     "name": "stdout",
     "output_type": "stream",
     "text": [
      "\nEpoch 00238: val_loss did not improve from 1.06348\nEpoch 239/500\n"
     ]
    },
    {
     "name": "stdout",
     "output_type": "stream",
     "text": [
      "\r1168/1168 [==============================] - 0s 8us/step - loss: 0.9841 - acc: 0.0000e+00 - val_loss: 1.0635 - val_acc: 0.0000e+00\n"
     ]
    },
    {
     "name": "stdout",
     "output_type": "stream",
     "text": [
      "\nEpoch 00239: val_loss did not improve from 1.06348\nEpoch 240/500\n"
     ]
    },
    {
     "name": "stdout",
     "output_type": "stream",
     "text": [
      "\r1168/1168 [==============================] - 0s 6us/step - loss: 0.9835 - acc: 0.0000e+00 - val_loss: 1.0635 - val_acc: 0.0000e+00\n"
     ]
    },
    {
     "name": "stdout",
     "output_type": "stream",
     "text": [
      "\nEpoch 00240: val_loss did not improve from 1.06348\nEpoch 241/500\n\r1168/1168 [==============================] - 0s 8us/step - loss: 0.9840 - acc: 0.0000e+00 - val_loss: 1.0635 - val_acc: 0.0000e+00\n"
     ]
    },
    {
     "name": "stdout",
     "output_type": "stream",
     "text": [
      "\nEpoch 00241: val_loss did not improve from 1.06348\nEpoch 242/500\n"
     ]
    },
    {
     "name": "stdout",
     "output_type": "stream",
     "text": [
      "\r1168/1168 [==============================] - 0s 8us/step - loss: 0.9824 - acc: 0.0000e+00 - val_loss: 1.0635 - val_acc: 0.0000e+00\n"
     ]
    },
    {
     "name": "stdout",
     "output_type": "stream",
     "text": [
      "\nEpoch 00242: val_loss did not improve from 1.06348\nEpoch 243/500\n"
     ]
    },
    {
     "name": "stdout",
     "output_type": "stream",
     "text": [
      "\r1168/1168 [==============================] - 0s 6us/step - loss: 0.9840 - acc: 0.0000e+00 - val_loss: 1.0635 - val_acc: 0.0000e+00\n"
     ]
    },
    {
     "name": "stdout",
     "output_type": "stream",
     "text": [
      "\nEpoch 00243: val_loss did not improve from 1.06348\nEpoch 244/500\n\r1168/1168 [==============================] - 0s 9us/step - loss: 0.9852 - acc: 0.0000e+00 - val_loss: 1.0635 - val_acc: 0.0000e+00\n"
     ]
    },
    {
     "name": "stdout",
     "output_type": "stream",
     "text": [
      "\nEpoch 00244: val_loss did not improve from 1.06348\nEpoch 245/500\n\r1168/1168 [==============================] - 0s 9us/step - loss: 0.9829 - acc: 0.0000e+00 - val_loss: 1.0635 - val_acc: 0.0000e+00\n"
     ]
    },
    {
     "name": "stdout",
     "output_type": "stream",
     "text": [
      "\nEpoch 00245: val_loss did not improve from 1.06348\nEpoch 246/500\n"
     ]
    },
    {
     "name": "stdout",
     "output_type": "stream",
     "text": [
      "\r1168/1168 [==============================] - 0s 7us/step - loss: 0.9841 - acc: 0.0000e+00 - val_loss: 1.0635 - val_acc: 0.0000e+00\n"
     ]
    },
    {
     "name": "stdout",
     "output_type": "stream",
     "text": [
      "\nEpoch 00246: val_loss did not improve from 1.06348\nEpoch 247/500\n"
     ]
    },
    {
     "name": "stdout",
     "output_type": "stream",
     "text": [
      "\r1168/1168 [==============================] - 0s 8us/step - loss: 0.9840 - acc: 0.0000e+00 - val_loss: 1.0635 - val_acc: 0.0000e+00\n"
     ]
    },
    {
     "name": "stdout",
     "output_type": "stream",
     "text": [
      "\nEpoch 00247: val_loss did not improve from 1.06348\nEpoch 248/500\n\r1168/1168 [==============================] - 0s 10us/step - loss: 0.9854 - acc: 0.0000e+00 - val_loss: 1.0635 - val_acc: 0.0000e+00\n"
     ]
    },
    {
     "name": "stdout",
     "output_type": "stream",
     "text": [
      "\nEpoch 00248: val_loss did not improve from 1.06348"
     ]
    },
    {
     "name": "stdout",
     "output_type": "stream",
     "text": [
      "\nEpoch 249/500\n\r1168/1168 [==============================] - 0s 9us/step - loss: 0.9879 - acc: 0.0000e+00 - val_loss: 1.0635 - val_acc: 0.0000e+00\n"
     ]
    },
    {
     "name": "stdout",
     "output_type": "stream",
     "text": [
      "\nEpoch 00249: val_loss did not improve from 1.06348\nEpoch 250/500\n\r1168/1168 [==============================] - 0s 7us/step - loss: 0.9837 - acc: 0.0000e+00 - val_loss: 1.0635 - val_acc: 0.0000e+00\n"
     ]
    },
    {
     "name": "stdout",
     "output_type": "stream",
     "text": [
      "\nEpoch 00250: val_loss did not improve from 1.06348\nEpoch 251/500\n"
     ]
    },
    {
     "name": "stdout",
     "output_type": "stream",
     "text": [
      "\r1168/1168 [==============================] - 0s 8us/step - loss: 0.9844 - acc: 0.0000e+00 - val_loss: 1.0635 - val_acc: 0.0000e+00\n"
     ]
    },
    {
     "name": "stdout",
     "output_type": "stream",
     "text": [
      "\nEpoch 00251: val_loss did not improve from 1.06348\nEpoch 252/500\n"
     ]
    },
    {
     "name": "stdout",
     "output_type": "stream",
     "text": [
      "\r1168/1168 [==============================] - 0s 9us/step - loss: 0.9849 - acc: 0.0000e+00 - val_loss: 1.0635 - val_acc: 0.0000e+00\n"
     ]
    },
    {
     "name": "stdout",
     "output_type": "stream",
     "text": [
      "\nEpoch 00252: val_loss did not improve from 1.06348\nEpoch 253/500\n\r"
     ]
    },
    {
     "name": "stdout",
     "output_type": "stream",
     "text": [
      "1168/1168 [==============================] - 0s 8us/step - loss: 0.9841 - acc: 0.0000e+00 - val_loss: 1.0635 - val_acc: 0.0000e+00\n"
     ]
    },
    {
     "name": "stdout",
     "output_type": "stream",
     "text": [
      "\nEpoch 00253: val_loss did not improve from 1.06348\nEpoch 254/500\n"
     ]
    },
    {
     "name": "stdout",
     "output_type": "stream",
     "text": [
      "\r1168/1168 [==============================] - 0s 13us/step - loss: 0.9845 - acc: 0.0000e+00 - val_loss: 1.0635 - val_acc: 0.0000e+00\n"
     ]
    },
    {
     "name": "stdout",
     "output_type": "stream",
     "text": [
      "\nEpoch 00254: val_loss did not improve from 1.06348\nEpoch 255/500\n\r1168/1168 [==============================] - 0s 8us/step - loss: 0.9844 - acc: 0.0000e+00 - val_loss: 1.0635 - val_acc: 0.0000e+00\n"
     ]
    },
    {
     "name": "stdout",
     "output_type": "stream",
     "text": [
      "\nEpoch 00255: val_loss did not improve from 1.06348\nEpoch 256/500\n\r1168/1168 [==============================] - 0s 9us/step - loss: 0.9842 - acc: 0.0000e+00 - val_loss: 1.0635 - val_acc: 0.0000e+00\n"
     ]
    },
    {
     "name": "stdout",
     "output_type": "stream",
     "text": [
      "\nEpoch 00256: val_loss did not improve from 1.06348\nEpoch 257/500\n"
     ]
    },
    {
     "name": "stdout",
     "output_type": "stream",
     "text": [
      "\r1168/1168 [==============================] - 0s 7us/step - loss: 0.9841 - acc: 0.0000e+00 - val_loss: 1.0635 - val_acc: 0.0000e+00\n"
     ]
    },
    {
     "name": "stdout",
     "output_type": "stream",
     "text": [
      "\nEpoch 00257: val_loss did not improve from 1.06348\nEpoch 258/500\n"
     ]
    },
    {
     "name": "stdout",
     "output_type": "stream",
     "text": [
      "\r1168/1168 [==============================] - 0s 8us/step - loss: 0.9855 - acc: 0.0000e+00 - val_loss: 1.0635 - val_acc: 0.0000e+00\n"
     ]
    },
    {
     "name": "stdout",
     "output_type": "stream",
     "text": [
      "\nEpoch 00258: val_loss did not improve from 1.06348\nEpoch 259/500\n\r1168/1168 [==============================] - 0s 8us/step - loss: 0.9847 - acc: 0.0000e+00 - val_loss: 1.0635 - val_acc: 0.0000e+00\n"
     ]
    },
    {
     "name": "stdout",
     "output_type": "stream",
     "text": [
      "\nEpoch 00259: val_loss did not improve from 1.06348\nEpoch 260/500\n"
     ]
    },
    {
     "name": "stdout",
     "output_type": "stream",
     "text": [
      "\r1168/1168 [==============================] - 0s 9us/step - loss: 0.9847 - acc: 0.0000e+00 - val_loss: 1.0635 - val_acc: 0.0000e+00\n"
     ]
    },
    {
     "name": "stdout",
     "output_type": "stream",
     "text": [
      "\nEpoch 00260: val_loss did not improve from 1.06348\nEpoch 261/500\n"
     ]
    },
    {
     "name": "stdout",
     "output_type": "stream",
     "text": [
      "\r1168/1168 [==============================] - 0s 7us/step - loss: 0.9841 - acc: 0.0000e+00 - val_loss: 1.0635 - val_acc: 0.0000e+00\n"
     ]
    },
    {
     "name": "stdout",
     "output_type": "stream",
     "text": [
      "\nEpoch 00261: val_loss did not improve from 1.06348\nEpoch 262/500\n"
     ]
    },
    {
     "name": "stdout",
     "output_type": "stream",
     "text": [
      "\r1168/1168 [==============================] - 0s 8us/step - loss: 0.9838 - acc: 0.0000e+00 - val_loss: 1.0635 - val_acc: 0.0000e+00\n"
     ]
    },
    {
     "name": "stdout",
     "output_type": "stream",
     "text": [
      "\nEpoch 00262: val_loss did not improve from 1.06348\nEpoch 263/500\n\r1168/1168 [==============================] - 0s 8us/step - loss: 0.9843 - acc: 0.0000e+00 - val_loss: 1.0635 - val_acc: 0.0000e+00\n"
     ]
    },
    {
     "name": "stdout",
     "output_type": "stream",
     "text": [
      "\nEpoch 00263: val_loss did not improve from 1.06348\nEpoch 264/500\n"
     ]
    },
    {
     "name": "stdout",
     "output_type": "stream",
     "text": [
      "\r1168/1168 [==============================] - 0s 8us/step - loss: 0.9854 - acc: 0.0000e+00 - val_loss: 1.0635 - val_acc: 0.0000e+00\n"
     ]
    },
    {
     "name": "stdout",
     "output_type": "stream",
     "text": [
      "\nEpoch 00264: val_loss did not improve from 1.06348\nEpoch 265/500\n"
     ]
    },
    {
     "name": "stdout",
     "output_type": "stream",
     "text": [
      "\r1168/1168 [==============================] - 0s 7us/step - loss: 0.9841 - acc: 0.0000e+00 - val_loss: 1.0635 - val_acc: 0.0000e+00\n"
     ]
    },
    {
     "name": "stdout",
     "output_type": "stream",
     "text": [
      "\nEpoch 00265: val_loss did not improve from 1.06348\nEpoch 266/500\n\r1168/1168 [==============================] - 0s 8us/step - loss: 0.9774 - acc: 0.0000e+00 - val_loss: 1.0635 - val_acc: 0.0000e+00\n"
     ]
    },
    {
     "name": "stdout",
     "output_type": "stream",
     "text": [
      "\nEpoch 00266: val_loss did not improve from 1.06348\nEpoch 267/500\n"
     ]
    },
    {
     "name": "stdout",
     "output_type": "stream",
     "text": [
      "\r1168/1168 [==============================] - 0s 8us/step - loss: 0.9843 - acc: 0.0000e+00 - val_loss: 1.0635 - val_acc: 0.0000e+00\n"
     ]
    },
    {
     "name": "stdout",
     "output_type": "stream",
     "text": [
      "\nEpoch 00267: val_loss did not improve from 1.06348\nEpoch 268/500\n"
     ]
    },
    {
     "name": "stdout",
     "output_type": "stream",
     "text": [
      "\r1168/1168 [==============================] - 0s 6us/step - loss: 0.9841 - acc: 0.0000e+00 - val_loss: 1.0635 - val_acc: 0.0000e+00\n"
     ]
    },
    {
     "name": "stdout",
     "output_type": "stream",
     "text": [
      "\nEpoch 00268: val_loss did not improve from 1.06348\nEpoch 269/500\n"
     ]
    },
    {
     "name": "stdout",
     "output_type": "stream",
     "text": [
      "\r1168/1168 [==============================] - 0s 9us/step - loss: 0.9833 - acc: 0.0000e+00 - val_loss: 1.0635 - val_acc: 0.0000e+00\n"
     ]
    },
    {
     "name": "stdout",
     "output_type": "stream",
     "text": [
      "\nEpoch 00269: val_loss did not improve from 1.06348\nEpoch 270/500\n\r1168/1168 [==============================] - 0s 8us/step - loss: 0.9837 - acc: 0.0000e+00 - val_loss: 1.0635 - val_acc: 0.0000e+00\n"
     ]
    },
    {
     "name": "stdout",
     "output_type": "stream",
     "text": [
      "\nEpoch 00270: val_loss did not improve from 1.06348\nEpoch 271/500\n"
     ]
    },
    {
     "name": "stdout",
     "output_type": "stream",
     "text": [
      "\r1168/1168 [==============================] - 0s 7us/step - loss: 0.9850 - acc: 0.0000e+00 - val_loss: 1.0635 - val_acc: 0.0000e+00\n"
     ]
    },
    {
     "name": "stdout",
     "output_type": "stream",
     "text": [
      "\nEpoch 00271: val_loss did not improve from 1.06348\nEpoch 272/500\n"
     ]
    },
    {
     "name": "stdout",
     "output_type": "stream",
     "text": [
      "\r1168/1168 [==============================] - 0s 7us/step - loss: 0.9867 - acc: 0.0000e+00 - val_loss: 1.0635 - val_acc: 0.0000e+00\n"
     ]
    },
    {
     "name": "stdout",
     "output_type": "stream",
     "text": [
      "\nEpoch 00272: val_loss did not improve from 1.06348\nEpoch 273/500\n\r1168/1168 [==============================] - 0s 9us/step - loss: 0.9828 - acc: 0.0000e+00 - val_loss: 1.0635 - val_acc: 0.0000e+00\n"
     ]
    },
    {
     "name": "stdout",
     "output_type": "stream",
     "text": [
      "\nEpoch 00273: val_loss did not improve from 1.06348\nEpoch 274/500\n\r1168/1168 [==============================] - 0s 7us/step - loss: 0.9819 - acc: 0.0000e+00 - val_loss: 1.0635 - val_acc: 0.0000e+00\n"
     ]
    },
    {
     "name": "stdout",
     "output_type": "stream",
     "text": [
      "\nEpoch 00274: val_loss did not improve from 1.06348\nEpoch 275/500\n"
     ]
    },
    {
     "name": "stdout",
     "output_type": "stream",
     "text": [
      "\r1168/1168 [==============================] - 0s 7us/step - loss: 0.9837 - acc: 0.0000e+00 - val_loss: 1.0635 - val_acc: 0.0000e+00\n"
     ]
    },
    {
     "name": "stdout",
     "output_type": "stream",
     "text": [
      "\nEpoch 00275: val_loss did not improve from 1.06348\nEpoch 276/500\n\r1168/1168 [==============================] - 0s 8us/step - loss: 0.9841 - acc: 0.0000e+00 - val_loss: 1.0635 - val_acc: 0.0000e+00\n"
     ]
    },
    {
     "name": "stdout",
     "output_type": "stream",
     "text": [
      "\nEpoch 00276: val_loss did not improve from 1.06348\nEpoch 277/500\n\r1168/1168 [==============================] - 0s 7us/step - loss: 0.9853 - acc: 0.0000e+00 - val_loss: 1.0635 - val_acc: 0.0000e+00\n"
     ]
    },
    {
     "name": "stdout",
     "output_type": "stream",
     "text": [
      "\nEpoch 00277: val_loss did not improve from 1.06348\nEpoch 278/500\n"
     ]
    },
    {
     "name": "stdout",
     "output_type": "stream",
     "text": [
      "\r1168/1168 [==============================] - 0s 8us/step - loss: 0.9842 - acc: 0.0000e+00 - val_loss: 1.0635 - val_acc: 0.0000e+00\n"
     ]
    },
    {
     "name": "stdout",
     "output_type": "stream",
     "text": [
      "\nEpoch 00278: val_loss did not improve from 1.06348\nEpoch 279/500\n\r1168/1168 [==============================] - 0s 8us/step - loss: 0.9836 - acc: 0.0000e+00 - val_loss: 1.0635 - val_acc: 0.0000e+00\n"
     ]
    },
    {
     "name": "stdout",
     "output_type": "stream",
     "text": [
      "\nEpoch 00279: val_loss did not improve from 1.06348\nEpoch 280/500\n\r1168/1168 [==============================] - 0s 7us/step - loss: 0.9815 - acc: 0.0000e+00 - val_loss: 1.0635 - val_acc: 0.0000e+00\n"
     ]
    },
    {
     "name": "stdout",
     "output_type": "stream",
     "text": [
      "\nEpoch 00280: val_loss did not improve from 1.06348\nEpoch 281/500\n"
     ]
    },
    {
     "name": "stdout",
     "output_type": "stream",
     "text": [
      "\r1168/1168 [==============================] - 0s 7us/step - loss: 0.9852 - acc: 0.0000e+00 - val_loss: 1.0635 - val_acc: 0.0000e+00\n"
     ]
    },
    {
     "name": "stdout",
     "output_type": "stream",
     "text": [
      "\nEpoch 00281: val_loss did not improve from 1.06348\nEpoch 282/500\n\r"
     ]
    },
    {
     "name": "stdout",
     "output_type": "stream",
     "text": [
      "1168/1168 [==============================] - 0s 8us/step - loss: 0.9841 - acc: 0.0000e+00 - val_loss: 1.0635 - val_acc: 0.0000e+00\n"
     ]
    },
    {
     "name": "stdout",
     "output_type": "stream",
     "text": [
      "\nEpoch 00282: val_loss did not improve from 1.06348\nEpoch 283/500\n\r1168/1168 [==============================] - 0s 9us/step - loss: 0.9843 - acc: 0.0000e+00 - val_loss: 1.0635 - val_acc: 0.0000e+00\n"
     ]
    },
    {
     "name": "stdout",
     "output_type": "stream",
     "text": [
      "\nEpoch 00283: val_loss did not improve from 1.06348\nEpoch 284/500\n"
     ]
    },
    {
     "name": "stdout",
     "output_type": "stream",
     "text": [
      "\r1168/1168 [==============================] - 0s 7us/step - loss: 0.9852 - acc: 0.0000e+00 - val_loss: 1.0635 - val_acc: 0.0000e+00\n"
     ]
    },
    {
     "name": "stdout",
     "output_type": "stream",
     "text": [
      "\nEpoch 00284: val_loss did not improve from 1.06348\nEpoch 285/500\n"
     ]
    },
    {
     "name": "stdout",
     "output_type": "stream",
     "text": [
      "\r1168/1168 [==============================] - 0s 7us/step - loss: 0.9843 - acc: 0.0000e+00 - val_loss: 1.0635 - val_acc: 0.0000e+00\n"
     ]
    },
    {
     "name": "stdout",
     "output_type": "stream",
     "text": [
      "\nEpoch 00285: val_loss did not improve from 1.06348\nEpoch 286/500\n\r1168/1168 [==============================] - 0s 9us/step - loss: 0.9852 - acc: 0.0000e+00 - val_loss: 1.0635 - val_acc: 0.0000e+00\n"
     ]
    },
    {
     "name": "stdout",
     "output_type": "stream",
     "text": [
      "\nEpoch 00286: val_loss did not improve from 1.06348\nEpoch 287/500\n"
     ]
    },
    {
     "name": "stdout",
     "output_type": "stream",
     "text": [
      "\r1168/1168 [==============================] - 0s 9us/step - loss: 0.9816 - acc: 0.0000e+00 - val_loss: 1.0635 - val_acc: 0.0000e+00\n"
     ]
    },
    {
     "name": "stdout",
     "output_type": "stream",
     "text": [
      "\nEpoch 00287: val_loss did not improve from 1.06348\nEpoch 288/500\n"
     ]
    },
    {
     "name": "stdout",
     "output_type": "stream",
     "text": [
      "\r1168/1168 [==============================] - 0s 7us/step - loss: 0.9843 - acc: 0.0000e+00 - val_loss: 1.0635 - val_acc: 0.0000e+00\n"
     ]
    },
    {
     "name": "stdout",
     "output_type": "stream",
     "text": [
      "\nEpoch 00288: val_loss did not improve from 1.06348\nEpoch 289/500\n\r1168/1168 [==============================] - 0s 8us/step - loss: 0.9818 - acc: 0.0000e+00 - val_loss: 1.0635 - val_acc: 0.0000e+00\n"
     ]
    },
    {
     "name": "stdout",
     "output_type": "stream",
     "text": [
      "\nEpoch 00289: val_loss did not improve from 1.06348\nEpoch 290/500\n"
     ]
    },
    {
     "name": "stdout",
     "output_type": "stream",
     "text": [
      "\r1168/1168 [==============================] - 0s 8us/step - loss: 0.9846 - acc: 0.0000e+00 - val_loss: 1.0635 - val_acc: 0.0000e+00\n"
     ]
    },
    {
     "name": "stdout",
     "output_type": "stream",
     "text": [
      "\nEpoch 00290: val_loss did not improve from 1.06348\nEpoch 291/500\n"
     ]
    },
    {
     "name": "stdout",
     "output_type": "stream",
     "text": [
      "\r1168/1168 [==============================] - 0s 7us/step - loss: 0.9841 - acc: 0.0000e+00 - val_loss: 1.0635 - val_acc: 0.0000e+00\n"
     ]
    },
    {
     "name": "stdout",
     "output_type": "stream",
     "text": [
      "\nEpoch 00291: val_loss did not improve from 1.06348\nEpoch 292/500\n\r1168/1168 [==============================] - 0s 8us/step - loss: 0.9838 - acc: 0.0000e+00 - val_loss: 1.0635 - val_acc: 0.0000e+00\n"
     ]
    },
    {
     "name": "stdout",
     "output_type": "stream",
     "text": [
      "\nEpoch 00292: val_loss did not improve from 1.06348\nEpoch 293/500\n\r1168/1168 [==============================] - 0s 6us/step - loss: 0.9841 - acc: 0.0000e+00 - val_loss: 1.0635 - val_acc: 0.0000e+00\n"
     ]
    },
    {
     "name": "stdout",
     "output_type": "stream",
     "text": [
      "\nEpoch 00293: val_loss did not improve from 1.06348\nEpoch 294/500\n"
     ]
    },
    {
     "name": "stdout",
     "output_type": "stream",
     "text": [
      "\r1168/1168 [==============================] - 0s 7us/step - loss: 0.9822 - acc: 0.0000e+00 - val_loss: 1.0635 - val_acc: 0.0000e+00\n"
     ]
    },
    {
     "name": "stdout",
     "output_type": "stream",
     "text": [
      "\nEpoch 00294: val_loss did not improve from 1.06348\nEpoch 295/500\n"
     ]
    },
    {
     "name": "stdout",
     "output_type": "stream",
     "text": [
      "\r1168/1168 [==============================] - 0s 9us/step - loss: 0.9821 - acc: 0.0000e+00 - val_loss: 1.0635 - val_acc: 0.0000e+00\n"
     ]
    },
    {
     "name": "stdout",
     "output_type": "stream",
     "text": [
      "\nEpoch 00295: val_loss did not improve from 1.06348\nEpoch 296/500\n\r1168/1168 [==============================] - 0s 8us/step - loss: 0.9841 - acc: 0.0000e+00 - val_loss: 1.0635 - val_acc: 0.0000e+00\n"
     ]
    },
    {
     "name": "stdout",
     "output_type": "stream",
     "text": [
      "\nEpoch 00296: val_loss did not improve from 1.06348\nEpoch 297/500\n\r1168/1168 [==============================] - 0s 8us/step - loss: 0.9841 - acc: 0.0000e+00 - val_loss: 1.0635 - val_acc: 0.0000e+00\n"
     ]
    },
    {
     "name": "stdout",
     "output_type": "stream",
     "text": [
      "\nEpoch 00297: val_loss did not improve from 1.06348\nEpoch 298/500\n"
     ]
    },
    {
     "name": "stdout",
     "output_type": "stream",
     "text": [
      "\r1168/1168 [==============================] - 0s 8us/step - loss: 0.9843 - acc: 0.0000e+00 - val_loss: 1.0635 - val_acc: 0.0000e+00\n"
     ]
    },
    {
     "name": "stdout",
     "output_type": "stream",
     "text": [
      "\nEpoch 00298: val_loss did not improve from 1.06348\nEpoch 299/500\n"
     ]
    },
    {
     "name": "stdout",
     "output_type": "stream",
     "text": [
      "\r1168/1168 [==============================] - 0s 9us/step - loss: 0.9840 - acc: 0.0000e+00 - val_loss: 1.0635 - val_acc: 0.0000e+00\n"
     ]
    },
    {
     "name": "stdout",
     "output_type": "stream",
     "text": [
      "\nEpoch 00299: val_loss did not improve from 1.06348\nEpoch 300/500\n"
     ]
    },
    {
     "name": "stdout",
     "output_type": "stream",
     "text": [
      "\r1168/1168 [==============================] - 0s 7us/step - loss: 0.9836 - acc: 0.0000e+00 - val_loss: 1.0635 - val_acc: 0.0000e+00\n"
     ]
    },
    {
     "name": "stdout",
     "output_type": "stream",
     "text": [
      "\nEpoch 00300: val_loss did not improve from 1.06348\nEpoch 301/500\n\r1168/1168 [==============================] - 0s 8us/step - loss: 0.9790 - acc: 0.0000e+00 - val_loss: 1.0635 - val_acc: 0.0000e+00\n"
     ]
    },
    {
     "name": "stdout",
     "output_type": "stream",
     "text": [
      "\nEpoch 00301: val_loss did not improve from 1.06348\nEpoch 302/500\n\r1168/1168 [==============================] - 0s 8us/step - loss: 0.9856 - acc: 0.0000e+00 - val_loss: 1.0635 - val_acc: 0.0000e+00\n"
     ]
    },
    {
     "name": "stdout",
     "output_type": "stream",
     "text": [
      "\nEpoch 00302: val_loss did not improve from 1.06348\nEpoch 303/500\n"
     ]
    },
    {
     "name": "stdout",
     "output_type": "stream",
     "text": [
      "\r1168/1168 [==============================] - 0s 8us/step - loss: 0.9826 - acc: 0.0000e+00 - val_loss: 1.0635 - val_acc: 0.0000e+00\n"
     ]
    },
    {
     "name": "stdout",
     "output_type": "stream",
     "text": [
      "\nEpoch 00303: val_loss did not improve from 1.06348\nEpoch 304/500\n"
     ]
    },
    {
     "name": "stdout",
     "output_type": "stream",
     "text": [
      "\r1168/1168 [==============================] - 0s 8us/step - loss: 0.9846 - acc: 0.0000e+00 - val_loss: 1.0635 - val_acc: 0.0000e+00\n"
     ]
    },
    {
     "name": "stdout",
     "output_type": "stream",
     "text": [
      "\nEpoch 00304: val_loss did not improve from 1.06348\nEpoch 305/500\n\r1168/1168 [==============================] - 0s 7us/step - loss: 0.9846 - acc: 0.0000e+00 - val_loss: 1.0635 - val_acc: 0.0000e+00\n"
     ]
    },
    {
     "name": "stdout",
     "output_type": "stream",
     "text": [
      "\nEpoch 00305: val_loss did not improve from 1.06348\nEpoch 306/500\n\r1168/1168 [==============================] - 0s 6us/step - loss: 0.9825 - acc: 0.0000e+00 - val_loss: 1.0635 - val_acc: 0.0000e+00\n"
     ]
    },
    {
     "name": "stdout",
     "output_type": "stream",
     "text": [
      "\nEpoch 00306: val_loss did not improve from 1.06348\nEpoch 307/500\n"
     ]
    },
    {
     "name": "stdout",
     "output_type": "stream",
     "text": [
      "\r1168/1168 [==============================] - 0s 9us/step - loss: 0.9838 - acc: 0.0000e+00 - val_loss: 1.0635 - val_acc: 0.0000e+00\n"
     ]
    },
    {
     "name": "stdout",
     "output_type": "stream",
     "text": [
      "\nEpoch 00307: val_loss did not improve from 1.06348\nEpoch 308/500\n"
     ]
    },
    {
     "name": "stdout",
     "output_type": "stream",
     "text": [
      "\r1168/1168 [==============================] - 0s 8us/step - loss: 0.9841 - acc: 0.0000e+00 - val_loss: 1.0635 - val_acc: 0.0000e+00\n"
     ]
    },
    {
     "name": "stdout",
     "output_type": "stream",
     "text": [
      "\nEpoch 00308: val_loss did not improve from 1.06348\nEpoch 309/500\n\r1168/1168 [==============================]"
     ]
    },
    {
     "name": "stdout",
     "output_type": "stream",
     "text": [
      " - 0s 8us/step - loss: 0.9857 - acc: 0.0000e+00 - val_loss: 1.0635 - val_acc: 0.0000e+00\n"
     ]
    },
    {
     "name": "stdout",
     "output_type": "stream",
     "text": [
      "\nEpoch 00309: val_loss did not improve from 1.06348\nEpoch 310/500\n"
     ]
    },
    {
     "name": "stdout",
     "output_type": "stream",
     "text": [
      "\r1168/1168 [==============================] - 0s 13us/step - loss: 0.9853 - acc: 0.0000e+00 - val_loss: 1.0635 - val_acc: 0.0000e+00\n"
     ]
    },
    {
     "name": "stdout",
     "output_type": "stream",
     "text": [
      "\nEpoch 00310: val_loss did not improve from 1.06348\nEpoch 311/500\n\r1168/1168 [==============================] - 0s 8us/step - loss: 0.9842 - acc: 0.0000e+00 - val_loss: 1.0635 - val_acc: 0.0000e+00\n"
     ]
    },
    {
     "name": "stdout",
     "output_type": "stream",
     "text": [
      "\nEpoch 00311: val_loss did not improve from 1.06348\nEpoch 312/500\n"
     ]
    },
    {
     "name": "stdout",
     "output_type": "stream",
     "text": [
      "\r1168/1168 [==============================] - 0s 9us/step - loss: 0.9843 - acc: 0.0000e+00 - val_loss: 1.0635 - val_acc: 0.0000e+00\n"
     ]
    },
    {
     "name": "stdout",
     "output_type": "stream",
     "text": [
      "\nEpoch 00312: val_loss did not improve from 1.06348\nEpoch 313/500\n"
     ]
    },
    {
     "name": "stdout",
     "output_type": "stream",
     "text": [
      "\r1168/1168 [==============================] - 0s 7us/step - loss: 0.9871 - acc: 0.0000e+00 - val_loss: 1.0635 - val_acc: 0.0000e+00\n"
     ]
    },
    {
     "name": "stdout",
     "output_type": "stream",
     "text": [
      "\nEpoch 00313: val_loss did not improve from 1.06348\nEpoch 314/500\n\r1168/1168 [==============================]"
     ]
    },
    {
     "name": "stdout",
     "output_type": "stream",
     "text": [
      " - 0s 8us/step - loss: 0.9851 - acc: 0.0000e+00 - val_loss: 1.0635 - val_acc: 0.0000e+00\n"
     ]
    },
    {
     "name": "stdout",
     "output_type": "stream",
     "text": [
      "\nEpoch 00314: val_loss did not improve from 1.06348\nEpoch 315/500\n\r1168/1168 [==============================] - 0s 8us/step - loss: 0.9831 - acc: 0.0000e+00 - val_loss: 1.0635 - val_acc: 0.0000e+00\n"
     ]
    },
    {
     "name": "stdout",
     "output_type": "stream",
     "text": [
      "\nEpoch 00315: val_loss did not improve from 1.06348\nEpoch 316/500\n"
     ]
    },
    {
     "name": "stdout",
     "output_type": "stream",
     "text": [
      "\r1168/1168 [==============================] - 0s 7us/step - loss: 0.9834 - acc: 0.0000e+00 - val_loss: 1.0635 - val_acc: 0.0000e+00\n"
     ]
    },
    {
     "name": "stdout",
     "output_type": "stream",
     "text": [
      "\nEpoch 00316: val_loss did not improve from 1.06348\nEpoch 317/500\n\r"
     ]
    },
    {
     "name": "stdout",
     "output_type": "stream",
     "text": [
      "1168/1168 [==============================] - 0s 8us/step - loss: 0.9829 - acc: 0.0000e+00 - val_loss: 1.0635 - val_acc: 0.0000e+00\n"
     ]
    },
    {
     "name": "stdout",
     "output_type": "stream",
     "text": [
      "\nEpoch 00317: val_loss did not improve from 1.06348\nEpoch 318/500\n\r1168/1168 [==============================] - 0s 7us/step - loss: 0.9843 - acc: 0.0000e+00 - val_loss: 1.0635 - val_acc: 0.0000e+00\n"
     ]
    },
    {
     "name": "stdout",
     "output_type": "stream",
     "text": [
      "\nEpoch 00318: val_loss did not improve from 1.06348\nEpoch 319/500\n"
     ]
    },
    {
     "name": "stdout",
     "output_type": "stream",
     "text": [
      "\r1168/1168 [==============================] - 0s 8us/step - loss: 0.9847 - acc: 0.0000e+00 - val_loss: 1.0635 - val_acc: 0.0000e+00\n"
     ]
    },
    {
     "name": "stdout",
     "output_type": "stream",
     "text": [
      "\nEpoch 00319: val_loss did not improve from 1.06348\nEpoch 320/500\n"
     ]
    },
    {
     "name": "stdout",
     "output_type": "stream",
     "text": [
      "\r1168/1168 [==============================] - 0s 8us/step - loss: 0.9809 - acc: 0.0000e+00 - val_loss: 1.0635 - val_acc: 0.0000e+00\n"
     ]
    },
    {
     "name": "stdout",
     "output_type": "stream",
     "text": [
      "\nEpoch 00320: val_loss did not improve from 1.06348\nEpoch 321/500\n\r1168/1168 [==============================] - 0s 8us/step - loss: 0.9760 - acc: 0.0000e+00 - val_loss: 1.0635 - val_acc: 0.0000e+00\n"
     ]
    },
    {
     "name": "stdout",
     "output_type": "stream",
     "text": [
      "\nEpoch 00321: val_loss did not improve from 1.06348\nEpoch 322/500\n"
     ]
    },
    {
     "name": "stdout",
     "output_type": "stream",
     "text": [
      "\r1168/1168 [==============================] - 0s 9us/step - loss: 0.9853 - acc: 0.0000e+00 - val_loss: 1.0635 - val_acc: 0.0000e+00\n"
     ]
    },
    {
     "name": "stdout",
     "output_type": "stream",
     "text": [
      "\nEpoch 00322: val_loss did not improve from 1.06348\nEpoch 323/500\n"
     ]
    },
    {
     "name": "stdout",
     "output_type": "stream",
     "text": [
      "\r1168/1168 [==============================] - 0s 7us/step - loss: 0.9845 - acc: 0.0000e+00 - val_loss: 1.0635 - val_acc: 0.0000e+00\n"
     ]
    },
    {
     "name": "stdout",
     "output_type": "stream",
     "text": [
      "\nEpoch 00323: val_loss did not improve from 1.06348\nEpoch 324/500\n\r1168/1168 [==============================] - 0s 8us/step - loss: 0.9848 - acc: 0.0000e+00 - val_loss: 1.0635 - val_acc: 0.0000e+00\n"
     ]
    },
    {
     "name": "stdout",
     "output_type": "stream",
     "text": [
      "\nEpoch 00324: val_loss did not improve from 1.06348\nEpoch 325/500\n\r1168/1168 [==============================] - 0s 8us/step - loss: 0.9830 - acc: 0.0000e+00 - val_loss: 1.0635 - val_acc: 0.0000e+00\n"
     ]
    },
    {
     "name": "stdout",
     "output_type": "stream",
     "text": [
      "\nEpoch 00325: val_loss did not improve from 1.06348\nEpoch 326/500\n"
     ]
    },
    {
     "name": "stdout",
     "output_type": "stream",
     "text": [
      "\r1168/1168 [==============================] - 0s 8us/step - loss: 0.9807 - acc: 0.0000e+00 - val_loss: 1.0635 - val_acc: 0.0000e+00\n"
     ]
    },
    {
     "name": "stdout",
     "output_type": "stream",
     "text": [
      "\nEpoch 00326: val_loss did not improve from 1.06348\nEpoch 327/500\n"
     ]
    },
    {
     "name": "stdout",
     "output_type": "stream",
     "text": [
      "\r1168/1168 [==============================] - 0s 8us/step - loss: 0.9848 - acc: 0.0000e+00 - val_loss: 1.0635 - val_acc: 0.0000e+00\n"
     ]
    },
    {
     "name": "stdout",
     "output_type": "stream",
     "text": [
      "\nEpoch 00327: val_loss did not improve from 1.06348\nEpoch 328/500\n\r1168/1168 [==============================] - 0s 8us/step - loss: 0.9812 - acc: 0.0000e+00 - val_loss: 1.0635 - val_acc: 0.0000e+00\n"
     ]
    },
    {
     "name": "stdout",
     "output_type": "stream",
     "text": [
      "\nEpoch 00328: val_loss did not improve from 1.06348\nEpoch 329/500\n"
     ]
    },
    {
     "name": "stdout",
     "output_type": "stream",
     "text": [
      "\r1168/1168 [==============================] - 0s 8us/step - loss: 0.9842 - acc: 0.0000e+00 - val_loss: 1.0635 - val_acc: 0.0000e+00\n"
     ]
    },
    {
     "name": "stdout",
     "output_type": "stream",
     "text": [
      "\nEpoch 00329: val_loss did not improve from 1.06348\nEpoch 330/500\n"
     ]
    },
    {
     "name": "stdout",
     "output_type": "stream",
     "text": [
      "\r1168/1168 [==============================] - 0s 8us/step - loss: 0.9850 - acc: 0.0000e+00 - val_loss: 1.0635 - val_acc: 0.0000e+00\n"
     ]
    },
    {
     "name": "stdout",
     "output_type": "stream",
     "text": [
      "\nEpoch 00330: val_loss did not improve from 1.06348\nEpoch 331/500\n\r1168/1168 [==============================] - 0s 8us/step - loss: 0.9847 - acc: 0.0000e+00 - val_loss: 1.0635 - val_acc: 0.0000e+00\n"
     ]
    },
    {
     "name": "stdout",
     "output_type": "stream",
     "text": [
      "\nEpoch 00331: val_loss did not improve from 1.06348\nEpoch 332/500\n"
     ]
    },
    {
     "name": "stdout",
     "output_type": "stream",
     "text": [
      "\r1168/1168 [==============================] - 0s 8us/step - loss: 0.9835 - acc: 0.0000e+00 - val_loss: 1.0635 - val_acc: 0.0000e+00\n"
     ]
    },
    {
     "name": "stdout",
     "output_type": "stream",
     "text": [
      "\nEpoch 00332: val_loss did not improve from 1.06348\nEpoch 333/500\n"
     ]
    },
    {
     "name": "stdout",
     "output_type": "stream",
     "text": [
      "\r1168/1168 [==============================] - 0s 6us/step - loss: 0.9856 - acc: 0.0000e+00 - val_loss: 1.0635 - val_acc: 0.0000e+00\n"
     ]
    },
    {
     "name": "stdout",
     "output_type": "stream",
     "text": [
      "\nEpoch 00333: val_loss did not improve from 1.06348\nEpoch 334/500\n\r1168/1168 [==============================] - 0s 9us/step - loss: 0.9841 - acc: 0.0000e+00 - val_loss: 1.0635 - val_acc: 0.0000e+00\n"
     ]
    },
    {
     "name": "stdout",
     "output_type": "stream",
     "text": [
      "\nEpoch 00334: val_loss did not improve from 1.06348\nEpoch 335/500\n\r1168/1168 [==============================] - 0s 7us/step - loss: 0.9841 - acc: 0.0000e+00 - val_loss: 1.0635 - val_acc: 0.0000e+00\n"
     ]
    },
    {
     "name": "stdout",
     "output_type": "stream",
     "text": [
      "\nEpoch 00335: val_loss did not improve from 1.06348\nEpoch 336/500\n"
     ]
    },
    {
     "name": "stdout",
     "output_type": "stream",
     "text": [
      "\r1168/1168 [==============================] - 0s 7us/step - loss: 0.9823 - acc: 0.0000e+00 - val_loss: 1.0635 - val_acc: 0.0000e+00\n"
     ]
    },
    {
     "name": "stdout",
     "output_type": "stream",
     "text": [
      "\nEpoch 00336: val_loss did not improve from 1.06348\nEpoch 337/500\n"
     ]
    },
    {
     "name": "stdout",
     "output_type": "stream",
     "text": [
      "\r1168/1168 [==============================] - 0s 8us/step - loss: 0.9826 - acc: 0.0000e+00 - val_loss: 1.0635 - val_acc: 0.0000e+00\n"
     ]
    },
    {
     "name": "stdout",
     "output_type": "stream",
     "text": [
      "\nEpoch 00337: val_loss did not improve from 1.06348\nEpoch 338/500\n\r1168/1168 [==============================] - 0s 8us/step - loss: 0.9837 - acc: 0.0000e+00 - val_loss: 1.0635 - val_acc: 0.0000e+00\n"
     ]
    },
    {
     "name": "stdout",
     "output_type": "stream",
     "text": [
      "\nEpoch 00338: val_loss did not improve from 1.06348\nEpoch 339/500\n"
     ]
    },
    {
     "name": "stdout",
     "output_type": "stream",
     "text": [
      "\r1168/1168 [==============================] - 0s 6us/step - loss: 0.9841 - acc: 0.0000e+00 - val_loss: 1.0635 - val_acc: 0.0000e+00\n"
     ]
    },
    {
     "name": "stdout",
     "output_type": "stream",
     "text": [
      "\nEpoch 00339: val_loss did not improve from 1.06348\nEpoch 340/500\n"
     ]
    },
    {
     "name": "stdout",
     "output_type": "stream",
     "text": [
      "\r1168/1168 [==============================] - 0s 8us/step - loss: 0.9836 - acc: 0.0000e+00 - val_loss: 1.0635 - val_acc: 0.0000e+00\n"
     ]
    },
    {
     "name": "stdout",
     "output_type": "stream",
     "text": [
      "\nEpoch 00340: val_loss did not improve from 1.06348\nEpoch 341/500\n\r1168/1168 [==============================]"
     ]
    },
    {
     "name": "stdout",
     "output_type": "stream",
     "text": [
      " - 0s 9us/step - loss: 0.9841 - acc: 0.0000e+00 - val_loss: 1.0635 - val_acc: 0.0000e+00\n"
     ]
    },
    {
     "name": "stdout",
     "output_type": "stream",
     "text": [
      "\nEpoch 00341: val_loss did not improve from 1.06348\nEpoch 342/500\n\r1168/1168 [==============================] - 0s 6us/step - loss: 0.9840 - acc: 0.0000e+00 - val_loss: 1.0635 - val_acc: 0.0000e+00\n"
     ]
    },
    {
     "name": "stdout",
     "output_type": "stream",
     "text": [
      "\nEpoch 00342: val_loss did not improve from 1.06348\nEpoch 343/500\n"
     ]
    },
    {
     "name": "stdout",
     "output_type": "stream",
     "text": [
      "\r1168/1168 [==============================] - 0s 7us/step - loss: 0.9840 - acc: 0.0000e+00 - val_loss: 1.0635 - val_acc: 0.0000e+00\n"
     ]
    },
    {
     "name": "stdout",
     "output_type": "stream",
     "text": [
      "\nEpoch 00343: val_loss did not improve from 1.06348\nEpoch 344/500\n"
     ]
    },
    {
     "name": "stdout",
     "output_type": "stream",
     "text": [
      "\r1168/1168 [==============================] - 0s 9us/step - loss: 0.9849 - acc: 0.0000e+00 - val_loss: 1.0635 - val_acc: 0.0000e+00\n"
     ]
    },
    {
     "name": "stdout",
     "output_type": "stream",
     "text": [
      "\nEpoch 00344: val_loss did not improve from 1.06348\nEpoch 345/500\n"
     ]
    },
    {
     "name": "stdout",
     "output_type": "stream",
     "text": [
      "\r1168/1168 [==============================] - 0s 9us/step - loss: 0.9841 - acc: 0.0000e+00 - val_loss: 1.0635 - val_acc: 0.0000e+00\n"
     ]
    },
    {
     "name": "stdout",
     "output_type": "stream",
     "text": [
      "\nEpoch 00345: val_loss did not improve from 1.06348\nEpoch 346/500\n\r1168/1168 [==============================] - 0s 8us/step - loss: 0.9844 - acc: 0.0000e+00 - val_loss: 1.0635 - val_acc: 0.0000e+00\n"
     ]
    },
    {
     "name": "stdout",
     "output_type": "stream",
     "text": [
      "\nEpoch 00346: val_loss did not improve from 1.06348\nEpoch 347/500\n\r1168/1168 [==============================] - 0s 9us/step - loss: 0.9844 - acc: 0.0000e+00 - val_loss: 1.0635 - val_acc: 0.0000e+00\n"
     ]
    },
    {
     "name": "stdout",
     "output_type": "stream",
     "text": [
      "\nEpoch 00347: val_loss did not improve from 1.06348\nEpoch 348/500\n"
     ]
    },
    {
     "name": "stdout",
     "output_type": "stream",
     "text": [
      "\r1168/1168 [==============================] - 0s 8us/step - loss: 0.9846 - acc: 0.0000e+00 - val_loss: 1.0635 - val_acc: 0.0000e+00\n"
     ]
    },
    {
     "name": "stdout",
     "output_type": "stream",
     "text": [
      "\nEpoch 00348: val_loss did not improve from 1.06348\nEpoch 349/500\n"
     ]
    },
    {
     "name": "stdout",
     "output_type": "stream",
     "text": [
      "\r1168/1168 [==============================] - 0s 8us/step - loss: 0.9841 - acc: 0.0000e+00 - val_loss: 1.0635 - val_acc: 0.0000e+00\n"
     ]
    },
    {
     "name": "stdout",
     "output_type": "stream",
     "text": [
      "\nEpoch 00349: val_loss did not improve from 1.06348\nEpoch 350/500\n"
     ]
    },
    {
     "name": "stdout",
     "output_type": "stream",
     "text": [
      "\r1168/1168 [==============================] - 0s 8us/step - loss: 0.9845 - acc: 0.0000e+00 - val_loss: 1.0635 - val_acc: 0.0000e+00\n"
     ]
    },
    {
     "name": "stdout",
     "output_type": "stream",
     "text": [
      "\nEpoch 00350: val_loss did not improve from 1.06348\nEpoch 351/500\n\r1168/1168 [==============================] - 0s 8us/step - loss: 0.9845 - acc: 0.0000e+00 - val_loss: 1.0635 - val_acc: 0.0000e+00\n"
     ]
    },
    {
     "name": "stdout",
     "output_type": "stream",
     "text": [
      "\nEpoch 00351: val_loss did not improve from 1.06348\nEpoch 352/500\n"
     ]
    },
    {
     "name": "stdout",
     "output_type": "stream",
     "text": [
      "\r1168/1168 [==============================] - 0s 8us/step - loss: 0.9833 - acc: 0.0000e+00 - val_loss: 1.0635 - val_acc: 0.0000e+00\n"
     ]
    },
    {
     "name": "stdout",
     "output_type": "stream",
     "text": [
      "\nEpoch 00352: val_loss did not improve from 1.06348\nEpoch 353/500\n"
     ]
    },
    {
     "name": "stdout",
     "output_type": "stream",
     "text": [
      "\r1168/1168 [==============================] - 0s 7us/step - loss: 0.9845 - acc: 0.0000e+00 - val_loss: 1.0635 - val_acc: 0.0000e+00\n"
     ]
    },
    {
     "name": "stdout",
     "output_type": "stream",
     "text": [
      "\nEpoch 00353: val_loss did not improve from 1.06348\nEpoch 354/500\n\r1168/1168 [==============================] - 0s 8us/step - loss: 0.9849 - acc: 0.0000e+00 - val_loss: 1.0635 - val_acc: 0.0000e+00\n"
     ]
    },
    {
     "name": "stdout",
     "output_type": "stream",
     "text": [
      "\nEpoch 00354: val_loss did not improve from 1.06348\nEpoch 355/500\n"
     ]
    },
    {
     "name": "stdout",
     "output_type": "stream",
     "text": [
      "\r1168/1168 [==============================] - 0s 7us/step - loss: 0.9835 - acc: 0.0000e+00 - val_loss: 1.0635 - val_acc: 0.0000e+00\n"
     ]
    },
    {
     "name": "stdout",
     "output_type": "stream",
     "text": [
      "\nEpoch 00355: val_loss did not improve from 1.06348\nEpoch 356/500\n"
     ]
    },
    {
     "name": "stdout",
     "output_type": "stream",
     "text": [
      "\r1168/1168 [==============================] - 0s 7us/step - loss: 0.9831 - acc: 0.0000e+00 - val_loss: 1.0635 - val_acc: 0.0000e+00\n"
     ]
    },
    {
     "name": "stdout",
     "output_type": "stream",
     "text": [
      "\nEpoch 00356: val_loss did not improve from 1.06348\nEpoch 357/500\n\r1168/1168 [==============================] - 0s 9us/step - loss: 0.9841 - acc: 0.0000e+00 - val_loss: 1.0635 - val_acc: 0.0000e+00\n"
     ]
    },
    {
     "name": "stdout",
     "output_type": "stream",
     "text": [
      "\nEpoch 00357: val_loss did not improve from 1.06348\nEpoch 358/500\n"
     ]
    },
    {
     "name": "stdout",
     "output_type": "stream",
     "text": [
      "\r1168/1168 [==============================] - 0s 9us/step - loss: 0.9855 - acc: 0.0000e+00 - val_loss: 1.0635 - val_acc: 0.0000e+00\n"
     ]
    },
    {
     "name": "stdout",
     "output_type": "stream",
     "text": [
      "\nEpoch 00358: val_loss did not improve from 1.06348\nEpoch 359/500\n"
     ]
    },
    {
     "name": "stdout",
     "output_type": "stream",
     "text": [
      "\r1168/1168 [==============================] - 0s 7us/step - loss: 0.9824 - acc: 0.0000e+00 - val_loss: 1.0635 - val_acc: 0.0000e+00\n"
     ]
    },
    {
     "name": "stdout",
     "output_type": "stream",
     "text": [
      "\nEpoch 00359: val_loss did not improve from 1.06348\nEpoch 360/500\n"
     ]
    },
    {
     "name": "stdout",
     "output_type": "stream",
     "text": [
      "\r1168/1168 [==============================] - 0s 8us/step - loss: 0.9839 - acc: 0.0000e+00 - val_loss: 1.0635 - val_acc: 0.0000e+00\n"
     ]
    },
    {
     "name": "stdout",
     "output_type": "stream",
     "text": [
      "\nEpoch 00360: val_loss did not improve from 1.06348\nEpoch 361/500\n\r1168/1168 [==============================] - 0s 7us/step - loss: 0.9842 - acc: 0.0000e+00 - val_loss: 1.0635 - val_acc: 0.0000e+00\n"
     ]
    },
    {
     "name": "stdout",
     "output_type": "stream",
     "text": [
      "\nEpoch 00361: val_loss did not improve from 1.06348\nEpoch 362/500\n"
     ]
    },
    {
     "name": "stdout",
     "output_type": "stream",
     "text": [
      "\r1168/1168 [==============================] - 0s 6us/step - loss: 0.9857 - acc: 0.0000e+00 - val_loss: 1.0635 - val_acc: 0.0000e+00\n"
     ]
    },
    {
     "name": "stdout",
     "output_type": "stream",
     "text": [
      "\nEpoch 00362: val_loss did not improve from 1.06348\nEpoch 363/500\n"
     ]
    },
    {
     "name": "stdout",
     "output_type": "stream",
     "text": [
      "\r1168/1168 [==============================] - 0s 9us/step - loss: 0.9849 - acc: 0.0000e+00 - val_loss: 1.0635 - val_acc: 0.0000e+00\n"
     ]
    },
    {
     "name": "stdout",
     "output_type": "stream",
     "text": [
      "\nEpoch 00363: val_loss did not improve from 1.06348\nEpoch 364/500\n\r1168/1168 [==============================] - 0s 8us/step - loss: 0.9845 - acc: 0.0000e+00 - val_loss: 1.0635 - val_acc: 0.0000e+00\n"
     ]
    },
    {
     "name": "stdout",
     "output_type": "stream",
     "text": [
      "\nEpoch 00364: val_loss did not improve from 1.06348\nEpoch 365/500\n"
     ]
    },
    {
     "name": "stdout",
     "output_type": "stream",
     "text": [
      "\r1168/1168 [==============================] - 0s 12us/step - loss: 0.9838 - acc: 0.0000e+00 - val_loss: 1.0635 - val_acc: 0.0000e+00\n"
     ]
    },
    {
     "name": "stdout",
     "output_type": "stream",
     "text": [
      "\nEpoch 00365: val_loss did not improve from 1.06348"
     ]
    },
    {
     "name": "stdout",
     "output_type": "stream",
     "text": [
      "\nEpoch 366/500\n\r1168/1168 [==============================] - 0s 8us/step - loss: 0.9865 - acc: 0.0000e+00 - val_loss: 1.0635 - val_acc: 0.0000e+00\n"
     ]
    },
    {
     "name": "stdout",
     "output_type": "stream",
     "text": [
      "\nEpoch 00366: val_loss did not improve from 1.06348\nEpoch 367/500\n"
     ]
    },
    {
     "name": "stdout",
     "output_type": "stream",
     "text": [
      "\r1168/1168 [==============================] - 0s 7us/step - loss: 0.9841 - acc: 0.0000e+00 - val_loss: 1.0635 - val_acc: 0.0000e+00\n"
     ]
    },
    {
     "name": "stdout",
     "output_type": "stream",
     "text": [
      "\nEpoch 00367: val_loss did not improve from 1.06348\nEpoch 368/500\n\r1168/1168 [==============================] - 0s 8us/step - loss: 0.9826 - acc: 0.0000e+00 - val_loss: 1.0635 - val_acc: 0.0000e+00\n"
     ]
    },
    {
     "name": "stdout",
     "output_type": "stream",
     "text": [
      "\nEpoch 00368: val_loss did not improve from 1.06348\nEpoch 369/500\n\r1168/1168 [==============================] - 0s 8us/step - loss: 0.9802 - acc: 0.0000e+00 - val_loss: 1.0635 - val_acc: 0.0000e+00\n"
     ]
    },
    {
     "name": "stdout",
     "output_type": "stream",
     "text": [
      "\nEpoch 00369: val_loss did not improve from 1.06348\nEpoch 370/500\n"
     ]
    },
    {
     "name": "stdout",
     "output_type": "stream",
     "text": [
      "\r1168/1168 [==============================] - 0s 7us/step - loss: 0.9843 - acc: 0.0000e+00 - val_loss: 1.0635 - val_acc: 0.0000e+00\n"
     ]
    },
    {
     "name": "stdout",
     "output_type": "stream",
     "text": [
      "\nEpoch 00370: val_loss did not improve from 1.06348\nEpoch 371/500\n\r1168/1168 [==============================] - 0s 8us/step - loss: 0.9834 - acc: 0.0000e+00 - val_loss: 1.0635 - val_acc: 0.0000e+00\n"
     ]
    },
    {
     "name": "stdout",
     "output_type": "stream",
     "text": [
      "\nEpoch 00371: val_loss did not improve from 1.06348\nEpoch 372/500\n\r1168/1168 [==============================] - 0s 7us/step - loss: 0.9866 - acc: 0.0000e+00 - val_loss: 1.0635 - val_acc: 0.0000e+00\n"
     ]
    },
    {
     "name": "stdout",
     "output_type": "stream",
     "text": [
      "\nEpoch 00372: val_loss did not improve from 1.06348\nEpoch 373/500\n"
     ]
    },
    {
     "name": "stdout",
     "output_type": "stream",
     "text": [
      "\r1168/1168 [==============================] - 0s 6us/step - loss: 0.9836 - acc: 0.0000e+00 - val_loss: 1.0635 - val_acc: 0.0000e+00\n"
     ]
    },
    {
     "name": "stdout",
     "output_type": "stream",
     "text": [
      "\nEpoch 00373: val_loss did not improve from 1.06348\nEpoch 374/500\n\r"
     ]
    },
    {
     "name": "stdout",
     "output_type": "stream",
     "text": [
      "1168/1168 [==============================] - 0s 8us/step - loss: 0.9846 - acc: 0.0000e+00 - val_loss: 1.0635 - val_acc: 0.0000e+00\n"
     ]
    },
    {
     "name": "stdout",
     "output_type": "stream",
     "text": [
      "\nEpoch 00374: val_loss did not improve from 1.06348\nEpoch 375/500\n\r1168/1168 [==============================] - 0s 8us/step - loss: 0.9861 - acc: 0.0000e+00 - val_loss: 1.0635 - val_acc: 0.0000e+00\n"
     ]
    },
    {
     "name": "stdout",
     "output_type": "stream",
     "text": [
      "\nEpoch 00375: val_loss did not improve from 1.06348\nEpoch 376/500\n"
     ]
    },
    {
     "name": "stdout",
     "output_type": "stream",
     "text": [
      "\r1168/1168 [==============================] - 0s 8us/step - loss: 0.9841 - acc: 0.0000e+00 - val_loss: 1.0635 - val_acc: 0.0000e+00\n"
     ]
    },
    {
     "name": "stdout",
     "output_type": "stream",
     "text": [
      "\nEpoch 00376: val_loss did not improve from 1.06348\nEpoch 377/500\n"
     ]
    },
    {
     "name": "stdout",
     "output_type": "stream",
     "text": [
      "\r1168/1168 [==============================] - 0s 9us/step - loss: 0.9846 - acc: 0.0000e+00 - val_loss: 1.0635 - val_acc: 0.0000e+00\n"
     ]
    },
    {
     "name": "stdout",
     "output_type": "stream",
     "text": [
      "\nEpoch 00377: val_loss did not improve from 1.06348\nEpoch 378/500\n\r1168/1168 [==============================] - 0s 7us/step - loss: 0.9843 - acc: 0.0000e+00 - val_loss: 1.0635 - val_acc: 0.0000e+00\n"
     ]
    },
    {
     "name": "stdout",
     "output_type": "stream",
     "text": [
      "\nEpoch 00378: val_loss did not improve from 1.06348\nEpoch 379/500\n"
     ]
    },
    {
     "name": "stdout",
     "output_type": "stream",
     "text": [
      "\r1168/1168 [==============================] - 0s 8us/step - loss: 0.9832 - acc: 0.0000e+00 - val_loss: 1.0635 - val_acc: 0.0000e+00\n"
     ]
    },
    {
     "name": "stdout",
     "output_type": "stream",
     "text": [
      "\nEpoch 00379: val_loss did not improve from 1.06348\nEpoch 380/500\n"
     ]
    },
    {
     "name": "stdout",
     "output_type": "stream",
     "text": [
      "\r1168/1168 [==============================] - 0s 7us/step - loss: 0.9835 - acc: 0.0000e+00 - val_loss: 1.0635 - val_acc: 0.0000e+00\n"
     ]
    },
    {
     "name": "stdout",
     "output_type": "stream",
     "text": [
      "\nEpoch 00380: val_loss did not improve from 1.06348\nEpoch 381/500\n\r1168/1168 [==============================] - 0s 8us/step - loss: 0.9843 - acc: 0.0000e+00 - val_loss: 1.0635 - val_acc: 0.0000e+00\n"
     ]
    },
    {
     "name": "stdout",
     "output_type": "stream",
     "text": [
      "\nEpoch 00381: val_loss did not improve from 1.06348\nEpoch 382/500\n"
     ]
    },
    {
     "name": "stdout",
     "output_type": "stream",
     "text": [
      "\r1168/1168 [==============================] - 0s 8us/step - loss: 0.9845 - acc: 0.0000e+00 - val_loss: 1.0635 - val_acc: 0.0000e+00\n"
     ]
    },
    {
     "name": "stdout",
     "output_type": "stream",
     "text": [
      "\nEpoch 00382: val_loss did not improve from 1.06348\nEpoch 383/500\n"
     ]
    },
    {
     "name": "stdout",
     "output_type": "stream",
     "text": [
      "\r1168/1168 [==============================] - 0s 7us/step - loss: 0.9841 - acc: 0.0000e+00 - val_loss: 1.0635 - val_acc: 0.0000e+00\n"
     ]
    },
    {
     "name": "stdout",
     "output_type": "stream",
     "text": [
      "\nEpoch 00383: val_loss did not improve from 1.06348\nEpoch 384/500\n\r1168/1168 [==============================] - 0s 9us/step - loss: 0.9841 - acc: 0.0000e+00 - val_loss: 1.0635 - val_acc: 0.0000e+00\n"
     ]
    },
    {
     "name": "stdout",
     "output_type": "stream",
     "text": [
      "\nEpoch 00384: val_loss did not improve from 1.06348\nEpoch 385/500\n\r1168/1168 [==============================] - 0s 7us/step - loss: 0.9834 - acc: 0.0000e+00 - val_loss: 1.0635 - val_acc: 0.0000e+00\n"
     ]
    },
    {
     "name": "stdout",
     "output_type": "stream",
     "text": [
      "\nEpoch 00385: val_loss did not improve from 1.06348\nEpoch 386/500\n"
     ]
    },
    {
     "name": "stdout",
     "output_type": "stream",
     "text": [
      "\r1168/1168 [==============================] - 0s 8us/step - loss: 0.9849 - acc: 0.0000e+00 - val_loss: 1.0635 - val_acc: 0.0000e+00\n"
     ]
    },
    {
     "name": "stdout",
     "output_type": "stream",
     "text": [
      "\nEpoch 00386: val_loss did not improve from 1.06348\nEpoch 387/500\n"
     ]
    },
    {
     "name": "stdout",
     "output_type": "stream",
     "text": [
      "\r1168/1168 [==============================] - 0s 7us/step - loss: 0.9829 - acc: 0.0000e+00 - val_loss: 1.0635 - val_acc: 0.0000e+00\n"
     ]
    },
    {
     "name": "stdout",
     "output_type": "stream",
     "text": [
      "\nEpoch 00387: val_loss did not improve from 1.06348\nEpoch 388/500\n\r"
     ]
    },
    {
     "name": "stdout",
     "output_type": "stream",
     "text": [
      "1168/1168 [==============================] - 0s 8us/step - loss: 0.9841 - acc: 0.0000e+00 - val_loss: 1.0635 - val_acc: 0.0000e+00\n"
     ]
    },
    {
     "name": "stdout",
     "output_type": "stream",
     "text": [
      "\nEpoch 00388: val_loss did not improve from 1.06348\nEpoch 389/500\n\r1168/1168 [==============================] - 0s 7us/step - loss: 0.9843 - acc: 0.0000e+00 - val_loss: 1.0635 - val_acc: 0.0000e+00\n"
     ]
    },
    {
     "name": "stdout",
     "output_type": "stream",
     "text": [
      "\nEpoch 00389: val_loss did not improve from 1.06348\nEpoch 390/500\n"
     ]
    },
    {
     "name": "stdout",
     "output_type": "stream",
     "text": [
      "\r1168/1168 [==============================] - 0s 9us/step - loss: 0.9844 - acc: 0.0000e+00 - val_loss: 1.0635 - val_acc: 0.0000e+00\n"
     ]
    },
    {
     "name": "stdout",
     "output_type": "stream",
     "text": [
      "\nEpoch 00390: val_loss did not improve from 1.06348\nEpoch 391/500\n"
     ]
    },
    {
     "name": "stdout",
     "output_type": "stream",
     "text": [
      "\r1168/1168 [==============================] - 0s 7us/step - loss: 0.9854 - acc: 0.0000e+00 - val_loss: 1.0635 - val_acc: 0.0000e+00\n"
     ]
    },
    {
     "name": "stdout",
     "output_type": "stream",
     "text": [
      "\nEpoch 00391: val_loss did not improve from 1.06348\nEpoch 392/500\n"
     ]
    },
    {
     "name": "stdout",
     "output_type": "stream",
     "text": [
      "\r1168/1168 [==============================] - 0s 9us/step - loss: 0.9841 - acc: 0.0000e+00 - val_loss: 1.0635 - val_acc: 0.0000e+00\n"
     ]
    },
    {
     "name": "stdout",
     "output_type": "stream",
     "text": [
      "\nEpoch 00392: val_loss did not improve from 1.06348\nEpoch 393/500\n"
     ]
    },
    {
     "name": "stdout",
     "output_type": "stream",
     "text": [
      "\r1168/1168 [==============================] - 0s 9us/step - loss: 0.9823 - acc: 0.0000e+00 - val_loss: 1.0635 - val_acc: 0.0000e+00\n"
     ]
    },
    {
     "name": "stdout",
     "output_type": "stream",
     "text": [
      "\nEpoch 00393: val_loss did not improve from 1.06348\nEpoch 394/500\n\r1168/1168 [==============================] - 0s 7us/step - loss: 0.9850 - acc: 0.0000e+00 - val_loss: 1.0635 - val_acc: 0.0000e+00\n"
     ]
    },
    {
     "name": "stdout",
     "output_type": "stream",
     "text": [
      "\nEpoch 00394: val_loss did not improve from 1.06348"
     ]
    },
    {
     "name": "stdout",
     "output_type": "stream",
     "text": [
      "\nEpoch 395/500\n\r1168/1168 [==============================] - 0s 8us/step - loss: 0.9844 - acc: 0.0000e+00 - val_loss: 1.0635 - val_acc: 0.0000e+00\n"
     ]
    },
    {
     "name": "stdout",
     "output_type": "stream",
     "text": [
      "\nEpoch 00395: val_loss did not improve from 1.06348\nEpoch 396/500\n"
     ]
    },
    {
     "name": "stdout",
     "output_type": "stream",
     "text": [
      "\r1168/1168 [==============================] - 0s 7us/step - loss: 0.9810 - acc: 0.0000e+00 - val_loss: 1.0635 - val_acc: 0.0000e+00\n"
     ]
    },
    {
     "name": "stdout",
     "output_type": "stream",
     "text": [
      "\nEpoch 00396: val_loss did not improve from 1.06348\nEpoch 397/500\n\r1168/1168 [==============================] - 0s 7us/step - loss: 0.9842 - acc: 0.0000e+00 - val_loss: 1.0635 - val_acc: 0.0000e+00\n"
     ]
    },
    {
     "name": "stdout",
     "output_type": "stream",
     "text": [
      "\nEpoch 00397: val_loss did not improve from 1.06348\nEpoch 398/500\n\r1168/1168 [==============================] - 0s 7us/step - loss: 0.9841 - acc: 0.0000e+00 - val_loss: 1.0635 - val_acc: 0.0000e+00\n"
     ]
    },
    {
     "name": "stdout",
     "output_type": "stream",
     "text": [
      "\nEpoch 00398: val_loss did not improve from 1.06348\nEpoch 399/500\n"
     ]
    },
    {
     "name": "stdout",
     "output_type": "stream",
     "text": [
      "\r1168/1168 [==============================] - 0s 6us/step - loss: 0.9800 - acc: 0.0000e+00 - val_loss: 1.0635 - val_acc: 0.0000e+00\n"
     ]
    },
    {
     "name": "stdout",
     "output_type": "stream",
     "text": [
      "\nEpoch 00399: val_loss did not improve from 1.06348\nEpoch 400/500\n\r1168/1168 [==============================]"
     ]
    },
    {
     "name": "stdout",
     "output_type": "stream",
     "text": [
      " - 0s 9us/step - loss: 0.9847 - acc: 0.0000e+00 - val_loss: 1.0635 - val_acc: 0.0000e+00\n"
     ]
    },
    {
     "name": "stdout",
     "output_type": "stream",
     "text": [
      "\nEpoch 00400: val_loss did not improve from 1.06348\nEpoch 401/500\n\r1168/1168 [==============================] - 0s 8us/step - loss: 0.9803 - acc: 0.0000e+00 - val_loss: 1.0635 - val_acc: 0.0000e+00\n"
     ]
    },
    {
     "name": "stdout",
     "output_type": "stream",
     "text": [
      "\nEpoch 00401: val_loss did not improve from 1.06348\nEpoch 402/500\n"
     ]
    },
    {
     "name": "stdout",
     "output_type": "stream",
     "text": [
      "\r1168/1168 [==============================] - 0s 7us/step - loss: 0.9848 - acc: 0.0000e+00 - val_loss: 1.0635 - val_acc: 0.0000e+00\n"
     ]
    },
    {
     "name": "stdout",
     "output_type": "stream",
     "text": [
      "\nEpoch 00402: val_loss did not improve from 1.06348\nEpoch 403/500\n"
     ]
    },
    {
     "name": "stdout",
     "output_type": "stream",
     "text": [
      "\r1168/1168 [==============================] - 0s 9us/step - loss: 0.9841 - acc: 0.0000e+00 - val_loss: 1.0635 - val_acc: 0.0000e+00\n"
     ]
    },
    {
     "name": "stdout",
     "output_type": "stream",
     "text": [
      "\nEpoch 00403: val_loss did not improve from 1.06348\nEpoch 404/500\n\r1168/1168 [==============================] - 0s 8us/step - loss: 0.9805 - acc: 0.0000e+00 - val_loss: 1.0635 - val_acc: 0.0000e+00\n"
     ]
    },
    {
     "name": "stdout",
     "output_type": "stream",
     "text": [
      "\nEpoch 00404: val_loss did not improve from 1.06348\nEpoch 405/500\n"
     ]
    },
    {
     "name": "stdout",
     "output_type": "stream",
     "text": [
      "\r1168/1168 [==============================] - 0s 8us/step - loss: 0.9811 - acc: 0.0000e+00 - val_loss: 1.0635 - val_acc: 0.0000e+00\n"
     ]
    },
    {
     "name": "stdout",
     "output_type": "stream",
     "text": [
      "\nEpoch 00405: val_loss did not improve from 1.06348\nEpoch 406/500\n"
     ]
    },
    {
     "name": "stdout",
     "output_type": "stream",
     "text": [
      "\r1168/1168 [==============================] - 0s 8us/step - loss: 0.9840 - acc: 0.0000e+00 - val_loss: 1.0635 - val_acc: 0.0000e+00\n"
     ]
    },
    {
     "name": "stdout",
     "output_type": "stream",
     "text": [
      "\nEpoch 00406: val_loss did not improve from 1.06348\nEpoch 407/500\n\r"
     ]
    },
    {
     "name": "stdout",
     "output_type": "stream",
     "text": [
      "1168/1168 [==============================] - 0s 9us/step - loss: 0.9847 - acc: 0.0000e+00 - val_loss: 1.0635 - val_acc: 0.0000e+00\n"
     ]
    },
    {
     "name": "stdout",
     "output_type": "stream",
     "text": [
      "\nEpoch 00407: val_loss did not improve from 1.06348\nEpoch 408/500\n\r1168/1168 [==============================] - 0s 10us/step - loss: 0.9841 - acc: 0.0000e+00 - val_loss: 1.0635 - val_acc: 0.0000e+00\n"
     ]
    },
    {
     "name": "stdout",
     "output_type": "stream",
     "text": [
      "\nEpoch 00408: val_loss did not improve from 1.06348\nEpoch 409/500\n\r1168/1168 [==============================] - 0s 6us/step - loss: 0.9821 - acc: 0.0000e+00 - val_loss: 1.0635 - val_acc: 0.0000e+00\n"
     ]
    },
    {
     "name": "stdout",
     "output_type": "stream",
     "text": [
      "\nEpoch 00409: val_loss did not improve from 1.06348\nEpoch 410/500\n"
     ]
    },
    {
     "name": "stdout",
     "output_type": "stream",
     "text": [
      "\r1168/1168 [==============================] - 0s 7us/step - loss: 0.9852 - acc: 0.0000e+00 - val_loss: 1.0635 - val_acc: 0.0000e+00\n"
     ]
    },
    {
     "name": "stdout",
     "output_type": "stream",
     "text": [
      "\nEpoch 00410: val_loss did not improve from 1.06348\nEpoch 411/500\n\r1168/1168 [==============================] - 0s 7us/step - loss: 0.9838 - acc: 0.0000e+00 - val_loss: 1.0635 - val_acc: 0.0000e+00\n"
     ]
    },
    {
     "name": "stdout",
     "output_type": "stream",
     "text": [
      "\nEpoch 00411: val_loss did not improve from 1.06348\nEpoch 412/500"
     ]
    },
    {
     "name": "stdout",
     "output_type": "stream",
     "text": [
      "\n\r1168/1168 [==============================] - 0s 7us/step - loss: 0.9838 - acc: 0.0000e+00 - val_loss: 1.0635 - val_acc: 0.0000e+00\n"
     ]
    },
    {
     "name": "stdout",
     "output_type": "stream",
     "text": [
      "\nEpoch 00412: val_loss did not improve from 1.06348\nEpoch 413/500\n"
     ]
    },
    {
     "name": "stdout",
     "output_type": "stream",
     "text": [
      "\r1168/1168 [==============================] - 0s 6us/step - loss: 0.9841 - acc: 0.0000e+00 - val_loss: 1.0635 - val_acc: 0.0000e+00\n"
     ]
    },
    {
     "name": "stdout",
     "output_type": "stream",
     "text": [
      "\nEpoch 00413: val_loss did not improve from 1.06348\nEpoch 414/500\n"
     ]
    },
    {
     "name": "stdout",
     "output_type": "stream",
     "text": [
      "\r1168/1168 [==============================] - 0s 8us/step - loss: 0.9839 - acc: 0.0000e+00 - val_loss: 1.0635 - val_acc: 0.0000e+00\n"
     ]
    },
    {
     "name": "stdout",
     "output_type": "stream",
     "text": [
      "\nEpoch 00414: val_loss did not improve from 1.06348\nEpoch 415/500\n\r1168/1168 [==============================] - 0s 9us/step - loss: 0.9827 - acc: 0.0000e+00 - val_loss: 1.0635 - val_acc: 0.0000e+00\n"
     ]
    },
    {
     "name": "stdout",
     "output_type": "stream",
     "text": [
      "\nEpoch 00415: val_loss did not improve from 1.06348\nEpoch 416/500\n"
     ]
    },
    {
     "name": "stdout",
     "output_type": "stream",
     "text": [
      "\r1168/1168 [==============================] - 0s 7us/step - loss: 0.9826 - acc: 0.0000e+00 - val_loss: 1.0635 - val_acc: 0.0000e+00\n"
     ]
    },
    {
     "name": "stdout",
     "output_type": "stream",
     "text": [
      "\nEpoch 00416: val_loss did not improve from 1.06348\nEpoch 417/500\n"
     ]
    },
    {
     "name": "stdout",
     "output_type": "stream",
     "text": [
      "\r1168/1168 [==============================] - 0s 7us/step - loss: 0.9835 - acc: 0.0000e+00 - val_loss: 1.0635 - val_acc: 0.0000e+00\n"
     ]
    },
    {
     "name": "stdout",
     "output_type": "stream",
     "text": [
      "\nEpoch 00417: val_loss did not improve from 1.06348\nEpoch 418/500\n\r1168/1168 [==============================] - 0s 9us/step - loss: 0.9835 - acc: 0.0000e+00 - val_loss: 1.0635 - val_acc: 0.0000e+00\n"
     ]
    },
    {
     "name": "stdout",
     "output_type": "stream",
     "text": [
      "\nEpoch 00418: val_loss did not improve from 1.06348\nEpoch 419/500\n"
     ]
    },
    {
     "name": "stdout",
     "output_type": "stream",
     "text": [
      "\r1168/1168 [==============================] - 0s 9us/step - loss: 0.9803 - acc: 0.0000e+00 - val_loss: 1.0635 - val_acc: 0.0000e+00\n"
     ]
    },
    {
     "name": "stdout",
     "output_type": "stream",
     "text": [
      "\nEpoch 00419: val_loss did not improve from 1.06348\nEpoch 420/500\n"
     ]
    },
    {
     "name": "stdout",
     "output_type": "stream",
     "text": [
      "\r1168/1168 [==============================] - 0s 7us/step - loss: 0.9841 - acc: 0.0000e+00 - val_loss: 1.0635 - val_acc: 0.0000e+00\n"
     ]
    },
    {
     "name": "stdout",
     "output_type": "stream",
     "text": [
      "\nEpoch 00420: val_loss did not improve from 1.06348\nEpoch 421/500\n"
     ]
    },
    {
     "name": "stdout",
     "output_type": "stream",
     "text": [
      "\r1168/1168 [==============================] - 0s 8us/step - loss: 0.9826 - acc: 0.0000e+00 - val_loss: 1.0635 - val_acc: 0.0000e+00\n"
     ]
    },
    {
     "name": "stdout",
     "output_type": "stream",
     "text": [
      "\nEpoch 00421: val_loss did not improve from 1.06348\nEpoch 422/500\n\r"
     ]
    },
    {
     "name": "stdout",
     "output_type": "stream",
     "text": [
      "1168/1168 [==============================] - 0s 8us/step - loss: 0.9859 - acc: 0.0000e+00 - val_loss: 1.0635 - val_acc: 0.0000e+00\n"
     ]
    },
    {
     "name": "stdout",
     "output_type": "stream",
     "text": [
      "\nEpoch 00422: val_loss did not improve from 1.06348\nEpoch 423/500\n\r1168/1168 [==============================] - 0s 9us/step - loss: 0.9814 - acc: 0.0000e+00 - val_loss: 1.0635 - val_acc: 0.0000e+00\n"
     ]
    },
    {
     "name": "stdout",
     "output_type": "stream",
     "text": [
      "\nEpoch 00423: val_loss did not improve from 1.06348\nEpoch 424/500\n"
     ]
    },
    {
     "name": "stdout",
     "output_type": "stream",
     "text": [
      "\r1168/1168 [==============================] - 0s 8us/step - loss: 0.9841 - acc: 0.0000e+00 - val_loss: 1.0635 - val_acc: 0.0000e+00\n"
     ]
    },
    {
     "name": "stdout",
     "output_type": "stream",
     "text": [
      "\nEpoch 00424: val_loss did not improve from 1.06348\nEpoch 425/500\n"
     ]
    },
    {
     "name": "stdout",
     "output_type": "stream",
     "text": [
      "\r1168/1168 [==============================] - 0s 6us/step - loss: 0.9841 - acc: 0.0000e+00 - val_loss: 1.0635 - val_acc: 0.0000e+00\n"
     ]
    },
    {
     "name": "stdout",
     "output_type": "stream",
     "text": [
      "\nEpoch 00425: val_loss did not improve from 1.06348\nEpoch 426/500\n"
     ]
    },
    {
     "name": "stdout",
     "output_type": "stream",
     "text": [
      "\r1168/1168 [==============================] - 0s 8us/step - loss: 0.9839 - acc: 0.0000e+00 - val_loss: 1.0635 - val_acc: 0.0000e+00\n"
     ]
    },
    {
     "name": "stdout",
     "output_type": "stream",
     "text": [
      "\nEpoch 00426: val_loss did not improve from 1.06348\nEpoch 427/500\n\r1168/1168 [==============================] - 0s 8us/step - loss: 0.9842 - acc: 0.0000e+00 - val_loss: 1.0635 - val_acc: 0.0000e+00\n"
     ]
    },
    {
     "name": "stdout",
     "output_type": "stream",
     "text": [
      "\nEpoch 00427: val_loss did not improve from 1.06348\nEpoch 428/500\n"
     ]
    },
    {
     "name": "stdout",
     "output_type": "stream",
     "text": [
      "\r1168/1168 [==============================] - 0s 6us/step - loss: 0.9841 - acc: 0.0000e+00 - val_loss: 1.0635 - val_acc: 0.0000e+00\n"
     ]
    },
    {
     "name": "stdout",
     "output_type": "stream",
     "text": [
      "\nEpoch 00428: val_loss did not improve from 1.06348\nEpoch 429/500\n"
     ]
    },
    {
     "name": "stdout",
     "output_type": "stream",
     "text": [
      "\r1168/1168 [==============================] - 0s 9us/step - loss: 0.9841 - acc: 0.0000e+00 - val_loss: 1.0635 - val_acc: 0.0000e+00\n"
     ]
    },
    {
     "name": "stdout",
     "output_type": "stream",
     "text": [
      "\nEpoch 00429: val_loss did not improve from 1.06348\nEpoch 430/500\n\r1168/1168 [==============================] - 0s 8us/step - loss: 0.9842 - acc: 0.0000e+00 - val_loss: 1.0635 - val_acc: 0.0000e+00\n"
     ]
    },
    {
     "name": "stdout",
     "output_type": "stream",
     "text": [
      "\nEpoch 00430: val_loss did not improve from 1.06348\nEpoch 431/500\n"
     ]
    },
    {
     "name": "stdout",
     "output_type": "stream",
     "text": [
      "\r1168/1168 [==============================] - 0s 9us/step - loss: 0.9841 - acc: 0.0000e+00 - val_loss: 1.0635 - val_acc: 0.0000e+00\n"
     ]
    },
    {
     "name": "stdout",
     "output_type": "stream",
     "text": [
      "\nEpoch 00431: val_loss did not improve from 1.06348\nEpoch 432/500\n"
     ]
    },
    {
     "name": "stdout",
     "output_type": "stream",
     "text": [
      "\r1168/1168 [==============================] - 0s 8us/step - loss: 0.9914 - acc: 0.0000e+00 - val_loss: 1.0635 - val_acc: 0.0000e+00\n"
     ]
    },
    {
     "name": "stdout",
     "output_type": "stream",
     "text": [
      "\nEpoch 00432: val_loss did not improve from 1.06348\nEpoch 433/500\n"
     ]
    },
    {
     "name": "stdout",
     "output_type": "stream",
     "text": [
      "\r1168/1168 [==============================] - 0s 9us/step - loss: 0.9841 - acc: 0.0000e+00 - val_loss: 1.0635 - val_acc: 0.0000e+00\n"
     ]
    },
    {
     "name": "stdout",
     "output_type": "stream",
     "text": [
      "\nEpoch 00433: val_loss did not improve from 1.06348\nEpoch 434/500\n"
     ]
    },
    {
     "name": "stdout",
     "output_type": "stream",
     "text": [
      "\r1168/1168 [==============================] - 0s 10us/step - loss: 0.9859 - acc: 0.0000e+00 - val_loss: 1.0635 - val_acc: 0.0000e+00\n"
     ]
    },
    {
     "name": "stdout",
     "output_type": "stream",
     "text": [
      "\nEpoch 00434: val_loss did not improve from 1.06348\nEpoch 435/500\n"
     ]
    },
    {
     "name": "stdout",
     "output_type": "stream",
     "text": [
      "\r1168/1168 [==============================] - 0s 9us/step - loss: 0.9841 - acc: 0.0000e+00 - val_loss: 1.0635 - val_acc: 0.0000e+00\n"
     ]
    },
    {
     "name": "stdout",
     "output_type": "stream",
     "text": [
      "\nEpoch 00435: val_loss did not improve from 1.06348\nEpoch 436/500\n\r1168/1168 [==============================] - 0s 10us/step - loss: 0.9843 - acc: 0.0000e+00 - val_loss: 1.0635 - val_acc: 0.0000e+00\n"
     ]
    },
    {
     "name": "stdout",
     "output_type": "stream",
     "text": [
      "\nEpoch 00436: val_loss did not improve from 1.06348\nEpoch 437/500\n\r1168/1168 [==============================] - 0s 7us/step - loss: 0.9841 - acc: 0.0000e+00 - val_loss: 1.0635 - val_acc: 0.0000e+00\n"
     ]
    },
    {
     "name": "stdout",
     "output_type": "stream",
     "text": [
      "\nEpoch 00437: val_loss did not improve from 1.06348\nEpoch 438/500\n"
     ]
    },
    {
     "name": "stdout",
     "output_type": "stream",
     "text": [
      "\r1168/1168 [==============================] - 0s 9us/step - loss: 0.9841 - acc: 0.0000e+00 - val_loss: 1.0635 - val_acc: 0.0000e+00\n"
     ]
    },
    {
     "name": "stdout",
     "output_type": "stream",
     "text": [
      "\nEpoch 00438: val_loss did not improve from 1.06348\nEpoch 439/500\n"
     ]
    },
    {
     "name": "stdout",
     "output_type": "stream",
     "text": [
      "\r1168/1168 [==============================] - 0s 8us/step - loss: 0.9854 - acc: 0.0000e+00 - val_loss: 1.0635 - val_acc: 0.0000e+00\n"
     ]
    },
    {
     "name": "stdout",
     "output_type": "stream",
     "text": [
      "\nEpoch 00439: val_loss did not improve from 1.06348\nEpoch 440/500\n\r"
     ]
    },
    {
     "name": "stdout",
     "output_type": "stream",
     "text": [
      "1168/1168 [==============================] - 0s 9us/step - loss: 0.9820 - acc: 0.0000e+00 - val_loss: 1.0635 - val_acc: 0.0000e+00\n"
     ]
    },
    {
     "name": "stdout",
     "output_type": "stream",
     "text": [
      "\nEpoch 00440: val_loss did not improve from 1.06348\nEpoch 441/500\n\r1168/1168 [==============================] - 0s 8us/step - loss: 0.9841 - acc: 0.0000e+00 - val_loss: 1.0635 - val_acc: 0.0000e+00\n"
     ]
    },
    {
     "name": "stdout",
     "output_type": "stream",
     "text": [
      "\nEpoch 00441: val_loss did not improve from 1.06348\nEpoch 442/500\n"
     ]
    },
    {
     "name": "stdout",
     "output_type": "stream",
     "text": [
      "\r1168/1168 [==============================] - 0s 7us/step - loss: 0.9825 - acc: 0.0000e+00 - val_loss: 1.0635 - val_acc: 0.0000e+00\n"
     ]
    },
    {
     "name": "stdout",
     "output_type": "stream",
     "text": [
      "\nEpoch 00442: val_loss did not improve from 1.06348\nEpoch 443/500\n"
     ]
    },
    {
     "name": "stdout",
     "output_type": "stream",
     "text": [
      "\r1168/1168 [==============================] - 0s 9us/step - loss: 0.9828 - acc: 0.0000e+00 - val_loss: 1.0635 - val_acc: 0.0000e+00\n"
     ]
    },
    {
     "name": "stdout",
     "output_type": "stream",
     "text": [
      "\nEpoch 00443: val_loss did not improve from 1.06348\nEpoch 444/500\n\r1168/1168 [==============================] - 0s 9us/step - loss: 0.9859 - acc: 0.0000e+00 - val_loss: 1.0635 - val_acc: 0.0000e+00\n"
     ]
    },
    {
     "name": "stdout",
     "output_type": "stream",
     "text": [
      "\nEpoch 00444: val_loss did not improve from 1.06348\nEpoch 445/500\n"
     ]
    },
    {
     "name": "stdout",
     "output_type": "stream",
     "text": [
      "\r1168/1168 [==============================] - 0s 8us/step - loss: 0.9842 - acc: 0.0000e+00 - val_loss: 1.0635 - val_acc: 0.0000e+00\n"
     ]
    },
    {
     "name": "stdout",
     "output_type": "stream",
     "text": [
      "\nEpoch 00445: val_loss did not improve from 1.06348\nEpoch 446/500\n"
     ]
    },
    {
     "name": "stdout",
     "output_type": "stream",
     "text": [
      "\r1168/1168 [==============================] - 0s 8us/step - loss: 0.9830 - acc: 0.0000e+00 - val_loss: 1.0635 - val_acc: 0.0000e+00\n"
     ]
    },
    {
     "name": "stdout",
     "output_type": "stream",
     "text": [
      "\nEpoch 00446: val_loss did not improve from 1.06348\nEpoch 447/500\n\r1168/1168 [==============================] - 0s 8us/step - loss: 0.9842 - acc: 0.0000e+00 - val_loss: 1.0635 - val_acc: 0.0000e+00\n"
     ]
    },
    {
     "name": "stdout",
     "output_type": "stream",
     "text": [
      "\nEpoch 00447: val_loss did not improve from 1.06348\nEpoch 448/500\n"
     ]
    },
    {
     "name": "stdout",
     "output_type": "stream",
     "text": [
      "\r1168/1168 [==============================] - 0s 9us/step - loss: 0.9845 - acc: 0.0000e+00 - val_loss: 1.0635 - val_acc: 0.0000e+00\n"
     ]
    },
    {
     "name": "stdout",
     "output_type": "stream",
     "text": [
      "\nEpoch 00448: val_loss did not improve from 1.06348\nEpoch 449/500\n"
     ]
    },
    {
     "name": "stdout",
     "output_type": "stream",
     "text": [
      "\r1168/1168 [==============================] - 0s 8us/step - loss: 0.9845 - acc: 0.0000e+00 - val_loss: 1.0635 - val_acc: 0.0000e+00\n"
     ]
    },
    {
     "name": "stdout",
     "output_type": "stream",
     "text": [
      "\nEpoch 00449: val_loss did not improve from 1.06348\nEpoch 450/500\n"
     ]
    },
    {
     "name": "stdout",
     "output_type": "stream",
     "text": [
      "\r1168/1168 [==============================] - 0s 8us/step - loss: 0.9829 - acc: 0.0000e+00 - val_loss: 1.0635 - val_acc: 0.0000e+00\n"
     ]
    },
    {
     "name": "stdout",
     "output_type": "stream",
     "text": [
      "\nEpoch 00450: val_loss did not improve from 1.06348\nEpoch 451/500\n\r1168/1168 [==============================] - 0s 8us/step - loss: 0.9837 - acc: 0.0000e+00 - val_loss: 1.0635 - val_acc: 0.0000e+00\n"
     ]
    },
    {
     "name": "stdout",
     "output_type": "stream",
     "text": [
      "\nEpoch 00451: val_loss did not improve from 1.06348\nEpoch 452/500\n"
     ]
    },
    {
     "name": "stdout",
     "output_type": "stream",
     "text": [
      "\r1168/1168 [==============================] - 0s 7us/step - loss: 0.9845 - acc: 0.0000e+00 - val_loss: 1.0635 - val_acc: 0.0000e+00\n"
     ]
    },
    {
     "name": "stdout",
     "output_type": "stream",
     "text": [
      "\nEpoch 00452: val_loss did not improve from 1.06348\nEpoch 453/500\n"
     ]
    },
    {
     "name": "stdout",
     "output_type": "stream",
     "text": [
      "\r1168/1168 [==============================] - 0s 8us/step - loss: 0.9841 - acc: 0.0000e+00 - val_loss: 1.0635 - val_acc: 0.0000e+00\n"
     ]
    },
    {
     "name": "stdout",
     "output_type": "stream",
     "text": [
      "\nEpoch 00453: val_loss did not improve from 1.06348\nEpoch 454/500\n\r1168/1168 [==============================] - 0s 8us/step - loss: 0.9849 - acc: 0.0000e+00 - val_loss: 1.0635 - val_acc: 0.0000e+00\n"
     ]
    },
    {
     "name": "stdout",
     "output_type": "stream",
     "text": [
      "\nEpoch 00454: val_loss did not improve from 1.06348\nEpoch 455/500\n"
     ]
    },
    {
     "name": "stdout",
     "output_type": "stream",
     "text": [
      "\r1168/1168 [==============================] - 0s 9us/step - loss: 0.9811 - acc: 0.0000e+00 - val_loss: 1.0635 - val_acc: 0.0000e+00\n"
     ]
    },
    {
     "name": "stdout",
     "output_type": "stream",
     "text": [
      "\nEpoch 00455: val_loss did not improve from 1.06348\nEpoch 456/500\n"
     ]
    },
    {
     "name": "stdout",
     "output_type": "stream",
     "text": [
      "\r1168/1168 [==============================] - 0s 6us/step - loss: 0.9844 - acc: 0.0000e+00 - val_loss: 1.0635 - val_acc: 0.0000e+00\n"
     ]
    },
    {
     "name": "stdout",
     "output_type": "stream",
     "text": [
      "\nEpoch 00456: val_loss did not improve from 1.06348\nEpoch 457/500\n\r1168/1168 [==============================] - 0s 8us/step - loss: 0.9824 - acc: 0.0000e+00 - val_loss: 1.0635 - val_acc: 0.0000e+00\n"
     ]
    },
    {
     "name": "stdout",
     "output_type": "stream",
     "text": [
      "\nEpoch 00457: val_loss did not improve from 1.06348\nEpoch 458/500\n"
     ]
    },
    {
     "name": "stdout",
     "output_type": "stream",
     "text": [
      "\r1168/1168 [==============================] - 0s 8us/step - loss: 0.9838 - acc: 0.0000e+00 - val_loss: 1.0635 - val_acc: 0.0000e+00\n"
     ]
    },
    {
     "name": "stdout",
     "output_type": "stream",
     "text": [
      "\nEpoch 00458: val_loss did not improve from 1.06348\nEpoch 459/500\n\r1168/1168 [==============================] - 0s 6us/step - loss: 0.9834 - acc: 0.0000e+00 - val_loss: 1.0635 - val_acc: 0.0000e+00\n"
     ]
    },
    {
     "name": "stdout",
     "output_type": "stream",
     "text": [
      "\nEpoch 00459: val_loss did not improve from 1.06348\nEpoch 460/500\n\r1168/1168 [==============================] - 0s 8us/step - loss: 0.9841 - acc: 0.0000e+00 - val_loss: 1.0635 - val_acc: 0.0000e+00\n"
     ]
    },
    {
     "name": "stdout",
     "output_type": "stream",
     "text": [
      "\nEpoch 00460: val_loss did not improve from 1.06348\nEpoch 461/500\n\r1168/1168 [==============================] - 0s 6us/step - loss: 0.9841 - acc: 0.0000e+00 - val_loss: 1.0635 - val_acc: 0.0000e+00\n"
     ]
    },
    {
     "name": "stdout",
     "output_type": "stream",
     "text": [
      "\nEpoch 00461: val_loss did not improve from 1.06348\nEpoch 462/500\n"
     ]
    },
    {
     "name": "stdout",
     "output_type": "stream",
     "text": [
      "\r1168/1168 [==============================] - 0s 7us/step - loss: 0.9830 - acc: 0.0000e+00 - val_loss: 1.0635 - val_acc: 0.0000e+00\n"
     ]
    },
    {
     "name": "stdout",
     "output_type": "stream",
     "text": [
      "\nEpoch 00462: val_loss did not improve from 1.06348\nEpoch 463/500\n"
     ]
    },
    {
     "name": "stdout",
     "output_type": "stream",
     "text": [
      "\r1168/1168 [==============================] - 0s 9us/step - loss: 0.9817 - acc: 0.0000e+00 - val_loss: 1.0635 - val_acc: 0.0000e+00\n"
     ]
    },
    {
     "name": "stdout",
     "output_type": "stream",
     "text": [
      "\nEpoch 00463: val_loss did not improve from 1.06348\nEpoch 464/500\n\r1168/1168 [==============================] - 0s 8us/step - loss: 0.9820 - acc: 0.0000e+00 - val_loss: 1.0635 - val_acc: 0.0000e+00\n"
     ]
    },
    {
     "name": "stdout",
     "output_type": "stream",
     "text": [
      "\nEpoch 00464: val_loss did not improve from 1.06348\nEpoch 465/500\n\r1168/1168 [==============================] - 0s 6us/step - loss: 0.9820 - acc: 0.0000e+00 - val_loss: 1.0635 - val_acc: 0.0000e+00\n"
     ]
    },
    {
     "name": "stdout",
     "output_type": "stream",
     "text": [
      "\nEpoch 00465: val_loss did not improve from 1.06348\nEpoch 466/500\n"
     ]
    },
    {
     "name": "stdout",
     "output_type": "stream",
     "text": [
      "\r1168/1168 [==============================] - 0s 8us/step - loss: 0.9842 - acc: 0.0000e+00 - val_loss: 1.0635 - val_acc: 0.0000e+00\n"
     ]
    },
    {
     "name": "stdout",
     "output_type": "stream",
     "text": [
      "\nEpoch 00466: val_loss did not improve from 1.06348\nEpoch 467/500\n\r1168/1168 [==============================] - 0s 8us/step - loss: 0.9845 - acc: 0.0000e+00 - val_loss: 1.0635 - val_acc: 0.0000e+00\n"
     ]
    },
    {
     "name": "stdout",
     "output_type": "stream",
     "text": [
      "\nEpoch 00467: val_loss did not improve from 1.06348\nEpoch 468/500\n"
     ]
    },
    {
     "name": "stdout",
     "output_type": "stream",
     "text": [
      "\r1168/1168 [==============================] - 0s 6us/step - loss: 0.9842 - acc: 0.0000e+00 - val_loss: 1.0635 - val_acc: 0.0000e+00\n"
     ]
    },
    {
     "name": "stdout",
     "output_type": "stream",
     "text": [
      "\nEpoch 00468: val_loss did not improve from 1.06348\nEpoch 469/500\n"
     ]
    },
    {
     "name": "stdout",
     "output_type": "stream",
     "text": [
      "\r1168/1168 [==============================] - 0s 9us/step - loss: 0.9842 - acc: 0.0000e+00 - val_loss: 1.0635 - val_acc: 0.0000e+00\n"
     ]
    },
    {
     "name": "stdout",
     "output_type": "stream",
     "text": [
      "\nEpoch 00469: val_loss did not improve from 1.06348\nEpoch 470/500\n\r1168/1168 [==============================] - 0s 8us/step - loss: 0.9840 - acc: 0.0000e+00 - val_loss: 1.0635 - val_acc: 0.0000e+00\n"
     ]
    },
    {
     "name": "stdout",
     "output_type": "stream",
     "text": [
      "\nEpoch 00470: val_loss did not improve from 1.06348\n"
     ]
    },
    {
     "name": "stdout",
     "output_type": "stream",
     "text": [
      "Epoch 471/500\n\r1168/1168 [==============================] - 0s 7us/step - loss: 0.9841 - acc: 0.0000e+00 - val_loss: 1.0635 - val_acc: 0.0000e+00\n"
     ]
    },
    {
     "name": "stdout",
     "output_type": "stream",
     "text": [
      "\nEpoch 00471: val_loss did not improve from 1.06348\nEpoch 472/500\n"
     ]
    },
    {
     "name": "stdout",
     "output_type": "stream",
     "text": [
      "\r1168/1168 [==============================] - 0s 8us/step - loss: 0.9843 - acc: 0.0000e+00 - val_loss: 1.0635 - val_acc: 0.0000e+00\n"
     ]
    },
    {
     "name": "stdout",
     "output_type": "stream",
     "text": [
      "\nEpoch 00472: val_loss did not improve from 1.06348\nEpoch 473/500\n\r1168/1168 [==============================] - 0s 8us/step - loss: 0.9825 - acc: 0.0000e+00 - val_loss: 1.0635 - val_acc: 0.0000e+00\n"
     ]
    },
    {
     "name": "stdout",
     "output_type": "stream",
     "text": [
      "\nEpoch 00473: val_loss did not improve from 1.06348\nEpoch 474/500\n\r1168/1168 [==============================] - 0s 6us/step - loss: 0.9842 - acc: 0.0000e+00 - val_loss: 1.0635 - val_acc: 0.0000e+00\n"
     ]
    },
    {
     "name": "stdout",
     "output_type": "stream",
     "text": [
      "\nEpoch 00474: val_loss did not improve from 1.06348\nEpoch 475/500\n"
     ]
    },
    {
     "name": "stdout",
     "output_type": "stream",
     "text": [
      "\r1168/1168 [==============================] - 0s 8us/step - loss: 0.9845 - acc: 0.0000e+00 - val_loss: 1.0635 - val_acc: 0.0000e+00\n"
     ]
    },
    {
     "name": "stdout",
     "output_type": "stream",
     "text": [
      "\nEpoch 00475: val_loss did not improve from 1.06348\nEpoch 476/500\n"
     ]
    },
    {
     "name": "stdout",
     "output_type": "stream",
     "text": [
      "\r1168/1168 [==============================] - 0s 8us/step - loss: 0.9842 - acc: 0.0000e+00 - val_loss: 1.0635 - val_acc: 0.0000e+00\n"
     ]
    },
    {
     "name": "stdout",
     "output_type": "stream",
     "text": [
      "\nEpoch 00476: val_loss did not improve from 1.06348\nEpoch 477/500\n\r1168/1168 [==============================] - 0s 8us/step - loss: 0.9844 - acc: 0.0000e+00 - val_loss: 1.0635 - val_acc: 0.0000e+00\n"
     ]
    },
    {
     "name": "stdout",
     "output_type": "stream",
     "text": [
      "\nEpoch 00477: val_loss did not improve from 1.06348\nEpoch 478/500\n\r1168/1168 [==============================] - 0s 8us/step - loss: 0.9838 - acc: 0.0000e+00 - val_loss: 1.0635 - val_acc: 0.0000e+00\n"
     ]
    },
    {
     "name": "stdout",
     "output_type": "stream",
     "text": [
      "\nEpoch 00478: val_loss did not improve from 1.06348\nEpoch 479/500\n\r1168/1168 [==============================] - 0s 9us/step - loss: 0.9842 - acc: 0.0000e+00 - val_loss: 1.0635 - val_acc: 0.0000e+00\n"
     ]
    },
    {
     "name": "stdout",
     "output_type": "stream",
     "text": [
      "\nEpoch 00479: val_loss did not improve from 1.06348\nEpoch 480/500\n"
     ]
    },
    {
     "name": "stdout",
     "output_type": "stream",
     "text": [
      "\r1168/1168 [==============================] - 0s 7us/step - loss: 0.9810 - acc: 0.0000e+00 - val_loss: 1.0635 - val_acc: 0.0000e+00\n"
     ]
    },
    {
     "name": "stdout",
     "output_type": "stream",
     "text": [
      "\nEpoch 00480: val_loss did not improve from 1.06348\nEpoch 481/500\n\r1168/1168 [==============================]"
     ]
    },
    {
     "name": "stdout",
     "output_type": "stream",
     "text": [
      " - 0s 9us/step - loss: 0.9797 - acc: 0.0000e+00 - val_loss: 1.0635 - val_acc: 0.0000e+00\n"
     ]
    },
    {
     "name": "stdout",
     "output_type": "stream",
     "text": [
      "\nEpoch 00481: val_loss did not improve from 1.06348\nEpoch 482/500\n\r1168/1168 [==============================] - 0s 8us/step - loss: 0.9845 - acc: 0.0000e+00 - val_loss: 1.0635 - val_acc: 0.0000e+00\n"
     ]
    },
    {
     "name": "stdout",
     "output_type": "stream",
     "text": [
      "\nEpoch 00482: val_loss did not improve from 1.06348"
     ]
    },
    {
     "name": "stdout",
     "output_type": "stream",
     "text": [
      "\nEpoch 483/500\n\r1168/1168 [==============================] - 0s 7us/step - loss: 0.9828 - acc: 0.0000e+00 - val_loss: 1.0635 - val_acc: 0.0000e+00\n"
     ]
    },
    {
     "name": "stdout",
     "output_type": "stream",
     "text": [
      "\nEpoch 00483: val_loss did not improve from 1.06348\nEpoch 484/500\n"
     ]
    },
    {
     "name": "stdout",
     "output_type": "stream",
     "text": [
      "\r1168/1168 [==============================] - 0s 7us/step - loss: 0.9834 - acc: 0.0000e+00 - val_loss: 1.0635 - val_acc: 0.0000e+00\n"
     ]
    },
    {
     "name": "stdout",
     "output_type": "stream",
     "text": [
      "\nEpoch 00484: val_loss did not improve from 1.06348\nEpoch 485/500\n"
     ]
    },
    {
     "name": "stdout",
     "output_type": "stream",
     "text": [
      "\r1168/1168 [==============================] - 0s 7us/step - loss: 0.9837 - acc: 0.0000e+00 - val_loss: 1.0635 - val_acc: 0.0000e+00\n"
     ]
    },
    {
     "name": "stdout",
     "output_type": "stream",
     "text": [
      "\nEpoch 00485: val_loss did not improve from 1.06348\nEpoch 486/500\n"
     ]
    },
    {
     "name": "stdout",
     "output_type": "stream",
     "text": [
      "\r1168/1168 [==============================] - 0s 9us/step - loss: 0.9834 - acc: 0.0000e+00 - val_loss: 1.0635 - val_acc: 0.0000e+00\n"
     ]
    },
    {
     "name": "stdout",
     "output_type": "stream",
     "text": [
      "\nEpoch 00486: val_loss did not improve from 1.06348\nEpoch 487/500\n"
     ]
    },
    {
     "name": "stdout",
     "output_type": "stream",
     "text": [
      "\r1168/1168 [==============================] - 0s 8us/step - loss: 0.9843 - acc: 0.0000e+00 - val_loss: 1.0635 - val_acc: 0.0000e+00\n"
     ]
    },
    {
     "name": "stdout",
     "output_type": "stream",
     "text": [
      "\nEpoch 00487: val_loss did not improve from 1.06348\nEpoch 488/500\n\r1168/1168 [==============================] - 0s 8us/step - loss: 0.9841 - acc: 0.0000e+00 - val_loss: 1.0635 - val_acc: 0.0000e+00\n"
     ]
    },
    {
     "name": "stdout",
     "output_type": "stream",
     "text": [
      "\nEpoch 00488: val_loss did not improve from 1.06348\nEpoch 489/500\n"
     ]
    },
    {
     "name": "stdout",
     "output_type": "stream",
     "text": [
      "\r1168/1168 [==============================] - 0s 8us/step - loss: 0.9827 - acc: 0.0000e+00 - val_loss: 1.0635 - val_acc: 0.0000e+00\n"
     ]
    },
    {
     "name": "stdout",
     "output_type": "stream",
     "text": [
      "\nEpoch 00489: val_loss did not improve from 1.06348\nEpoch 490/500\n"
     ]
    },
    {
     "name": "stdout",
     "output_type": "stream",
     "text": [
      "\r1168/1168 [==============================] - 0s 7us/step - loss: 0.9833 - acc: 0.0000e+00 - val_loss: 1.0635 - val_acc: 0.0000e+00\n"
     ]
    },
    {
     "name": "stdout",
     "output_type": "stream",
     "text": [
      "\nEpoch 00490: val_loss did not improve from 1.06348\nEpoch 491/500\n\r1168/1168 [==============================] - 0s 9us/step - loss: 0.9767 - acc: 0.0000e+00 - val_loss: 1.0635 - val_acc: 0.0000e+00\n"
     ]
    },
    {
     "name": "stdout",
     "output_type": "stream",
     "text": [
      "\nEpoch 00491: val_loss did not improve from 1.06348\nEpoch 492/500\n\r1168/1168 [==============================] - 0s 7us/step - loss: 0.9825 - acc: 0.0000e+00 - val_loss: 1.0635 - val_acc: 0.0000e+00\n"
     ]
    },
    {
     "name": "stdout",
     "output_type": "stream",
     "text": [
      "\nEpoch 00492: val_loss did not improve from 1.06348\nEpoch 493/500\n"
     ]
    },
    {
     "name": "stdout",
     "output_type": "stream",
     "text": [
      "\r1168/1168 [==============================] - 0s 7us/step - loss: 0.9851 - acc: 0.0000e+00 - val_loss: 1.0635 - val_acc: 0.0000e+00\n"
     ]
    },
    {
     "name": "stdout",
     "output_type": "stream",
     "text": [
      "\nEpoch 00493: val_loss did not improve from 1.06348\nEpoch 494/500\n\r1168/1168 [==============================] - 0s 8us/step - loss: 0.9761 - acc: 0.0000e+00 - val_loss: 1.0635 - val_acc: 0.0000e+00\n"
     ]
    },
    {
     "name": "stdout",
     "output_type": "stream",
     "text": [
      "\nEpoch 00494: val_loss did not improve from 1.06348\nEpoch 495/500\n\r1168/1168 [==============================] - 0s 6us/step - loss: 0.9760 - acc: 0.0000e+00 - val_loss: 1.0635 - val_acc: 0.0000e+00\n"
     ]
    },
    {
     "name": "stdout",
     "output_type": "stream",
     "text": [
      "\nEpoch 00495: val_loss did not improve from 1.06348\nEpoch 496/500\n"
     ]
    },
    {
     "name": "stdout",
     "output_type": "stream",
     "text": [
      "\r1168/1168 [==============================] - 0s 7us/step - loss: 0.9842 - acc: 0.0000e+00 - val_loss: 1.0635 - val_acc: 0.0000e+00\n"
     ]
    },
    {
     "name": "stdout",
     "output_type": "stream",
     "text": [
      "\nEpoch 00496: val_loss did not improve from 1.06348\nEpoch 497/500\n\r1168/1168 [==============================] - 0s 8us/step - loss: 0.9839 - acc: 0.0000e+00 - val_loss: 1.0635 - val_acc: 0.0000e+00\n"
     ]
    },
    {
     "name": "stdout",
     "output_type": "stream",
     "text": [
      "\nEpoch 00497: val_loss did not improve from 1.06348\nEpoch 498/500\n\r1168/1168 [==============================] - 0s 7us/step - loss: 0.9848 - acc: 0.0000e+00 - val_loss: 1.0635 - val_acc: 0.0000e+00\n"
     ]
    },
    {
     "name": "stdout",
     "output_type": "stream",
     "text": [
      "\nEpoch 00498: val_loss did not improve from 1.06348\nEpoch 499/500\n"
     ]
    },
    {
     "name": "stdout",
     "output_type": "stream",
     "text": [
      "\r1168/1168 [==============================] - 0s 6us/step - loss: 0.9885 - acc: 0.0000e+00 - val_loss: 1.0635 - val_acc: 0.0000e+00\n"
     ]
    },
    {
     "name": "stdout",
     "output_type": "stream",
     "text": [
      "\nEpoch 00499: val_loss did not improve from 1.06348\nEpoch 500/500\n"
     ]
    },
    {
     "name": "stdout",
     "output_type": "stream",
     "text": [
      "\r1168/1168 [==============================] - 0s 8us/step - loss: 0.9841 - acc: 0.0000e+00 - val_loss: 1.0635 - val_acc: 0.0000e+00\n"
     ]
    },
    {
     "name": "stdout",
     "output_type": "stream",
     "text": [
      "\nEpoch 00500: val_loss did not improve from 1.06348\n"
     ]
    }
   ],
   "source": [
    "history = model.fit(train_x.values, train_y.values, validation_split=0.20,\n",
    "                    epochs=_epochs, batch_size = len(train_x), verbose=1, callbacks=[mc])"
   ]
  },
  {
   "cell_type": "code",
   "execution_count": 1,
   "metadata": {},
   "outputs": [
    {
     "ename": "NameError",
     "evalue": "name 'history' is not defined",
     "traceback": [
      "\u001b[1;31m---------------------------------------------------------------------------\u001b[0m",
      "\u001b[1;31mNameError\u001b[0m                                 Traceback (most recent call last)",
      "\u001b[1;32m<ipython-input-1-3f1d8686bfad>\u001b[0m in \u001b[0;36m<module>\u001b[1;34m\u001b[0m\n\u001b[0;32m      1\u001b[0m \u001b[1;31m# plot loss - Train vs Valid\u001b[0m\u001b[1;33m\u001b[0m\u001b[1;33m\u001b[0m\u001b[1;33m\u001b[0m\u001b[0m\n\u001b[0;32m      2\u001b[0m \u001b[1;32mimport\u001b[0m \u001b[0mmatplotlib\u001b[0m\u001b[1;33m.\u001b[0m\u001b[0mpyplot\u001b[0m \u001b[1;32mas\u001b[0m \u001b[0mplt\u001b[0m\u001b[1;33m\u001b[0m\u001b[1;33m\u001b[0m\u001b[0m\n\u001b[1;32m----> 3\u001b[1;33m \u001b[0mplt\u001b[0m\u001b[1;33m.\u001b[0m\u001b[0mplot\u001b[0m\u001b[1;33m(\u001b[0m\u001b[0mhistory\u001b[0m\u001b[1;33m.\u001b[0m\u001b[0mhistory\u001b[0m\u001b[1;33m[\u001b[0m\u001b[1;34m'loss'\u001b[0m\u001b[1;33m]\u001b[0m\u001b[1;33m,\u001b[0m \u001b[0mlabel\u001b[0m\u001b[1;33m=\u001b[0m\u001b[1;34m'train loss'\u001b[0m\u001b[1;33m)\u001b[0m\u001b[1;33m\u001b[0m\u001b[1;33m\u001b[0m\u001b[0m\n\u001b[0m\u001b[0;32m      4\u001b[0m \u001b[0mplt\u001b[0m\u001b[1;33m.\u001b[0m\u001b[0mplot\u001b[0m\u001b[1;33m(\u001b[0m\u001b[0mhistory\u001b[0m\u001b[1;33m.\u001b[0m\u001b[0mhistory\u001b[0m\u001b[1;33m[\u001b[0m\u001b[1;34m'val_loss'\u001b[0m\u001b[1;33m]\u001b[0m\u001b[1;33m,\u001b[0m \u001b[0mlabel\u001b[0m\u001b[1;33m=\u001b[0m\u001b[1;34m'test loss'\u001b[0m\u001b[1;33m)\u001b[0m\u001b[1;33m\u001b[0m\u001b[1;33m\u001b[0m\u001b[0m\n\u001b[0;32m      5\u001b[0m \u001b[0mplt\u001b[0m\u001b[1;33m.\u001b[0m\u001b[0mtitle\u001b[0m\u001b[1;33m(\u001b[0m\u001b[1;34m'Loss - Train vs validation'\u001b[0m\u001b[1;33m)\u001b[0m\u001b[1;33m\u001b[0m\u001b[1;33m\u001b[0m\u001b[0m\n",
      "\u001b[1;31mNameError\u001b[0m: name 'history' is not defined"
     ],
     "output_type": "error"
    }
   ],
   "source": [
    "# plot loss - Train vs Valid\n",
    "import matplotlib.pyplot as plt\n",
    "plt.plot(history.history['loss'], label='train loss')\n",
    "plt.plot(history.history['val_loss'], label='test loss')\n",
    "plt.title('Loss - Train vs validation')\n",
    "plt.ylabel('Loss')\n",
    "plt.xlabel('Epoch')\n",
    "plt.legend(['Train', 'Test'], loc='upper left')\n",
    "plt.show()"
   ]
  },
  {
   "cell_type": "code",
   "execution_count": 87,
   "metadata": {},
   "outputs": [
    {
     "name": "stdout",
     "output_type": "stream",
     "text": [
      "\r  32/1460 [..............................] - ETA: 0s"
     ]
    },
    {
     "name": "stdout",
     "output_type": "stream",
     "text": [
      "\b\b\b\b\b\b\b\b\b\b\b\b\b\b\b\b\b\b\b\b\b\b\b\b\b\b\b\b\b\b\b\b\b\b\b\b\b\b\b\b\b\b\b\b\b\b\b\b\b\b\b\b\r1460/1460 [==============================] - 0s 27us/step\n"
     ]
    },
    {
     "name": "stdout",
     "output_type": "stream",
     "text": [
      "\nloss: 100.00%\n"
     ]
    }
   ],
   "source": [
    "metrics = model.evaluate(train_x, train_y)\n",
    "print(\"\\n%s: %.2f%%\" % (model.metrics_names[0], metrics[0]*100))"
   ]
  },
  {
   "cell_type": "code",
   "execution_count": 197,
   "metadata": {},
   "outputs": [],
   "source": []
  },
  {
   "cell_type": "code",
   "execution_count": null,
   "metadata": {},
   "outputs": [],
   "source": []
  }
 ],
 "metadata": {
  "kernelspec": {
   "display_name": "Python 2",
   "language": "python",
   "name": "python2"
  },
  "language_info": {
   "codemirror_mode": {
    "name": "ipython",
    "version": 2
   },
   "file_extension": ".py",
   "mimetype": "text/x-python",
   "name": "python",
   "nbconvert_exporter": "python",
   "pygments_lexer": "ipython2",
   "version": "2.7.15"
  }
 },
 "nbformat": 4,
 "nbformat_minor": 2
}
